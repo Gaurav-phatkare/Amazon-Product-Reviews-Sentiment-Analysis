{
  "nbformat": 4,
  "nbformat_minor": 0,
  "metadata": {
    "colab": {
      "provenance": [],
      "gpuType": "T4",
      "authorship_tag": "ABX9TyMP06VrSsLsYyYvK5ICsvws",
      "include_colab_link": true
    },
    "kernelspec": {
      "name": "python3",
      "display_name": "Python 3"
    },
    "language_info": {
      "name": "python"
    },
    "accelerator": "GPU"
  },
  "cells": [
    {
      "cell_type": "markdown",
      "metadata": {
        "id": "view-in-github",
        "colab_type": "text"
      },
      "source": [
        "<a href=\"https://colab.research.google.com/github/Gaurav-phatkare/Amazon-Product-Reviews-Sentiment-Analysis/blob/main/Amazon_Product_review_sentiment.ipynb\" target=\"_parent\"><img src=\"https://colab.research.google.com/assets/colab-badge.svg\" alt=\"Open In Colab\"/></a>"
      ]
    },
    {
      "cell_type": "code",
      "source": [
        "# !pip install tensorflow==2.9.1\n",
        "import tensorflow as tf\n",
        "print(tf.__version__) # version needed for Tensorflow_text library"
      ],
      "metadata": {
        "colab": {
          "base_uri": "https://localhost:8080/"
        },
        "id": "dwjxVef1488v",
        "outputId": "7f9e510c-9a31-4d3a-8fe5-4be28ead3952"
      },
      "execution_count": 1,
      "outputs": [
        {
          "output_type": "stream",
          "name": "stdout",
          "text": [
            "2.13.0\n"
          ]
        }
      ]
    },
    {
      "cell_type": "code",
      "source": [
        "# !pip install tensorflow_text"
      ],
      "metadata": {
        "id": "bl-D3qHp48zz"
      },
      "execution_count": 2,
      "outputs": []
    },
    {
      "cell_type": "code",
      "source": [
        "import tensorflow_text as text\n",
        "import tensorflow_hub as hub"
      ],
      "metadata": {
        "id": "dBGiCXVy48Wv"
      },
      "execution_count": 4,
      "outputs": []
    },
    {
      "cell_type": "code",
      "execution_count": 5,
      "metadata": {
        "id": "knPBZix1q3_V"
      },
      "outputs": [],
      "source": [
        "import tensorflow_datasets as tfds\n",
        "ds = tfds.load('amazon_us_reviews/Mobile_Electronics_v1_00', split='train', shuffle_files=True)"
      ]
    },
    {
      "cell_type": "code",
      "source": [
        "import tensorflow as tf\n",
        "assert isinstance(ds, tf.data.Dataset)\n",
        "print(ds)"
      ],
      "metadata": {
        "colab": {
          "base_uri": "https://localhost:8080/"
        },
        "id": "w6fkXXk5rD2d",
        "outputId": "98b6dc00-93d7-43a8-f754-fdb9817dfb3e"
      },
      "execution_count": 6,
      "outputs": [
        {
          "output_type": "stream",
          "name": "stdout",
          "text": [
            "<_PrefetchDataset element_spec={'data': {'customer_id': TensorSpec(shape=(), dtype=tf.string, name=None), 'helpful_votes': TensorSpec(shape=(), dtype=tf.int32, name=None), 'marketplace': TensorSpec(shape=(), dtype=tf.string, name=None), 'product_category': TensorSpec(shape=(), dtype=tf.string, name=None), 'product_id': TensorSpec(shape=(), dtype=tf.string, name=None), 'product_parent': TensorSpec(shape=(), dtype=tf.string, name=None), 'product_title': TensorSpec(shape=(), dtype=tf.string, name=None), 'review_body': TensorSpec(shape=(), dtype=tf.string, name=None), 'review_date': TensorSpec(shape=(), dtype=tf.string, name=None), 'review_headline': TensorSpec(shape=(), dtype=tf.string, name=None), 'review_id': TensorSpec(shape=(), dtype=tf.string, name=None), 'star_rating': TensorSpec(shape=(), dtype=tf.int32, name=None), 'total_votes': TensorSpec(shape=(), dtype=tf.int32, name=None), 'verified_purchase': TensorSpec(shape=(), dtype=tf.int64, name=None), 'vine': TensorSpec(shape=(), dtype=tf.int64, name=None)}}>\n"
          ]
        }
      ]
    },
    {
      "cell_type": "code",
      "source": [
        "df = tfds.as_dataframe(ds)"
      ],
      "metadata": {
        "id": "M7mFQuxirVbY"
      },
      "execution_count": 7,
      "outputs": []
    },
    {
      "cell_type": "code",
      "source": [
        "df.head()"
      ],
      "metadata": {
        "colab": {
          "base_uri": "https://localhost:8080/",
          "height": 444
        },
        "id": "fMdcDZV0raFL",
        "outputId": "798cf55b-8f16-485a-e9be-113ac1e4f87c"
      },
      "execution_count": 8,
      "outputs": [
        {
          "output_type": "execute_result",
          "data": {
            "text/plain": [
              "  data/customer_id  data/helpful_votes data/marketplace  \\\n",
              "0      b'20980074'                   0            b'US'   \n",
              "1        b'779273'                   0            b'US'   \n",
              "2      b'15410531'                   0            b'US'   \n",
              "3      b'27389005'                   0            b'US'   \n",
              "4       b'2663569'                   0            b'US'   \n",
              "\n",
              "   data/product_category data/product_id data/product_parent  \\\n",
              "0  b'Mobile_Electronics'   b'B00D1847NE'        b'274617424'   \n",
              "1  b'Mobile_Electronics'   b'B00KMO6DYG'        b'397452138'   \n",
              "2  b'Mobile_Electronics'   b'B000GWLL0K'        b'948304826'   \n",
              "3  b'Mobile_Electronics'   b'B008L3JE6Y'        b'466340015'   \n",
              "4  b'Mobile_Electronics'   b'B00GHZS4SC'        b'350592810'   \n",
              "\n",
              "                                  data/product_title  \\\n",
              "0  b'Teenage Mutant Ninja Turtles Boombox CD Play...   \n",
              "1  b'4 Gauge Amp Kit Amplifier Install Wiring Com...   \n",
              "2  b'Travel Wall Charger fits Creative Zen Vision...   \n",
              "3  b'High Grade Robust 360\\xc2\\xb0 Adjustable Car...   \n",
              "4  b'HDE Multifunctional Bluetooth FM Audio Car K...   \n",
              "\n",
              "                                    data/review_body data/review_date  \\\n",
              "0                                   b'Does not work'    b'2015-01-09'   \n",
              "1  b'This is a great wiring kit i used it to set ...    b'2015-08-06'   \n",
              "2  b'It works great so much faster than USB charg...    b'2007-03-15'   \n",
              "3  b'This product was purchased to hold a monitor...    b'2013-07-30'   \n",
              "4  b\"it works but it has really bad sound quality...    b'2014-12-31'   \n",
              "\n",
              "                       data/review_headline     data/review_id  \\\n",
              "0                               b'One Star'  b'R1OVS0D6SEXPW7'   \n",
              "1                              b'Great kit'   b'R9VSD0ET8FERB'   \n",
              "2  b'A/C Charger for Creative Zen Vision M'  b'R3ISXCZHWLJLBH'   \n",
              "3                           b'camera stand'  b'R1TWVUDOFJSQAW'   \n",
              "4                      b'bad sound quality'  b'R2PEOEUR1LP0GH'   \n",
              "\n",
              "   data/star_rating  data/total_votes  data/verified_purchase  data/vine  \n",
              "0                 1                 0                       0          1  \n",
              "1                 4                 0                       0          1  \n",
              "2                 5                 0                       0          1  \n",
              "3                 5                 0                       0          1  \n",
              "4                 3                 0                       0          1  "
            ],
            "text/html": [
              "\n",
              "\n",
              "  <div id=\"df-0310fa45-e6c4-468a-9469-454c8a49140e\">\n",
              "    <div class=\"colab-df-container\">\n",
              "      <div>\n",
              "<style scoped>\n",
              "    .dataframe tbody tr th:only-of-type {\n",
              "        vertical-align: middle;\n",
              "    }\n",
              "\n",
              "    .dataframe tbody tr th {\n",
              "        vertical-align: top;\n",
              "    }\n",
              "\n",
              "    .dataframe thead th {\n",
              "        text-align: right;\n",
              "    }\n",
              "</style>\n",
              "<table border=\"1\" class=\"dataframe\">\n",
              "  <thead>\n",
              "    <tr style=\"text-align: right;\">\n",
              "      <th></th>\n",
              "      <th>data/customer_id</th>\n",
              "      <th>data/helpful_votes</th>\n",
              "      <th>data/marketplace</th>\n",
              "      <th>data/product_category</th>\n",
              "      <th>data/product_id</th>\n",
              "      <th>data/product_parent</th>\n",
              "      <th>data/product_title</th>\n",
              "      <th>data/review_body</th>\n",
              "      <th>data/review_date</th>\n",
              "      <th>data/review_headline</th>\n",
              "      <th>data/review_id</th>\n",
              "      <th>data/star_rating</th>\n",
              "      <th>data/total_votes</th>\n",
              "      <th>data/verified_purchase</th>\n",
              "      <th>data/vine</th>\n",
              "    </tr>\n",
              "  </thead>\n",
              "  <tbody>\n",
              "    <tr>\n",
              "      <th>0</th>\n",
              "      <td>b'20980074'</td>\n",
              "      <td>0</td>\n",
              "      <td>b'US'</td>\n",
              "      <td>b'Mobile_Electronics'</td>\n",
              "      <td>b'B00D1847NE'</td>\n",
              "      <td>b'274617424'</td>\n",
              "      <td>b'Teenage Mutant Ninja Turtles Boombox CD Play...</td>\n",
              "      <td>b'Does not work'</td>\n",
              "      <td>b'2015-01-09'</td>\n",
              "      <td>b'One Star'</td>\n",
              "      <td>b'R1OVS0D6SEXPW7'</td>\n",
              "      <td>1</td>\n",
              "      <td>0</td>\n",
              "      <td>0</td>\n",
              "      <td>1</td>\n",
              "    </tr>\n",
              "    <tr>\n",
              "      <th>1</th>\n",
              "      <td>b'779273'</td>\n",
              "      <td>0</td>\n",
              "      <td>b'US'</td>\n",
              "      <td>b'Mobile_Electronics'</td>\n",
              "      <td>b'B00KMO6DYG'</td>\n",
              "      <td>b'397452138'</td>\n",
              "      <td>b'4 Gauge Amp Kit Amplifier Install Wiring Com...</td>\n",
              "      <td>b'This is a great wiring kit i used it to set ...</td>\n",
              "      <td>b'2015-08-06'</td>\n",
              "      <td>b'Great kit'</td>\n",
              "      <td>b'R9VSD0ET8FERB'</td>\n",
              "      <td>4</td>\n",
              "      <td>0</td>\n",
              "      <td>0</td>\n",
              "      <td>1</td>\n",
              "    </tr>\n",
              "    <tr>\n",
              "      <th>2</th>\n",
              "      <td>b'15410531'</td>\n",
              "      <td>0</td>\n",
              "      <td>b'US'</td>\n",
              "      <td>b'Mobile_Electronics'</td>\n",
              "      <td>b'B000GWLL0K'</td>\n",
              "      <td>b'948304826'</td>\n",
              "      <td>b'Travel Wall Charger fits Creative Zen Vision...</td>\n",
              "      <td>b'It works great so much faster than USB charg...</td>\n",
              "      <td>b'2007-03-15'</td>\n",
              "      <td>b'A/C Charger for Creative Zen Vision M'</td>\n",
              "      <td>b'R3ISXCZHWLJLBH'</td>\n",
              "      <td>5</td>\n",
              "      <td>0</td>\n",
              "      <td>0</td>\n",
              "      <td>1</td>\n",
              "    </tr>\n",
              "    <tr>\n",
              "      <th>3</th>\n",
              "      <td>b'27389005'</td>\n",
              "      <td>0</td>\n",
              "      <td>b'US'</td>\n",
              "      <td>b'Mobile_Electronics'</td>\n",
              "      <td>b'B008L3JE6Y'</td>\n",
              "      <td>b'466340015'</td>\n",
              "      <td>b'High Grade Robust 360\\xc2\\xb0 Adjustable Car...</td>\n",
              "      <td>b'This product was purchased to hold a monitor...</td>\n",
              "      <td>b'2013-07-30'</td>\n",
              "      <td>b'camera stand'</td>\n",
              "      <td>b'R1TWVUDOFJSQAW'</td>\n",
              "      <td>5</td>\n",
              "      <td>0</td>\n",
              "      <td>0</td>\n",
              "      <td>1</td>\n",
              "    </tr>\n",
              "    <tr>\n",
              "      <th>4</th>\n",
              "      <td>b'2663569'</td>\n",
              "      <td>0</td>\n",
              "      <td>b'US'</td>\n",
              "      <td>b'Mobile_Electronics'</td>\n",
              "      <td>b'B00GHZS4SC'</td>\n",
              "      <td>b'350592810'</td>\n",
              "      <td>b'HDE Multifunctional Bluetooth FM Audio Car K...</td>\n",
              "      <td>b\"it works but it has really bad sound quality...</td>\n",
              "      <td>b'2014-12-31'</td>\n",
              "      <td>b'bad sound quality'</td>\n",
              "      <td>b'R2PEOEUR1LP0GH'</td>\n",
              "      <td>3</td>\n",
              "      <td>0</td>\n",
              "      <td>0</td>\n",
              "      <td>1</td>\n",
              "    </tr>\n",
              "  </tbody>\n",
              "</table>\n",
              "</div>\n",
              "      <button class=\"colab-df-convert\" onclick=\"convertToInteractive('df-0310fa45-e6c4-468a-9469-454c8a49140e')\"\n",
              "              title=\"Convert this dataframe to an interactive table.\"\n",
              "              style=\"display:none;\">\n",
              "\n",
              "  <svg xmlns=\"http://www.w3.org/2000/svg\" height=\"24px\"viewBox=\"0 0 24 24\"\n",
              "       width=\"24px\">\n",
              "    <path d=\"M0 0h24v24H0V0z\" fill=\"none\"/>\n",
              "    <path d=\"M18.56 5.44l.94 2.06.94-2.06 2.06-.94-2.06-.94-.94-2.06-.94 2.06-2.06.94zm-11 1L8.5 8.5l.94-2.06 2.06-.94-2.06-.94L8.5 2.5l-.94 2.06-2.06.94zm10 10l.94 2.06.94-2.06 2.06-.94-2.06-.94-.94-2.06-.94 2.06-2.06.94z\"/><path d=\"M17.41 7.96l-1.37-1.37c-.4-.4-.92-.59-1.43-.59-.52 0-1.04.2-1.43.59L10.3 9.45l-7.72 7.72c-.78.78-.78 2.05 0 2.83L4 21.41c.39.39.9.59 1.41.59.51 0 1.02-.2 1.41-.59l7.78-7.78 2.81-2.81c.8-.78.8-2.07 0-2.86zM5.41 20L4 18.59l7.72-7.72 1.47 1.35L5.41 20z\"/>\n",
              "  </svg>\n",
              "      </button>\n",
              "\n",
              "\n",
              "\n",
              "    <div id=\"df-9a6190df-40d7-40ea-bc17-02c9632a424c\">\n",
              "      <button class=\"colab-df-quickchart\" onclick=\"quickchart('df-9a6190df-40d7-40ea-bc17-02c9632a424c')\"\n",
              "              title=\"Suggest charts.\"\n",
              "              style=\"display:none;\">\n",
              "\n",
              "<svg xmlns=\"http://www.w3.org/2000/svg\" height=\"24px\"viewBox=\"0 0 24 24\"\n",
              "     width=\"24px\">\n",
              "    <g>\n",
              "        <path d=\"M19 3H5c-1.1 0-2 .9-2 2v14c0 1.1.9 2 2 2h14c1.1 0 2-.9 2-2V5c0-1.1-.9-2-2-2zM9 17H7v-7h2v7zm4 0h-2V7h2v10zm4 0h-2v-4h2v4z\"/>\n",
              "    </g>\n",
              "</svg>\n",
              "      </button>\n",
              "    </div>\n",
              "\n",
              "<style>\n",
              "  .colab-df-quickchart {\n",
              "    background-color: #E8F0FE;\n",
              "    border: none;\n",
              "    border-radius: 50%;\n",
              "    cursor: pointer;\n",
              "    display: none;\n",
              "    fill: #1967D2;\n",
              "    height: 32px;\n",
              "    padding: 0 0 0 0;\n",
              "    width: 32px;\n",
              "  }\n",
              "\n",
              "  .colab-df-quickchart:hover {\n",
              "    background-color: #E2EBFA;\n",
              "    box-shadow: 0px 1px 2px rgba(60, 64, 67, 0.3), 0px 1px 3px 1px rgba(60, 64, 67, 0.15);\n",
              "    fill: #174EA6;\n",
              "  }\n",
              "\n",
              "  [theme=dark] .colab-df-quickchart {\n",
              "    background-color: #3B4455;\n",
              "    fill: #D2E3FC;\n",
              "  }\n",
              "\n",
              "  [theme=dark] .colab-df-quickchart:hover {\n",
              "    background-color: #434B5C;\n",
              "    box-shadow: 0px 1px 3px 1px rgba(0, 0, 0, 0.15);\n",
              "    filter: drop-shadow(0px 1px 2px rgba(0, 0, 0, 0.3));\n",
              "    fill: #FFFFFF;\n",
              "  }\n",
              "</style>\n",
              "\n",
              "    <script>\n",
              "      async function quickchart(key) {\n",
              "        const containerElement = document.querySelector('#' + key);\n",
              "        const charts = await google.colab.kernel.invokeFunction(\n",
              "            'suggestCharts', [key], {});\n",
              "      }\n",
              "    </script>\n",
              "\n",
              "      <script>\n",
              "\n",
              "function displayQuickchartButton(domScope) {\n",
              "  let quickchartButtonEl =\n",
              "    domScope.querySelector('#df-9a6190df-40d7-40ea-bc17-02c9632a424c button.colab-df-quickchart');\n",
              "  quickchartButtonEl.style.display =\n",
              "    google.colab.kernel.accessAllowed ? 'block' : 'none';\n",
              "}\n",
              "\n",
              "        displayQuickchartButton(document);\n",
              "      </script>\n",
              "      <style>\n",
              "    .colab-df-container {\n",
              "      display:flex;\n",
              "      flex-wrap:wrap;\n",
              "      gap: 12px;\n",
              "    }\n",
              "\n",
              "    .colab-df-convert {\n",
              "      background-color: #E8F0FE;\n",
              "      border: none;\n",
              "      border-radius: 50%;\n",
              "      cursor: pointer;\n",
              "      display: none;\n",
              "      fill: #1967D2;\n",
              "      height: 32px;\n",
              "      padding: 0 0 0 0;\n",
              "      width: 32px;\n",
              "    }\n",
              "\n",
              "    .colab-df-convert:hover {\n",
              "      background-color: #E2EBFA;\n",
              "      box-shadow: 0px 1px 2px rgba(60, 64, 67, 0.3), 0px 1px 3px 1px rgba(60, 64, 67, 0.15);\n",
              "      fill: #174EA6;\n",
              "    }\n",
              "\n",
              "    [theme=dark] .colab-df-convert {\n",
              "      background-color: #3B4455;\n",
              "      fill: #D2E3FC;\n",
              "    }\n",
              "\n",
              "    [theme=dark] .colab-df-convert:hover {\n",
              "      background-color: #434B5C;\n",
              "      box-shadow: 0px 1px 3px 1px rgba(0, 0, 0, 0.15);\n",
              "      filter: drop-shadow(0px 1px 2px rgba(0, 0, 0, 0.3));\n",
              "      fill: #FFFFFF;\n",
              "    }\n",
              "  </style>\n",
              "\n",
              "      <script>\n",
              "        const buttonEl =\n",
              "          document.querySelector('#df-0310fa45-e6c4-468a-9469-454c8a49140e button.colab-df-convert');\n",
              "        buttonEl.style.display =\n",
              "          google.colab.kernel.accessAllowed ? 'block' : 'none';\n",
              "\n",
              "        async function convertToInteractive(key) {\n",
              "          const element = document.querySelector('#df-0310fa45-e6c4-468a-9469-454c8a49140e');\n",
              "          const dataTable =\n",
              "            await google.colab.kernel.invokeFunction('convertToInteractive',\n",
              "                                                     [key], {});\n",
              "          if (!dataTable) return;\n",
              "\n",
              "          const docLinkHtml = 'Like what you see? Visit the ' +\n",
              "            '<a target=\"_blank\" href=https://colab.research.google.com/notebooks/data_table.ipynb>data table notebook</a>'\n",
              "            + ' to learn more about interactive tables.';\n",
              "          element.innerHTML = '';\n",
              "          dataTable['output_type'] = 'display_data';\n",
              "          await google.colab.output.renderOutput(dataTable, element);\n",
              "          const docLink = document.createElement('div');\n",
              "          docLink.innerHTML = docLinkHtml;\n",
              "          element.appendChild(docLink);\n",
              "        }\n",
              "      </script>\n",
              "    </div>\n",
              "  </div>\n"
            ]
          },
          "metadata": {},
          "execution_count": 8
        }
      ]
    },
    {
      "cell_type": "code",
      "source": [
        "df.shape"
      ],
      "metadata": {
        "colab": {
          "base_uri": "https://localhost:8080/"
        },
        "id": "55oN8W5rrb9Z",
        "outputId": "edbbcb1f-1211-4e45-f12d-6f395d7fbc54"
      },
      "execution_count": 9,
      "outputs": [
        {
          "output_type": "execute_result",
          "data": {
            "text/plain": [
              "(104975, 15)"
            ]
          },
          "metadata": {},
          "execution_count": 9
        }
      ]
    },
    {
      "cell_type": "code",
      "source": [
        "df[\"Sentiment\"] = df[\"data/star_rating\"].apply(lambda score: \"positive\" if score >= 3 else \"negative\")\n",
        "df['Sentiment'] = df['Sentiment'].map({'positive':1, 'negative':0})\n",
        "df['short_review'] =df['data/review_body'].str.decode(\"utf-8\")\n",
        "df = df[[\"short_review\", \"Sentiment\"]]"
      ],
      "metadata": {
        "id": "2SULdjgjrc8O"
      },
      "execution_count": 10,
      "outputs": []
    },
    {
      "cell_type": "code",
      "source": [
        "# Dropping last n rows using drop\n",
        "n = 54975\n",
        "df.drop(df.tail(n).index,\n",
        "        inplace = True)"
      ],
      "metadata": {
        "colab": {
          "base_uri": "https://localhost:8080/"
        },
        "id": "SVtf2Uuery1y",
        "outputId": "89eabc5a-2c3d-4c72-9e89-4eac6f76b7fa"
      },
      "execution_count": 11,
      "outputs": [
        {
          "output_type": "stream",
          "name": "stderr",
          "text": [
            "<ipython-input-11-d12344173841>:3: SettingWithCopyWarning: \n",
            "A value is trying to be set on a copy of a slice from a DataFrame\n",
            "\n",
            "See the caveats in the documentation: https://pandas.pydata.org/pandas-docs/stable/user_guide/indexing.html#returning-a-view-versus-a-copy\n",
            "  df.drop(df.tail(n).index,\n"
          ]
        }
      ]
    },
    {
      "cell_type": "code",
      "source": [
        "reviews = df['short_review'].values.tolist()\n",
        "labels = df['Sentiment'].tolist()"
      ],
      "metadata": {
        "id": "CJE9tab9r_-r"
      },
      "execution_count": 12,
      "outputs": []
    },
    {
      "cell_type": "code",
      "source": [
        "reviews"
      ],
      "metadata": {
        "colab": {
          "base_uri": "https://localhost:8080/"
        },
        "id": "8TUmDy2NsKJ1",
        "outputId": "ae38aa32-1f37-47e7-887b-74c1cfdcb522"
      },
      "execution_count": 13,
      "outputs": [
        {
          "output_type": "execute_result",
          "data": {
            "text/plain": [
              "['Does not work',\n",
              " 'This is a great wiring kit i used it to set up my Pyle 2000 watt amp to 2 alpine subs and worked just fine. im not sure about the power cord and its length because my battery is in the back but the ground cord is a bit short and thats its only flaw and that why i gave it 4 stars. great kit',\n",
              " 'It works great so much faster than USB charger..Buy it! You will be glad you did!',\n",
              " 'This product was purchased to hold a monitor on a desk, which is connected to a security camera at a door of our business. It serves our purpose perfectly.',\n",
              " \"it works but it has really bad sound quality. the bass doesn't work almost at all\",\n",
              " \"Excellent product !!!<br />Easy to install and performs flawlessly.<br />Video and audio is clear and GPS map pinpoints the exact vehicle location.<br />I'm thinking of getting another one for my wifes' car.<br />Dealer product support is excellent too !!!\",\n",
              " \"This product works great so far. I have been using it for a month and there have been no problems. Yes the cord is thicker than the charging cord that comes with your phone, but who cares? It's very long and that is what I wanted. I can use iPhone while charging several feet away. I would recommend this product.\",\n",
              " 'The unit sort of works. It is wildly inaccurate indicating direction. The unit is fairly inexpensive, but you get what you pay for. It also takes several minutes to sync up with the satellites. I would not purchase this product again.',\n",
              " 'I fly in the far North of Alaska in the Brooks Range, the upper Yukon Valley and North and West of Bettles. I do this for pleasure but danger always is lurking on the most familiar gravel bar or remote lake and I am frequently more than 500 miles from the nearest outpost of civilization. I use and count on the Spot device to let my wife and my friends know my where-abouts and that I have landed safely. My Spot has never failed me and has sent many perfect localization messages. I have reviewed the Spot messages after returning, I am in awe of the accuracy of the location on google maps.<br />For those of us who are pushing the envelope of safe return this device has changed the game and allowed us to fly with an extra margin of safety and given those who stay behind the reassurance of knowing that we are safe. I am grateful as are many of my pilot buddies for this essential and sophisticated device and service.',\n",
              " \"good sound, looks good, easy to use, but doesn't hold the weight of the iphone. I have to lean it on the ashtray.\",\n",
              " 'I bought the accessory package.   After I plugged the wall charger into my 32GB ipod touch, it displayed \\\\\\\\\"Charging is not supported with this accessory\\\\\\\\\" with a yellow hazard triangle.',\n",
              " \"These literally lasted a month, I think. They are complete garbage. Yes, for $4.00 it will last you a month and then you will have to buy another cable. I can't even it give it one star. I feel foolish for thinking I was getting a good deal. I have 2 cables that are completely worthless.\",\n",
              " 'It did not work in my car! I used it 2 times and it killed my car both times. I have a 98 Ford Escort ZX2.',\n",
              " 'I ordered a potable radio we live in tornado alley everyone that saw it wanted one so I ordered 4 more and I have very happy friends. It is hard to find a simple radio at the store any more. We got just what we needed fast thanks!',\n",
              " 'great sound, great customer service, exceeds expectations',\n",
              " 'A very satisfied customer!! The speaker is loud!! Easy to sync and i can bring it in the shower!!! I highly recommend this to anyone!!!',\n",
              " \"So far it seems to work very well.  I got it so I could power up my laptop in my car without worrying about the battery.  I don't use it very often, but the times I have it has worked just fine.  Like I said, it is a little noisy, but that is to be expected of devices like this one.  And it was a good price!<br /><br />Updated Review:<br />Not too long after I left the previous review, probably within two months of buying the charger, I started to smell something burning in my car when using it.  Needless to say, the charger didn't work anymore.  I don't know if it was too much or what, but it went kaput. :-(  Which is a shame because it was really useful.\",\n",
              " \"It's great to deal with a vendor that produces a product that works the way it should, that delivers promptly, and that offers products at a lower price. I use the cables regularly and I have not had a problem with any of them. I'm very pleased with the quality and the pricing.\",\n",
              " \"i like  this case because it doesn't come off easy and i dropped it like 100 times and my phone is still good and shipping was pretty fast\",\n",
              " 'I ordered the wrong thing. These are for the I-pod 4 and I have the 5. that was my own fault but they would have been perfect if I did need them. Delivery  time was great and the price was great too. I would do business again',\n",
              " 'I bought this because I lost my old one, and it worked as intended for all of 24 hours. The next day I came out to my vehicle and the soft disc had separated from the plastic completely.',\n",
              " \"Unfortunately, I didn't receive the product. But my account was credited by the seller as soon as I made them aware of the error. Not sure what the problem was and the item was no longer in stock.\",\n",
              " \"After having a similar 4 gb coby flash drive/player for 2 years, i figured that another cheap flash player is the way to go. Unfortunately, this was not at all worth the 10 dollars (and 2 dollar shipping) that it costs.    On the actual player interface, every function is slow. select the next track, and you'll have to wait for up to 5 seconds for it to begin playing. And the transition from one track to another? rather than just playing the track, the player fades out of one and fades in to the next, a process which will shave the first few seconds off of every track. This is especially annoying if every track you have doesn't begin with a few seconds of unimportant ambient intro.     And Sound Quality! I have never before heard a player that so thoroughly neuters your audio! In the past, I had attributed audio quality and fullness to the original mp3 attributes, and the quality of the headphones used. For that reason, I encode all my music files at a minimum of 320, and use quite high quality headphones.     Alas, this player totally destroys the sound quality of your files. Either there is a low-end roll off that begins around 0hz, or the player just refuses to reproduce those tones. This is somewhat manageable when you plug the player in to another system that has its own eq, like a car stereo. At least then you can bump the low end up to make up for it. But if you just listen with headphones, audio will sound incredibly tinny, thin, and weak. Even going through the handfull of pre-set eq options, with the most 'bass heavy' selected, you will find incredibly weak sound.     Forget listening to modern electronic music, drum and bass, dubstep, footwork, or uk funky - the experience will leave you incredibly disappointed.    AVOID THIS MP3 PLAYER - spend twice as much, and get the similar looking, but far far superior coby flash player. With this player, you literally get what you pay for.\",\n",
              " \"I purchased this for my I-Pod Shuffle so I wouldn't always have to charge it on my computer. I also bought it to take with me on the go. So far it works really good! If anything happens, I will write an update, but I am really happy with this purchase. It was VERY reasonably priced and way cheaper than the Apple charger. I wish it could've been a little smaller so I could get it in the case with the Shuffle, but that's okay!\",\n",
              " 'Great sound love the lights I had this since I was a teenager and it just gave out on me. Wish I could find another I would buy it.',\n",
              " 'Works great.  Used it to charge my phone while hiking, I was using a hiking app on my phone and needed to keep it powered up on an all-day hike.',\n",
              " 'This is super .. thanks',\n",
              " 'Easy installment, as I read in review, it become a bit blur but no figure print.<br />Figure print proof one always does that.<br />And it is a thick film!',\n",
              " \"I received the new Touch 3G case a few days ago, and it fits my new iPod Touch perfectly. I love the one I bought. Its white and it just gives my iPod a clean look. The case is so smoothe and soft to the touch, and it completely protects the iPod itself. I am really glad that the screen protector is included with the case, because this is the first touchscreen device i've had, and now I know how important it is to have a screen protector.   Great Product :) !!!\",\n",
              " \"Live the idea of these! I've had them for a week and already one stopped working though. :(<br />I hope the other three last a long time.\",\n",
              " \"This tape converter works great! The product says it only works up to windows 7, but I got it to work on my windows 8 laptop without adding anything extra. It took a little bit of messing with, but it finally worked. Make sure you plug the headphones into the computer headphone jack instead of the tape converter and it'll work fine. I'm glad I can keep all my old favorite songs!\",\n",
              " \"[[ASIN:B005S1CYO6 Kindle Fire Anti-Glare Screen Protector 2-Pack with Cleaning Cloth by Marware - Lifetime Warranty]]  Initially impressed by the screen saver feeling its thickness and clarity, instructions were read and followed to the letter. Carefully peeling off the screen side protector then aligning the plastic to the Kindle. Starting at the end using the spatula provided, an attempt was made to rid the screen of bubbles, while most of them did work their way out some remained, being very distracting. After a couple days of complete frustration the protector was removed, and an attempt was made to install the second protector, figuring this time would solve the problems of the first attempt. After cleaning the Kindle to pristine conditons, another attempt prooved to have better results, but still not without having areas that did not adhere right along the edges, and one aggrivating bubble in the work area of the screen. Having PDA's and an I-touch these problems never existed with installation. Surely will be searching for an anti glare from someone else.\",\n",
              " \"This little waterproof speaker/speaker phone works great and it plays music beautifully.<br />I never expected something for so little money could place so nicely.<br />It would've gotten five stars but the first one I received had a faulty charging port ,got the second one no questions asked.\",\n",
              " 'Great cable',\n",
              " \"Product seems to work well.  It came with two manuals: one very small printed book, and one laser-printed and stapled stack of paper.  Hook-up is completely straight-forward, but the large manual omits how to set the jumpers to configure the charging parameters.  It's described in the small book, but a picture would have been valuable.\",\n",
              " \"Don't work  burn out after a few hrs it's just not whort it  waste of time :( :( :( :(\",\n",
              " 'This is a great product.  I have been riding for over 40 years and this is the best  thing I have bought for a bike.',\n",
              " \"Not much to say, it is what is seems, a good quality leather case for ipod nano 5th gen. Shipping was very fast, I've been very happy with this purchase so far.\",\n",
              " \"Great product, poor instructions. Bought one B48 with GPS with filter and 64GB card for less than $200 a couple weeks ago to check it out, before buying a couple more for our local PD. Video and audio on this dash cam are excellent. Destroyed first camera due to lack of instructions (manual doesn't tell you that there is a locked and un-locked position for the suction cup, and shows in the illustration that the GPS is in an 90 degree angle which is the un-locked position). After it being dropped several times due to improper mounting, the G-sensor and video/audio quality suffered severely. I was really impressed with AMAZON; went to &#34;my orders&#34;, requested return of the item, was given a bar-code to print out, and the info that UPS was going to pick up the item at the next business day...Amazon paid for the return shipment, all I had to do is box it up and wait for UPS, who attached the label to the box.<br />Back to the dash-cam. When properly mounted, the GPS is perpendicular and on top of the camera (and the suction cop is awesome).<br />There are two micro USB ports; one on the camera, and one on the GPS. Consider the one on the camera as a data transfer to computer only (even though it can also be used for charging. The port on the GPS should be used for normal operation, as well as, setting the camera up.<br />Consider the &#34;up&#34; and &#34;down&#34; buttons on the left side of the camera as your &#34;scroll&#34; on your computer mouse (used for menu or mode).  Left top button is your &#34;Menu&#34; for set-up. Second button from the left is your &#34;ON/OFF&#34; button when you push and hold. It is also used to turn the lights in front of the camera &#34;ON&#34; when pushed momentarily.  The third button (right of the mounting bracket) is to select the &#34;Mode&#34; between video, pictures, and playback. The button on the top right is your &#34;Select&#34; button. This button is also used to restart your screen after it goes into sleep mode. The screen will go into sleep mode after a few minutes (depending on your set-up). When in sleep mode the Green light will stay on while the camera maintains recording. If the camera is charging, there will be a green light which will have a red light just below.<br />Do Not consider this device to be battery powered. As others have pointed out, the life span of the device without direct power supply is very limited (about 10-15 minutes).<br />Note 1: When mounting in a vehicle that is equipped with a USB port, keep in mind the capabilities of your vehicle. I have a 2011 F150 on which the USB turns off automatically after turning the vehicle off. The 12V power supply, on the other hand, will continuously charge the camera.<br />Note 2: I run windows 8.1, and have yet to install the driver (disc provided with the camera) for the device. The videos will run fine on any regular drivers.<br />Note 3: Don't down-load all the videos onto your computer. If your computer asks to transfer all files, cancel. Go to the drive instead, and only down load files that you need (downloaded 600 files, and it took me 1 1/2 hours). Once you have your camera set up properly, there will be a date + time stamp in the file name to make things very easy.<br />Note 4: I love the Auto &#34;ON/Off&#34; feature, but for LE purposes I would recommend leaving it on at all times (permanent power supply).<br />Note 5: Speed on videos is recorded in km/h. Well, just divide by 1.6, and you got mph.\",\n",
              " \"These replacements are a good fit, labeled as 1150 mah. Seem to be fresh and last as well as the OE that came with the phone. Nice to have a spare that's charged and ready to go. For under $5 pretty good deal as well.\",\n",
              " 'Very good product and excellent price compared to those sold at stores for over 30 or 40 usd. Charges IPAD fourth gen, no problems with the product.',\n",
              " \"Easy installation but operation could be explained in more detail. I recommend using the film patch to eliminate the double image that is common with these types of units due to the laminated windshield. Units that have OBDII connections will display more information, but the GPS units like this work great if just a speed display is all you need. Wife's car is pre-OBDII and had a broken speedometer so this works just fine.\",\n",
              " 'These batteries drain so fast that they are useless.  And the good news is that I cannot return them because they are considered hazardous material.  Total waste of money.',\n",
              " 'First indication that I might have a problem was when the product arrived direct from China in a box where the word &#34;Heater&#34; was spelled &#34;Hearter&#34;. The product information sheet was in Chinese. I plugged the heater in and it began blowing hot air. Several minutes later I began to smell something. The cord was hot and there was smoke from the plug. I immediately unplugged the heater. My guess is that the voltage is wrong for my car. My packaging says its DC 24V 200W. I will not be using it again.',\n",
              " \"They're so clear you can't even tell you have a screen protector on your A43! I haven't had mine get a single scratch yet either! Application was very easy. I very highly recommend this to anyone with an A43.\",\n",
              " \"Love this product. Was searching for a while to find the first one that I have ever bought. It stays on and fits tight. I also love that it's purple! I have a galaxy S2 and I do have to take the case off to fit it in there, but that doesn't bother me because I want less bulk as I'm running.<br /><br />Update: This case ended up scratching me where the Velcro is and I couldn't figure out how to make it stop. Switched phones and got a new case now. I wouldn't not order this again.\",\n",
              " 'great price and it is nice to have extra chargers, keep one in each room that is used often.  It was just as described and came on time',\n",
              " 'When you plug in your iphone 5 it says &#34;charging not accessible.&#34;  I play music fine. It does not charge the iphone 5.',\n",
              " 'Cute for what I needed. Unbelievably hard to get the ipad on the stupid connector piece. I use it mainly with the ipad,  so 4 stars for that.',\n",
              " \"This Kindle sleeve offers great protection for the kindle.  It is sturdy but light and easily fits in my purses. I like the sleeve design better than the book-like covers because when I read, I like holding only the Kindle. I've only been using it for a few months but it has held up well and looks like new.\",\n",
              " \"The USB cable didn't even work at all. I tried it on both iPhone and iPod. I guess I have to order in another one.\",\n",
              " \"I really love this item. I can use it also with my IPad so I don't have to carry around two keyboards.\",\n",
              " 'This is a really nice, simple, black leather Kindle case. It offers great protection and even has a little pocket inside the front cover for notes. Terrific value for the money.',\n",
              " 'The cover does not hold NOOK Glowlight NOOK 5 securely.  The NOOK can easily dislodged from the cover.  I did like strap to hold it with one hand.',\n",
              " 'Clips are too short for the slats in the vents in a 2007 F150.  Should have measured before I ordered.',\n",
              " 'This is a very poor quality product. first one failed within two weeks and replacement was faulty from day one. Poor sound level and unstable control. This product needs to be pulled from the market. The China supplier should be Black-Balled for selling such a poor quality product.',\n",
              " 'This is the first metronome I have owned. Now I realize I really should have gotten one years ago. I feel like it is already helping me stay on tempo more consistently.  I can\\'t make comparisons with other models but this one seems to be PLENTY LOUD with different choices of the type of click you desire, and with the headphone jack output, you can listen to it through earbuds or feed it into a monitor system in a band setting. Many times our band tends to speed up the tempo, even if only slightly, during a song...this helps you lock in what the tempo should be when you are practicing.    The controls are pretty straight forward and easy to use except for the TEMPO CONTROL WHEEL.  Gee, the only reason I can think of for this engineering oversight is that it fits in a box better? It would work ok if the resistance on the wheel was less. But from the box, you pretty much have to use 2 hands to operate it. I modified it the first day I got it by using super glue gel and a small wire nut to make a tiny knob on the wheel. It works smoothly now because this gives you plenty of leverage to crank it with a finger.    The tap function is nice, just tap the beat as you listen to a song and it computes what the tempo is. It also has a light corresponding to the beat, red on the 1 beat, then green \\'til you get back to 1.  This unit may not be as portable as some but it will fit in my guitar case pocket. This is not a concern as I just got it to use at home. The unit can also emit reference pitch tones for tuning or ear training.    If it holds up, I will be satisfied now that it has been \\\\\\\\\"customized\\\\\\\\\". As I say, I would rate it higher if not for the control wheel design.',\n",
              " \"I bought this unit to charge my Thunderbolt and Galaxy Tab 10.1, along with my family's various electronic toys.  We live in a very rural state with long driving distances between stops.  I also travel to meetings where outlets are not always available and spend lots of time in airports where I used to spend time wandering to find outlets that were often not in very convenient locations.  This has solved all of those problems.  The unit itself does not add much weight to my travels and is relatively small for the amount of charge it holds.  As everyone knows, the Android-based phones eat battery life and I've found when I visit a 4G area, it really eats it. I also use it when using the Thunderbolt as a hotspot. This external battery has been a life-saver many times in all those situations.  The retractable USB cable with multiple tips that came with it was just a bonus.  I use it for many other applications besides the charger.  I would recommend this to anyone that needs this sort of backup power.\",\n",
              " 'Works great',\n",
              " 'I use this all the time to charge my iPhone and iPad, when needed, while traveling on the bus to and from work.  The battery lasts a very long time before it needs to be recharged.  Great.  Thank you',\n",
              " 'Delivery for the product reach my place earlier than expected. Its not exactly sound proof but it does filter out majority of the noise, other wise the brass coming out from the headphone is good. Its quite rugged as well so it would not break easily. Controls work so does the mike, additionally I can also use the control to replay a song or go to the next or previous song in the playlist which is a pleasant surprise. I also got a small free durable pouch to put the headphone in and as well as a free headphone clip. Also has all the colors accessories so I can chose which one to set on the headphone. Summary: This is a better alternative than buying the original iphone4 headphone with mike from the apple store.',\n",
              " 'No panic button on the back, had to hot glue the guts inside due to it not fitting exactly, but had to do the same on my last flip fob.',\n",
              " 'The space bar and &#34;I&#34; key are a bit fidgety, but the product works great and allows better speed than the in screen keyboard. Recommend.',\n",
              " \"I've used this when on the road or out of the office to charge my iPhone again and again on one charge.  I've used it for the iPad too, and while it takes longer than an iPhone (duh) it works perfectly.  We ended up buying more as gifts.  I use it often and have had it for about a month now.  So far so good.  It's perfect for the purse, or briefcase or backpack...totally worth the price in my case.\",\n",
              " \"Sound clarity is not what I had hoped for, and since installing this about six months ago it has developed a bit of a feedback/whine, which was not there originally.  I'll probably upgrade before too much longer, but I probably should have opted for something a little higher quality in the first place.  On the upside, it is pretty powerful and the price was good.  I just wish it didn't whine!\",\n",
              " \"We've had this product in use for over a year now and we're extremely pleased with it.  Great fit for the iPad and it supplies rather nice protection.\",\n",
              " \"A good case for protection against scratches, but started falling apart after several months of usage.  I wouldn't buy it again.\",\n",
              " 'In the world of subs and most electronics: \\\\\\\\\"You get what you pay for.\\\\\\\\\" That being said, these are kind cheap but they aren\\'t half bad. Just don\\'t be expecting to have a lot of bump in your trunk if you\\'re new to the subwoofer world...',\n",
              " \"Perfect fit for Nook HD+. Keeps it protected very well, magnet turns nook off, and the blue tooth keyboard is great and holds a charge for many days. The 'kick stand' is an added bonus that proved to be more stable than I thought it would be.\",\n",
              " 'Found this it in a chain retail store for 10 less than listed here.  Two of the speakers are fake',\n",
              " \"I have a 410 and it does not work!  I also have a plug in at home and it doesn't work with that either.\",\n",
              " 'This ítem came with touch screen damaged',\n",
              " \"I ALWAYS drop my iPod, and this case frankly wont protect it.  Sometimes I don't want a colorful case on my ipod, so I thought this case would be a good purchase because it's clear. However, it does not what-so-ever protect my ipod; one drop and my ipod screen would crack. The picture for this iPod case above is completely different from the case itself. It is just simply a back case, there is no rim that comes over the iPod. Unless you're just wanting your iPod not to be scratched on the back, I would not buy this item.\",\n",
              " \"This unit was rated the best on Top 10 Reviews so I bought it.  Save your money and buy a cheaper one because they actually have features that this one does't have.  It is a good machine and does what it is supposed to do but I will be returning it for a few reasons.  Set up was easy and the software works great.  You will need to download audacity to edit your transfers but that is a free download.  What I don't like about this unit is that it only runs on batteries.  I have hundreds of tapes to transfer and when the batteries start running low you don't know it until it's too late.  Other units run on USB power which is much better than batteries in my opinion.  The other major thing I don't like about this is there is no auto-reverse that will flip the tape by itself at the end of a side.  I found a unit not sold on amazon that has all these options and its own editing software included for just a few dollars more and that is what I am going to go with instead.\",\n",
              " 'I was very surprised of the quality of this case considering the price. It snapped right onto my daughters ipod and she has had no problems with it.',\n",
              " 'My daughter loved it, great case to accessorize with her different things. She uses it of and on when she needs too.',\n",
              " 'nice piece',\n",
              " 'This little speaker works really well.  Nice sound for such a small speaker.',\n",
              " \"I ordered the version of this that has holes for the charging cord and headphones.  It holds the nano well and it has never fallen out, but the sides of the watch bubble outward from the sides, so it doesn't hold it as snug-ly as I would have wished.  Overall does what it claims it will though.  I got the purple and love the color.    update (2/23/15)    I am dumb and was not installing the nano correctly. When I put it in the right way it fits like a glove!\",\n",
              " 'This is a wonderful product and I am so glad I bought it, but its to bad I paid more for it!! Buy it while you can because its worth way more then the price posted!',\n",
              " 'Great little speaker, put it in your forehead.',\n",
              " 'The Absolute AWH310 TWH950/70-1761 Wire Harness to Connect an Aftermarket Stereo Receiver to Select 1987-2008 Toyota Vehicles, worked perfectly for my 2008 tacoma.<br /><br />Gary Dwight Eason, Friendswood',\n",
              " 'This is a good little clock radio especially for the price of $11.48 including the shipping.Although it could use an antenna for reception of the radio as some have.Thats the only reason I didint give it 5 stars.Anyway who uses their clock radio to listen to music anyway right?It does the job as you can see the time clearly and if you use the buzzer.That works just fine.Loud enough too.',\n",
              " 'Great film, very versatile, great latitude. I find it slightly cooler in temperature than Kodak.',\n",
              " \"At first i was impressed with the things he included in the pack.I think there is some problem with the battery.A charger was included with the pack.I used it for charging.I left the player for charging up to 10 hours.Even after that the player says low battery.It made me very irritated.It is sometimes not recognised in the PC.The sound quality is good.But i am very unhappy with the battery.The manual didn't give the proper explanation of the product.I doubt whether the battery is old one or malfunctioned.I have to call the seller and ask about this.Better not to buy this product.\",\n",
              " 'Awesome purchase',\n",
              " 'I chose the rating because , I did like it . I thought it would be bigger but no. I use it outside when I am in the pool or cleaning .',\n",
              " 'This is the 2nd wrist strap I have purchased for my wife.  The 1st one was destroyed by my youngest daughter.  My wife loves it and uses it everyday.  Item arrived on-time and was exactly as advertised.',\n",
              " \"Holy! What an amp!  This amp is worth the buy, it fits right, sounds awesome! And built with ruggedness and quality in hand!  The fan keeps it cool, and the volume cranks! All my music is put together by this awesome kenwood!  It's in my 2012 jeep wrangler unlimited. powering my pioneer 2 way speakers, and the 8 inch alpine sub in the back. Worth the buy! You should buy this amp too!  It does it all! Great for any car! SUV, and jeep!  With the top off, the sound still fills the interior.\",\n",
              " 'Works fine and fast for iPod Shuffle and iPod touch! Small enough to take on vacation when away from a computer.',\n",
              " 'Great light for safety. Good price and quick shipment. Magnet will stay on top of car throught car wash. Get one you will like it',\n",
              " 'I love this Dock I am using it with an Ipod Classic 160.  and I could not be happier.  Sounds as good as the DAC I use for the mac that cost twice as much.  Very good construction and trim.  If money was no object I would buy more Pro-Ject Products',\n",
              " \"don't use it much to give a better review\",\n",
              " 'Excellent!',\n",
              " 'This is a good soft case but it is very staticy so lots of dust, dirt and hair cling to it making for an uncomfortable feel that also causes some scratching to the back side of the iPod. The case also rubs down very easily and leaves \\\\\\\\\"particles\\\\\\\\\" on the screen and around its edges. The protective screen cover does not come off it\\'s packaging sheet very easily and has a sticker on it that covers a tiny bit of the screen, not a big deal, just annoying. While scrolling or playing games, it is easy to knock the unsteady edges of the case. One shouldn\\'t complain that much, after all it is all currently under six dollars but I would recommend buying (and possibly more expensive case) a better case.  ... But the bag works.',\n",
              " 'If you have the Sony Daily Edition PRS-950, this is the cover to get. The claims made by the manufacturer are all accurate -- pretty unusual in these days of endless hype.<br /><br />A couple of things I wondered about before ordering:<br /><br />1. If this cover offers so much protection, is it fat and bulky? The answer is no -- it\\'s very slim. The front and back of the cover are rigid but thin, and the edges extend out past the edge of the Reader just far enough to allow the zipper to close. The previous generation of this Reader shipped with an absolutely massive protective cover manufactured by Logitech, I believe. It made the PRS-900 almost as big as a netbook. The BookArmor cover is nothing like that; it\\'s quite small in comparison.<br /><br />2. Can the front cover be flipped all the way around the Reader to allow one to read without having to hold the two halves separately? The answer is yes: the cover\\'s \\\\\\\\\"hinge\\\\\\\\\" is fairly thin, and each half of the cover consists of only the flat surface, a slightly curved lip at the edge, and the sides of the attached zipper.<br /><br />3. Are the Reader\\'s controls really accessible without removing the cover? Yes: the Reader is attached to the cover using strips of \\\\\\\\\"click lock\\\\\\\\\" adhesive -- similar to velcro but stronger and more rigid, and lacking the annoying strands of thread that always appear in velcro when it\\'s been used for awhile. Two strips of this \\\\\\\\\"click lock\\\\\\\\\" are attached to the back of the Reader, then it\\'s pressed onto the back cover. Since there\\'s no elastic and only a small molded lip on the edges of the cover, all the edges of the Reader are easy to access.<br /><br />4. Is it heavy? Hmm, yeah, it\\'s a little heavy. The Sony Reader is so light that this does make a difference -- however even with the cover attached, the whole assembly only weights about as much as an average hardcover book. I don\\'t think it\\'s a problem, but for some people worried about arm fatigue after holding the Reader for an extended period, it\\'s worth taking into account.<br /><br />Another possible issue with the Book Armor is that the surface that touches the face of the Reader when the cover is closed is a thin panel of soft foam rubber. This is fine when the unit is closed, but when you lie the Reader on a table while reading, that foam surface seems likely to pick up whatever dust, crumbs, lint, etc., are on the table (or any other surface the foam comes into contact with), and then that dirt will be transferred to the Reader itself. That\\'s true of any cover that folds back under the Reader, but the foam seems like it will be harder to clean than other surfaces.<br /><br />The objections I have to this cover are minor, however. The combination of size and degree of protection make Book Armor the best cover I\\'ve seen for an ebook reader. And though it\\'s not cheap, it\\'s the same price as Sony\\'s flimsy standard cover that offers minimal protection. So I recommend the Book Armor very highly.<br /><br />One additional note: The \\\\\\\\\"click-lock\\\\\\\\\" adhesive requires considerable pressure to make the cover adhere to the Reader; I found it a little tricky to make it work. I was also a bit worried about applying so much pressure to the Reader. The instructions suggest turning the unit over and pushing from behind -- but the best way seems to be to close the two halves of the cover with the unit positioned as needed, then press them together until the unit locks in place. It might also be worthwhile attaching the two pieces of adhesive to the Reader as widely apart as possible (on the very top and bottom of the back of the Reader), so that you will be applying pressure to the frame of the Reader rather than the buttons or the screen.Another possible issue with the Book Armor is that the surface that touches the face of the Reader when the cover is closed is a thin panel of soft foam rubber. This is fine when the unit is closed, but when you lie the Reader on a table while reading, that foam surface seems likely to pick up whatever dust, crumbs, lint, etc., are on the table (or any other surface the foam comes into contact with), and then that dirt will be transferred to the Reader itself. That\\'s true of any cover that folds back under the Reader, but the foam seems like it will be harder to clean than other surfaces.    The objections I have to this cover are minor, however. The combination of size and degree of protection make Book Armor the best cover I\\'ve seen for an ebook reader. And though it\\'s not cheap, it\\'s the same price as Sony\\'s flimsy standard cover that offers minimal protection. So I recommend the Book Armor very highly.    One additional note: The \\\\\\\\\"click-lock\\\\\\\\\" adhesive requires considerable pressure to make the cover adhere to the Reader; I found it a little tricky to make it work. I was also a bit worried about applying so much pressure to the Reader. The instructions suggest turning the unit over and pushing from behind -- but the best way seems to be to close the two halves of the cover with the unit positioned as needed, then press them together until the unit locks in place. It might also be worthwhile attaching the two pieces of adhesive to the Reader as widely apart as possible (on the very top and bottom of the back of the Reader), so that you will be applying pressure to the frame of the Reader rather than the buttons or the screen.',\n",
              " \"I purchased this cable for Cowon O2 and it works great!   I stored all my movies and clips into my O2 and connected to car's Nav. system (aux wires are installed )and all my family can watch movie on the road. (I don't cause I'm driving :D )   It is not HD quality but LCD on my Nav. is not that great either.    The best part is that I can play music videos instead of just music.    If you have entertainment system in your car and you own a O2, this cable is a must.\",\n",
              " 'bought this unit based off of the 9\\\\\\\\\" reviews.  the 15\\\\\\\\\" is huge.  my kids love it.  The picture is very nice, and functionality is pretty good.  it\\'s only been a few weeks, but so far has worked perfectly.  I found an install guy for $220.  fo i was at $550 all in.  Best buy wanted $775 for a 7\\\\\\\\\" screen!!!!!  IR works seamless.  we have yet to try the headphones that we purchased with the unit.  the only thing i can\\'t figure out is how to turn off the closed captioning.  highly recommend.  put it in a 2010 dodge grand caravan.',\n",
              " \"Don't order the screen was scratched when I got it and I threw away the box should have know better!!!\",\n",
              " 'I guess you need carry this around and NOT put in your purse or pocket as flashlight button is sensitive. Anytime I took it out of my purse, this charger was dead as flashlight always turned on so it is very USELESS. Do not recommend & will never buy again.',\n",
              " 'My 13 year old son broke the clip off after having this on his belt for only a couple of hours....granted he is young but I still have yet to find any clips for electronic devices to hold up at all.',\n",
              " 'Good Product',\n",
              " 'IF YOUR LOOKING TO BUY THIS I WILL SAY YOU MUST!!!!!! I AM EXTREMELY HAPPY WITH THIS DEVICE! DONT HESITATE TO BUY PEOPLE!',\n",
              " 'He loves it, I asked him after he put it in his Taurus. No Problems at all. He connects his iPhone to it via the thick Cable ordered separately.',\n",
              " 'OK but not great.  I have not been able to get it to pair with my Bluetooth TV transmitter so I had to use it with the AUX plug which kind of defeats the whole Bluetooth idea.  The sound is OK but not as crisp and clear as I expected.  Also, the voice prompts are spoken with a heavy accent so you can tell immediately that this is not Made In the USA!  I would not buy this again!<br /><br />Review update:  I was finally able to pair this with my TV.  It seems you have to try several times over and over before it will finally pair.  However, the sound quality is not really what I expected.  I am revising my review to include this additional information.',\n",
              " \"These fit nice and snug in my ears which is great. I bought these because my fake Beats by Dre Tour earphones had standard earbuds which would obviously giveaway the fakeness and overall didn't have a great feel. These were perfect for them and the quantity is something that has actually come useful to me since I usually have the earphones hanging around my neck and they seem to hook on to something and fall and get lost. Overall I'm happy with this purchase and would highly recommend these if you need some extra buds.<br /><br />Would I recommend this? Yes :)\",\n",
              " 'Product was great - at first.  Then it died - spewing smoke and all!  But things happen.  So I contacted Audiobahn - and that is when it all started.  They will not honor their own warranty unless you buy from one of their \\\\\\\\\"authorized resellers\\'.  This was buried in the product\\'s manual and not even mentioned on the warranty card that I filled out and returned when this was first purchased. Many emails over a month long period provided no solution.  The responses that I received from the \\\\\\\\\"customer service manager\\\\\\\\\"   demonstrated that they had no concern for my business. I will go so far as to say that they were curt & rude in their responses. At no time could they come up with a reason for not standing behind their product.  I refuse to do business with a manufacturer that has such little concern for their customers.  Look elsewhere for a quality product that has a reputable manufacturer standing behind their products!',\n",
              " \"They were very fast at shipping the product and I received it right away. Excited to install it I followed the instructions completely step by step and it caused all kinds of electrical problems even deleting the chip I had installed in my truck back to factory. It also caused problems with my radio. It said it was supposed to take over the xm radio. Well...that didn't happen. In fact when I finally made any kind of progress with getting it to connect with my phone it started flashing a weird GM code on the radio and had somehow deleted the xm from my radio completely. That's when I finally called it quits and took it back out of my truck. I got my radio working again but I wouldn't recommend this product to anyone who has a chipped truck.\",\n",
              " 'It seemed good, but the stand breaks off easily and it does not live up to expectations. Thought it would be better than what I received.',\n",
              " \"I ignored previous reviews suggesting that this armband wouldn't last. I'm a careful guy, I told myself....wrong decision. The velcro fell off around the tenth time I used it, and even after using glue, it fell apart again. It's too bad, as the design and form are really good for running, but the manufacture is so shoddy, it's a waste of money at any price.\",\n",
              " \"I gave it one star because I couldn't give it zero stars. The unit wouldn't power up, nor would it start after a reset. Purchase something that works and for which support is available.\",\n",
              " 'I had grand plans of using this smalldevice to provide power for my Garmin from my motorcycle battery. The cables are long enough to do this, however a new wrinkle came up which stopped the project.  It seems that a handlebar mounted Garmin is not visible in bright sunlight. ( It would work fine at night though ). I will find a use for this product at a later date.',\n",
              " 'Pretty much as advertised. Same size as my auto key \\\\\\\\\"FOB.\\\\\\\\\"<br /><br />Would be nice if the actual numberical direction to a marked spot could have been displayed along with the distance instead of the graphical arrows. However, putting both numerical info on the display would require a significant reduction in letter display size. As with any small GPS being near sighted or having good bifocals is a necessity.<br /><br />Use hint: If you are going to mark a parking spot, then to save time, start the device several minutes before stopping and throw it onto the dash so it can pick up the signals and be ready for \\\\\\\\\"marking\\\\\\\\\" when you get out of the car.<br /><br />Construction appears to be very robust.<br /><br />Need to keep track of UBS connector required to charge the battery.',\n",
              " 'Excellent product.  Fits perfectly and appears to be part of the car.  I recommend this product.',\n",
              " \"I bought this camera for my 2007 Honda Odyssey and I am very happy with the image quality. I also have an Acura RL which came with a backup camera and I have to admit that the Boyo's night vision is better than what I have on the Acura.   I did a ton of research and this is the best product in the market.  I got someone to install an indash navigation system and the camera, so I cant really comment on what it takes to install it on your own.\",\n",
              " 'very good,very useful,good quality,good price,easy to use,easy to control.<br />I have use it for some days,it works normal,best choice.I like it',\n",
              " \"I ordered this for my son's iPod. He says it works fine and he uses it all the time.I arrived very quickly. Thanks\",\n",
              " \"I have had very expense screen protectors in the past, but let me say this: YOU CANNOT BEAT THIS VALUE.  I can't tell that much of a difference between this item and a power support screen protector.  I will be using this brand from here on out!\",\n",
              " 'excellent product',\n",
              " 'Terrible sound quality. Sounds like the speakers are broken after being installed. The old speakers that were 20+ years old and cracked sounded better than these do.',\n",
              " \"I read a lot of reviews about this sub and they were mostly negative! I did my research since I have Jamo satellite speakers and am very happy with them so I decided to purchase this small sub for my small 300 square foot loft which I though would be great and plenty, this sub has no real bass and I'm not looking for for super deep bass it's a small loft and I'm just playing music and I had to turn it up to 3/4 volume just to hear something then the back plate on the sub was rattling with such little bass so I returned it, this is not a good sub it's a very bad sub not even good for a computer system and it's not 800 watts it's a gimmick and this company has to take off the market. Thanks & Peace...\",\n",
              " 'HELLO ...  I Really liked this NAXA Player for Several Months, until it started Acting-up !<br />  Everything seemed to be Working - GOOD ~  Until I Cycled thru a span of songs/albums, and then a Problem arose ....<br /> &#34;There was a Lack of  *POSITIVE RESPONSE* ~  It Would NOT Cycle with any Certainty//Repeat-ability!!&#34;<br /><br />  Thanks/Regards,  JCN.',\n",
              " \"I don't know if it is the product because, I could never get it to work with Win 8.1. It just hangs up after registration. I read all the reviews and most agreed that it would work with 8.1. Don't believe it. I changed .net 1.1 as instructed it still did not function. PrintMaster gave me a phone number, if I wish to upgrade. All I got was a robo voice telling me to select 1 or 2. Hung up after several tries. I have used previous PrintMaster software and it worked just great for me. Never had any problems. Microsoft in my opinion has gone back to &#34;If it works OK with my products I don't care about about other vendors&#34;. Guess I going with Munch and Hamburg as well as Asia on using Microsoft.\",\n",
              " 'They work good the do what i needed.  They were a great price and im sure i wont run out for awhile.',\n",
              " '-Use wifi?<br /><br />-Use ANDROID operating system?<br /><br />-GPS would work in VENEZUELA, LATIN AMERICA?',\n",
              " \"Powerful speakers with an awesome light display. Everyone that sees & hears these speakers wants a pair. And they can't believe the price.\",\n",
              " 'Fits perfectly and does add a bit of protection to the Zune. . . . . . . . .',\n",
              " 'Really good light',\n",
              " \"I have not received this item, but I'm sure I will be charged for it.<br /><br />I'm not a happy camper.\",\n",
              " 'Works fine.  Absolutely no directions included.  Would be difficult for a novice to install.  Relatively good product for the money.',\n",
              " \"simple to use,rough,can take a hit and sold at a good price<br /><br />what else can i say. can't go wrong\",\n",
              " \"Nice bright color-it's see through, but when you put it on the iPod, it looks lime green. Flexible, really easy to slip on, has all the right holes for plug ins, doesn't cover the screen, gives a nice grip without adding bulk.  Great price, too!\",\n",
              " 'Just got it today.  It work with my iphone. But when I use it for my iPad ,it not work.',\n",
              " 'I have been shopping around to find a pair of nike plus sneakers that are affordable even though i already have running shoes. i figured maybe amazon had something for the sneakers so i can use my nike plus and sure enough i stumbled aross this great product. it does exactly what its meant to do and you can put it on any pair of sneakers. this is better than spending $150 on running shoes.',\n",
              " \"Just what is need in the car for local driving and listening to your personal music.Does get some interference but it's tolerable.\",\n",
              " \"Device has a tendency to start and stop recording whenever it feels like it.  Twice in the last two weeks I could have used the recordings only to find the device decided to take the day off.  It usually just doesn't start recording, but occasionally it will also stop for no reason and with no audible indication that it has stopped.\",\n",
              " 'The Nano 5th Generation Ipod case is excellent in perfect condition.  My daughter is very happy with her Ipod 5th Generation Case.  I would recommend this seller to anyone for their products.  My daughter has had no trouble using her Ipod while its has been enclosed in the Ipod case.',\n",
              " 'I received my purchase which was sent via UPS, 2 day business shipping. The package arrived on time, in great shape and everything inside the same. I had fun installing the camera in my 2012 Tahoe. I mounted it on the windshield, directly in front of my rear-view mirror and ran the cable above the headliner, along the passenger side, down and inside the windshield side support covering,  under the dash and to the lighter adapter ( I plan on wiring it directly to the fuse box in the near future).<br /><br />Before ordering, I had several email conversations with the selling company and they were professional and replied within  just a short period of time. They stated that their testing showed the DR500 to run cooler than the DR400 and earlier models (more on that later). They also claimed to be an authorized seller for Pittasoft. I decided to give it a try and placed the order. After I received and set it up, I had a question regarding a setting, so I emailed the manufacturer Pittasoft. Before they would deal with me, they asked for my serial number to verify the product was sold by an authorized dealer. I emailed them the serial number which they indicated was an authorized unit and my questions were answered, however, due to and \\\\\\\\\"only due to\\\\\\\\\"  the difference in time between USA and Korea, several back and forth replies took a couple of days.<br /><br />I have had this in my vehicle for over 2 weeks (EDIT: July 5th, 2013, now nearly 5 months and still operating flawlessly it\\'s been in a lot of hot weather, even to the point that the camera was too hot to handle) and the unit runs perfectly. The unit records clear pictures, unfortunately, when I zoom in on a plate of a passing vehicle using the Windows software, most often the plate is unreadable due to  the picture\\'s pixels being scattered, and the unit is set at the highest setting, Full HD (1920x1080) @30fps, with no compression; thankfully this is not a deal breaker for me as the rest of the video and sound is exceptional. I did buy a larger 32GB mini SD card which works flawlessly.<br /><br />The unit has been running 24x7 and goes into the parking mode about 10 minutes after I park in my parking spot. The parking mode records things at by movement, usually locking in on the event 5 seconds before it sees it and then for one minute in length. I\\'m using the factory settings which seem sufficient for me. One night I had a 1 minute recording at about 2 am. I played the video only to see a small moth walking on the windshield in the vision path of the camera. I liked that, knowing that any passing movement in the middle of the night is recorded.<br /><br />I want my unit to be as stealth as possible, so in the event that someone were to break in to the vehicle, the recorder would not draw attention, I have all the LED lights settings marked \\\\\\\\\"off\\\\\\\\\" when the unit is operational which still leaves the WI-FI indicator on. I placed a piece of black tape over that LED and now it is totally dark. In addition,  I have the voice settings off so an intruder would not be alerted by voice either.<br /><br />I am currently in Florida and the weather is now in the 80\\'s. With the sun hitting the unit, it does get hot, but then so does everything the sun hits. I have not seen any issues on any of the video, still clear, smooth and good audio. Even out of the sun, the camera is warm to the touch, not hot, and the card, if I pull it out and immediately put it between my lips, it also is warm but does not feel dangerously hot. I\\'ll do an update on the units heat once summer is over or if I have problems sooner, but as of now, I\\'m very satisfied and don\\'t see a heat issue.<br /><br />So for now, the following on my likes/dislikes.<br /><br />Pros:<br />*Cylinder shape -The unit is horizontal to the window making for a smaller look, so it\\'s not as obviously a recorder is in the vehicle.<br />*Wi-fi, via an Android App- (no screen-again keeping a small inconspicuous footprint) allowing to easily adjust height view, play back and verify everything is working properly. I can view it using my phone or my larger Android tablet, which really is nice. The application also has a settings page where all the camera settings can be adjusted (settings can also can be adjusted using the PC software; I don\\'t have a Mac so I can\\'t say one way or another for that). I have an old unused Droid I have set up with the Android App that is set using only the Wi-fi allowing me to keep it logged into the camera as long as I like.<br />*Available Settings; normal, event and parking.<br />  -Normal, allows for normal live recording while the vehicle is in motion.<br />  -Event, when an event occurs, such as a sharp corner, fast braking/acceleration, hard bump, an accident or damage to vehicle, the recorder will ensure that in the case of power loss, the one minute event is saved before the camera can shut down preventing the loss of the data.<br />  -Parked, the camera goes into what I visualize, a none record mode even though the camera sees everything going on in front of it and if and when any movement occurs, it begins recording 5 seconds before the movement and for at least 1 minute or until the movement stops.<br />*On all the time, so no lag for start up. When I get in the car, the camera has already recorded me approaching from the front and when I start the vehicle, the camera continues on recording.<br />*Internal clock, minutes are accurate but nonadjustable (this give credibility to the time of the recording), one only needs to adjust the time zone and the clock is right on.<br />*Long power cord, which should enough for most installations. In addition, unit comes with two 3M window stick-ons (more can be purchased) and 5 or 6 cord hooks that stick to the window or car molding to help direct the power cord.<br />*GPS system works well and is as accurate as any other GPS system I\\'ve used.<br />*No lag or missed time between video clips<br /><br />Cons:<br />*The factory SDcard had a Trojan Horse. My antivirus program (Norton) immediately found, quarantined and removed the \\\\\\\\\"autorun.inf\\\\\\\\\" file on the SD card due to it reporting the file infected with W32.Downadup/W32/Conficker. However, if one reads several forum posts about this, it seems this was common on these disks. I formatted the card with the format function built into the camera, all the operational files were automatically reinstalled but W32.Downadup was not. This must have been introduced only to the card when it was made, it is not in the camera software.<br />*The cost, however, now that it is installed and operational, I feel the cost was reasonable.<br />*The instruction booklet was translated to English, but it could have been done better, some sentences don\\'t make sense.<br />*Even though the instruction booklet is in English and touched on most of the options, it did not go into depth about the sensitivity settings, so in the event I need to change them, it will be a bit of trail and error. There is also a \\\\\\\\\"Brightness\\\\\\\\\" setting. I\\'ve played with it a little, but I\\'m not able to see a difference and again, the instructions failed to explain this.<br />*Most functions of the Android app  and Windows software is in English, however, there are a few spots where the English is poor or still in, I believe, Korean.<br />*The 140 degree view of the camera is nice, however in certain circumstances, mostly with rain or water, the playback view can look like a fish eye. If there were an option of an 120 degree lens, I believe I would opt for that.<br /><br />Bottom line, I think this is a great unit and I\\'m glad I opted to buy it. I plan on putting a second camera in my truck, to the rear, however I don\\'t think I will buy another DR500 for this since that unit won\\'t need all the options.',\n",
              " 'This case looks great, but within one day the soft coating peeled on the corners making it look horrible .',\n",
              " \"Good！It's loud.. the bluetooth works great… good bargain!\",\n",
              " 'Surprisingly this little set up is pretty good. Never had any problems with playback and has pretty good sound for two smaller speakers. Just what I needed for social and personal use and am very happy with my purchase.',\n",
              " \"I do a lot of yard work in the spring and cannot remember where I place my cell phone half the time.  This worked out great...you can see through the screen mesh as it sits on your wrist to see if the call is important enough to stop what you're doing.  Very handy.\",\n",
              " 'Perfect!<br />That is all..',\n",
              " 'I am very happy I put in my toyota celica 2000 it is working perfectly so for the moment everything good',\n",
              " \"Once I received this product in the mail, it went on my IPOD and hasn't come off. Great product.\",\n",
              " 'This Audio FM Transmitter works as described. I used it for weeks and noticed little interference. Interference is expected for all type of in-car FM transmitters.',\n",
              " \"How difficult should it be to create a knockoff USB cable for an Apple product?    If you're buying this to charge an iPhone with an OtterBox case, prepare to make some, ah, modifications, shall we say.  The goes-in-the-phone end is too large to fit, and the plastic sides must be (don't laugh) shaved down slightly to get by the OtterBox.    Alright, you're sitting there with a charging phone and a small pile of white plastic shavings on your desk.  All well and good.    If you're me, however, you only have about 4-6 weeks before the cord pulls out of the charging end.    What a piece.  Of.  Yonk.    By gosh, I demand a cheap, quality knockoff so I don't have to send Steve Jobs $40 for a stinking 35 cent USB cord!  Now appease me, shady Taiwanese plastics company!  NOW!\",\n",
              " 'All fine, thks.',\n",
              " \"Excellent screen protector. You just can't beat the price and quality. Real fast delivery.\",\n",
              " 'It does exactly what I wanted. I dropped it and the side cracked. :-( but I really like it. Thank you',\n",
              " 'The Rated size of a speaker used to mean the size of the speaker cone itself......maybe things have changed? These speakers measure only about 5\\\\\\\\\" (including the rolled edge) I was really disappointed when I took them out of the package. Just because they have a large enough metal area around the speaker with a variety of mounting hole patterns, does NOT qualify them as 6.5\\\\\\\\\" speakers in my mind. My original front door speakers (95 Toyota Camry) are 6.75\\\\\\\\\" speakers, but you can mount most 6.5\\\\\\\\\" speakers fairly easily. However, they do sound pretty decent, as long as you aren\\'t expecting any bass from them.......but that\\'s why we have subwoofers :-)',\n",
              " 'I was so excited, they need to be VERY loud for the water to &#34;dance&#34; and the sound quality is horrible. The lights are still pretty color when glowing so I use this for a nightlight.',\n",
              " \"Cheap case... does NOT fit iTouch 3G. I struggled to get it on and it popped right back off. It looks nice in the picture, but it is a knock-off of a more expensive case. Try to find the original one if you can; you'll be glad you spent the extra money.\",\n",
              " \"An overall disappointment.  What would have been a functional and attractive case was offset by poor design.  The charger opening was too narrow and the charger cord didn't fit properly.  The narrow hard case piece at the bottom broke off almost immediately, leaving sharp edges and making the case unusable.\",\n",
              " 'I now have 5 different size sets of &#34;breast forms&#34; and have the option to go from sweet & mild to wild and sexy as the mood strikes!  &#34;Nichol Lynn&#34;',\n",
              " 'This subwoofer sounds great and is just loud enough to damage your own hearing but not piss off everyone around you.',\n",
              " 'I cracked the glass on my iPod touch 3rd gen, but the display still worked. I ordered this product with great hopes. I watched a YouYube video on replacing the glass and did as was shown. In 40 minutes, including watching the video three times, I had a new glass and button in my iPod. Great product! The only thing nobody told me was that I would need to plug the iPod into my computer to wake it up after removing the glass.',\n",
              " 'Mounts to the bike easy and you can hear it very well',\n",
              " 'it was a gift to someone and I think he likes it.',\n",
              " 'I am really pleased with this product. My sat nav fits neatly into it and has a cover to protect the screen. There is extra room for the lead too. Overall would definitely recommend to others.',\n",
              " \"NOT for BaoFeng UV5R!  I put them on my radio and none of the holes or ports lined up.  They seem pretty durable, and I'm sure they work fine on the radio they are designed for (hence the OK rating), but they just don't fit mine.\",\n",
              " 'I bought SPEKTRUM because the brand is well represented by Horizon Hobby for service and support. I did, however have a problem with my previous one. I believe the switch was the problem.',\n",
              " \"After comparing all the functionality of several devices like this, this one had all the listed features I needed.<br /><br />It is essentially an Android smartphone without the phone. It has the ability to upgrade via adding software apps for Android.<br />The biggest issue is the reflectivity of the image in the mirror, which is necessarily a partially mirrored surface. It comes with a protective film that although protects also dims the reflection even further, so I took that off and it helped. It is usable, but more reflectivity would have been nice.<br />I still think a protective film would be good for this, just a harder clearer one, as I am concerned the surface can get scratched too easily.<br />The camera hangs down, and to any alert eye is obvious, so there is little stealthiness available if you are trying to record on the sly. The camera does turn around 180, so you can record the interior of the car if that is what is currently interesting. There is a microphone that is inset on the unit facing forward to the window, so there is a bit of reduced audio detection because of that. If the radio is on I could not hear any conversations in the car.<br />There is a second camera that has no audio input, that can be positioned remotely, with a data/power line that is about 15ft long.<br />The battery in it last about 1 hour per charge; the unit can be powered by either a mini-USB connection or by a jack that serves as both the input from the second remote camera and a dedicated power connection, which apparently has to be downconverted to 5V, not the 12V that a car normally has.<br />The unit has wifi connectivity to any nearby wifi network, but not very sensitive antenna for that, you need to be near the wireless access point; there is a full android internet browser in the OS.<br />Although there is apparently a GPS antenna and circuitry in the unit, there is no installed navigation software, and you have to figure out how to download it and install it fromthe web. It needs to be an android based navigation software.<br />The dashcam software is fairly comprehensive, with options to record from one camera or both, to start automatically, or to start only when there is motion of the unit. There is also a subsection to review the recorded videos.<br />There is some voice feedback on the settings and actions, which is ostensibly in Engrish, but it is heavily accented in Mandarin and can be hard to understand. There is a small manual, also in Engrish and in Mandarin. It is marginally helpful as an operating manual.<br />The settings for recording allow for different selections of resolution, color/contrast/auto, file block size of the video recordings.<br />There are velcro straps that secure the unit to an existing rearview mirror; you have to take up the slack in those straps by positioning the starting point of the slack, a little tricky at first but soon becomes apparent what to do.<br />The unit can connect to a computer, but it is not obvious what one needs to do to actually mount the volume(s) to the computer, it is standard android OS interfacing. That would enable one to download the videos through the unit (as opposed to removing the memory card and doing it that way), or to load up the unit with software and media.<br />The TF SDCard it uses is the micro SD disk form which is very tricky to insert and even trickier to remove, which is inserted on the window facing side; removal cannot be done easily, on the fly or in an emergency, or even easily while the unit is mounted on the rearview mirror. If the card had a little string or handle attached it would easier.<br />I don't know if the unit has bluetooth capability.<br />Overall it is best used as a dashcam, and could be serviceable as a GPS navigation unit if you can get some good software installed. It has media playback capability if you can get some music or movies into it, but the screen is kind of small for that.<br />Keeping it powered is inelegant but necessary for continued use in the car, the USB jack sticks out sideways and that could cause stress damage on that port if powered as such - a 90degree adapter that points down might help with that. Alternately a 5-6volt power source (downconverted from the 12v car power) must be wired up to power it from another port.<br />Ask me any questions you may have and I will try to answer them.\",\n",
              " \"The first unit arrived very timely, but was defective.  However, when I complained through Amazon, I was immediately sent a replacement unit, without even being required to return the defective unit.  The replacement unit works fine.  I can't imagine a better mode of playing MP3 songs, for such a small price, in a car lacking both an AUXILIARY input and a cassette player on the sound system.  One note, I almost rejected the second unit because, unlike other inexpensive MP3 players, it will NOT accept .wav files, apparently accepting .mp3 files ONLY.\",\n",
              " 'I really like the tower itself.  It puts out a great sound.  My reduced rating is due to the fact that this was a new product and the adapter for whatever device you wanted to use in it (iphone, ipod, etc) was missing.  When I called them asking for them to send me the missing adaptors, they said I would have to box it all back up and return it (at my expense).  This thing is BIG.  When asked what they do with the returned product, they said they destroy them!  OK, not only am I missing parts from what I paid for, but I feel they lied to me too.',\n",
              " 'Ordered multiples of these months ago in case they break like every other iPhone charger and not one has broke nor does it have problems or show wear and tear',\n",
              " 'Product arrived quickly and seems to be holding up well. No issues so far.  Plus I received 10 extra clips in a larger size, just in case...',\n",
              " \"I ordered a Denon AVR Receiver through Amazon Warehouse deals. The receiver was used so I picked up the open box warranty for piece of mind (hoping to never use it).<br /><br />So about 8 weeks after it arrived the surround right speaker port quit.  I switched cables, switched speakers, everything I could think of.  I called Denon and their service . . .but they are about as helpful as a pile of rocks.  So I filed the claim on Squaretrade and was rejected quickly?  Why? On this used item they thought I had in-warranty.<br /><br />Okay, if I had one year warranty from Denon on a used product WHY would I need squaretrade? (Denon's paper sent to me clearly noted that it isn't transferable and only valid from authorized sellers)<br /><br />I emailed them several times, but never did get much of a reply.  This was pretty frustrating, especially for a 500 dollar receiver.  So I emailed Amazon.com for help. As always Amazon stepped up. Opened up the return window, provided me with a shipping label.  did everything to make it right.  So in the end I wasn't stuck with an unusable warranty and a receiver that only worked 4 out of 5 speakers.<br /><br />This time I skipped used, and bought a brand new Onkyo as a replacement.  Right now I'm just trying to get squaretrade to give me my money back. . .since I feel they didn't honor our agreement (and I don't have the receiver anymore)<br /><br />Warranty's are all five star, until you have to use them.\",\n",
              " 'Not pretty but does the job of keeping the glare off so I can see the screen.',\n",
              " \"I like the cover, it seems pretty durable. I was very pleased that it came with a screen protector as well, which went on easily. I wish the color was more purple, it's a touch darker than the picture (which I'm OK) but the picture is overall accurate as to color.\",\n",
              " \"I currently own one and if you email me you can have it for free you pay shipping. It's currently in the trash can.  There are so many problems with the software I don't know where to begin; Why it ended up in the trash is because it wouldn't stop syncing a book and wouldn't unlock Lord of the Rings ( epub book from the local library ) that was synced many times - Yes I can read the book on the computer, I still have 14 days on the check out, and yes the computer says the reader was synced.  This is not the first time it happened. This stuff happens all the time.<br /><br />Don't even get me started on complaints with PDF's.<br /><br />Also, the push button to change pages is fatiguing after a few pages. So I suppose its good for children's books.<br /><br />The print is nice, but there isn't a lot of choice on font.\",\n",
              " 'Excellent speakers for the price. These are the first i bought from amazon. I would also like to add they were simple to put in my truck.',\n",
              " 'Good',\n",
              " 'I was skeptical about purchasing this item because I read a lot of bad reviews from several manufactures.  With luck of the draw, I chose this company and I am very pleased. This works very well with my Bose and Sanyo systems.',\n",
              " 'Works nice.  Base sounds cheap.',\n",
              " 'Broke after one month of being on my HD ultra Cassic use it to mount my GoPro and one day went to put the camara on it and broke right at the handle bar climp.. They should re[place it with new one...  :(',\n",
              " 'Works perfectly',\n",
              " \"This product works exactly as described. All functions work exactly as if the dock connector wasn't there and I'm able to keep my case on my phone when using large 3rd party dock adapters. Very satisfied with this dock extender!\",\n",
              " \"Not the worst, but do not recommend it.  Like others said, it's not user friendly.  My main complaints are its awkward way of adjusting volume, its extremely slow rewind and forward speeds, and its tendency to advance to the next track every time you touch it.  Also, I watched a few movies on it, and its battery length is not long enough to get through 2 hours.  Probably best to use it while attached to speakers rather than wearing it.  That way you aren't as likely to touch it, advance it to the next track by mistake, and waste your time rewinding back to where you want it.  I have tried many cheap ($20-$30 range) mp3 players over the years, and this is one of the better of the cheap models.  I got it for about $15 at Big Lots and still think it's an amazing deal for what it can do.  But my favorite cheap mp3 player by far is the Sansa clip which you can get for around $40.  That has been the best and lasted the longest.\",\n",
              " 'Perfect fit! Beautiful absolutely love it!! One thing negative though, its covering my infrared sensor to use my remote for my tv..other than that its perfect and gorgeous!',\n",
              " 'This case fits my new PlayBook perfectly.  I am able to access every feature of my new tablet and when it is closed, it just looks like it is holding paper.  One of the nicest things the seller did was to include a small cloth for cleaning my screen - no charge!  I enclose it with the PlayBook so it is always handy.  I received fast shipping, too!  Great job!',\n",
              " \"Cheap and what I was looking for. I rigged it for my Lomo LC-A (with electrical tape - classy) and it's working wonderfully. Nice wide angle shots. Kudos!\",\n",
              " \"some of these cases were hard to fit on my daughter's iPod.  They would fall off without warning.  Some fit well.\",\n",
              " 'bought this cable to connect I phone to JVC head unit (DVD) it works, cable seems well made. nothing to complain about! im able to watch u tube, use pandora, and even use gps through my i phone screen to Dash monitor. it clips in firmly, and charges while you jam out..',\n",
              " \"I know radio transmitters are tricky and not of the best quality but I could not get through one song without having to change the radio station. I realized that it was just too disctracting to even drive so I quit trying all together. Disappointed that it wasn't even something I could ignore. It was nice that it came with a car charger. That worked fine.\",\n",
              " 'I ordered these as replacement earbuds for my girlfriends skullcandy headphones. They fit perfectly just like the original and were very affordable.',\n",
              " \"This charger worked well for just over a year. I appreciated that I could plug two things in at once (USB and AC 110v).<br /><br />After a year it started smelling like it was burning. Yuck! I let it rest a week and tried it again. Nope - it's fried - which is interesting because I've only used very low wattage items on it (like cell phones and portable media players).<br /><br />Since it was well past the return period I threw it straight in the trash, and I'm going to spend twice as much for something reliable. This charger was cheap - low in cost, and definitely low in quality. If I were you, I'd spend a few more bucks and get a better, longer-lasting unit.<br /><br />Cheers.\",\n",
              " \"I ordered this set of cases and received it very quickly. One of the cases did not properly fit my ipod and the company sent me another two cases for free. The cases are sturdy and do their job well. They are a little difficult to get off your ipod, but you probably don't have to take them off to often anyways.\",\n",
              " \"The kids at the Apple store haven't been alive long enough to know this product is necessary for a 3rd Gen iPod!!! They didn't know what I should do at that point! SO, It is exactly what I needed for this model which only derives enough charging power through firewire before it will charge! Retractable is cool as well, Great product for the money and great company I've purchased from before!\",\n",
              " 'this usb cord really is good and works very well thanks to all the people here on amazon.com for your help with the things we look for on here.',\n",
              " 'great',\n",
              " \"I purchased this for my daughter's Nook for protection. I love that it borders around the entire tablet securely without difficulty powering on the device. She can open her book and read with confidence that her Nook won't slip out!!!\",\n",
              " \"Bought for my kid and they don't like it. It comes off the ipod easily and doesn't protect it. Can't put it in their pockets without the cover coming off or it doesn't want to slide easily because it it rubber. Looks cool but not for protection of ipod.\",\n",
              " 'Great multimedia device and a great price.<br />Arrived in no time and was neatly packaged.',\n",
              " 'I USED THIS MICROPHONE WHILE DJING AT WEDDINGS. THE MICROPHONE IS BUILT VERY WELL IN TERMS OF DURABILITY, BUT THE WIRELESS PORTION IS BAD. LARGE AMOUNTS OF STATIC IF MIC IS HELD UPSIDE DOWN OR SIDEWAYS. ALSO STATIC WHEN THE MICROPHONE IS OFF AND THE RECEIVER IS STILL ON. THE MIC CAN ONLY BE TAKEN ABOUT 3 FEET FROM THE RECEVER. IF IT IS TAKEN ANY FURTHER THEN YOU WILL RECEIVE STATIC. THE MIC AND THE RECEIVER BOTH RUN OFF AA BATTERIES, SO CARRY SPARES. MY ADVICE IS SAVE YOUR TIME AND MONEY AND TRY ANOTHER.',\n",
              " 'I was a little worried from seeing other reviews of this product (in different colors) that it wouldn\\'t fit properly.  Several reviewers said it was too tight on their Kindle.  Perhaps they are trying to fit it around their Kindle and a Kindle case?  I read on my Kindle without any other case, and this is exactly what I was looking for -- something to protect the screen from getting scratched or dusty inside my purse.  My \\\\\\\\\"naked\\\\\\\\\" Kindle fit in the case perfectly.  The only possible downside to this case is that the charging cord would be a bit bulky in the back pocket, but I don\\'t normally tote my charging cord around with me, since the battery lasts a long time -- so this isn\\'t a downside for me.  Also, this is a very very nice pop of color orange.  At least on my computer screen, the orange looks a bit faded, but in real life, the case is a very bright, bold, strong orange.  The neoprene is durable.  The case is exactly what I wanted.  I love my Kindle!!!',\n",
              " \"This case can be opened and some GPS's can be held in it to complete a triangle and support the smaller GPS in a good viewing angle. It may slide around a bit, but can be wedged in place in some locations. If you add sticky back velcro to your dash and the case bottom, in some conditions, you might not even need a mount.\",\n",
              " 'With any purchase of a knock off you know what you are getting into. The ones I received work for charging but not with the power adapters they came with. Nor work connected to a computer for some odd reason, They work with my cell phones Power Adapter and the Apple Power Adapters but not the ones they came with. Oddly Ill keep them and also recommend them just for having 2 nice extra long cords.',\n",
              " \"I used this product to install an new stereo in my wife's 2001 PT Cruiser - fit great - recommend getting the wiring harness also.  With this dash kit and the wiring harness adapter it went easy!\",\n",
              " 'LOVE this card.<br />It has taken my gaming rig to the next level allowing to me easily run games at 1920×1080 res on high to ultra quality at 50-60 fps in alot of the newst game. Very happy with this product.',\n",
              " 'I have this in my 1989 bronco and it rocks awesome with and extra amp connections in back and remote that works from the back of the truck very nice',\n",
              " 'The case was very well made, however the Kindle was about 1/2\\\\\\\\\" too wide, and the case would not close.  I wouldn\\'t recommend this product.',\n",
              " 'i like it',\n",
              " 'i am not satisfied with this products. the speaker rattles when the volume is over half way.it says it can handle 240 rms each speaker. it shure doesnt seem like it to me',\n",
              " 'This MP4 is okay.  I bought it for my 14 year old but she wanted the MP4 that has a menu at the opening screen.  Ultimately I gave it away and bought a different one.',\n",
              " 'Works exactly as advertised and the screen is huge! The picture is clear and it was very easy to install.',\n",
              " 'The cover is awesome but the thing that goes around the tablet peels off within a couple of months. Good product nonetheless.',\n",
              " 'In the week before Christmas, I got my speaker in two days without a rush order!! The speaker is GREAT!!! I use it for listening to audio books and it is perfect for that. This speaker was not created to rock the house, but it does everything that it needs to as a small, portable speaker and the fact that it is rechargable is a real plus!',\n",
              " 'I\\'ve been using this case for my player for a few months now, and I am very much enjoying it. I don\\'t need to worry any more about the Archos getting scratched, so I can just toss it in my bag when I go to commute. It\\'s a good fit, and the cover flap (which has two slots sewn into the inside to hold SD cards, very nice) is secure when it\\'s in place. Also, the \\\\\\\\\"kick stand\\\\\\\\\" on the back is really convenient to have, so I don\\'t have to keep holding the player up myself when watching some flicks.         The only downside to this product that I can see, is that the cover front is realatively soft, so it\\'s more prone to tears and scratches if you put it in a pocket with some hard, sharpish objects. But I have yet to have a problem with that. Although, I do take good care of my player. Overall, I have been impressed with this product, as it protects my device like it should, and makes it look pretty classy.',\n",
              " \"It didn't work for me. It put my iphone into a green screen and it wasn't working for a while. I had to connect it to the PC directly in order to start working.\",\n",
              " 'Chip stuff it broke the first time I put it on !!!!',\n",
              " 'This case works great for my 120gb Zune. The only problem I had with it was that when I put the screen protector, part of the sticker you use to apply on the protector stayed stuck on the protector but I solved that pretty quick with some goo gone glue remover. Also, I have to remove the case to use my zune dock but this is pretty much true with every case.',\n",
              " \"Ok , I would not purchase this as a head unit for the daily driver. It's perfect for the golfcart , or in the RV. I saw no reason to buy a unit with a CD player as I , and many other people, no longer have or use CD's. this thing works great for what it is. You will need to by a small amp as it really doesn't have much built in power. And for what I paid for it if it crapped out in a year, I will buy another. At least it won't get stolen.\",\n",
              " 'Good old modern technology. It keeps changing daily. Writer can not figure out if they want us to read from a nook or one of their competitors. I have two (nook & kindle) & that is my limit. The nook shows it in black & white. The kindle shows it in color. If I can not read what I want from either one of these e-reader, I guess I will have to read it the old fashion way --- paper.',\n",
              " 'This is exactly what I was looking for. After digging around on Amazon trying to find a few extra cables for my wife and I. I wasnt having any luck due to all the junk out there. These were awesome. Absolutely perfect.  And you cannot beat the price.',\n",
              " \"This case does not fit my ipod. I do have the 3rd Gen but this case is about 1 to 2 cm to small. no matter how hard I try to squeeze it together it just does not go. The case was so cheapt that it's not worth the money to send back though. Key word cheap.\",\n",
              " 'Arrived fast. Great product. Works great.',\n",
              " 'Ordered this in the end of March and the digitizer is already broken.  It lasted for just over 5 months!  Just stopped working for no reason!  Poor quality',\n",
              " \"I couldn't get much of my music on me and it's really not user friendly.  Save up and get a good one.\",\n",
              " 'This is a light weight simple cover that fits my kindle fire just fine.  The material feels durable, it does have a smell to it when you get it but it wasnt harsh and the smell didnt cling to my hands from holding it so not a big deal.',\n",
              " \"Keeps the Nike+ in place but are not waterproof, so if it rains when you're out working out, your sensor may get wet.\",\n",
              " 'we bought this item for my daughter for Christmas and promptly returned it when we discovered that buying books for it was near impossible.  Sony books are more than 50% more expensive and many of the books she wanted for it were unavailable    Love the touch screen.  It was the reason we originally bought it.  The need to connect to computer frustrating.  It should be wireless for this price!',\n",
              " 'Each item filled my needs greater than I anticipated.  Streams in the Desert is the best devotional book I have come across.  I have given it as gifts to many friends.',\n",
              " 'Was a great fix to my problem...',\n",
              " 'good quality for the money. arrived on time and in perfect condition. for a few more dollars, i wish i bought the one with a lifetime guarantee only because it feels more logical. all in all this one is not bad.',\n",
              " 'I wasted two trying to get it right. The third one I put on was flawless. Other than that it was a great screen protector.',\n",
              " 'Liked it so much that I just ordered the DRW650 dual camera,  Excellent Product, fast Shipment, Great Transaction, Thank You!!!',\n",
              " \"The 1080p video was excellent. This was when I was just walking round with it. But when I used it during biking, I found the battery lid would keep opening up and aborting video capture. For something labeled 'Extreme' I found it lacking, especially if you are going to shake it around some. For walking it was ok. I returned it for refund.\",\n",
              " 'being a hands on person i took my time with this even though it fit a bit loosely is worked like a charm.',\n",
              " 'This is a good product and fits good however does not have the masking to allow for a easy application.  Overall good product and a great seller.',\n",
              " 'great*cd*player*it*just*made*my*workouts*so*much*better',\n",
              " 'A great cover for the money. Equal to a  much more expensive cover. A cover is a nesesity to protect your nook or kindle. This does the job and is very attractive besides.',\n",
              " \"Two weeks ago I received my HM 901. It came with the standard amp. I ordered the balanced amp from Hifiman about a week ago. Since then I have been doing a comparison between the standard (stock) amp and the balanced amp.<br /><br />I have also been switching back and forth between the hi -res and the classic switch. The headphones I'm using are the Shure 1840, Grado 500, Sennheiser HD600 and my Sennheiser HD650.<br /><br />I owned and sold my HM801 so I know the difference in performance between the two. I also owned the HM601 but will not use this to compare either since it is not in the same league.<br />Simply put the HM901 is better then the HM801. I thought the HM801 would be hard to beat. I also thought the HM901 with the saber dacs might sound drier and not as analog as the HM801. It does not.<br />My  4 pin balanced 3.5 mini cable is from Charleston Cable company. Manufactured here in the good old USA. They are beautifully made, and the sound quality is exceptional. I can honestly say this having used various major brand cables on my HD600 and HD650. That said I highly recommend the Charleston/Audience cable. He is a great guy to deal with and very customer service oriented. Not to mention the quality of this cable. The cable he uses is designed and manufactured by Audience. This is simply my opinion. I have nothing to do with this company. Do a search for additional information.<br />My experience in music professionally has been a long one. I have been fortunate enough to have owned and tried many hi-end stereo products.So sound quality is very important to me.<br /><br />I won't go in to a long detailed description in terms of the sound quality the HM901 produces. There will be plenty of professional reviews coming out soon.<br />Having said that I will say Fang did one hell of a job designing this. Is the body brushed aluminum. No it is not. It's plastic. Does it feel like a $1000.00 portable player. In a way, yes it does. Does it look good to the eye.Well beauty is in the eye of the beholder. To me it looks fine. The plastic is a high grade plastic. The seams are perfect. Everything looks like they took their time to assemble it. Pride maybe. Whatever it is it just works. It feels right in the hand. It is easy and friendly to use. Again,to me I really like the way it looks.<br /><br />How does music sound on this amazing digital player. To my trained ears it sounds perfect. My  stereo home system is top of the line. I now spend 90% of my music listening with the HM901 and my Sennheiser HD650 instead. I do prefer the 24 bit music though. Just a bit more quality, detail, etc then 16 bit. Not a lot but enough. To me it's definitely noticeable. I am a person who is very very picky about the sound quality of the music I listen to. Sometimes maybe to picky. Especially how it's produced through the equipment playing it.<br /><br />I do highly recommend the balanced amp over the (mini amp) and definitely over the standard amp. There is a quite a noticeable difference between the standard and the balanced amp.<br /><br />I haven't had any trouble with  any particular manufactures memory cards although I prefer sandisc. The latest firmware works fine. Did not change the sound signature or cause any problems. Easy to install. Twice it skipped ahead on one of the songs I was listening to. That was before the firmware. It never happened again afterwards. I guess we will see what happens down the road.<br /><br />I Love everything about the HM901. To me it was worth every penny. To hear music produced with this high quality coming from such a small device is amazing. I am listening to sound quality that I enjoy more then my home stereo system lately. That's saying a lot. All this coming from a portable player. I could not ask for more. Fang did a super job in the design, build and quality of the HM901.\",\n",
              " 'These earphones have fair sound quality, and better noise cancellation, but I got a pair of the primo Klipsch earphones for my wife, and the sound quality with those is tremendous--better than the Bose on-ear headphones.  Save your dough..go for the gold if you can.',\n",
              " \"It is not as great as we had hoped it would be but it does the job.  Sometimes it doesn't understand what you are saying when you ask it to call someone and it has called the wrong person but incoming calls are just fine.  The volume is fine. The battery life is outstanding! My husband uses this in his work vehicle and its connected to both his work and personal phones so that is a plus.\",\n",
              " \"I use this as an audio system when I drive my vintage Dodge truck which was never equipped with even a radio. It also works as a hand-free phone. It's loud for its size, although barely adequate to overcome freeway noise levels in my old truck. I've also used it on picnics and sitting by the river. It works really well for that. Battery life is good.\",\n",
              " \"It's pretty cool. It's small but it's so powerful. It got quite a few compliments and has been very useful to me.<br />Just one caveat: When it's placed on a hard surface, the very loud sound comes out of it is so powerful that it causes the speaker shaking. That creates some unpleasant noises. If you lower the volume a bit, it's better. If you hang it somewhere, which is possible, you have no such problem at all.<br /><br />Overall, I liked it a lot.\",\n",
              " 'This was used in a business to keep their EXIT sign illuminated during a power outage.  This battery allowed the sign to remain lit and allowed the store to pass a fire inspection.',\n",
              " \"The sheet quality is good but its very difficult to make your phone wear the sheet.  There are bubbles formed between the phone's screen and the sheet. I tried at-least 10 times (removed the sheet from phone and applies the sheet to phone).    It's almost impossible to put the sheet on phone without any bubbles.  The bubbles on top of your phone's screen obviously reduces the aesthetic appearance of your phone.\",\n",
              " \"Great speakers for the price.  The overall range sounds good.  However, once you hear how good the sound is theres going to be no stoping you as to upgrade more.  Next you'll want to get an amp with a sub!\",\n",
              " 'Excelent product, I install it on a PT Cruiser 02 and a Kenwood amp, it sounds great, powerfull bass and nice look',\n",
              " \"It is nice and soft the only problem is.....is that it is too hard to put on. It doesn't have a normal watchband.\",\n",
              " 'I received one of this as a gift. I never believed the high speaker quality of this!!! this sounds amazing! freq response, noise ratio is very good!. Highly recommended.',\n",
              " 'Works as described. I expected the lights to be brighter. Does the job.',\n",
              " 'My niece love it',\n",
              " 'I had a Garmin GPS before.  I trust their reliability.  I feel that they are reasonably priced considering their many options',\n",
              " 'Good product.',\n",
              " \"I've had the BCT8 for just over a month now, so I think a fair amount of time has passed to comment. This scanner replaced a Bearcat 220XLT scanner that I had for over 15 years but got fried by a nearby lightning strike. I'm in the sticks, so I haven't had a need to use the available trunking features, as none of the agencies that I listen to use trunking, so I recommend you check out other reviews/comments if you want to know more about trunking.    Pros: Very good sound quality from the built in speaker. The built in stand allows you to set it up on a counter top or desk top and project the sound from the speaker. Buttons are easy to use, and the function for each is easy to understand.    Cons: Still using serial cables to program. This is outdated as just about everything today uses a USB cable. Software to FULLY program it costs $'s. The alternative is to manually enter each frequency into memory that you want to store to one of the memory channels.    Tip: Write/type out all the frequencies you want to program onto a spreadsheet. With one hand punching buttons on the scanner, and the other on the spreadsheet, loading frequencies into the memory bank can take less time. Prior knowledge of scanners and reading over the manual once or twice will help out too.    Overall it's well built. I'm contemplating installing a scanner in my vehicle for use while I'm on the road. If I do, it will be a BCT8.\",\n",
              " 'This handheld is like holding a rock.  Very sturdy.  Although I have not used it enough to drop it repeatedly, it is made very well and would likely withstand many drops.  The controls are easy to use, and my flight instructor enjoys using it too.  Great as a backup in the plane, and for calling ATIS prior to starting the engine to save a few minutes.  Reception once you are away from the airport vicinity is weak on the ground, but have no problems picking up very well in the air.',\n",
              " \"I ordered this cover for my daughters Ipod.  She likes it as it's soft and cute but it doesn't fit very well and only covers the back and sides (no screen protector).  If you want a cover that protects your device from damage this is not it but if you just want something cheap and cute then this fits the bill.\",\n",
              " 'I buy the audio because it has a black color inside and grey outside and the light was purple, and when receipt and  extracts it of the box, it was gray, it lks bad and when I turn it on, the light was green and just imagine how it  looks like  in a jetta 2004!! Besides, works just one week and then, already dont work the screen, also there are moments where it stops to work correctly and you can`t change your presets.  I remove it of the car and now I`m looking for another caraudio and if you would like to buy one of this!! think about it!! have a nice day, and sorry for my english but is not my language.',\n",
              " 'The decal sticker is exquizitly beautiful, I am very satisfied with that. The case, however, is unsatisfactory. The straps that hold the nook in at the top cross over onto the volume buttons on the right, and onto the power button on the left. this makes it tricky to turn up the volume only a little bit b/c the added pressure turns it up much higher. If you have headphones on, then this is *wince with a side of ouch*. Most of all I worry about the power button, as there is pressure on that as well. I wonder if this will in some way affect the nook--maybe eventually leaving the power button decompressed permanently. That is, of course, pure speculation, and a little on the extreme side. However, I just got my nook three weeks ago and now the device will not charge. I am in the mood to blame something, and I have decided it is that dumb power button.<br /><br />I noticed that the newer cases have a tri-pod system that in now way touches the power or volume buttons. It is this that I recommend, although I do not have one. Yes the bundler comes with a pretty sticker, but I say buy the sticker and the case separet and go for quality, not affordability; you want your nook to last. My finale piece of advice is this: SAVE YOUR RECEIPTS!',\n",
              " \"I have used this product in several vehicles, and found it to mount securely on any air vent type. I holds your smart phone or iPod securely, and allows you to set it at any angle necessary. It's a great accessory for your car, but please keep your eyes on the road!\",\n",
              " 'These cords have worked great.',\n",
              " 'Great Products as described',\n",
              " \"I just got the case today so I haven't used it a lot. But my nook fits perfectly and it is secure. I have access to the buttons and it doesn't looks like it will get turned on accidentally. It's thin and light which I was looking for. Why have a small ereader with a clunky cover?\",\n",
              " \"this cover is pretty good. its not expensive and also looks nice, doesn't feel cheap or anything.  i would recommend this product to other people.\",\n",
              " \"Terrible.  I got a case that looks nothing like the one I ordered.  Part of the reason I ordered it is because I wanted a larger opening by the Lightning port on the bottom like the picture showed.  This has the same old opening.  Also certain pictures seem to show that there is more bulk, but this thing is paper thin, to me it's almost like not having a cover.  But what I really don't like, as I said, is the problem with the pictures not matching the product.  There is no two tone black/gray as the picture shows either.<br /><br />That's what I get for ordering something not directly from Amazon but through one of their third party sellers.\",\n",
              " \"Haven't had to use it much but is very easy to use and battery life is very good.  Still full charge.  Haven't even plugged it in yet.  I bought this for my son and this was is review of the radio.\",\n",
              " \"This little speaker is good for the purpose it was designed. This should be used as a portable speaker when you are in a spot where a larger speaker system is not available. I found it to have good tone for it's size. The pop up added bass feature is what makes this a good sounding speaker. Without the added feature it is marginal at best.\",\n",
              " 'I had it cut and programmed at our local dealer.  Saved a lot. I would but from Crystalcity again.',\n",
              " \"Prompt shipping, arrived even earlier, than was promised, very satisfied with that.  Silicon skin is good, although has some rough edges. I'm mostly dissatisfied with screen protector. It had  stickers on it for easy removal from the base and easy application. That's great, but those stickers  didn't come out easily after application. I guess they were old and kind of glued permanently to screen protector, and they left some paper , even I tried to remove them with damp  cloth. I ended up removing the protector and throwing it away.  Wrist strap - well, I wouldn't use it while running, because it kind of flimsy.     But,  the main item  in this package is the silicon skin, which is ok, that's why I gave 4 stars. If you are buying this for screen protector and wrist strap - dont. Get better quality.\",\n",
              " 'I am one of those rare folks who after the age of 50 got their first mp3 player!  So this review is for you newbies like me!<br />My sweet little (and I do mean little) SanDisk Sansa was refurbished so I did not receive a manual or any kind of instructions.  Thanks to other reviews here I was able to find the SanDisk website where they have a pdf format manual - ahh, thank you!<br />Also thanks to the same reviewer, I learned how to use the MSC mode for the usb to even get my computer to recognize the device.<br />This little gem is perfect for the avid audio book listener who drives long distances - OK, or music is great too.  Easy to use, but you might need your reading glasses.<br />And my last tip is to let you know there is no \\\\\\\\\"stop\\\\\\\\\" the music.  So don\\'t feel stupid, just hit pause.  (I found this on the SanDisk Sansa Forum).<br />Thank you previous reviewers!!!  You made my purchase worthwhile!!',\n",
              " \"When I got the package, it was well packaged in the box. I think the pictures are little miss leading. I see in the picture that the clear case I would think  be for the arm band, or even the black silcone sleave one. But neither are. They do not have any slits, you would have to make your own. The clear case, from other pictures did show it has a clip, that would allow you to keep it standing up, on its side. It does not come with a clip at all, just a clear plastic hard case. The long power cord. (not the retactable one). For some reason, seems to be too big to fit into my ipod. I had to kinda force it in, and it did not work when plugged into the power addapter. The retractable cord does work in both. The fish to wrap my earbuds around is great! I did not hse the included ear buds, because I have my own that I bought for comfort. The JVC jell buds, with mic. Everything else seems fine, beside the few complaints. For the price I can't complain. You get what you pay for.\",\n",
              " 'Card works just as stated.  Had a issue with shipping but customer service bent over backwards to fix.  Thanks again for all your help.',\n",
              " 'Great antenna! Nice styling!',\n",
              " \"I haven't used it on a trip yet ,but have tried it ,works great for the short distance I used it. Have  a smaller Garmin it works really well, have had it for about 12 years, still works great , just needed a bigger  screen.\",\n",
              " 'I love my Nook Cover...the only thing I wish, I would have gotten one that flips over into a stand so I can watch movies. Overall it is good cover.',\n",
              " \"Like many older folks- this unit appealed with a HUGE screen size.  Yes, it has that.  That's the end of the 'good stuff' imho.  The 'touch screen' is very difficult to interact with, requiring much too much finger pressure to execute commands.  The 9020 has NO BLUETOOTH (the 9050 does).  Also, no audio-out connector on the device to connect to aux-in on my sound system.  Inputting addresses and contacts is a pain.  You can't connect to your computer, and it doesn't have any way to access your contacts (possibly this may be different on the 9050).  I took this back to the Costco store for a refund, and installed GARMIN software on my iPhone.    Also, this unit has real issues with the POWER PLUG coming out all of the time... it is a poor connection design.  The windshield mount they include is a joke and may not work well on many windshields (because it's not flexible enough, and very light-weight).  When you hang this monster off the windshield, the included mount is not robust enough to hold the device properly.    All in all a good idea poorly executed.\",\n",
              " 'great prodcuct!  the ear phones have a hard time staying in the ears and one side seems to be going out already.  the shuffle itself is amazing though!',\n",
              " 'Excellent quality item, and perfect fit for my ford pickup made it simple to install. I am running them off of my pioneer head unti with 50wx4 and thats all they need.',\n",
              " \"It gets pretty loud, the size is perfect for a cup holder, and the connectivity is great (30ft line-of-sight and still working!).  The bass and high-volume tones are distorted, but that's unavoidable for an inexpensive, small speaker.  For the money, it's a great speaker.  If you want something that's actually high-powered and excellent tones, you'll need to spend closer to $80-100 on a larger unit.\",\n",
              " 'Installing was a two man job however it went on and looked good.  Matte finish which I liked.  However responsiveness was horrible.  The s-pen dragged and lost its fluidity. Even finger response was off. Not worth it to me. Have a great cover/case and will stick with that and being careful with this tablet.',\n",
              " 'Well, i recieved this product in the mail today (ordered it 3 days ago..standard shipping) and i have not opened it, but my Dad has one and he loves it! (i love it too, because e lets me use it when i go to the gym, and now i finally have my own!) It is amazing for people who dont like the complexity of Ipods, or people who have lost their ipods and want a quick replacement that is cheap, fun, simple, durable, and completley AMAZING! 2 GB is a lot too for the average person (not for someone who has like 3000 songs but still a reat PRODUCT!)    BUY   BUY BUY!!!!!!!!!!!!!!!!!!',\n",
              " \"Nice product.  Works great.  They beep when you press the button.<br />Suggestions...<br />Maybe have the beepers vibrate as well in case it is under a cushion or something where you cant hear it as well.  It would be better for elderly people who can't hear too.<br />Make them in different sizes.  I would be fine with one that just beeped if it were the size of a quarter.  The bulky one should beep and vibrate.  Who has four seperate sets of keys to clip these big things too.  Make one for a wallet, one for keys, one that clips to your phone, a remote control and maybe a hat.<br />Still, it is a good product.\",\n",
              " 'I have to say amazon have the most best items for tablets..I bought this for my fiancee and she was very please with the color and how it protected her item. She carry it around with her everywhere to school and to go shop..This item is a great item and i will recommend anyone who have a pan digital to get one..You wont be disappointed.',\n",
              " \"Edit: So far the product is holding up well.  The extra USB adapter has also worked and lived longer than other off brand clones, and it is pretty much free.  Also I use a Iphone 4S in Otterbox Defender and also some slim cases from time to time and it has no problem attaching with the case.  I was skeptical seeing the reviews other cables got, and considering this is about a third of the price it seemed almost certain to fail in some way.  I was pleasantly surprised.  I use this in conjunction with [[ASIN:B002I529AY Kicker iK501 Digital Stereo System for iPhone and iPod (Black)]] and also a [[ASIN:B001G5Z82I Logitech Pure-Fi Anywhere 2 Compact Docking Speakers for iPod and iPhone (Black)]].  It works great on both systems.  The Kicker also lets me run RCA cables to a TV, the video image quality is great and shows no difference when directly docked to the Kicker or running with this cable attached.  I use these cables because attaching my Itouch (4th Gen) to the docks of these two speaker systems is a pain in the butt, and research indicates product failure will most likely occur by the dock on the speaker being damaged.  I also use a 30 gig Ipod Classic which works fine running video from the Kicker to the Tv.  Note, I haven't tried that small USB adapter it comes with, but if it works its icing on the cake.    After the success of the first cable I purchased a second for the Logitec downstairs and the 2nd cable also works perfectly.\",\n",
              " \"This case is amazing!!!  Came way better than expected.  The leather has a nice soft feel to it.  The nook fit nicely inside.  Doesn't add much bulk to the nook.  I definitely recommend this cover.\",\n",
              " 'I bought this for my wife she loved it but stopped using it after a while. Looks great, fits perfectly but thats about it. Over time it will start to loose its shine and will darken a little but i guess this happens with most silicone cases.<br /><br />For the price you pay it is ok, do not expect the quality of a top brand.',\n",
              " \"Hi,  A very nice  USB speaker, very nice dynamic range & decent audio output.  Sound range is really nice.  It's USB powered, so not a whole lot of power, but GREAT sound !  Not as good as the LogiTech Z305 cigar speaker, which I also own, but this is 1/ 6 the cost too !!!  Well worth the money, solid build construction, metal front grill.  ENJOY  !!!\",\n",
              " \"Thus far I am very pleased with the purchase. Everything that is displayed in the picture came in the package. Frankly, I don't need everything here but I'll end up using most of it, which made the purchase worth while. As far as I can tell, everything is compatible and works great. Now my iTouch can be safe and protected... phew!\",\n",
              " \"so this is described as a motorcycle mount for a GPS unit.... first the plastic piece that is supposed to screw on to the bar of the motorcycle doesnt even fit.  The hole is not even large enough to fit on a regular bicycle's bar.  I wonder how they are selling it at all.\",\n",
              " 'First, I knew I was NOT buying an Apple IPOD.  I did not expect that quality even though it is overpriced.  I did expect it to be comparable to a 2GB refurbished unit of a lesser name brand that I bought for $11.00.  Big MISTAKE.  The refurbished unit is leaps ahead of it!    Second, I am reminded of a line from an old Goldie Hawn movie called Protocol. Her father always told her, \\\\\\\\\"... If someone sells you a Diamond for 10 cents, chances are you have a Diamond that is NOT worth a Dime....\\\\\\\\\"  While my quote may not be precise, the intent is clearly applicable.       Third, should you decide to go ahead and buy, check your seller\\'s return policy BEFORE your purchase.  I bought from an honorable seller with a 100% satisfaction guarantee.  I received my MP3 on Monday; emailed my refund request thru Amazon\\'s seller contacts system Tues afternoon; had my sellers apology and intent to fully refund ALL my money including S&H that night; by Friday morning, I had the email from Amazon where they had processed a refund to my VISA.  Obviously, I gave them a HIGH rating, for standing behind their business.     Lets talk about the MP3 player.  On the good side, it arrived ahead of scheduled delivery in my requested color from a US Based seller of this product.  Using a free \\\\\\\\\"Flash Drive/Card Tester\\\\\\\\\" utility I downloaded at C-Net, I was able to verify it actually had a full 8 GB of storage in about 15 minutes.  So mine was not a 1 or 2 gb unit with a software hack.     Now lets discuss problems.  1. It would not hold a charge. Battery was solid Green, but it kept dying despite over 4 hours of charging.    2. The earphone port was smaller than the plug for the earphones enclosed with the unit.  Thinking maybe it had to \\\\\\\\\"snap\\\\\\\\\" in, I tried until I almost got it stuck.  The bottom white oval piece almost came out with the unit as I removed it. I tried other headsets/ units including those from my laptop and another MP3 player, none would fit.  So the port hole size was the issue.    3.The language setting said English. Using Windows Media Player, I easily loaded a playlist of jazz items from my laptop.  But when viewed on my laptop, all of my songs and folders were in Chinese Characters.  I had no idea what they were. (So forget trying to salvage an 8 GB \\\\\\\\\"flash storage drive\\\\\\\\\" out if this).    4. Unlike other electronics there are no codes on the back, i.e., model, proper disposal of battery, manufacturer, etc...    5. The clock and date settings would not save when the unit was turned off.  It kept reverting back to 2006.  So while the unit appeared brand new, I wonder if the software, firmware, etc.. is three years old.    6. The menu wheel was just added to look like an Apple Ipod.  It is just a white circular sticker with four active points.  I doubt if it would survive heavy usage.    7. There is a small quad fold quick start guide.  But the unit is NOT user friendly.  The Menu buttons do not follow a logical progression so navigation was insane.  Also the only way to get to the next song was to press the forward arrow.  I could not select an Album, then songs within it.  It appeared to be pre-set to play songs in order with repeat.  I could not get the repeat to turn off.    8. Once within a menu say radio, I could not Navigate back to the main menu without turning the unit off.  The center button worked, but I never knew when.      Different sellers include different items, mine included the USB cable and wall charger, but no CD. Other sellers don\\'t include the CD or wall charger. So check that too. I had read some of the negative reviews before, but ignored them because there were also positive ones.   My latin is horrible but Caveat Emptor... Buyer Beware HEAVILY applies here.',\n",
              " 'When I recieved the charger, i connected it to iPod Touch as usual. The iPod was charging perfectly. After the iTouch charged, I disconnected the charger and the top charger of the usb adapter stayed on the iPod Touch ! VERY BAD !! I do not reccomnd this product to anyone ! Also, the wall charger was cracked and used. THIS PRODUCT IS NOT ORIGINAL! it is made in China',\n",
              " 'It is certainly worth the higher Price tan other brands. It is excellent for boats of all sizes and types',\n",
              " \"For the money, these work really well.  I'm using them for ham radio.  They are mono, and there's no PTT control on the headset.  VERY noise isolating, almost like shooting 'muffs.  You'll probably have to tweak the metal band to get them to fit without clamping your head, but that's by design.\",\n",
              " 'Not very loud.',\n",
              " \"I had the armband for less than one month and used it on five or six occasions and the bottom seam ripped causing my iPod to fall on the ground.  I contacted the vender through Amazon for a refund, which was granted however HandHelditems company requires the customer to pay postage on the return.  So I paid the $2.85 initial shipping cost and now have to pay $1.65 for the return - hello, I have to pay a total of $4.50 in shipping costs on a defective item which cost $7.99.  Cost wasn't a factor in my initial buying decision, it was because the armband seemed streamlined compared to other models.  I guess you get what you pay for?\",\n",
              " \"This was exactly what I was looking for! I hook my iPod up at home, work, and in the car so I ordered three extra's and was not disappointed!  Perfect fit and no problems. OEM for sure.\",\n",
              " 'for the price it is a very nice case for my gps. as others have said its a hard shell thats pliable which is nice and has a wrist strap too. my problem is the fact there is no internal way of securing the gps and its just thin fabric inside. it would have been great if there was a little bit of foam inside for cushioning and/or a way to secure the gps. a quarter of a inch of foam in the top, bottom, and sides would would turn this good case into a great case and for very little more money. also the case came in a open plastic bag with nothing else. so no idea who is the maker nor even if the case is new or used or refabbed etc, i suggest only buying this if you need something cheap and temporary for your gps. once you can buy a better case as soon as you can.  edit: oh you will have absolutely no room for any accessories for your gps to be carried inside but thats fine.',\n",
              " \"The pictures don't show the tools that I received. I got 2 of the same ones and didn't get one of the other ones. So that was kinda weird and I definitely could have used it. However the ones that I got worked well and haven't broken yet.<br /><br />Update: Still havent heard back about the product being incorrect\",\n",
              " \"Hal Leonard has a Vast aray of guitar guides, music and books out<br />and it is nice that they now have Volume 1 of their Guitar Method<br />available for the 16% of use who are LEFTY's!<br />I only hope hell doesn't freeze over before they create Volume 2!\",\n",
              " \"I like the texture of the case, I like how it fits the ipod...but I am not happy with the color... On their website, they don't have a picture of the serene green, and the sample color blotch is nothing like the real color. I was expecting more like a lime green but serene green is dull(my bf said it's a booger green.lol)  I hope they put up pics of all colors.\",\n",
              " 'Did not last very long, it would power itself off, could not change station on the radio or the volume',\n",
              " 'I love it. I love the look it gives my Nook. It was easy to apply so far is staying put.',\n",
              " \"I didn't like them because they didn't fit and they broken within 3 hours!!! Waste of money\",\n",
              " 'Absolutely no complaints. Perfect product. Does everything it says it does, no marks on the charger, no bent wires.USB works as well.',\n",
              " \"I regret not getting this on amazon.  I bought the 1200 watt version of this at Best Buy and just put it in.  I paid 200 bucks plus 15 bucks insurance for this in case it ever blows.  I have a cheap Boss amp pushing it the amp came in a kit that claimed it was 2000 watts.  I know its not really 200 wats but it is ok for a starter amp.  First thing I noticed when I took it out of the box was how huge and heavy the magnet structure is.  My box is secured to the trunk so I had to install this with gravity as my enemy.  I just got back from a test drive with it.  I played this record by a band called 'Ahab', the record was 'The Call Of The Wretched Sea'.  Its got lots of heavy low and slow bass with really fast bass drums.  My old sub just couldnt deal with it.  I turned my stereo up as loud as I could stand and turned the amp all the way up and this sub had no problem handling it.  Alot lower bass with it.  I can tell that if I want to get the full potential out of this sub, I' going to have to get a better amp.  I'm happy with what Ive got now though.  At least I know that I probly wont be able to blow it.  Bottom line, buy this.  Its worth it.<br /><br />Update:  Ok, so Ive had this for a few weeks, I got a Kenwood 1,800 watt sub amp for it.  At first I tried it at max gain and half bass boost on the amp and flat on the bass for my head unit.  I just have 6inch 180 watt door and rear speakers, they cant handle much bass.  After I determined that the sub could handle that level while cranked, I went ahead and turned the bass boost all the way up too.  I mostly listen to hard rock and heavy metal.  I rarely listen to rap music.  For the type of music I listen to this sub is perfect.  Like I said I have my amp turned all the way up and this sub sounds perfect when I have the volume cranked as loud as I can stand with no distortion.  Can sometimes feel my hair move when its really loud also.  Good sub, get it.\",\n",
              " \"[...]    The description about not having to go to the DMV is misleading.  The reason why is because they don't authorize it, even though it doesn't require registration or licensing.  It's not allowed on streets, sidewalks and definitely not on highways.  Now whether or not you actually get arrested or ticketed for using one, is another story, but you'd still be liable.\",\n",
              " \"Bought this one from Amazon, sold by the MiniSuit seller.<br /><br />It works perfectly well with iPad Mini, up to all the positions shown on the posted pictures. It is also a &#34;magnetic&#34; screen - once your fold it, your iPad sleeps (keeping the battery), once you unfold it, it wakes up.<br /><br />it's largely similar to the original Apple's &#34;Smartcase&#34; in the sleep/wake up mode and also in the &#34;stand&#34; mode. However, this one is almost half the price. Another bonus (if you still need one!) is that this case has better &#34;stand&#34; customization to the Smartcase (as you can guess from the posted picture 5 as of the time of this review).<br /><br />As to wear-and-tear -- it's been only in use sine Jan '13 but but doesn't look like it's going to die. The look is that it's a reliable product. Looks like it'll withstand heavy use.<br /><br />I highly recommend this product. Obviously, if any further issues with this one, I'll update my review.\",\n",
              " 'This is a great product. The sound is super from such a small package.The sound is rich powerful. I highly recommend it.',\n",
              " 'It was shorter than I thought and its generic so it takes awhile to charge. Not something you use in a rush but overnight charging works best.',\n",
              " 'Put one on my tortoises back.I kept on losing him now a push of the button [a few pushes] and their you are.',\n",
              " 'solid, well done, fits perfectly with the kindle. unbeatable price and arrived well packed and on time. protects the kindle at a high level. best choice!',\n",
              " 'Does not work with my phone, it is not strong enough to hold it to the window. It might work with a smaller phone.',\n",
              " 'I bought this for my ipod touch 4 and I love it.  It was easy to put on and looks great. It arrived on time with no troubles.',\n",
              " 'I installed this on my road bike in just a few minutes (ok, probably 15 mins because I check and double check before tightening the straps).  It was very easy and the instructions are very detailed.  It synced up to my Garmin FR60 without any issue.  It provides cadence AND speed/distance with this one device.  Great product.',\n",
              " 'Does not fit all of the devices listed',\n",
              " 'Well-built product, perfect small cable for iPod to DAC/AMP connection.<br />I wish FiiO sold a similarly short Optical Audio cable.',\n",
              " 'I purchased this for ham radio use.  The problem I encountered is the mike plug a 3/16 inch plug which is not the correct size for ham radio applications.  I have been unsuccessful in finding an adapter for my uses.  Having to put a new connector on it for ham radio use.  Otherwise it is a great piece of equipment.',\n",
              " \"It's a cheap camera, you get what you pay for :) it has some distortion and even when it is mounted it is still not perfectly straight.... Not a huge deal breaker\",\n",
              " 'Love this item!  I ordered three of them so I can have one upstairs, one downstairs, and one in my car.  Worth the price to have extras.  Cheaper buying it here than buying it retail.',\n",
              " 'Fantastic!  Sound is great for the price and works very well.  I bought 5 so far.  I have one at my home computer to act as a speaker phone only because the price was so right.  Also put one in the pool bag and office.',\n",
              " 'at first was having trouble with the bluetooth, which kenwood customer service had little or no response to.  after a few contacts a Manager joined the dicussion and solved the problem immediately.  now enjoying the unit',\n",
              " \"I bought this case to hold my Kindle Paperwhite. The case is a little big for the device but I don't mind because it allows me to fit in a few pieces of paper or other items. The padding of the case provides great protection for the Kindle and the design is lovely. Very happy with my purchase.\",\n",
              " 'Performs exactly as advertized, now able to dock iPhone with removing the cover.<br /><br />The only thing that could make it better is if the whole thing were a bit shorter.',\n",
              " 'I was excited about a GPS with an integrated backup camera (I tow a boat with a Tahoe). The backup camera installed in about 15 minutes and the quality was (just) OK in daylight. I did not find a second or two lag time to be a problem.<br /><br />Now... as a navigation unit... that\\'s another story. I have used a number of automotive GPSs and marine GPS chartplotters with SONAR. The user interface on the 5255 was fine - I actually like the address lookup and prompting compared to Garmin\\'s approach. That\\'s about all I can say positive about the GPS functions. The unit is extremely slow to boot up and never took less than three minutes to acquire satellites - often it was ten to fifteen minutes and on more than one occasion the unit never did acquire satellites. (This was mounted on the dashboard under the rather large windshield of the Tahoe with no tall buildings or obscuring trees around.)<br /><br />One of the few times it did find satellites, the GPS wanted to take us about ten miles out of the way to get home from our local Wal-Mart. In addition, the unit would accept my street address (in a well-established neighborhood), but there was apparently no street in front of my house. Leaving the house, the instructions would begin with, \\\\\\\\\"Proceed to [my street name] and continue to [the next corner].\\\\\\\\\" The \\\\\\\\\"dashboard\\\\\\\\\" instructions were confusing. For example, if there was a turn in our route five miles ahead, the indicator would show a straight-ahead arrow and 3 miles rather than the turn arrow and five miles. I returned the unit and purchased a Garmin of the same size with the same feature set (minus the backup camera). The Garmin boots in only a few seconds, acquires satellites almost instantly, and makes sense with routing and turn instructions, etc. In fact, the Garmin acquired satellites with four bars\\' strength sitting in my living room! There is even a street in front of my house on the Garmin maps. My wife can help me back up to the boat...',\n",
              " \"It was free but I paid for the shipping.  It protects my GPS well but it's a little too big.  It's hard to get in my coat or back pockets.\",\n",
              " 'It showed up on time works great. Have had great service with no glitches. I would buy another from this sellerhad my doubts with a refurbished . but all is well.',\n",
              " 'good',\n",
              " 'Everything worked and shipping was on time',\n",
              " \"I have had one of these cases for a few years for my iPod 80 gb, so I knew what to expect. The form - flapover, back clip, etc.. is exactly what I was looking for.   This was sold as also fitting the latest 160gb iPod classic. But in true digital fashion, the newer iPod with double the capacity is in fact thinner than the old one.  So the case is a little loose. Not so much that I don't use it, but enough to notice. So four stars...  .\",\n",
              " 'Color remote buttons are easy to push in your pocket, but has a lock feature... Just a little agrivating to unlock each time you want to unlock the doors. Also, the range seems to be less than advertised. Obstacles seem to really interfere with the transmission. Still much farther than the factory auto start on a previous vehicle. If the remotes seemed more solid it would be an easy 5 stars.',\n",
              " \"We haven't worked on getting the voice dialing worked out but for casual use it works very good.  She has an HHR and it is not very quiet inside but I can hear her and she can hear me fine.  Also, since the clip is metal and the Buddy has a magnet you can take it with you anywhere and then clip it back to the car when you get back in.\",\n",
              " 'if it worked for my application it would have been great but i still had to butcher my.factory wire harness for the bulldog remote start and 791 bypass module...<br />i thought they could of made the t harness with shorter wires to make it fit inside the dash panels easier',\n",
              " 'light weight.  Does exactly what it is supposed to do.  Love it.',\n",
              " 'Not quite what I was hoping for, but it will work',\n",
              " \"If you like fake things go ahead and buy the item !! I'm sure you don't mind a house fire !! Your getting a fake charger !! Period\",\n",
              " \"Buy the EVOPower Composite Audio / Video AV TV RCA Cable For Apple iPod Touch iTouch 4G 3G 2G 1G / 4th 3rd 2nd 1st Generation (Made for iPod iPhone iPad / Licensed by Apple) it works on iPad. You do not need to charge the iPad when you use the item listed above.  It doesn't  use the screen, it doesn't use much batteries if any at all.\",\n",
              " 'The item works well.',\n",
              " \"The zipper gets caught and I can see that the case will not be holding up very long.  Don't waste your time or money on this one.\",\n",
              " \"can't reach the co, no manual for how to operate, doesn't sync with my computer easily\",\n",
              " 'This ipod cover fits perfect and the price fit my pocket even better its was very easy to install and by doing it my self it save me about $50 bucks.',\n",
              " \"This speaker is great except for one thing: The AC power input is on the side instead of the back. This means that when viewing the speaker from the front, you're going to see wires. If they had put the input on the back, I would have given it 5 stars.\",\n",
              " \"These are great mp3 players,have owned one before,I like the fact that you use a battery and you don't need a computer to charge it.I recommend to buy off these to everyone,they are easy to use also.\",\n",
              " 'I wish it would hold more songs and the buttons are now getting stuck when trying to go up or down to the next track',\n",
              " 'Got these along with some other cases for my teen sister. This is the only one she uses. She loves it. the colors are very bright and trendy.',\n",
              " \"This modestly constructed case is practical, and a bargain for under $10. Not leather, so I don't expect it to last more than a year if used regularly. I like the 8 way rotating clip feature. The case is loose, especially on thinner iPods, and the open design leaves the iPod vulnerable to scratches and damage.<br /><br />I also purchased a Speck ToughSkin thickly insulated rubber case for superior protection.\",\n",
              " 'This product was good for the price I paid for it. Did not hold up. Broke the first time the ipod was dropped. Would not recommend but the seller was good. Fast shipping.',\n",
              " \"I bought a fore runner 201 for my wife.  It takes over 20 minutes sometimes to lock on satilites.  My wife sets it on the car outside to get good satilite coverage. Then goes inside to strech out & half the time she leaves it because it is use less if not locked in. I sent it in to garmin They sent it back saying that it worked & that was normal. They failed big on this one DO NOT BUY YOU WILL BE SORRY!!!!  GARMIN IS VERY ARRIGANT IN CUSTOMER SERVICE.  Hold on for a little more longer in 2 years there will be way better products out there.  I was going to put them on you tube with there junk product.   Again don't buy & if you do make sure you test it right away so you can return it in time & get your money back.\",\n",
              " 'I love the look of the case and I guess I don\\'t have to worry about it ever slipping out as it did in some cases I\\'ve tested at local stores. I almost broke the iPod trying to wrestle it into the case. I thought that any case advertised to fit my standard 4th generation iPod would fit like...well a glove. I can\\'t use the 1, 4, or 7 keys because the side strip of fabric is in the way. I can\\'t use the \\\\\\\\\"in your face\\\\\\\\\" camera without seeing a vignette around my face again because of the  case being offset to the left.<br /><br />not at all happy with it. So I\\'m looking for a local retailer so I can continue testing them BEFORE I buy.',\n",
              " 'Works well - cord are firm and have no issues connecting to Apple chargers. Good way to have extra affordable cables on hand.',\n",
              " \"Fits the Sony Reader Daily Edition (PRS-950) perfectly, and for the price, I doubt I could do better.  The top elastic slighly overlaps the power/hold switch, but the switch can still be used without any trouble.  The reader can be charged while in the case.  The case itself does not have top quality craftsmanship, with some bubbling of the fabric on the inside.  However, at under fifteen dollars, I can't complain.\",\n",
              " 'Love, love this product, great for traveling to extend the life or recharge electronics, easy to carry emergency backup power, great around the house to even extend the life of a tablet without being tethered to an electrical outlet.  I put it through a test of recharging my cellphone here at the house to see if it lived up to its claims and it worked great.',\n",
              " 'Solved a problem',\n",
              " 'Great  value  for  the  money.',\n",
              " 'I am very happy with my purchase. The color is nice. I really like the magnetic closure. It is a great value for the money.',\n",
              " 'Cons:<br /><br />1) Took my about 30 mins to figure this out because I didn\\'t realize the mode button could be pressed down. Because of that this isn\\'t easy to figure out, and the instructions posted here are messy looking, I can\\'t even remember how I figured this thing out, it wasn\\'t from looking at the instructions here that\\'s for sure.<br />2) The time function is messed up because the seconds are too slow, so it literally within one second will start going off the correct time. It\\'s also in military time only.<br />3) It\\'s so confusing trying to figure out how to get out of radio mode that I just turn the thing off and then back on.<br />4) No AM reception. Why don\\'t any mp3 players have AM! Maybe one does, the very expensive CC Radio and knock offs, that\\'s it.<br />5) Figuring out where the battery compartment was, was confusing too, including the USB port, since the thing looks seamless! It\\'s like alien technology hah. Sadly it probably isn\\'t waterproof, but at least the seams are very flush, should help keep out dust.<br />6) It cycles colors before you change a color, so that when you start it up for the first time and start selecting things it is as if it\\'s going crazy.<br />7) The contrast sucks.<br />8) Putting it on hold prevents it from being written on, as in you can\\'t add anything to it when you have it connected to your computer. And the screen says \\\\\\\\\"zzzzzzz\\\\\\\\\" as if it\\'s \\\\\\\\\"sleeping\\\\\\\\\" rather than telling you it\\'s connected.<br />9) It\\'s a very irritating feeling, at least if you have hard hands like me, to press the mode button down to select items, because it feels sort of like you are being prodded, like someone is poking you, it just doesn\\'t feel good, make me feel like puking which ruins the enjoyment of trying to listen to the music for the first few mins, at least for me. I\\'d rather press down on flat button. If there was a separate selection button it would probably allow the two buttons separately to last longer. And I\\'d prefer pressing down on arubber covered button, not the tiny plastic feel of the mode button.<br />10) There\\'s a thin opening where the USB dongle is, so that dust can easily get onto the LCD. I know because I put it in my pocket and took it out a few minutes ago, about (1:50 AM, 10-26-2012)and noticed a black speck under the plastic screen, and it took a very stong blow of breath to get rid of it. Now that I think about it I may seal it with super glue.<br />11) Doesn\\'t handle low variable bitrates, below 128 well apparently, as one custom album I made using that had a scratchy sound at the end of every track just about, it wasn\\'t super horrible but it was irritating.<br /><br />Pros:<br /><br />1) Comes with a protective lcd cover, will prob wear off fast but it\\'s better than nothing.<br />2) Lightweight<br />3) Not shiny even though the picture may show it is shiny, instead it\\'s a plastic-like case, so it shouldn\\'t be a big prob with finger oil making it look nasty.<br />4) DOES NOT HAVE A NASTY MADE-IN-CHINA TOXIC PLASTIC SMELL! THANK GOD. I hate that WD-40 SMELL!!!!!!!!<br />5) FM radio works fine.<br />6) Music/audio files sound fine.<br />7) 8 gigs is a huge amount of space for a cheap mp3 player.<br />8) It lasts a long time on an AAA battery, a quality one. I\\'ve been listening to it from 3 AM to 1:38 PM, even as I\\'m typing this.<br />9) Selecting a folder of music on this is amazingly simple I found, I thought I\\'d have to just scroll through every single track, but just hold down the play button during a song and then press the mode button, and then you can start scrolling through the folders.<br /><br />If there was a waterproof version of these with an OLED screen and the mode button was rubber coated, and maybe even a few solar cells on the back like calculators always have so that it can charge while dangling around on you in the sun, then I\\'d buy tons of these if I could.<br /><br />I haven\\'t tried out the microphone yet but no doubt for $13 it sucks, bit it\\'s better than nothing tho as an emergency back up.<br /><br />11/8/2012 4:51 AM: The mp3 player broke about an hour ago, everything works except the play pause button. I tried everything, it refuses to play, and the hold button fell out a few minutes after.',\n",
              " 'I am a mail man for the US Postal Service in the midwest.  I have to say this little bad boy rocks.  Its about the size of a hockey puck but the sound you get from this little speaker is comparable to a full radio system in some cars.  Dont believe the post you see about not being loud enough.  I work on busy streets and have no problem hearing this above traffic.  I had some of my fellow carriers today ask if I put a full system in my truck.  When I showed them the speaker they all wanted me to text them the link for the product.  I am planning on buying a couple more to daisy chain them together for even better sound.  If you are at all wonderig if to buy this take it from your trusted mail man buy this speaker!!!!!!!!!',\n",
              " \"Nice looking.  Sound quality and volume very good.  I'm totally satisfied.\",\n",
              " \"I ordered this scanner for my husband and he loves it. We were able to find the codes online for our police, fire, and ambulance here in our town as well as the sheriff's department in our county. By listening to this we are aware of where accidents or fires have happened so we can avoid those areas.\",\n",
              " 'Its just a simple adapter but it worked exactly as it should have and arrived very quickly. Saved me a lot of money!!',\n",
              " 'Gave it to my husband as a surprise and he loved it! It was just what he was looking for',\n",
              " \"Very pretty, but hadn't noticed there is no cut out for volume or off button. Couldn't get these buttons to work through the case so I had to cut out sections of the case.\",\n",
              " 'Rather than spending the money for the Harley Edition GPS, although very nice it would be seldom used so I opted for the Nuvi.  Yes, the Harley one is waterproof and can be operated with gloves on, but it is also $999.  For $100 this will be perfect for those times I just don;t know where I am........I have enjoyed all my GARMIN products to date and their cusotmer service has been wonderful the one time I had to send a unit back.',\n",
              " 'this was a bust with my TV but it might work with other types',\n",
              " 'UPDATE:  Be careful when attaching to (and detaching from) the usb receptor on the keypad. The receptor is very delicate, and the one on mine bent within a few monthes of use. This makes the keypad useless, since it doesn\\'t run on batteries.     I might buy another one at this price, but I\\'d be very protective of that connector. It would be great if it were a little sturdier.  ----------    This Ionic keyboard was the best bang for the buck, and I\\'m *very* glad I chose it.    I primarily use my Nook for internet connectivity and email, and a touch screen keyboard doesn\\'t work well for typing quickly with manicured fingernails. I researched all of the Bluetooth-compatible keyboards available (I came up with sixteen) and made a table to compare features, prices and customer reviews. i read *all* of the reviews. (Yes, I\\'m compulsive) I narrowed the selection down to three, and chose this one because it seemed the most reliable for my Nook HD-7 (verify the model when reading reviews), most competitively priced when considering reliability, and compact enough to slide into my purse.    The keyboard arrived more quickly than predicted, connected to the Nook almost automatically (follow the three or four steps for first-time access on the included direction sheet), and stays reliably connected from session to session. The keyboard comes with a (sturdy plastic I\\'m pretty sure - not leather) case to protect it and the Nook. The case also acts like a Nook stand, so the whole thing is only a little thicker than the Nook, itself.    For the past month, I\\'ve used this daily for a couple of hours at a time, and I\\'ve had no problems. I\\'d ***definitely*** chose it again if I had a do-over. It lets me use my Nook like a very portable laptop or inexpensive iPad for googling and emailing, and those are my primary requirements,    All of the keys function properly and reliable. A reviewer in November 2013 listed all of the functioning PC-standard key combinations, and that was a hugeselling point for me, but I haven\\'t tried them yet because I\\'ve yet to figure out how to highlight and select text to perform operations on it.    The only negatives have nothing to do with functionality:    Due to the space limitations that make the Ionic keyboard compact, two keys that I frequently use (quotation marks \\' and \\\\\\\\\") are accessed with the function key, so I have to stop and think for a second while I\\'m typing.    The fully charged keyboard outlasts the fully charged Nook by far, but I have to remember to toggle it Off when I\\'m done. (I stuck a little paper tab next to the switch so it overhangs the cover when it\\'s closed. If I haven\\'t folded in the tab when I\\'m done with my Nook, it sticks out and reminds me to go back and flip the switch.) The November reviewer said that it has a hibernation/sleep mode, but I\\'m not so sure about that.    The included charger connects to a USB port, but the keyboard is also compatible with my phone charger. If I\\'m going to be away from home for a while, I bring the Nook charger and my phone charger and plug both in while working, just to be safe. You can also buy a USB-to-AC converter plug for a few bucks at the hardware store, if you want one.    Once, I may not have closed the case tightly enough and the keyboard magnets didn\\'t hold it, so it slipped out. Luckily that happened at home, so I didn\\'t lose the keyboard, and I pay closer attention now when I put the Nook into my purse.    The Nook itself doesn\\'t always shut off when I close the case, so I shut it down manually when I\\'m done.    Because this keyboard is the same size as the Nook, typing is a little cramped. For that reason, I almost went for a Zagg keyboard because it\\'s wider so it\\'s more convenient for typing, and also highly-rated. The Zagg keyboard comes with a cover that also serves as a Nook stand, but the wider size means it isn\\'t as compact and the cover is only for the keyboard (so I\\'d need another one for the Nook), so I\\'d have two items to cope with on the run. If dragging the setup around were no problem, I might have gone for Zagg, because it also may be sturdier.    But the Zagg keyboards are also two or three times the price of the Ionic keyboard.    For less than $30 including shipping, the Ionic keyboard is a great purchase. It\\'s perfect for someone like me, and I recommend it without reservation.',\n",
              " 'Thank god for Amazon and their sound business practices. I felt good that I was protected from this seller. I wait almost two weeks for a laptop I was promised would be here in 6 to 14 days. Then today, I get an email saying it was \\\\\\\\\"damaged\\\\\\\\\". RIGHT, I call liar on these guys and will NEVER buy from them again. They didn\\'t offer the item, just a refund, so there goes two weeks wasted. They also like to change the item picture and description after I ordered it. It went from a Macbook, to an in car stereo. Very suspect on these knuckleheads. Save your time and money on these liars.',\n",
              " \"Not bad for the price. Unfortunately, it's hard to know what the colors will look like in person. The orange in particular was more of a fluorescent salmon color and my niece was disappointed as orange is her favorite color and this is not what she hoped for.The plastic is thinner than other similar cases I've had and there is much less of a lip around the top edge. Overall finish was somewhat substandard; there seems to be a lot of cloudiness in the plastic where it should have been clear. Not a bad deal for the price considering how many are included but I've seen better quality in similar types of cases.\",\n",
              " 'A fairly straight forward review.  This product provides very good sound with little to no static.  It is compatable with different consoles and the easily adjustable holder allows for easy viewing of your device.  I would recommend this product to others.',\n",
              " 'Ok so when I saw the Mdr 7509 had been redesigned I got all antsy about what I was missing. So when recently buying more cans for studio and CHiPOD use I looked into a few pairs of MDR-7505 phones. The salesman also had some very well priced new MDR-7509HD sets which I picked up on a pure whim.     So I get home and break out the 7505 sets to compare and start with the let down...No such let down came. The 7505 sets although smaller perform extremely well when compared to the old 7509 series.     Then came head to head tests between HD and Previous series 7509\\'s. I must say the low end on the HD set is compromised to clarify their \\\\\\\\\"better Midrange response\\\\\\\\\". I found them more annoying for long sessions of monitoring...I prefer less high end in my sound and a more subdued midrange. Thats just my own preference.The old 7509 series is bassier if that\\'s what tickles your fancy. It certainly does it for me. So I personally prefer the old series and the 7505 set to the HD series. Sorry to disappoint.     This now bring the question...Which of the 7509\\'s are more colored and which are flat? So much for industry standards.     If you are getting them because of the 80 KHz response you won\\'t hear it unless you\\'re a dog eared human being.Typical hearing in a Human is commonly between 15Hz and 20 KHz.     This being said they are great phones but if you get a chance compare both sets before buying and see which you like best. For me they are no loss as I can use them for monitoring and recording with other musicians in studio.Happy shopping and always trust your own ears not someone\\'s reviews. we all hear differently.',\n",
              " 'Just the right size for auto glove boxes and desk. I have ordered three more. One for the wife, one for me, one for each vehicle and one for a friend.',\n",
              " 'I may have gotten a defective one. If so, just add that in to why I gave it 1 star. First, the mount is terrible. It sticks to the window well enough, but one of the tightening joints can never tighten all the way. If I try to snug it anymore, I would probably crack the plastic. Maybe the addition of a thin rubber washer might help, but I doubt it. Second, the manual that comes with it is obviously for some other camera. It talks about buttons that do not exist and features that are non-existent. That is if you can understand what you are reading well enough to begin with. Third, I am not sure there is a battery in the one I got. At least nothing seems to charge up when it is plugged in. Lastly, it seems the buttons do not work when it is recording. I cannot bring up the menu screen or figure out how to stop the recording if I want. Does not seem to be a stop button anywhere. I am going to try to return it.',\n",
              " \"Bought this as a replacement for my original antenna which was damaged from wear and tear. This fit right in and provided crystal clear reception. Not to mention it wasn't too pricey either. Great buy if ur in the market for a replacement car antenna.\",\n",
              " \"I really like to read my Kindle while eating lunch or breakfast, and sometimes at my desk, and the adjustable stand on this case is perfect for hands free reading. It's especially terrific on long airplane flights -- just pull the tray down, adjust it, then set up the Kindle's stand, have your drink ready, and it helps make the general unpleasantness of flying these days, a little more bearable.    I looked at dozens and dozens of covers, but only the Duragadet and one other offered a way to prop up the Kindle, and this is far more sturdy than the other one. The black leather looks smart, is thick enough to protect it, and the front flap cleverly flips around to be part of the stand. There are at least ten or more notches on the stand portion, to allow you to adjust the Kindle to different reading angles.    A small nitpick is that some of the stitching isn't perfect, and a little off center in places, but that's a very minor imperfection. The Kindle slides in snugly and the opening at the bottom is large enough and placed correctly to allow you to flick the Kindle on and off. For about $23 and change, this is an excellent cover, in my opinion. Several other Kindle users have asked me about it, and have tried putting it on their own. Everyone thinks it's an ingenious design, and I think at least two of them have purchased it to replace their old covers.\",\n",
              " 'The items ALL work and fit fabulously.  Both covers offer my daughter the ability to switch based on mood, and the stylus and cloth work just fine.',\n",
              " 'I was very happy with my purchase well worth it',\n",
              " 'Good!',\n",
              " 'good',\n",
              " \"I've used SquareTrade warranties for years - in fact I currently have no less than 5 of them, but this was the first time I've had to make a claim. To say that it was easy and hassle free would be an understatement. In fact, the time it took from initially filing my claim for a damaged cell phone online to having the full retail value of my phone Paypal'ed to me was just over 24 hours. That's right, just barely more than one day. The process was incredibly simple - all they needed was an invoice from a local cell phone repair shop of my choosing with either the repair cost or a statement that the phone wasn't repairable. Mine wasn't, I got a note to that effect on the store's letterhead, Squaretrade sent me a shipping label, and I had the money in my Paypal account within 2 hours of when I dropped the package off with UPS. They didn't even wait to receive the phone back before transferring the funds. That's customer service - no week of waiting for shipping, no long delays while it sat in their repair depot waiting to be evaluated, just a fast, smooth transaction. I can't recommend them highly enough, just be sure you read the warranty terms so you know what you're getting and what you're not.\",\n",
              " \"Case is nice, fits my 80GB Classic, however, the back of the silicon case does say 30GB.  The only thing I DON'T like about it is that the touch wheel on my iPod does not work with the case on.  For a quick fix, I cut the middle circle out (where the click wheel is), works fine for now.  For the price, can't beat it.  Still looking for a case that's a little more durable though.\",\n",
              " \"Great wire! but i held this wire next to the pro series and i don't see a difference.... for the extra money i dont see what its for, but im happy with the wire and the service!\",\n",
              " \"Impressively small for the sound quality and price.  It works great.  I got if for my tween son and he is quite please.  My only compliant is that it doesn't sound as good as other wireless bluetooth speakers that are 3x-5x the price which I have been using and getting used to. Its easy to get spoiled with a better speaker, but this is an incredible value nonetheless.\",\n",
              " 'This is still in use after years, its easy to use and adaptable for use with computer or wall charging which covers everything except your car charger....',\n",
              " \"This is a really good quality case and it does fit well; I like the way I can use it as a stand and how it has a little hand holder on the back (I'm totally uncoordinated so this is a massive plus :-P). It is quite bulky around the screen though, which is fine just makes it slightly difficult to play games on! Having said that, it protects my tablet very well and is nicely padded. It's also very soft and an awesome colour :-)\",\n",
              " 'Item came in brand new packaging and is a perfect fit for my application. All hardware needed was in package.',\n",
              " 'I unpackaged the item, plugged it into the 12v socket in my car and nothing.  the light indicator on the device was not lit.  I plugged my 12v iphone charger in and still nothing.  I returned the item.',\n",
              " 'This case provides scratch protection for the rear of the iPod only.  It will not protect it from shock, drops or falls.  It goes on and off of the iPod a little too easily.  If you just want something to protect the back, this will work.  If you want a full iPod protection solution, look elsewhere.',\n",
              " \"I purchased this Roxy silicon cover for my daughters itouch & she loves it. The color is pretty and the texture on the back makes It easier to hold & not slip out of your hand. And since it's a surf brand it made it very appealing to my daughter.\",\n",
              " \"There is no getting around the fact that this is a remote control vehicle shaped like a sphere that is controlled via an app, over a Bluetooth connection.<br /><br />The changing colors, the zippier interface, and the faster movement with cool macros all make for an entertaining experience.<br /><br />Unfortunately, after about an evening's play with this toy, I grew bored, and left it to the kids to enjoy.<br /><br />This is a well engineered product, with turn on a dime performance, long battery life, and solid construction - hence the 4 stars.<br /><br />~A_E~\",\n",
              " \"Good little device, bought it to replace my 3rd gen 8GB nano. It's a little bulky compared to the nano, not something that really bothered me since I bought it for the capacity. Also not sure if it was cause of the device or iTunes just being difficult but getting all my music on there was a bit of a fiasco. Most likely an iTunes issue. Got mine gently used, seems to be working fine. iPods last a long time if you take good care of them.\",\n",
              " 'When my daughter got her iPod Touch 4G, she purchased this screen saver. I thought it looked pretty cool, so when I got my own iPod Touch 4G, I bought the same screen saver. Now, 4 months later, I am less enamored with this screen saver. It works fine as a reflective surface and screen saver. Unfortunately, when you are outside or in a bright light atmosphere, the reflective surface actually works against you. In order to see what is behind the screen saver, meaning what is on your iPod screen, you have to adjust the brightness setting of the iPod to maximum brightness. This in turn shortens the battery life and you have to recharge sooner. Eventually, I will replace this screen saver with a clear one.',\n",
              " 'Looks great and easily installed.',\n",
              " \"Got this case for my son's 8th birthday. He loves it so much!! And when I ordered it we received it so quick.\",\n",
              " 'Hey sorry could not get this MP3 player to function it would not pair with my system after many, many attempts ,the provider is working to correct this issue.',\n",
              " 'amazing how far the light reaches',\n",
              " 'Very nice quality! Great for whole family!',\n",
              " \"I have used this three times now and absolutely love it. I only wish it was able to charge my phone as I'm listening to things through my car stereo. Oh well.  Other than that, I am glad I bought it!\",\n",
              " \"It was bad. The design was no good and it's not valuable. I waste the money for it.\",\n",
              " 'Love the overall case.  However, I had a bad experience with the retailer.  The top of the case is defective.  The plug hole for the earphones is misaligned.  I contacted the retailer 1 day after receiving the product.  Instead of them replacing it, they told me to contact Otterbox directly.',\n",
              " 'Great price, shallow depth.    I replaced the factory subwoofer in my 2002 Tahoe with this one.    It fit almost perfectly (I used part of the old speaker to mount it into the factory sub box).    Decent bass for the price.  I wasn\\'t expecting my doors to rattle, just an improvement from the factory sub. I got what I expected.  I\\'m using the factory amp and I\\'m getting decent sound from this unit.  About as much as you can expect from a single 8\\\\\\\\\" subwoofer.',\n",
              " 'i bought this for my husband before he deployed and what he realized while working out is that the ipod is not fully protected while using this, and sweat still got it. this has had some not great affects on his ipod as a result. if you are a big sweater and work out a lot i would not necessarily recommend this.',\n",
              " \"This review is for the Sentey S8 portable Bluetooth speaker.<br /><br />First off let me say I have both the S4 which is the smaller version of the speaker and the S8 which is the version being reviewed and sold on this page. The S8 is quite a bit larger than the S4 but offers much better sound Quality and has the ability to play much louder. This speaker is easy to connect to using the Wi-Fi on your phone or tablet or any other device capable outputting Bluetooth. The speaker is Bluetooth version 4.0 but it is fully backwards compatible with earlier versions. Bluetooth range is stated at 33 foot and I found the speaker to work exceptionally well and it times have exceeded 33 foot and the speaker still played fine. This speaker also has a built-in microphone for hands-free functionality for making phone calls conference calls and such. It comes with a nice carrying pouch in the box which was a nice surprise because I didn't see it in the original Ad.<br /><br />I used a decibel meter on my phone to measure the sound level and it hovered at about 96 dB and the app stated that that was between the average food blender and subway system. If you've ever been around of food blender I can assure you this is quite loud.<br /><br />I found battery life to be quite long, But it is a little slow to recharge. You charge this with a micro USB cable which is the standard charging system on any Samsung phone and most Bluetooth appliances. A charge cable is included in the box.\",\n",
              " 'AC 2100V 0.95uF 3%b 50/60Hz High Voltage Microwave Oven Capacitor sold & shipped by uxcell. Cap marked Tian Jin Tae IL Electronic. Item as pictured 2/11/2015. Have no instruments to test specs of cap. Label indicates has bleed off resistor inside. Have not installed this one yet. A month earlier bought 1.0uf from uxcell and installed in uwave along with diode also from uxcell and been using for almost 2 months without issue. Good price ($6.19 free ship HK). Received 12 days (HK). Should put a little more padding for the rough handling in shipment. Same type construction etc. as previously purchased capacitors a month before the .95uf. It will be a while before get this one installed. Will update if find to be a disappointment.',\n",
              " \"I bought this for my Garmin Nuvi 50 LM GPS.  I have a 5 inch screen and this case is perfect for it.  The GPS device fits in the bottom part and there is a strap which holds it in place. There is a little extra room on the sides of the screen.  The bracket that you place on the GPS device to attach the suction cup is on my device.  Because this bracket sticks out a bit, I need to place the screen facing down, facing the exterior of the case. There is an interior mesh pocket that holds the cords for your device.  You have to place the cord in just right so the bulky part of the car charger is on the side of the GPS screen.  Otherwise, it would be hard to zip shut.  But that also makes the case slim enough so it's not too bulky. The other cord that you use for computer downloads also fits in the mesh pocket.  Obviously the suction cup will not fit in the case, but you could always leave that in your car or pack that someplace else when using a rental. I don't even need to use the suction cup when driving my car.  And the case is somewhat hard which will offer some protection to the GPS screen. I love the purple color as well.  Glad I decided on this case and I think you'll be happy with it too.\",\n",
              " 'The silicone sleve is hard to beat for the price. i bought this for my husband and he could wear the arm band on his wrist so that was disappointing, we used another arm band so he can wear this to the gym. We should have just got the protective skin for the fuze.',\n",
              " \"I don't understand why this product says it will work with a Nook Color. It fit into my Nook, but would not charge the device. It was a waste of my time and money. Someone needs to change the description of the product for it to state what device it will actually charge, not what it happens to fit.\",\n",
              " 'just as listed. nice holder for the pill speaker',\n",
              " 'Great battery and car charger..It fit my UV-5R without any modification ..The car charger fits perfect in the charging port on the top side of the battery..I am 100% happy with this purchase...I bought two of them and they were shipped fast and i received them in two days..Came shipped in plain wrapper not in box as advertised in photo...Is not packed in retail package..',\n",
              " 'Well, the product is as expected.',\n",
              " 'Very good, just as advertised',\n",
              " 'Controllers do NOT have a DC jack as pictured. Just a pigtail ending in two wires. Have not had a chance to test functionality as it will require additional wiring',\n",
              " 'And heavy. Yet it still slides. Nothing \\\\\\\\\"Mini\\\\\\\\\" about it.<br /><br />The base is taller than expected and makes the Nuvi too high on the dashboard, blocking vision of the windshield more than the original mount. Also the bracket is very tight and hard to get the Nuvi in and out of. I worry that I will break the Garmin screen.',\n",
              " 'This is a cool product. I buy this product alot but not from this provider. I think I bought this 7 or plus months ago and still have two more. I like to use the mirror so I can put my contacts on. My friends ask me if its a privacy screen well it kinda is because nobody can see what your doing. In the sun light iis kinda hard to see the screen. The screen protector is thick and I love it, you can have deep scratches and it doesnt scratch your screen.',\n",
              " \"I bought this case because I wanted something that would protect my iPod while it bounces around in my purse all day and, considering the price, I was not disappointed with this one. I liked that the cover could be snapped down so it doesn't come open when it's in my bag and that it could be flipped over backwards and snapped to hold the iPod like an easel for watching videos.  The cover works well in that it has not spontaneously opened in my bag even once but I'm not sure how well the easel feature would work for watching movies on any kind of public transportation.  It does hold the iPod upright but it's not terribly sturdy and I imagine it would fall over if there were any turbulence, bumps, etc.  <br /> <br />The screen looks pretty good but it did take me about half a day to figure out that there is a protective plastic adhesive covering on BOTH the outside AND the inside of the screen.  The inside covering is also a bit difficult to remove since the leather is stiff and there isn't much room to get your fingers in there.  I agree with previous reviewers about how easily the screen cover scratches.  A fingernail will easily gouge a large scratch in it so I have to be careful when cleaning it.  However, since the screen cover is protected by the leather flap most of the time, mine hasn't gotten scratched much at all in the 2 months I've had it.   <br /> <br />The only truly disappointing thing about this case was the color.  I got it in green and it turned out to be a darker shade than I expected from the photos. I thought it would be a kind of day-glo green and it turned out to be more of an old lady chartreuse.  Regardless of my disappointment with the color, I would probably buy this product again if I needed another case.  It's inexpensive and I like the style.  I'd probably just get it in black next time :o).\",\n",
              " \"Got it cut @ the Honda Dealership for free, no problem opening it and putting in the buttons from my old key. Did have some difficulty getting the RFID chip out of my old key though. Had to pry it out with a tiny screwdriver. But other than that, I'm satisfied. At least so far\",\n",
              " 'Items came in great shape...looked exactly like they did online.  Brightness of the colors and all.  Fit the iPod snugly.',\n",
              " \"I don't know a lot about car audio but I've just started installing my first car system and this is a nice stereo and suites my needs very well no complaints\",\n",
              " \"I only bought this because it was cheap and I didn't want to invest what it would cost for one purchased from Apple. Also since my nano has been updated I couldn't find the right size in the stores anymore. The quality isn't top notch, but it does what I purchased it to do. For the cost you can't go wrong.\",\n",
              " 'Be cautious to consider buying this product.  The device is loud, in that it has a fan inside and this fan runs all the time.    The product gets hot within a few minutes and remains hot while in use.      So hot in fact that one may worry that it is overheating.  In addition, the net battery recharge gain to a regular Dell laptop in terms of recharging a battery while driving is nominal.      One thirty minute drive/charge yielded less than thirty minutes of renewed battery.      Obivously, in an emergency or to convert a cars dc to ac for use while driving; this device works.      It is not a very successful converter.  Sorry to have to be unsupportive, but hopefully the manufacturer will upgrade the product.',\n",
              " 'Great product at a great price. This was the best deal I could find and I love this case. The extra charger and the light were just additional perks.',\n",
              " \"It was plugged in for two days and didn't charge at all it was frustrating checking to see if it was charging only to find out it hadn't :(\",\n",
              " 'Nice looking cover and great protection for my Kindle Fire. Well constructed and would definitely recommend this product for the peace of mind it affords you.',\n",
              " 'This is a nice solid case to hold my Nano.  The case is longer than the Nano so it slips down into it but it is definitely cushioned from damage in it.  The side zippered compartment that holds the headphones is good.  The case is big enough not to get lost ina a purse or travel bag, affording quick access to it, but not to large to be a problem.',\n",
              " \"I blame myself for being in a hurry and not checking further to compare prices.  Everything here is as described and seems to work well.<br /><br />The radio seems to get decent reception and sounds good with the standard over the head earphones.<br />It is slider tuning, which can be annoying and difficult at times. Not bad if you listen to mainly one station, but likely not what you want if you like to change stations a lot.<br />The tuning control nob is decently stiff (and recessed) so once you find your station it shouldn't move off of it too easily<br /><br />The Active Ear loop headphones work well and stay in place without being jammed in you ear!<br /><br />The only thing really &#34;wrong&#34; is that I paid $40 for this combo.  You can get the SAME radio for $15-20 and the loop headphones for $15-20.  So, I could have purchased the same setup for $10 less.  Certainly not the most I've overpaid for an item, but still annoying.<br /><br />One reviewer mentioned  the Active Ear headphones were included at &#34;no extra cost&#34;. I assume they got it a much lower price.  IF they were included with the radio at the normal $15-20 price it would have been a great 5-star value.\",\n",
              " 'Bought this for my daughter and she loves it. Great value for the money, small and compact so you can put it anywhere.',\n",
              " 'Compact and light and an excellent backup charger for the iPad and iPhone . I used it on my last trip and did not have to worry about running out of battery. Highly recommend.',\n",
              " 'A must to cut down on glare if you are reading in a lot of light.  Sees to work well.',\n",
              " \"I ordered 3 cables for my Iphone 3GS.  2 worked and 1 did not.  It is not worth the effort to return the cable so I'll simply complain here.\",\n",
              " \"On the ipod touch it says that charging is not supported with this accessory. I bought it so it would charge while I was listening to music. Now when I'm done I have to charge my ipod. Please change the info so no one else buys this product that has an ipod touch. The sound quality is good, just the charging problem.\",\n",
              " \"I ordered this on a Friday and received it on the following Monday. Fast shipping.     I have used this to charge my iPhone 4, iPod 4th gen and iPhone 3Gs and still have battery power left. The device is small enough and light enough to throw into a purse or backpack or even carry in the cargo pocket of your pants.   This device will NOT charge an iPad so keep that in mind if you're looking for an all in one battery pack for your iOS devices.     The reason that I gave the battery 4 stars and not 5 is that the power button is a button and not a switch. The button has to be held for a couple of seconds before turning the pack on but it seems as though it could be activated accidentally in a purse or backpack.     The battery pack charged up quickly and it comes with two tips for blackberry and android phones. You need to use your USB cable in order to charge the iPhone but I feel this is superior than a clip on battery back due to it being less stressful on the phone connector.\",\n",
              " 'I have stated before in the view best bargain on Amazon love it sounds as good as my over priced stereo! Radio works well. Ordering 2 more one for fishing other for my son who wants the one I just got. fast to arrive as well. Great service and easy to use. plays MP# 4 and has great sound. I used my usb thumb drive sound great charging now cuz i was listening to music for 7 hours before the first charge!!',\n",
              " \"Everything mentioned here is after approx. 30 days of use, collectively, a generous time approximation, I'm sure it was less than that. I used this at work, clipped it to my collar, it was not abused at all, there's no reason why it shouldn't work properly and after such a short period of time.    Battery life: Horrible, less than 3hrs (after an all day charge).    Buttons: Worked improperly, or stopped working completely!    Adding Music: Trying to put music on the player proved to be very difficult, I was able to use an existing program on my computer to sync music to it, pain in the backside.    I strongly recommend paying a little more for something reputable, this is not worth its price.\",\n",
              " \"I really can't compare quality to other products, but the case is very nice and protects all areas of the Ipod.  The arm band is also nice.  Chargers are made in China and look cheaply made, but the wall charger works.  I haven't tried the car charger yet.  When I first plugged my Ipod into the wall charger, I got an error message saying that this was not a compatible accessory.  I powered the Ipod off and on again and the charger worked fine.  The only complaint I had with this purchase was the condition of screen protector upon receipt.  All of the items come in the same package, a padded plastic envelope and the screen protector had some deep scratches on it, probably from shipping/handling.  So I did not end up using the screen protector for that reason, but it was a quality product.  Regardless, you can't beat this accessory bundle for the price.\",\n",
              " \"I just want to start off by saying that I use a 64-bit laptop for work and have the full and latest version of techstream. Having tried the mongoose cable at work, I found that doing anything on the techstream with my laptop worked so much faster than using the actual Toughbook we have that its sole purpose is to be a techstream laptop. With that said, I chose and bought this cable(because I couldn't justify $400 on a real cable) which supposedly had everything you needed in the mini install disc but does not have the firmware update tool(will not find anywhere online) I've been seeing on these forums on &#34;how to manually install the drivers on 64-bit systems&#34;(BS by the way). Worst decision I've made in a long time purchasing this cable. Don't waste your money and don't waste your TIME like I did trying to get this thing to work! Might save up for my own personal mongoose cable after all.\",\n",
              " 'lens fogs due to water geting into the housing of the camera.',\n",
              " 'The MP3 player is fine it works it is small and I like it.  However there should be a written direction manual instead of the on line book that was hard to find o line.. The BlueProton micro drive has no directions, I could not find any on line either. So it will not be used. Directions are needed.  Please supply a link to these instructions.<br />When I download music from my computer the MP3 player always downloads multiple copies of the same song.',\n",
              " 'After decades I am still in love with Hello Kitty merchandise. Very well made. A delightful design. Enjoy! Thank you!',\n",
              " 'I purchased this to replace the Blue H2O waterproof headphones that I used to have.  Sound is NOT as good as the Blue ones.  I bought these because they have volume control and microphone that I needed for my iphone.  These are also not under-waterproof, as Im sure the microphone outlet would take on water.  Overall ok, but if you dont need the mic I would recommend the blue headphones instead.',\n",
              " \"This iPod Touch case was really affordable and its a decent quality shiny plastic case. It cost way less than in any stores I've seen. Not to mention it looks really cute!\",\n",
              " 'this works as great protection for the iPod touch-  my kids have them on thier iPods and seems to protect them very well.',\n",
              " 'Bought this from seller as my cassette adapter was continuously ejecting itself.  Found the right station and this thing works like a dream',\n",
              " 'Look great',\n",
              " \"It took me a while to decide whether or not to buy this little piece. but I wanted more control on my system since I'm using the factory stereo on my 2011 Civic Si and what a great idea, now I can give more bass to those songs that don't have much.<br />The installation was easy I just had to pop the cover underneath the steering wheel installed from behind and whoala!! it Looks like a professional installation. I would recommend this to anyone using a full Kicker system.. you can't go wrong!!!\",\n",
              " \"The sound quality on the AR5100 is absolutely AMAZING.  I wasn't able to find anything that matched the sound quality, offered the ability to wall mount and was priced around the $110 - $150 range.  I'd only wish that it included a CD player and radio.\",\n",
              " \"I was a bit concerned when this item arrived, as it looked like it was professionally packaged, but the product instructions were a bit haphazard in their command of the English language, and  I was worried I had bought a foreign knock off.  That being said, the directions for charging, powering, and pairing the device were still simple and straightforward.  I plugged in the cassette adapter overnight to charge, and in the morning, it paired right up, super easy!<br /><br />The sound quality is great - I have a 2003 Super Duty, and I haven't wanted to spend the money to upgrade the deck, and I'm sick of the cables being tied to my phone (not to mention I have a micro-stereo and not a regular stereo connection on my phone), and always getting in the way.  I popped it in the deck and it worked great.  All the trucks speakers have great sound - the only thing I'll probably forget to do one day is turn it off when I get out of the truck.  But, it also came with a cigarette lighter USB adapter, so if that happens, I can charge while driving.<br /><br />All in all, I'm happy and love it!\",\n",
              " 'It fits my Scytec 2 Way Remote. This fits snug. This will protect your 2 way remote from any scratches, or if you drop it.',\n",
              " \"Great product, can't go wrong with this item. Got it here pretty fast too. Have to keep the kids from peeling it off.\",\n",
              " 'good job',\n",
              " 'OK for what it does.  Bought it to dash mount my Garmin GPS suction cup mount.  The suction cup mount occasionally falls off the windshield - even after cleaning the suction cup and the windshield.  The suction cup mount still loses suction and falls off the beanbag plate - even after cleaning the suction cup and the beanbag plate. I could get another suction cup mount, but I think all suction cup mounts are the same - old or new.',\n",
              " 'Great for those RC projects I am always working on, allows sensor monitoring from ground station, and video to see what is going on with flight, in the park or around the neighborhood.',\n",
              " \"I enjoy music but I am not an audio expert, when another opportunity to review this speaker came along I was excited to try it and share my opinions. Please let me know if you have any questions.<br /><br />Pairing:<br />This speaker paired with my Galaxy S5, iPad & iPhones all quickly and easy! The voice prompts were kind of funny but this was easy to use and I didn't read the instructions.<br /><br />Charging:<br />It charged in less than two hours and seems to last a long time. I have used it numerous times since the first charge so I am quite pleased with that.<br /><br />Powering on:<br />A voice lets  you know it is turning on, kind of funny but it is an easy process<br /><br />Look:<br />This speaker looks modern and sleek.<br /><br />Sound:<br />I am not an audiophile expert but I have tried many different headphones and portable over the years so have experience with both good and bad sounding ones.<br /><br />I have found these speaker to sound surprisingly good.  The volume is excellent and without significant distortion.  I am impressed at the quality of sound this delivers. I didn't experience any static or dropping of Bluetooth as some other reviewer indicated.<br /><br />Package contents were:<br />Aukey MUSE Speaker<br />USB Cable<br />Auxiliary cable<br />Instructions<br /><br />Pros:<br />Cost - It is a reasonably priced unit for the level of performance it delivers.<br /><br />Cons:<br />I can't think of anything I would change other than possibly the voice<br /><br />Overall:<br />I am pleased with this speaker and would recommend these as a good sounding speaker with long lasting battery that can be used in many places.\",\n",
              " \"It 's working very good so far. However I like it a lot. Thank you for selling this.\",\n",
              " \"The plug (adapter) is  not the proper amperage and therefore it will take 5+ hours to charge your phone.      The clips on the sides of the wire are static and don't bend in to make a smooth in and out connection to your iphone.  I'm afraid that if you aren't careful, you will rip your iphone apart trying to unplug it.    Do not buy.\",\n",
              " \"Cheaper to buy than to ship but it gets the job done for sure! I had to super glue one the of the velcro pieces back on after a couple weeks, but not a biggie considering the price I paid.  If you're simply looking for something to hold your nano on while you exercise, this is it.\",\n",
              " 'The item came quite late, I had almost forgotten about it.  I finally opened it 3 weeks after receiving the item.  The item is quite flimsy, a bit on the cheap side, very \\\\\\\\\"plasticy\\\\\\\\\", but it functions relatively well except for night recording.  Light sensitivity at night isn\\'t that good at all.  But during the day, the \\\\\\\\\"HD\\\\\\\\\" works well.  It appears I can loop the the recording with setting after 1 min, 2 min, 3 min.  Before with my 2G memory micro card, it was filled up after 10 minutes.  Now their are multiple files a minute long and I will assume that it recycles the first recorded file after a certain number of files or memory limit.  I haven\\'t had time to look at all the files yet to see how they designed it as I don\\'t have a card reader yet though I can play the files on the tiny 1.5\\\\\\\\\" screen.  The issue I have is the power chord is a mini usb as recent designs are micro usb, and the power chord hangs down my windshield.  Of course, with the glass mount, people would think I have a radar detector or GPS maping unit and they may break into my car.  I think this could have been priced about $30 instead.<br /><br />Overall.. It works.  It is fun to see my car moving, streets, etc... it\\'s actually nice.  In Massachusetts, drivers are so so so arrogant, cocky and idiots going into rotaries (and not limited).  With this, I can send a file to the police and tell them to ticket them.  It is a video capture of the incident... (only if I get really really pissed!).<br /><br />I have $2006K miles on my Toyota Rav4 2001.  Finally, regular things are breaking and that needs my attention and I\\'m relying<br />on Youtube to show me how to fix it.  But the car runs so so so so well after fixing a random issue by trying this and that.  If any Toyota people that has this issue with hesitation on low speeds, it is the MAFF, clean it or take it apart/replace it.<br />I love this car so I\\'m buying little toys like this camera besides a new BT/HD radio.  I only bought new toys for thecar because I fixed the hesitation problem and I feel this car will run another 100K miles.  (I also have a 2012 Honda Odyssey).',\n",
              " 'it failed in the first 10 minutes.  Had to return it.',\n",
              " \"I ordered 2 of these thinking that they wouldn't last long because of past experience with other similar products. Either way good to have a back up if i need it, but these are very durable especially for considering how inexpensive they are. GREAT BUY!\",\n",
              " \"I am a student in texas and i purchased this enclosure when circuit city was going down. Well the subs where quality, but i bought a cheap amp off amazon. it was a thousand watts but it was a 4 channel. Every single day the amp over heated, until a few weeks ago the amp actually blew. Now for those days i rocked a piece of crap amp and these subs where the best i had ever owned. Before these i owned two ten SPL's. But now i have the MTX JH600 AMP and these sound a lot better than i thought they would. I definately enjoy havin these in my car, and they surprisingly fit in my camry, imagine how loud that is in a small car like that. But in conclusion, these subs are good. JACK HAMMER has no definition, you just have to hear them for yourself\",\n",
              " \"I can't say enough about this product. It saved the day when the other guy clearly ran the red light, but reported a different story to his insurance. Everyone who has a car should have one.\",\n",
              " \"Love this a lot. is use this every time I go in the shower or take a bath. It's loud and clear and plays music just how I like it. I love to sing in the shower and this just helps me get my morning started and brings joy to my day believe it or not haha. I also love the water resistant because I accidentally dropped it in the water and still worked just as perfect\",\n",
              " 'It is absolutely perfect. It was exactly what I was looking for. I would definately buy from this seller again.',\n",
              " 'Very useful if your device audio-out is fubar. Just helped my ex to connect her phone to the car again.',\n",
              " \"I love this case. It's sturdy, has some storage space, and does exactly what it should. Well-built and easy to use.\",\n",
              " 'Like many online shoppers, I frequently choose my purchase according to the reviews. That being said...you can quit searching. This is a great transmitter. Looks great, easy to install, and works like a charm. We drove to the mountains on vacation and had zero problems with static or poor reception. I hope this helps save someone time searching for the \\\\\\\\\"best\\\\\\\\\" product.',\n",
              " 'The sound is great.  The dual zone option is great.  But you will not be able so use your apps from your iPhone if it is a 5 or higher.  Still a great system and would recommend',\n",
              " \"This small little Bluetooth speaker fits in the palm of my hand and looks really cool. The bass on this thing is ridiculous for it's size. The volume can go very high and I can hear it clear from across the house when I turn it up all the way. It does not crackle, or hum, there is no static or interference. Is Bluetooth speaker also comes with an audio cables so I can connected directly to any of my devices if I feel like it including laptop if I want the sound to be louder it simply plugs into the audio jack on the speaker and into the headphone jack onto the device. It has a slot for a scan disk if you want to listen to music off of one as well. It fits right in a purse and I can take it anywhere! Music at the beach, the park, on a hike, camping, even if your car stereo is broken you can listen to it in your car. The battery life lasts a pretty long time I have yet to have it die on me before I charge it up, and that's another great thing you can use it while it charges. These are absolutely my very own honest opinions after having received and tried this product at a discounted rate in exchange for an unbiased and honest review.\",\n",
              " \"I bought this capacitor version G1W after I returned my previous G1W battery version. In battery version every time when I start my car I have to reset the date because it goes back to 01/01/2000 so basically battery was low standard and after couple of weeks of usage battery started discharging within an hour after turning off the camera and as a result camera's date time stamp goes back to original factory setting (01/01/2000). After doing some search decided to go for this one with capacitor instead of battery and I  setup the date time only once and I never had to do the setup again. Picture quality is same as the previous G1W. Overall price is higher for G1W with capacitor but I bought this in very good price $51 from this supplier. So far I am happy with this camera.<br />The only drawback is that you cannot operate this camera when it is not hooked up with the power.\",\n",
              " \"Overall it was a good combo and it works nicely. My only problems are that you have you turn the bass control all the way down when before you take the key put of the Ignition otherwise there's an annoying feedback sound, and the power wired is kinda small but it runs the amp, if you got anything bigger you would have to replace it because the wire can only handle 600 watts max. One last thing it says its an 800 watt amp but its not it's more like 250watts amp.\",\n",
              " 'Good hardware, good FM reception, great user interface on the iphone 4. Remember to download the ifm app from itunes first.',\n",
              " \"They sent the wrong car adaptor - can't use a square end in a round hole. Returned over a month ago - still havent seen credit on my credit card.\",\n",
              " 'very quick delivery first off. Second, this speaker has out done my expectations for it. its most definitely worth $16, its probably worth $40. the sound quality is amazing, it puts out enough bass to vibrate my entire table and has a perfect treble level as well. im pretty blown away by how great this speaker is.',\n",
              " 'Just junk. No instructions. Comes set to Russian and every time you power cycle it reverts back to Russian. Picture is pretty poor not HD for sure. You get what you pay for.',\n",
              " 'I first reviewed this product and gave it 5 stars.  Now I have no choice but to give it 1 star.  When I plug my phone in, the charging indicator pops up on my phone, but upon further inspection, charging indicator or not, the phone is slowly draining power.  I confirmed this when my phone was low on power, died while charging, and was not able to generate enough of a charge to restart.  I am attempting to charge a single Galaxy Nexus phone.<br /><br />UPDATE:  I have again revised my review from 1 star to 3 to reflect a more neutral total experience.  Although this item did not work for me, I received an automated email from the seller I bought my charger from(Kellys Computer) nearly a month after my purchase asking If I was happy with my purchase to leave positive feedback.  I replied that the charger was not working for my phone and was was promptly replied to on a Sunday night and promised a refund in the morning.',\n",
              " 'The install kit was a little less sturdy than the factory original, but once all the control components were movded to the new adapter, all went well!',\n",
              " 'Worked as advertised.  I had to rig it up on the top of my stem on my tri-bike, but it does the trick.  Keeps my Garmin where I can see it instead of on my wrist.',\n",
              " 'Item charges perfectly but when plugged in, the phone is not usable. If you try to use the phone while it is connected, it jumps around and selects different things constantly, like it has a short. If all you are looking for is a charger, there are no problems with that aspect. Item is being used on an iPhone 4 with the newest OS (4.3).',\n",
              " \"I was not expecting such a large, let alone clear sound from this little thing. It's a great deal and a good product.\",\n",
              " 'I was so excited to finally get the mini space heater<br />It only gave mini mini heat,<br />I am so unhappy with this product will be returning it<br />I want my monies back also.',\n",
              " \"I would not recommend that you buy this player for the original list price of $42.  I found mine for $5--a great deal for someone like me who doesn't want all the fanciness and frufu that comes with most players.  I just wanted to hear my music and have something little to carry.  I got this item yesterday, and so far, it is working.  There are five simple buttons: Play/pause, forward, backward, + and - for volume.  To turn this item on, hold down the Play/pause button (same to turn it off).  There is a little light that blinks when music is playing and stays steady when music is not playing.  This player is run on battery power (AAA) and cannot be charged through the computer.  It plugs right into the computer to get music and also comes with a cord that can also be used.  No screen at all, and the music plays in the order you load it onto the player.  Is advertised to hold 240 songs.<br />For a cheap price, this is a great little player.<br /><br />Three months later: Still working great!  Very easy to use and install music on.  Fantastic quality.  A+++\",\n",
              " \"Great subwoofer I upgraded from the Rockford fosgate p2 and will be getting another sa 12. I ran the 1 at 1 ohm pushing a hifonics Zeus zrx 1000.1d takes it like a champ! I have a 4 cube ft ported box tuned at 32 hz that I'm sure will be ridiculously loud. Great woofer for the money will not let you down!\",\n",
              " \"I like this cover for my Sansa MP3 player.  It fits perfectly and you can still access the buttons/features.  I haven't dropped my player but if I did, I would feel better about it having protection from this cover.  Would buy it again-\",\n",
              " 'A fabulous radio, high-resolution<br />images. very good quality of its components<br />and accessories, the only bad thing is that this model<br />does not bring remote control.',\n",
              " 'This product arrived two weeks before the promised date and is perfect. Having fallen and broken the clip on my two way radio I needed a way to carry it.This is perfect.',\n",
              " \"You get what you pay for.  This is a knock off of the iFrogz cases, and it's pretty junky.  Only cost me $10 total, but I should have just got a decent one for a little more.  Don't waste your money on this.  Didn't fit well, gave it away the day I got it and ordered an iFrogz case like I have for my iPhone that I'm very happy with.  If I could rate it no stars I would.\",\n",
              " 'THE BEST PRODUCT I HAVE EVER OWNED. ALLOWS THE SINGLE FISHERMAN, TROLLING, THE ABILITY FOR THE VESSLE TO TRACK STRAIGHT, OR IN A PRESET COURSE, OR A COUPLE OF FACTORY PRESET COURSES. I ACTUALLY HAD THIS ON A 22\\' OPEN AND ALLOWED ME TO SET A STRAIGHT LINE FOR TROLLING AND GO TO THE BACK OF THE BOAT AND SET THE RIGS WITHOUT THE BOAT TURNING AND CROSSING LINES. iT HAS A LANYARD THAT YOU HANG FROM YOUR NECK WITH THE REMOTE CONTROL. AND, YOU CAN EVEN CONTROL THE DIRECTION FROM THE BACK OF THE BOAT WHEN IN A TRACK. THE PEOPLE WHO WROTE THE OTHER REVIEWS HAVE HAD SOME NIGHTMARE INSTALLATION, OR, DID NOT SET THE LEARN UP PROPERLY. I AM GOING TO PUT THIS ON MY 23\\' WALK AROUND NOW. IF YOU ALREADY OWN THE \\\\\\\\\"C\\\\\\\\\" SYSTEM FROM RAYMARINE, THIS IS PLUG AND PLAY FOR THE ELECTRONIC CONTROLLER AND A SIMPLE INSTALLATION FOR THE SEA STAR HYDRAULIC SYSTEM - BLEED IT PROPERLY.',\n",
              " 'This product is good for the price, performance fluctuates according to your location, but overall good for price. Remote came with battery and stuff to which I was supprised.',\n",
              " 'Cables work great! No issues. Great price too.',\n",
              " \"This is the only cord I found that allows my kids to play their music (from their phones or iPods) while they're in the back seat with plenty of slack on the line. Excellent!\",\n",
              " 'remote could work better hard to connect to dock. sighned b. dale',\n",
              " 'This box looks to be strong and really impressive.  But as we all know looks are not everything.  I found this box to hit pretty hard but I would not put it in the same category as a probox.  Altho ugh it does look like one. My biggest issue is the fact the back piece of wood that is used directly behind the sub is only 1/4 of an inch there by causing your subs to rattle and sound not so good when it is cranked up. To solve this problem I cut out the 1/4 inch piece and put a 1/2 inch piece of mdf on it and sealed the with caulk. Then I re sprayed with bed liner spray and now it sounds amazing.  I think the product is good but could be better.  If they would put half inch mdf instead of quarter inch. It makes all the difference in the world. I would buy product again but next time I would just know to replace that piece on both sides before installing.',\n",
              " \"Ok product! Need to make updates to recognize all addresses that are plugged into it. Doesn't spot all weight scales as your approaching them\",\n",
              " 'It does not fit 3rd generation iPod - the button and openings are on the wrong side. I was so disappointed and just gave it away.',\n",
              " 'AWESOME',\n",
              " 'Outstanding amazing you have to buy this item its really loud and at the price you get it for its really worth it I love this mini speaker.',\n",
              " \"It said that this item would work with my iPhone 4 and that turned out not to be true. I never had a chance to use it but for the price I paid I can't really complain\",\n",
              " 'I have to agree with the one-star reviews. I spent a lot of time loading music and even more time trying unsuccessfully to make it play. Look elsewhere!',\n",
              " 'I love it, no need for line of sight, A bit finicky with ipod touch 3rd gen, once the unit is in sleep mode, to wake it, you need to turn on the ipod',\n",
              " 'I found the cradle by Akron to be very well built. Since I already had the Griffin Technologies iTrip FM transmitter, all I needed was a good dock/charger for my car and this did the trick!',\n",
              " \"Purchased one for wife's car. I liked the product and got another one for my own car.\",\n",
              " 'I should have heeded the other reviews about the remote not working. I bought this thing 2/7 and will be throwing it away on 4/8. The remote has quit working for the second time. Even when I turn the sound on the Ipod up or down there is no response from the output. It stays at the same level.The output cable has a horrible crackle when I touch it. The only reason I gave it 1 star was because I had to. Do yourself a favor and keep shopping!',\n",
              " \"This Mocreo Wireless Portable Bluetooth Transmitter is super easy to use. Mine came with the internal battery charged and ready to go. Other Bluetooth transmitters I've used require a 2-step pairing procedure. With the Mocreo Bluetooth transmitter all you do is slide the power switch to the On position. The transmitter pairs and then streams your audio automatically.<br />Compared to other Portable Bluetooth transmitters in its' price range the Mocreo offers some real advantages:<br />1. One step pair and play.<br />2. Fairly sturdy with a grippy bottom to keep it in place in your car.<br />3. Has 3.5mm audio connector port rather than flimsy wired 3.5mm audio jack.<br />4. Comes with 3 foot long 3.5mm audio patch cord.\",\n",
              " \"Generally not a reviewer, but after struggling with two similar products, the splash Masque proved itself far and away a superior screen protector.      There's a few reasons for this:  1. Application was easy using a three-part application process to minimize the chance of getting fingerprints on the adhesive side of the film.  The best films seem to employ this system  2.  The film itself appears to be a higher-quality, slightly thicker film  3.  Three films are included, giving you the opportunity to make a mistake    One suggestion for applying these screen protectors - keep a can of compressed gas air duster nearby.  Clear the surface of the phone with a quick blast of air immediately before applying the film so ensure no dust or lint is on the surface.  If after exposing the adhesive side of the film you notice a speck of dust, a quick blast of compressed air will generally remove it, and you won't need to touch the film.\",\n",
              " \"This battery is great.  I use it to charge my droid x during my shift.  No problem lasting 8 hours even when i don't have a good signal.  I highly recommend.\",\n",
              " \"eforcity 4.3&#34; case works. What can't you like for  20 cents.Does what it is supposed to do. Put my Garmin in it.\",\n",
              " 'Doesnt work. i ordered it and put it in my car because the hyundai model said I needed this specific typr of cord. but ofr some reason it doesnt work',\n",
              " 'Bought this a few months ago and I like it. It does provide good protection and would recommend to people.',\n",
              " \"Bought this for a Kindle Fire HD.  It is a big improvement over the internal speakers, with a nice sound.  I was hoping for a bit more amplification, as the Kindle's volume is pretty low.  The speakers are a bit louder, but don't expect room filling sound.  Neat collapsible design, with a handy bag doesn't take up much room.\",\n",
              " \"So just got one of these (refurbished) and installed in my 2011 Sienna.  I chose Valor because of the USB access and the good reviews of the smaller unit on Amazon.  I'm pleasantly surprised on how well it works.  I had contacted Valor support in regards to the USB functionality and they told me it could play AVI and other media files, but could only handle a 2gb capacity flash drive.  Kinda a bummer because I wanted to fit more movies.  Low and behold I plugged in a 16gb flash drive and it worked flawlessly!  Awesome, that means I could fit close to thirty movies at 600mb a piece.  For the price and functionality this system is great.  My only gripes are the picture isn't the best and the menu options are a little anorexic.  When the installers found out how much I got it for, they said it was a great deal.\",\n",
              " \"Nice feel and fit. exceptional price. auto parts stores didn't have these and Radio Shack was way more expensive. I'm glad iPodCarParts sells these things!\",\n",
              " 'Nice item. I use it in my 441s.  Bring the GPS unit to life. Great graphic and a lot of info.',\n",
              " 'I installed this in my Mazda MX-5 quickly and easily.<br />Just clicked it into the back of the head unit, secured it to the inside of the dash and Voila.<br /><br />Instantly charging my iPhone and playing music through the AUX input.<br /><br />It is fantastic having this new functionality in the car, literally 15-20 mins and that was it.<br /><br />Highly recommended',\n",
              " \"Works as promised and doesn't come out. I only put it in my tennis shoes because it doesn't work on my shoes without laces.\",\n",
              " 'when i bought my walkman, at best buy, all of these access cost alot more than the walk man!!!waited awhile, all the goodies, for 5 cents on a dollar .. retail! omg  treat your walkman to al lthe  toys.. Now i use all the time!!! oh amazon prime, while your at it.. best79 dollars.. i ever spent!  Rockin Rob',\n",
              " \"I don't have a Bluetooth stereo in my car, so I had been tolerating the terrible audio quality from the headphone jack of my Note 4 for the past few months and had been looking for a high capacity non-Apple audio player.  I saw a couple of reviews of the X1 on YouTube and decided to give it a try.<br /><br />Let me first say that the sound quality is AMAZING!!  The headphone jack also serves as a line-level output if you need to feed it into an amplifier.  Just don't connect headphones while it's set up for line-level or you'll destroy your ears.  In headphone mode, this little player still puts out a lot of volume.  Upgrading the firmware was pretty simple, and the interface is nice once you get the hang of it.<br /><br />The X1 comes with a micro USB cable and a black rubber shell which covers the micro SD slot but doesn’t block the USB port.<br /><br />It will supposedly work with in-line headphone controls.  I don't have headphones with in-line controls, so I couldn't test it.<br /><br />The bad'ish:<br /><br />The instructions which come with it are pretty useless.  You'll probably need to do a few searches in order to figure out a few things.<br /><br />You can make playlists on the player itself, but the process of importing playlists took a bit of trial and error.<br /><br />The scroll wheel needs to be faster.  Scrolling through a large catalog of artists takes longer than is should.  You can, however, scroll backwards alphabetically, which is nice.<br /><br />At this time, I'm using a 128gb micro SD and the &#34;update library&#34; function stops at 5800 files.  This means the listings in the &#34;Category&#34; section will be incomplete (Artist, Album, Song, etc...).  However, if your library is alphabetized by artist on the memory card, then you can access all of your music using the player's file browser instead of going through the Category menu.  I actually prefer going through the file browser anyway and missed having that option with my iPod and other players.<br /><br />Is this player for everybody?  Probably not, at least not yet.  I'm sure a few more firmware updates will make this player more user friendly.  If you like the ability to click and drag your music onto the device and organize it however you see fit, and don't mind rolling up your sleeves to figure out a few things, then absolutely.<br /><br />Even with the several quirky things about this player, I give it 5 stars.<br /><br />UPDATE:<br /><br />I just received an email from Fiio stating that the player is currently limited to 5800 files in the &#34;category&#34; section and that they are fixing it in a firmware update.  Again, I don't access my files by using categories.  I prefer using the built-in file browser.'m sure a few more firmware updates will make this player more user friendly.  If you like the ability to click and drag your music onto the device and organize it however you see fit, and don't mind rolling up your sleeves to figure out a few things, then absolutely.  Even with the several quirky things about this player, I give it 5 stars.  UPDATE:  I just received an email from Fiio stating that the player is currently limited to 5800 files in the &#34;category&#34; section and that they are fixing it in a firmware update.  Again, I don't access my files by using categories.  I prefer using the built-in file browser.\",\n",
              " \"There were two problems with the Fotga Mini VCI cable, probably best to steer clear of this supplier.  First, the CD that was provided contained a corrupted zip file, thus it was unreadable.  Second, the cable is a poor clone of the X-Horse cable.  It has an old firmware version that prevents it from being used to read certain ECU's (e.g., the Engine ECU) and / or customize certain options.  If you need full functionality then look for a better clone that has the latest firmware (2.0.4 or later).  This one will be going back to Amazon.\",\n",
              " 'So Far Awesome Thanks Guys',\n",
              " 'Well a footrest is a footrest is a footrest...! After saying that it is better than I thought it would be. I thought it would end up breaking easily, but it has been holding up rather well. It has decent adjustments to fit ones needs and comfort, but like others have said the lock in front get activated/deactivated by either a rolling chair, or by your own feet. If it was located to one side or the other , that would have been a better design. But it works well, worth the money.',\n",
              " 'My original Icom  HS98 mic died while i was actually using it. This is a great replacement mic although it incorporates more options than my radio actually has. Sound is the same quality as the original. W4JRO',\n",
              " 'good',\n",
              " 'SOUNDS GREAT JUST THE BOX HAD A DAMAGE PIECE ON THE BOX BUT I JUST KEPT IT',\n",
              " \"Retractable USB cable and Plug work great for the IPOD Nano. Haven't tried the car charger yet. What a deal - about 1/2 the price of just the plug from other manufacturers.\",\n",
              " 'very nice unit. More thaan met my expectations and was exactly as advertized. Very good value. Like the station preset feature and sound quality was very good. All in all a very good buy.',\n",
              " \"I wasn't happy with the extremely long shipping time, or the fact I had no tracking number to know when the product would be delivered. However that being said, now that they are here they are so much fun to watch while listening to music. They were a huge hit at the husband's office.\",\n",
              " 'The speaker arrived in a timely manner and packaged to protect it from transit abuse. It installed in less than a minute. Provides adequate sound quality for next to your bed to listen to music or a book. It is not intended to be used in an auditorium environment but more of a one-on-one listening device. Easily transported to another location. No power cord necessary. I would recommend this to others looking for an inexpensive, portable, blue-tooth speaker.',\n",
              " 'I love it and it came to me 3 days earlier',\n",
              " \"After using FM transmitters, tape adapters and other products to connect my Ipod to my Volvo's stereo, I can tell you this is the best. It's a tad pricey, but the sound is much better than any of the other products I tried.  PRO:  1-Great sound.  2-Charges Ipod.  3-Skip or replay songs from your steering wheel controls.  4-Ipod turns on when you start the car and off when you turn off key.  5-Can still control everything from you ipod.  6-You can connect an additional player through two RCA plugs (I connected my phone so I can hear the caller over the stereo, which makes the music stop, but it's done manually).     CON:  1-Price. (A bit over half the price of my ipod).    WARNING:  When installing unit in a Volvo, do not disconnect any cables (like the one to the air conditioning controller) that you don't have to disconnect. In my Volvo it threw a code for the air bags (which disables them) and I had to get a dealer to reset it (your regular code reader won't do it).\",\n",
              " 'It\\'s very frustrating for listening to long podcasts because:  * The play/pause/power button also has the ability to make player reset the current track to the beginning. This \\\\\\\\\"feature\\\\\\\\\" has caused me problems on several occasions.  * The play/pause/power button is also used for folder navigation, but it more often than not, it resets the current track to the beginning and/or turns off the player rather than jumping to the main directory.  * The resume function should work without having to hit pause first.  * The resume function doesn\\'t work when switching from music play to a different mode (such as listening to the radio).  * Holding down the rewind button jumps to beginning of track rather than rewinding.  * Attempts to pause or power off sometimes jumps to beginning of track.  * File sort order is not alphabetical.  * Track time display is different for files < 1 hour than files >= 1 hour.  * When reversing through the beginning of track B into the end of track A, the player properly continues rewinding, but the display hangs at the beginning of B.    After a while, it no longer powered on. They gave me an RMA. Trekstor took over three months to send me the replacement.    The new one ran into problems six months later:  * Holding down the forward button jumps to beginning of the next track rather than fast forwarding.  * I paused the player. By the time I went to resume, the auto-shutdown timer had done it\\'s job. The problem is, when I turned the device back on, the player was back at the beginning of the track rather than where it was when I hit pause.    I emailed several requests for a refund. Trekstor replied six months later saying that they\\'d only give me some other device rather than a refund because the product was (now) out of warranty.    I replied that the initial request was sent while the warranty was still valid and that I didn\\'t want another product from them. It\\'s been two months and they haven\\'t replied.',\n",
              " \"I purchased this many months ago for myself, and now for my Dad and sister.  What a great product.  I used to be out of power in 2 or 3 hours, now I can go all day long on my phone with one IMP500.  This product can't be beat in my opinion for the price.\",\n",
              " \"This is a great product except the charger doesn't seem to be 100% compatible with my iPhone.  Initially I had no problems but after a month the charger quit connecting.\",\n",
              " \"I love this case! It came super fast! I ordered it Friday and it came on Monday! The only complaint I have is it's a little hard to put into the docking system. But besides that I love it!\",\n",
              " \"I'm using it on a boat, so needed the 12v operation.  Only downside is that it has no memory for the position it was in when power is turned off, so even if it was on when main power is turned off, it will default to off when power to the unit is restored.  This would, of course, not be a problem if you are using it in a circuit where power is on to the remote receiver at all times and you don't intend to use another hard-wired switch, as an alternative, to control the same things.\",\n",
              " \"I really liked this product at first.  It's easy to slip on and off, and I can even stash a few dollar bills in the back to keep on me incase my blood sugar crashes mid-run and I need to stop and get something.  However, after using this product since May, the clip broke off.  I guess I can't complain too much, considering how cheap it was, but it is still disappointing.\",\n",
              " 'great service, 2nd time we have ordered this.  got to us in 3 days max',\n",
              " \"Case was ok. Did the job. Only thing I didn't like about it is the fact that it felt so fake. Compared to other leather cases I have seen/felt. So I tried this case: Apple iPod Touch 4G Carbon Fiber Top Flip Leather Case. It was a lot better :)\",\n",
              " 'The florescent bulbs came in a day early and was packaged very well and very easy to install. I love the blue neon color.',\n",
              " \"I've been 'making-do' without a dock extender, but when I got my Speck Candyshell case (which I love)... absolutely nothing fit anymore, lol.<br /><br />Broke down and bought this extender, and now my phone will dock to my car charger.  I suspect it will dock to everything now.<br /><br />iPhone users need this in their toolkit.\",\n",
              " 'Bought this case for my granddaughters ipod and we both were surpriced of how it looked and the protection it gave the ipod. Very good looking color and fit.',\n",
              " \"This product arrived as advertised and everything works great!  The only thing that I don't like is that the case doesn't have a clear plastic front to product the screen of the MP3 player.\",\n",
              " \"Hey my name is Leon and I'm from Trinidad, I bought this tacker two months ago and it works perfectly, it's small and easy to install and can be hidden anywhere. The pin-pointed accuracy is amazing and it works with any sim card carrier. In an event that your car gets stolen, or some other unfortunate event, you can 'call' the GPS sim card and hear all that's occurring inside the car and using Google maps, I can quickly get my car's location on my android device.\",\n",
              " 'Love this thing. Bought the long neck one first, would recommend this version because the first one broke where the flex cable meets the charger. Good solution for bluetooth audio with a conventional radio.',\n",
              " 'My grandson loves the clear crystal case. It not only protects the iPod Touch, but all the features are still accessible - including the charger.     The price was great also!',\n",
              " 'Just what I hoped it would be. It makes me laugh everytime I turn it on. Only good for a few minutes at a time, but a great novelty gift for someone who has everything. Wish it were wireless, though so I could move him away from sound source. It would be even better!',\n",
              " 'This is a very cheap extender.  It worked for the first week and then the plastic outside shell fell apart.  Spend the money on a better one, you will be thankful you did.',\n",
              " 'sounds very good',\n",
              " \"This case is truly beautiful! but the jewels come off very easily and once you put the case on its very hard to take off. only buy this for its beauty, don't buy it as an all around case because if it drops it will be ruined. and this case does not fit on most iHomes. it is beautiful but dont be fooled it breaks easily...\",\n",
              " 'this scrubber is way too hard to use for what you want it for. <br />i wanted it to sopt clean the couch and it does not pick up the water. i hate it and i am returning it tomorrow. <br />',\n",
              " 'Nice case for Nuvi--protects it without adding much bulk or weight, fits perfectly.  I just grab this compact case and take it to the car when I am headed out; that way if I need my Nuvi I have it.',\n",
              " \"These have a nice sound and cool design but couldn't handle a 50 watt amp.  If using with they Shark system I'm sure they will do what they say.  But using it outside of Shark, with a RMS rating these has to be only 25 watts at the most.\",\n",
              " 'Keeps the screen on my ipod from getting scratched. Installed in minutes and virtually invisible. Great price and well worth the investment.',\n",
              " 'I love this cover fits great looks good and easy to hold on to would defiantly recommend this product to anyone',\n",
              " 'I  like this It does what is advertised,',\n",
              " 'Very poor quality item. Does not fit the IPOD properly and tore apart after one month. Not recommended!!',\n",
              " 'I ordered this for my 17 year old daughter. She loves it. Shes had it several months and it still looks brand new. It was a little hard to snap on and in fact i was afraid that when i did snap it on i was going to break it. But, it went on fine and fit perfecty.',\n",
              " 'Okay, so I got this thing because it was a super cheap alternative to the iPod - I even called it my \\\\\\\\\"oPod\\\\\\\\\" (off-brand iPod).  I found, however, that I got what I paid for in this product.  Though it sports a list of features including MP3, MP4 player, FM radio, games, etc, the firmware on this product is junk.  The GUI (graphical user interface) is cluttered, slow, and not at all intuitive.  Also, I think the programmer was from Hong Kong because the quality of the english both in the manual and in the program was very low.    I could\\'ve gotten over all of this but for one problem - The battery refuses to charge.  I let it charge for several hours before use, as was recommended, but found when I turned it on the battery was only half charged.  I did my best to use the manual to find out what was wrong and found that to charge it has to be turned on.  So I tried again with the unit on this time, and after several hours it was still not charged.  On top of that, it uses a 1/16\\\\\\\\\" jack instead of a standard 1/8\\\\\\\\\" for headphones, meaning I had to use the amazingly low-quality buds it shipped with.  Long story short - DON\\'T BOTHER WITH THIS PRODUCT.  There are plenty of cheaper alternatives to iPods, buy from a reputable brand.',\n",
              " 'Just what my daughter wanted and it has been great.  Very protective but no heavy.  Would definitely recommend this product.',\n",
              " \"I have a Lifeproof case on my iPod Touch 4G and didn't want to mess up my charging cord by having to wiggle it out of the charging area. So, I bought this to extend it so I wouldn't have to do that anymore. FYI, you need to pull the clip back a tad further than normal to install this dock extender, but it DOES work with the lifeproof cases. So far so good. If anything changes I'll update you.\",\n",
              " \"In preparation for the purchase of upgrades to my car stereo system I've read more product reviews than I care to admit.  Folks that have posted reviews tend to attribute the improved performance of their car stereo to the addition of one particular component of their system - radio/receiver; amplifier; or speakers.  I guess that if you add just one of these components to an existing system you've got a baseline to assess the improvement or the lack of improvement attributed to a particular component.  Me, I dropped in all three at once into my '07 RAV4 - JVC KW-HDR720 receiver; SC60 Boston Acoustics component speakers; SC65 two way speakers; and an Alpine MRP-F300 amplifier.  Stir it all up and what do you get, phenomenal sound at an affordable price.  The only short coming is the JVC KW-HDR720 receiver.  Navigating the menu to setup the receiver is overly complicated. Nevertheless, five stars all around.  And the review that claimed the Alpine MRP-F300 amplifier overheats.  Mine stays cucumber cool.\",\n",
              " 'Very good product for the price. I just have one 10\\\\\\\\\" 300 wtt speaker hooked up to it right now, but it pumps so hard that I had to turn the amp down. I have another 10\\\\\\\\\" that I plan on using later, but with the other turned down so low, it shouldn\\'t be a problem at all running another!',\n",
              " 'Does not have the sound quality that i was looking for.  Ended up buying another brand.',\n",
              " \"These are the ones to buy.  I've messed around with the cheaper versions that stop working after a week or so.  These work just like the original cord that comes from Apple.\",\n",
              " \"I bought this external charger because my phone wasn't charging batteries properly, not enough voltage across the charging pins to charge the battery. This charger was the answer to my problems. I had previously bought a second battery and now I can have one battery charging while the other is in use, and swap them out if need be. Granted this is not the best way to operate a smartphone, having to turn it off and swap batteries every two days, but it works. Plus there is a USB port on this external charger, so you can use that to power some other device even when your battery is charging. Really convenient and a good buy.\",\n",
              " 'I have had this screen protector for 6 months now and I use my Kindle fire daily. I am very pleased with it for several reasons:<br />1. easy to install<br />2. easy to clean using the cloth provided by the manufacturer<br />3. minimal finger smudges<br />4. minimal blurring of the image<br />5. did not diminish the touchscreen sensitivity<br />6. no glare',\n",
              " \"IT DOESN'T WORK! i AM SENDING IT BACK.  i was all excited about it when I got it, and I left it charge for 30 hours and it did not charge my phone.  I don't know if this is just a bad one or if I got taken?\",\n",
              " \"Didn't work! Suggest the end user ship the GPS back to the factory for repair. Level fo difficulty in replacing this screen is beyond most without the proper tools.\",\n",
              " \"I bought this for my nook so I wouldn't break it (I am prone to dropping things!) I am very glad that I got this, it fits fairly snug around the nook with just a couple of places on the front that are a bit loose. I am still able to access all the buttons and page turning works just as good as it would without the cover. Highly recommend if you are tough on your toys like I am.\",\n",
              " \"This thing worked well for about 6 weeks.  Now it locks up and is unusable.  I'm past the return period, so I'm stuck with a piece of junk.  Creative Zen has a troubleshooting section online, which walked me through wiping all the data and reformatting the drive.  That worked...for a day.  Now it's frozen again.\",\n",
              " \"I just got the case today, way faster than I expected. The design is nice and colorful, but some of the paint was chipped around the edges before I even opened the package.  As far as the fit goes, it's super tight. I could easily snap one side together, but for the second side I had to put my iTouch on the table, face down, and put all my weight on the heels of my hands. It snapped together really loudly and I was afraid I had broke it, but it's on nice and secure. I highly doubt I'll be able to take it off if I need to.  I've also heard that these break really easily when dropped, but I haven't dropped mine yet, so we'll see.  All in all, it's decent for the price paid.\",\n",
              " \"I checked out covers for my Nook at several places, only to find this one at a steal.  I was a little skeptical because the price was so much lower than ones I'd priced, but I thought I'd order it anyway...I could always send it back if I was not pleased with it.  I love it!  It is everything I wanted, and I am very pleased with how fast I received it.\",\n",
              " 'Delivery was a tad late, but given that it fell during the holidays, not a problem.  Product is very easy to set up and to use.  Nice that it also charges my iPod as well as allows me listening through the Bose speakers.',\n",
              " 'Sirius was going to charge me too much for a new radio, this price was perfect and it was easy to install.',\n",
              " 'Like the previous reviewer, I ordered the MeggaBoom in blue but got it in black, but I\\'m not particular. I wanted a small speaker for my ipod, and since batteries can be such a pain I wanted it rechargeable. This little fellow is perfect. It\\'s very small, making it easy to transport, and all the plugs needed are together on one wire, so you don\\'t have to mess around with different wires. I can charge it with my ipod charger. The \\\\\\\\\"egg\\\\\\\\\" uncrews to pop up a little in height for when in use. Be aware that I\\'m not a sound equipment buff, but I am very happy with the sound quality, as both music and lectures sound pretty good.',\n",
              " \"What can I say? it's a spring. It fit. It works.\",\n",
              " 'this is strong / solid enough to stick om the SIDE of our nautique',\n",
              " 'The device works. The software fails to control most of my devices.<br />Even with devices and brands it &#34;recognizes&#34; only a few functions are available or work.<br />Learning or discovery do not help.',\n",
              " 'It was exactly what I wanted, it looks like it does in the picture and it fits perfectly. I have had it for about a month now and it has not chipped or cracked or anything! I would definitely recommend this item! :)',\n",
              " 'Selenium es una marca de JBL de Brasil que esta ganado posicones en el mercado, son relativamente economicos y la relaci&oacute;n precio valor es buena, el sonido que despachan es de calidad, a pesar de que la conformaci&oacute;n del cono es algo simple.',\n",
              " \"This floral iPad case arrived well packaged and early! It looks great! Very pleased at this time! I noticed, when I put it on the iPad 4, that if it is situated such as an open notebook with the iPad on the right side and the grooved side of the cover to the left, then the magnets in the cover make good connection when I close it and put the pad to sleep. However, if rotated 180°, with the iPad to the left instead, when closed the magnet do not make good contact and the iPad is not put in sleep mode; just an observation out of the box. I'll update if this changes over time.\",\n",
              " 'This is a great buy that I recommend to anyone. Turns heads everywhere I go. Color is a beautiful red (believe me I love red and is difficult to find it as most vendors will describe burgundy as red). The leather quality is excellent. The case fits like a glove to my Kobo Touch so it does not add to its size so I can still put in my purse without bulk. As for delivery and price, as I expected, it was prompt, price was a great value and since it was packaged appropriately case came undamaged and brand new as promised.',\n",
              " 'I was looking for a way to protect my Nike + sensor and keep it secure on my shoe and this filled the bill. It just laces onto your shoe. The material keeps it somewhat water proof should you get caught in the rain and also provides a cushion. Having a choice of colors is nice too.',\n",
              " 'this item does not work and needs to be returned',\n",
              " 'Very happy with everything up to this point',\n",
              " \"This cover went my daughter's iPod for her Bday! My daughter loved it. I will order new ones when she picks new designs.\",\n",
              " 'This is exactly what I was looking for.  The unit fits perfectly, and provides great protection.  No problems at all.',\n",
              " \"It product is the worst item that I bought in my life, it has come with deep lines at the screen, broken, open box, it is not seems new, like old. I got back this product and I had paid U$9 for the shipping because this seller don't send me the RMA form.\",\n",
              " 'This product is like the original one from apple in that it does allow you to charge your iphone. It however is finicky and one must make sure it is completely hooked it for it to work as it comes out fromt the wall adapter easily.',\n",
              " 'What an amazing device!!! I made a lot of research before buying, and finally decided for this ROKU. I\\'m glad I made the best decision.  First of all, I was shocked to hear that my wife actually liked how it looked like... which saved me from hearing a lot of complaints from her saying why I was buying things and how ugly they looked like around the flat.  Then, I connected it and automatically detected my wireless network. I entered the network password and in a few moments I was already listening to internet radio!!! I couldn\\'t believe it...  And the internet radio is better than advertised, as you can browse through all the internet radios available with your computer turned off, and not only listen to the 18 presets of your choice.  I was a little bit worried about streaming music from my notebook, as in the user guide is not very well explained how to set the Windows Media Connect. I looked for this software in Windows Vista and in Windows Media Player, but I couldn\\'t find how to open it. However, I noticed that the \\\\\\\\\"Soundbrige\\\\\\\\\" was already detected by my notebook. Therefore, I just agreed to share my library and I was then able to browse my entire music collection through my ROKU.  Now me and my wife are addicted to internet radio. I arrive home and go straight to my bedroom to turn on my music system. We listen to different radio stations through a good AV Receiver, which improves the sound quality. Of course the sound quality is not CD\\'s, but you can find some high Kbps\\' radios out there. The only low is that sometimes some radios loose the connection, so they have to buffer again, which takes about 3-10 seconds. This varies depending on the day and time of the day. Anyhow, sometimes you can listen through many hours without a single interruption.  The sound quality when you stream from the hard drive is excellent, although I keep on listening to different internet radios by now.  I am using a digital coaxial cable, which noticable improved the sound qualitycompared with the supplied analogue stereo RCA cable.  The bright display is clear enough, and you con dim the display at night. I am only missing a sleep function...  The remote control is nothing fancy, but with is ergonometrically correct and with the necessary functions. However, I usually use a Logitech Harmony remote control, so I can control my AV Receiver and the ROKU Soundbridge in a very convenient way. I can even have now some direct access to my presets (something that the new ROKU remote control does, but with only 6 direct presets).  In a couple of years time (or maybe less), almost all of the AV Receivers and Hi-Fi systems will come with ROKU\\'s features, but if you need them now (and you should), this is the best (and less intrusive) device out there. Maybe a wi-fi \\\\\\\\\"n\\\\\\\\\" is in the pipline... which would be nice.  In conclusion, this is the best gadget I have bought lately. I am more than happy with my decision.',\n",
              " 'I like this product. although it took awhile to get here, it was worth the wait.',\n",
              " \"don't work right can't put music on the unit\",\n",
              " \"I have a 7th gen 160GB Classic iPod and wanted to take advantage of its large capacity by recording family events and stories and the little kids' priceless comments.  Basically the unit works well, but isn't perfect. After some experimentation, here are my findings:<br /><br />The little mic is easy to use once you get the hang of it.  When it's attached to the iPod, it takes a minute but then a new category appears in your main menu--Voice Memos.  Although there is an 'instant recording' button on the device, I didn't get that to work, however by selecting Voice Memos from the menu with the click wheel, you'll get the Recording screen where you can 'Start Recording' using the click wheel.  You pause the recording with the click wheel too, then resume the recording or save it via menu options.  You can play back any of the recordings you've saved, each of which is labeled with time and date.  You can delete any you don't want to keep.  When you sync to iTunes saved recordings are automatically uploaded to a newly created playlist on your computer called Voice Memos.<br /><br />When I first started recording things, I wasn't alert to the red 'record' dot that shows on the iPod screen.  Anything I recorded before the dot showed up wasn't picked up.  I also found the quality of my recordings was far better and had much better volume when the 'Gain' switch was in the off position, contrary to the directions.  Overall, I didn't find the directions all that great, but with some experimentation I was able to do everything I wanted to.  I tested recording quality both hand held and up to about 6' away and was very satisfied with the results.<br /><br />Bottom line, the unit doesn't feel top quality, but seems to do a good job of recording. The drawstring carrying bag that comes with it is big enough to carry my iPod Classic as well as this small mic attachment.\",\n",
              " \"I have installed a lot of amps and this thing is a monster... at first I was underwhelmed by it claiming 1400 watts, I hooked up my JL Audio 500 and it was out performing it, I thought somethings got to be wrong... and it was. I hooked it back up and turned the bass dial on the amp 3/4 of the way up and started turning up the remote dial and this thing came alive to say the least. I'm running two NVX 12's off of this thing at 1ohm and at half volume on the stereo and half volume on the remote bass knob my neighbor across the street heard it in his garage, this was set up in my house for testing at the time... I am totally sold on this amp. I have run it at 4ohms on an Earthquake sub in a sealed box, 2ohms on a single Skar Audio 10&#34; in a sealed box, 2 Focal 10's in a ported box, 2 Boss audio 12's in a sealed box and 1ohm on 2 NVX 12's in a sealed box and all of them sounded just incredible, super clean bass and the feel of this amp exemplifies it's quality. This was my first Skar amp purchase and it won't be my last!!\",\n",
              " \"Love the Nook cover.  Protects my Nook without being overly pricey.  The company didn't include the free keychain cover and when they were made aware of the oversite, fixed that immediately and mailed the cleaner to me.  Would rate my satisfaction with my purchase and this company 100% and will have no hesitation in doing business with them again.\",\n",
              " 'I bought another one that will take for ever to get here, but this one I got quick, and it was charged all the way, even got the car adapter.',\n",
              " 'Very small little to no sound quality battery dies in less than 2 hours',\n",
              " \"I wanted to replace my stolen Garmin 495 with a more affordable unit.  The 196 is the only unit still available that would fit my 495/496 accessories. I fly helicopters in Alaska and the Lower 48. The 196, according to the Garmin Support Person, has only enough memory to have EITHER the Northern Americas or the Southern Americas database, but NOT BOTH! My suggestion is that you contact the Garmin support folks before ordering this unit and make sure it covers your area of operations (I scrolled up to Alaska and found zero aviation data, that's why I contacted Garmin). The other issue was the font size of the moving map. It was extremely hard to pick out airports, airspace and other details. Come on Garmin! Bring back the 495/496!!!<br />AMAZON is EXTREMELY easy to order and return, so I'm very happy with Amazon!!!\",\n",
              " 'I have this mounted to my ATV and it is very sturdy. I have made several trips with it and it nevers moves.',\n",
              " \"Product is very useful. It's small and easy to pack up. It doesn't take up much extra space along with your iPod. If you're concerned about the sound quality and volume as compared to the iPod touch (2nd gen), it is far better. I was impressed. As for attaching it with cases, some cases may not fit, but others do. That's the only down side. But i still love the speaker. A good item for it's price.\",\n",
              " 'We bought this item for a Christmas stocking stuffer and the person we gave it to really likes it.  They said the sound quality is good and it functions well.  They also told us that the remote works great.  In the past we purchased two others that were a more expensive brand and also had good luck with them but they seem to work about the same as this inexpensive brand here.  These transmitters will never be CD quality, but they are a good way to play large numbers of mp3 files from a USB or SD memory card on a car stereo that only has a CD player and no other inputs.  The only problem we have ever had is if the car antenna is too far from this transmitter, you may suffer either no sound, or poor quality.  Also on occasion as we travel a station may bleed into the frequency at which we have set it, but that has been rare and we just tune to a different frequency and it is fine.  Check the different ratings and get one with the most stars on Amazon.',\n",
              " 'This is a great holiday gift for the kids. This cute sphere comes with a lot of app games and can keep your kids entertained for hours. The nubby cover accessory that you can get as an extra purchase is perfect for giving traction, keeping it from scratching on all surfaces and it comes in different colors. I ended up playing with it for way longer than I should have and I had trouble giving it up to the kids. So I regularly mess around with it at night. If you love cute little gadgets this is for you.',\n",
              " \"It's the weirdest thing; I can't figure it out. It's super cute, and APPEARS to be fairly well-made, but then when I pulled the belt clip away from the unit, the green tore, and it looks like it's just paper. Where it used to be green, now it's just white like paper. (UPDATE: Yes, it is just paper. Sort of a thin cardboard.)<br /><br />In addition, there is no ring on it anywhere for a lanyard, if that matters to you. It doesn't matter overly to me, but I would have preferred it. In any case, I'm just letting you know.<br /><br />Lastly, it is SKINtight. You cannot fit an iPod (3rd gen) in here if it has even those thin, hard protective snap-on cases on them. My old case that is very similar to this one fit my iPod with the snap on case perfectly. With this one, there is just no way. So it's an either/or thing.  Again, just letting you know.<br /><br />In any case, for the price I expected better. I expected it not to tear instantly, and I expected the fake leather to be made of something more substantial than paper. But it's very cute, and it fits my iPod, so it'll do for now. I guess.\",\n",
              " \"I would NEVER buy another piece of electronic equipment without getting Square Trade's Protection Plan.  I purchased a 55&#34; TV in 2011.  The volume in the TV never did work very well, but I tolerated it.  Tried doing updates and troubleshooting, but nothing helped.  Finally, I called Square Trade to see about my warranty.  The first call really didn't do any good because they put me in contact with a technician that &#34;decided&#34; he had fixed the TV, when he hadn't.  They closed the claim because he wouldn't listen to me.  So...  I called back, explained to the second person my experience with the first, and them immediately contacted a repair service to come fix my TV.  The repairman knew exactly what was wrong, so contacted Toshiba to get the part needed.  The part isn't made anymore, so I was out of luck.  I called Square Trade back and told them it couldn't be fixed.  They advised me that they would contact the repairman for verification and call me back.  Within a couple of hours they called me back and advised me they were mailing me a check for the full purchase price.  I received the check within about a week!!!!!  In the meantime, I found that I can use a soundbar with the TV....  So for now the money's in the bank, and I'm going to add to it and get a bigger one WITH Square Trades Protection!  Thank you Square Trade!!!!!\",\n",
              " 'EXCELLENT FOR MY JEEP PATRIOT RADIO IS THE BEST THAT I COULD BUY FOR MY CAR VERY RECOMMENDABLE VERY RECOMMENDABLE',\n",
              " \"Bluetooth works flawlessly and the device even has a battery of its own, so it works of its own power for a short amount of time. The main piece is attached to its base by a magnet. Product comes in one of those boxes that looks like a knock-off of something else which worries me as to how long it'll last but so far no problems. Good build quality\",\n",
              " 'Great fit, also keeps clean and some protection if dropped.  Great for watching movies since you can fold open and have it stand on its own.  Also has a sleeve to put things in like a cleaning cloth and you can put your hand in it to hold the Kindle, this makes it easier when moving and trying to hold the Kindle!  I give it 4 out of 5 stars!  Would give it 5 stars if price goes down since I paid almost $40 and think $25 would be a more reasonable price',\n",
              " \"This cable hasn't been subjected to much use, but what little I've used it, it's worked as needed. So far, it seems like this is a good value as far as third-party charging cables go.\",\n",
              " \"Hard-shell case protects the equipment, and elastic straps inside keep the nuvi in place when you unzip the case to remove the GPS. If you use the straps, you'll never accidentally drop the GPS! I'm really happy with this purchase.\",\n",
              " \"This works great! Better than the flexgroove because it's MUCH easier to remove from the outlet. Now if I can just get the flexgroove out of my car I'd replace it with this one.\",\n",
              " 'This is the best case ever!  I just replaced my iPod screen and put this case on!  This case has the coolest metallic look ever!  I love the color orange!  I makes my iPod look awesome!  This is the best case anyone could ever have!',\n",
              " 'I understand that whta you get for $9, but it was still my $9. The sound is a little sketchy depending on how the receiver is sitting in your car. Power cable to transmitter is REALLY shotty & has a loose connection then just shorted all together. Oh yea, and forget about using the remote, would be nice in a car but you have to point it directly at the transmitter & MASH the buttons for it to work. Hey $9 as opposed to the $80 iTrips...',\n",
              " 'works great. was exactly what I expected.I love it！',\n",
              " \"It's cute, but the stylus holder started ripping out after about a week.  I'm not impressed with the quality.  I have one of those ones that came package with a bunch of other accessories for $10 that is better.  If I had to do it over again, I would have gone with a RooCase.\",\n",
              " 'For a 10inch budget sub that can also fit in tight spots theres no beating the old school cvrs there beast, WARNING thw new kicker cvr are like paper DO NOT BUY',\n",
              " \"I like it, A little small and not as bright as I would have thought, but it will work fine for my application. Also no wiring diagram with this so I'll just leave this here:<br /><br />White-Left turn signal<br />Red-Stop light<br />Green-Tail light<br />Yellow Right turn signal<br />Black-ground\",\n",
              " 'Good concept however is not loud enough. It sounds very low when is between the cushions, also is hard to hear if you are in a two story home. Make sure your TV is off when you are looking for it.',\n",
              " \"The case is really protective, i've dropped my ipod many of times, and this one time I've shown my friend a video that was scary at the end, then she threw it a few feet away from us! ON THE HARDCORE CEMENT! but thanks to the case, not a single scratch was on it.\",\n",
              " 'My first wonder about a product like this was.  Am I going to be able to understand the person on the other end of the call.  This little thing works GREAT.  And if you have any questions about the battery life.  It is wonderful.. I have had this for a few months now and I believe I have only had to charge it two times. Everytime that you cut it on it lets you know the status of the battery state of charge.  It says HIGH, MEDIUM, AND LOW.',\n",
              " \"I was surprised at how nice these are - they sure don't appear to be knock-offs.  Both the plug and cable were wrapped in the customary cellophane strips.  Charger worked fine on both my Apple 4 phone and my new IPad\",\n",
              " \"I don't need all the bells and whistles, I just need help getting to new locations. After having had my first Nuvi 265T stolen, I researched and decided to buy the exact same model.\",\n",
              " 'Great case for my Nook simple touch. Fits great, I can charge it still in the case, and I love the feel and the color. It arrived quickly and in great shape.',\n",
              " 'I agree with the person who commented on the low quality of the \\\\\\\\\"build\\\\\\\\\" of the items, but overall, I\\'m EXTREMELY satisfied with the purchase.     The items I use most often:  1) Mesh travel bag (drop both iPod & original headphones in it, and occasionally my very fragile Plantronics bluetooth headset)  2) Silicone cover  3) Screen protector  4) Wall charger adapter (which works to charge other devices connected via their USB cables)  5) Car charger (which also works with not only my iPod touch, but also other devices)  6) Car Audio 3.5MM Jack AUX Auxiliary Cable that allows me to connect my iPod to the Car Stereo on my Honda (AUX) and play over car speakers!!    Items I plan to use, as needed, but haven\\'t used much:  1) Retractable USB cable (I have it on hand as a spare)  2) Extra USB cable (I keep it in the car in case I don\\'t have my computer bag with me, which has the original cable  3) Arm band which connects to the silicone cover for working out while listening to the iPod  4) Extra headphones (if I want to share something with someone, see #5)  5) Splitter, which makes it possible for 2 users to listen to iPod using headphones  6) Cable keeper (shaped like a fish).  Not very good, but serves its function and I keep the extra headphones wrapped up on it  7) Black Silicone cover:  will probably use it eventually if the white one gets junky looking    Items I never plan to use:  1) Clear plastic case which seems very fragile and will probably break if used much  2) Leather case: too bulky, and I don\\'t like having things clipped to my belt.  (Lost a cell phone that I clipped to my belt... slid off)    BOTTOM LINE:  If you\\'re not buying this package for the leather case and/or the clear plastic cover, I think that you will be happy with your purchase.  I\\'m EXTREMELY happy with mine!',\n",
              " 'I needed this to connect my iphone6 to some powered speakers. This receiver worked fine straight out of the box. It paired up with no trouble and picks up music well',\n",
              " 'came blurry',\n",
              " \"Final update 12/3/13:  How time flies.  I've owned this e-reader over 3 years now.  I finally had to break down and purchase another because this one started experiencing sudden battery drain after only a few minutes of reading.  I had purchased and installed a new battery a few months ago but now the problem has gotten worse.  I can still use the reader if it's plugged in but who wants to be stuck by an electrical outlet to read.  I actually went back to a new reader but the older PRS-505 model which has no screen glare at all.  I don't mind using buttons to work it instead of the touch screen.  I'll keep this one in case I need to read PDF files since it has a better format for PDFs.  I still can't complain since I got plenty of use from this e-reader.  I tend to read several books each week.<br /><br />Update 10/10/12 : I have owned this e-reader for over 2 years now and have had no more problems with it.  I find myself using the buttons more often than touching the screen to turn pages. It's still working very nicely.<br /><br />After several months of owning this product and after finding a screen protector which cuts the screen glare, I am very happy with this reader.  I have had no more problems with it since the first couple weeks of ownership and am enjoying many hours of reading each week.<br /><br />Pros: Size,  Price, Loads quickly, resizes quickly with more font size choice than previous versions, pages turn easily and quickly, multiple reader formats, can use a SD card to load and store books, ability to delete books from the device.<br /><br />Cons: Screen glare.  Set up is not clear from the instructions.  I had an error on my screen before I had any on-screen instructions and had to look it up online before understanding what was going on.  Once I did that, however, it was easily resolved.<br /><br />This version doesn't seem as stable as the PRS-505 I owned previously.  Early on, I experienced a couple issues with freeze-ups and sudden battery drain that I didn't have with the previous unit but they seem to have resolved themselves.n that I didn't have with the previous unit but they seem to have resolved themselves.\",\n",
              " 'Good product And good delivery time.',\n",
              " \"Using it daily and no complaints.  Doesn't slide around.  Holds the mount for my smartphone bracket well.  The outer ring doesn't interfere with positioning the phone.\",\n",
              " \"I would give 5 stars if it had a real plug to charge the unit.  It has a USB charging cord.  Dumb.  Sounds great and I've had it run all day long and the battery still didn't die.  Easy to connect with both iPhone and android phones.\",\n",
              " \"I bought this for work, hoping that I'd be able to plug my phone into it and listen at my desk. It worked for a short period of time, and then the speaker blew. If you're going to make a product that's specifically for a phone or MP3 player, make it so that the customer can turn the thing up all the way! It was not very loud when it did work, and now it's just shot. It did hold a charge pretty well though. You get what you pay for.\",\n",
              " \"For someone who works out 6 days a week for about 90 minutes a day, this is a great product to keep your iPod in for workouts. Using this product, I've never had an issue with my ear buds getting in my way.\",\n",
              " 'It works exactly as advertised. I would recommend this to others who need a battery replacement.<br /><br />If I have any problems in the next few months then I will update this review as necessary.',\n",
              " 'It is exactly what I was looking for.  Much better than the charging usb 2.0 cable that I purchased the same week.',\n",
              " 'This is the second time we have ordered these USB Wall Chargers and we were very satisfied both times. Thanks you.',\n",
              " \"I bought this for my son's 12th B-day. He uses and I-touch every day at school and wanted one for home. But I felt they were too expensive for a 12 yr old with ADHD. Especially since he left his $30 MP3 player out for our great dane to eat. Anyway, He loves this one as much as the I-touch with the exception of internet access. He says the touch response is a bit slower but not bothersome, the video and music plays just as good and the text is similar. He truely loves it.    We received the original one way earlier than expected. During the Christmas rush at that. I loaded a few movies and pics quickly and then wrapped it up for his B-day. About 5 days later when he opened it the colors on the screen were all scrambled up. I contacted the company by email including pictures of what was wrong with it and with in the hour they offered a replacement and sent me a shipping label. I sent it back the day before Christmas and got it back within 2 weeks. Every question was answered immediately and were very easy to understand.     The video player is great. The MP3s load and play quickly. The ability to load several full length movies at once is wonderful. We travel 3 hours to take my son to a children's hospital. So, it is extremely convienant to not have to pack the portable dvd player and different movies and change it every hour or two and we don't have to charge it as often either. Plus you have the additional MP3 player to pack and then you have to keep track of all this stuff and it takes up room in the vehicle, uggh it's a headache. With this, it all fits in one pocket. It's great.    If you have children who like their movies and music while traveling I definately recommend this. And my son says it's a great gift too!    The radio works and is simple to set up. We get clear signal and sound.    The camera on this is a little aggrivating and low quality but it's enough to sufice a 12 yr old.    The game that came on it really stinks but I'm going to try to find othergames to load on it.     All and all I am very satisfied with the response and service of this company and the device itself. I only rated this a 4 because the origanal had an issue. I'm considering getting myself one so I can show off those family pics, download text to read books on my breaks, and have music to listen to while I work.\",\n",
              " \"Died after less than a year. Unit would freeze/lock up at random after about 6 months of use.<br />NOT HD video. In highest quality recording mode, can only read license plates of cars directly in front of you up to about 3 car lengths in good lighting conditions.<br />Night mode is BS. Just see head lights, tail lights, and bright blurs of license plate reflections (not readable) at night.<br /><br />Maybe better than nothing to show that you had a green light before an accident happened or that someone pulled out in front of you, but don't expect too much more details.\",\n",
              " 'Work good',\n",
              " \"I really did not know what type of speaker to get for my iPhone 4S .  I just knew I wanted something to use in the house that would sound better than just using the speaker in the phone. Searched on Amazon and saw this and decided to take a chance.  I'm very pleased so far. It was easy to hook up with my phone and it sounds great!\",\n",
              " 'This Gel case for the iPod 4G is a good fit and protects it with its rubbery material. I tried a snap on plastic case, but it kept cracking - not a problem for this product. And it looks good. Thanks!',\n",
              " 'I ordered this case for Christmas.  The case arrived timely and was packaged securely. I did not open the packaging and inspect the case; I immediately wrapped it as a Christmas present and placed it under the tree. When the gift was unwrapped and the packaging opened on Christmas morning, we discovered that this case was totally broken in two; it arrived this way.  The case is total junk.  I will not recommend this seller.',\n",
              " 'NIGHT MARE TO GET THE PROGRAM TO WORK....MUST USE A WEB SITE I CANT DOWNLOAD FOR REVIEWING SD CARD WITH THE G.P.S.',\n",
              " \"Great, good quality and a very good price. I like to have a couple spare ones, I've got a bunch of USB devices.\",\n",
              " 'i like the color and the style. easy to use. sturdy so the device does not get scratched. good price',\n",
              " 'Love it! Great price for what you pay for! Quality is decent but again you get what you pay for.',\n",
              " \"Pros:<br />-Price for the quality in sound. It's not the GREATEST sound, but as much base that comes out of it is pretty amazing<br />-Compact<br />-Louder than most mini speakers + Bass<br />-Built with better quality.<br />-Battery life is really good (haven't tested full battery life, but it lasted 6 hours at full blast and didn't die)<br />-Comes with Auxiliary cord (connect with this so no skipping on iphone)<br />-Comes with a small little carrying cloth bag.<br /><br />Cons:<br />-It starts to get a little distorted if it's too loud though.<br />-Connecting bluetooth on my iphone, the song will start skipping each time I try opening other apps or doing basically anything with the phone while a song is playing.<br />-Auxiliary cord isn't very good, or at least mine wasn't, because I've only used it like 4 times and the cord is opened up with the wires showing next to the auxiliary connector and I haven't put nearly enough strain on it for the wires to be showing<br />-Caller ID is kind of stupid. It talks too slow. By the time it's done repeating the number, I'm pretty sure you'll miss the call.<br /><br />I basically docked off one star for connection.<br />I don't really use the Bluetooth because of the song skipping thing. Aux cord quality is weak. Looks like it's about to give out after minimal use, and if it does, I'll have to buy another one (not cool).<br /><br />In conclusion, I'd definitely recommend this speaker to any buyers.\",\n",
              " 'This case was a gift for my older cousin // best friend who loves penguins<br />its super adorable and the color was true when arrived :) the only problem I had was the silicone<br />penguin arms they are starting to tear off so be delicate with your case if you<br />plan on getting this! other than that this is an AWESOME case',\n",
              " 'Awesome system for the money slightly under powered funny thing is when you order it they give you a paper saying they upgraded your order however if you read your box tisk tisk tisk they lie its exactly what you order all in all I give a 4 out of 5',\n",
              " 'This product does not work for the iphone as advertised. I plug it in and the light goes on but when the iphone is plugged in it does not charge.',\n",
              " 'I could never get it work, and it had Asian music loaded on it.  I wish I could get my money back.',\n",
              " 'I cant tell if its fully charged or not - it works great. Better have the plug with you in case it dies. Didnt last as long as I wanted but the battery pack cant be too big - I realy like the product tho.',\n",
              " \"Thought the price was right...but you get what you pay for. This item doesn't even work, not on iPod touches or iPhones! Garbage save your money. Rated no stars...where's that option??\",\n",
              " 'technology used to last.  This is crap and serves no purpose plugging into the pc, new batteries-nothing happens with this piece of junk.  So sorry I purchased this for someone',\n",
              " \"I am a big radio fan and have had a difficult time with other very expensive (Crane) radios receiving my favorite stations. I had my doubts when I purchased this small Sony because of size and price.  I was blown away by the perfect reception of a  smaller sized radio.  It is very compact and easy to carry from room to room.  I can't rave enough about it...you will not be disappointed!\",\n",
              " 'Item is as described, protects the iPod touch well, even against light falls. The color may be slightly darker than pictured...but it is still purple. Would recommend!',\n",
              " 'Thanks',\n",
              " 'I ordered 3 I-Phone chargers on 11/29/11.  It is now 01/03/12 and I still haven\\'t received them even though the status shows \\\\\\\\\"shipped.\\\\\\\\\"  They finally showed up!  A little odd to me that they show up a week after I contacted the seller.  Coincidence, I think not.',\n",
              " \"I was surprised that this small capsule speaker had such nice sound!  Very clear - better than a whole lot of the big stereo speakers I've had over my life!  I don't much care for the way it sounds when collapsed down (though still really acceptable sound) - so we always make sure it's fully open in order to get the best sound.  If you're looking for a small speaker (that gets even smaller when closed!) with a really decent sound, this is a good choice!\",\n",
              " \"The Blueant S4 works better than I expected. The easy setup through the andriod app had it working just minutes after getting it out of the box.    I have ordered a second one for my wife's car.    My only complaint is that I couldn't see how to order replacement visor clips. I would like extra clips to put in other cars I drive.\",\n",
              " 'battery last a long time. lots of memory. easy to use. listen to radio watch videos, look at photos, plug in headphones or mic.',\n",
              " 'This product worked great in my Kia Forte 2011! The price was great and the delivery was faster than what I thought it would be. I would reccomend this Ipod cord to anyone who needs it, since I am pretty sure no one wants to pay $40-$50 for a cord that should be given to you when driving out of the lot.',\n",
              " 'Works well.',\n",
              " \"I bought the Accessory Genie as a gift for my husband at Xmas.  We had a problem with it and wrote the company to see if they could replace a broken part.  No problems!  Gave me a shipping label for the old one and I had the new one in a week.  Remember this was at Xmas.  My husband says it works great.  Customer service and a great product, you can't go wrong.\",\n",
              " 'Adorable and fit great.',\n",
              " 'Using on Baofeng Uv-5r, works as good as or better than stock antenna, at a fraction of the size and better build quality. Much more comfortable, especially for a set the size of the UV-5R.',\n",
              " 'It does what it is supposed to and that is keep my iPod on my arm. I do like the item, but I would have loved it if I could charge it in the watch. It is somewhat difficult to get the iPod seated in the device correctly. Not so difficult that it keeps me from using it daily. I am very pleased with the product and am glad I purchased it.',\n",
              " \"I bought this to stream music from my iPhone while driving. I have not tried using it with phone calls so can not comment on that. When it arrived, I did not see any instruction booklet in the box, but it was easy to set up. I just inserted the provided audio adapter into my auxiliary port in the car and connected the other end to the receiver. To power the receiver, I plugged one end of the USB charging cable into the Bluetooth receiver and the other into the USB car charger I already owned. I turned Bluetooth on for the iPhone, and briefly held down the play button on the receiver. When I looked at my phone's Bluetooth connection options, I could see this new device pop up and I selected it. I heard a short tone through my car speaker indicating that the device had paired with my phone. I started playing some music on the phone and it came through the speakers loud and clear.<br /><br />I much prefer this option to using a direct link between the phone and the auxiliary jack via a cable. Since I upgraded to the iPhone 6, I was getting weird static and Siri would randomly turn on, cutting out the music. I'm sure I could have tried other cables, but this is one less cord you have tangled up in the front of your vehicle. I would readily recommend this device.<br /><br />Note that this does not come with a USB charger for the car-- you will need to provide your own.\",\n",
              " 'This decal was cut perfectly to fit my iPhone 3G, and it really shows it off well, especially with the matching wallpaper download. They also ship SUPER fast! 5 stars!',\n",
              " \"Just what my GPS needed. After losing my first one, I needed a replacement. Of course, at retail they'll charge a hefty $30 price tag, so I was looking for a similar product at a meager price. Finding it here was a relief. Works just right; sticks to my windowshield and stays put. Just be sure to apply enough pressure against the glass, otherwise, the suction won't work.\",\n",
              " \"When the case is on you can not plug in ear buds or headphones all the way then you can't hear any sound.  Very disappointing since the main purpose of an iPod is listening to music.\",\n",
              " 'Here is my experience with this big, clunky, worthless piece of plastic...<br /><br />Seemed pretty simple right out of the box, all the markings on the actual unit talked me through everything. So-far so good...<br /><br />I then decided to add the hot water and cleaning solution.  My immediate thought was that it did not hold a lot of liquid, but then again... it IS only for spots.<br /><br />Time to get down to the dirty work...<br /><br />Turned the power switch on and \\\\\\\\\"VVVRRRRROOOOMMMM!\\\\\\\\\".  I woke my daughter up, the neighbors and I think they even heard this thing in the next county over.  I was not impressed (not that I could hear myself think I wasn\\'t impressed)... but I thought \\\\\\\\\"Ok... more noise means more POWER!!! Woot!\\\\\\\\\"<br /><br />I also noticed they could use this unit in one of those movies where they need a high power fan to make it look like a hurricane or tornado... because the amount of air that came out of the vents were enough to blow my dogs hair off!  I was actually thinking about using the side vent to blow the stain away.  But again, I thought more POWER!!! Woot!<br /><br />Pushed the button to let out some nice, hot, soapy bubbles and was not impressed with the little spat it let out.... But no problem, I will just press the button again.<br /><br />Wrong!  The button went down and never came back up!  I pressed, I shook, I tilted it and I played trying to get the button back up but it just preferred to stay down.<br /><br />Okay... just shake the darn thing till I got enough dripping to cover my stain.  My spit probably would have been faster, but I didn\\'t think about that till now.<br /><br />I glanced at the pretty blue and white round brush at the bottom and couldn\\'t wait for it to start spinning.  Turned the scrubber on and away I went...<br /><br />I scrubbed, and scrubbed, and scrubbed, and scrubbed, and scrubbed and watched my stain just sit there.<br /><br />Hmmm, maybe the vacuum will suck it up now?  I switched the vacuum switch on and I sucked and sucked and sucked and sucked then realized that this thing REALLY sucked.<br /><br />It\\'s bad... It\\'s been a long time since I bought something this bad!<br /><br />But, I give it 4 stars for being a great paper weight.  I would have given it 5 stars for being the perfect paper weight but it is a bit too big and expensive.  I hope they come down in price and make it lighter... I have 2-3 more piles of paper I need weighed down.  It\\'s fun turning on the vacuum... the paper stays put, but I don\\'t need turn my ceiling fan on!ked.    It\\'s bad... It\\'s been a long time since I bought something this bad!    But, I give it 4 stars for being a great paper weight.  I would have given it 5 stars for being the perfect paper weight but it is a bit too big and expensive.  I hope they come down in price and make it lighter... I have 2-3 more piles of paper I need weighed down.  It\\'s fun turning on the vacuum... the paper stays put, but I don\\'t need turn my ceiling fan on!',\n",
              " \"I want my money back, it's so quiet I could hum louder in the shower.\",\n",
              " \"I bought this because a computer personality recommended this unit on the radio.  I have to repeat commands before it will understand my meaning, it if does at all.  My voice comes through weak and distorted.  This was wasted money.  I wouldn't recommend it even for a boat anchor, small boat.\",\n",
              " 'I got 2 pioneer 5.25 speakers hooked up and one 6.25 alpine speaker hooked up to this amp. It sounds pretty good. Has not over heated, 8 gage wire works ok.',\n",
              " \"I really like this product.Seller was great an dthe shipping was fast. The speakers'sound are great. The main reason to buy this product is take it with us on camping. However, the specifications says that it charges Ipods. We have an Ipod Classic and Ipod touch and it does not charge any of them even when playing. I called the company twice, but the service is terrible. No one answered. If anyone knows how it does charge Ipod I will appeciate the instructions because I can't find them even online. Thanks.\",\n",
              " 'the usb cable fel apart, green wire came unsoldered, not happy. I will go to there web site , and hope it is replaced.',\n",
              " 'just what I needed!',\n",
              " 'I was lucky enough to find an adapter at the price I did, I always trust the Garmin products because they alway work well.',\n",
              " \"This mount is made by RAM, It is very well made and very sturdy. it took about two minutes to install on my Honda Shadow. it holds much better than expected and looks good. It can be adjusted up / down and side to side.  The mount itself is very well made and sturdy, it holds the GPS securely in place, it also has a small wire holder to keep the small USB in place. I'm very pleased with this mount.\",\n",
              " 'This product is very easy to install and is great. I live in SC where there is no helmet law and I can hear the music at 80 mph.',\n",
              " 'I enjoyed this player for 9 months until it stopped working. <br />Then the company said that it no longer accepts warranty returns even though the warranty is for one year.   <br /> <br />I will never buy from that company again even though the technology is good.  They cheated me and although I am trying to get them to service my player I do not hold out hope that they will stand up and fullfill their legal responsibility.',\n",
              " 'Product quality is great -  however, when the nook is placed in the leather case - the elastic restraint on the left top holds the nook in across its power button and turns it on...depleting the battery.  I took the left constraint off and it definitely does not hold the nook in as well.',\n",
              " 'It works great and is very durable',\n",
              " \"I bought it to hook up my ipad to the music station but it won't allow you to play music the the extension cord, very disappointing\",\n",
              " 'I purchased this thinking it was the 4 button model.  It showed up as the 2 button model, in the 4 button models box.<br />I was disappointed with the seller as I wanted the 4 button model.  He contacted me to remove my poor review.  I decided after him telling me to ship it back at my expense, to keep it.  Huge mistake.  I powered it up and it does not even work.  This thing is garbage, The screen has lines in it.  The camera does not work.  I purchased another one and tested it with his garbage he sold me to verify the whole system is crap!.  I just threw money in the trash!',\n",
              " 'Sturdy, perfect fit. No instructions accompanied the mount, so if one were not &#34;assembly inclined&#34;, it could be a bit challenging. Otherwise, a fine product.',\n",
              " \"I bought this splash protector based on the positives reviews here on Amazon but don't be fooled this is not a good product. First off it's impossible to install without bubbles. But the main thing is the rainbow effect once the it's been applied. It's very noticeable when the phone is off it looks like an oil slick has leaked onto the screen of your phone. Once you turn it on you won't notice it but when you turn it off you'll definetely know something is covering the screen.\",\n",
              " 'I ordered this small but powerful speaker based on rave reviews on audio sites. I did not order a used item but it was clearly marked as such when I got. I plugged it in and got a statically garbled sound. Sooo disappointed. I returned it immediately and went to purchase a new one online, finding it available only directly from the factory in Korea. No thanks!',\n",
              " 'I got this item and when I attempted to use it; it does not transmit the signal. One cannot hear anything but static!!  I checked the fuse and everything seems to be ok, but the item does not work. Save your money.',\n",
              " 'If you are looking for a cheap product this is it!  Very poorly made, and freezes all the time. Not user friendly. And the touch screen is of very poor quality.  The screen is very hard to use in that you have to push the screen really hard and most times you have to push it several times for the icons to work.  I still have not heard from the seller after telling them I wanted a refund... Do not waste your money or time on this product///',\n",
              " \"Nicely designed, very cool features.  Good audio quality.  Plays music from iPhone or iPad over Bluetooth up to 30' away, or when recharging on lightning connector.  Also has AUX input for standard stereo audio jack.  Source selectable using wireless remote along with volume, treble and bass adjustments.  Forward/Back keys on remote allow skipping to next song on Pandora.  I was very pleased with this $79 speaker with free shipping on Prime.\",\n",
              " \"I looked at several different style arm bands before trying this (in fact I bought another one first) and this is one of the very few that allows for easy access to the click wheel... the plastic cover on most cases makes this difficult to impossible. It fits well, although I took a star for build quality - the band seems like it will lose elasticity quickly, hopefully I'm wrong. Regardless, this was pretty much the only choice if I wanted to be able to reliably change the volume.  EDIT: It has been over a month now and the band is still good as new. Color me surprised. So yeah... can't really think of anything I dislike about the product now. I'd give this five stars now if I could figure out how...\",\n",
              " 'I purchased the AYL Mini Speaker to use with my MP3 player.  I was impressed with the EXCELLENT sound quality, but within a day the built-in battery either died or did not receive a charge.  It has a unique (non-interchangeable) wiring harness which has a USB, 3.5mm Mini and a Mini B connector tied together.  There are no provision to run a 3.5mm F/M jumper wire from the MP3 to the Speaker (as on most speakers of this type). The speaker MUST use ths cable to operate.  I didn\\'t like this aspect/feature. Had the unit not failed and the wiring been a bit different (for my purposes), it would have been 5 stars.   I contacted the seller who replied after claiming my complaint was in their spam (after contacting Amazon) then they were more than willing to ensure I was happy with the product. They offered to send me a replacement overnight. They get 5 Stars for their personal involvement and commitment to \\\\\\\\\"Make it Right\\\\\\\\\". However, the wiring combined with the disappontment when it failed caused me to Opt-Out of their offer of immediate replacement. The speaker was returned to Amazon.  I ALSO MIGHT ADD THAT THE VENDOR SUPPLIES A CARD IN THE BOX ASKING YOU TO EMAIL THEM WITH PROBLEMS \\'BEFORE REVIEWING\\' AND ALSO GIVES \\'STEP BY STEP\\' INSUCTIONS ON HOW TO SUBMIT A \\'5 STAR\\' REVIEW.  SO BE IT WITH THEIR 5 STAR RATING...HMMMMMMMMMM?',\n",
              " 'This is my first ever review, so please bear with me.  I ordered this product for a 2001 Ford Taurus.  It was a Christmas gift for my son.  The next afternoon we pulled the factory radio out and realized the cables would not match up.  After closer inspection of the USA SPEC PA11 directions, there is a small notation, for Taurus\\' and Sables an extra cable is required.  On those cars the tuner is in the trunk and just the control head is in the dash.  Well, we put the factory radio back in the dash and grumbled a little.  Nowhere in the Amazon description is any mention of needing an extra cable for a Taurus.  After more research on the internet we decided by the time we ordered the cable, it would be easier just to buy an aftermarket radio and a Metra in dash adapter (which came with the elusive cable).  Best Buy had the Metra kit and radio in stock.  This did turn out to be the best plan, as the aftermarket radio is better than the factory one anyway. I contacted Audiosource and they were very helpful with the return and understood my frustration.  Clearly with Taurus and Sables being big selling cars this must have happened to someone else before. So, the moral of the story is, if you want to install this kit, or any aftermarket radio in a 2000-2007 Taurus or Sable, you will need an extension cable that goes from the in-dash unit all the way to the trunk!  This cable is not even available from Amazon unless you purchase a Metra dash kit.  Then it is included with the kit.  A small notation in the application description would have saved me a lot of time and shipping costs (both ways).  In the Product Description, they notate that the factory radio must have a CD button.  One more notation stating that Taurus\\' and Sables need an extra cable would have saved me time and frustration.  I have since put another radio in my own Taurus using a Metra kit and an aftermarket radio from Amazon.  It is like \\\\\\\\\"Knuckle Bruiser\\\\\\\\\" says; unless you are pretty handy, it might make sense to have it professionally installed.  Hope this helps someone out there.  Good Luck!',\n",
              " 'I bought this for my son and installed it in a 1992 cadillac. the sound is amazing, it is hooked to a sony stereo and wow the bass is sharp and hits very hard all the mirrors look like they will fall off from the pounding bass.',\n",
              " \"I love Skullcandy products, so it's no surprise I love this case.  Soft, yet solid, durable, scratch resistant, and fits like a glove.  The fact that it is lightweight and slim helps.  I'm a tractor trailer mechanic that works outdoors in a rough and dusty environment, and this thing helps keep my ipod like new. The screen protector that comes with it is decent, though some patience is necessary to eliminate all the air bubbles, as with any screen protector.\",\n",
              " 'Excellent case, beautiful and the price was right.  Have been using it for about a month and am totally happy with it. Boxwave sent the item out very quickly, would shop with Boxwave again!! Thank you for a reasonably priced and quality product!',\n",
              " \"This was a life saver. My engine would start on it's own at times because of the Remote Starter programming/malfunctioning. After a lot of research I found with this part, I could connect it to my remote starter and put it in Valet Mode (or even reprogram if I wanted). Connected this part as soon as it arrived and bam... worked like a charm. Fit perfectly. Small so hides under the dash no problem. Made working on my vehicle so much safer!\",\n",
              " 'These have a high level of accurate sound, crisp and clear.  The only reason that I do not give it a 5 star is that the ear pieces are a little too large and I have to readjust them frequently, especially if I am engaged in activity.',\n",
              " 'this is a nice mp3. holds all my songs and the speaker is nice and clear. and can get very loud.',\n",
              " 'Works well, if you apply it -just- right.',\n",
              " \"Only rank at 4 stars.<br /><br />Pros: can stream music via bluetooth from pretty much any device and still control it from the appradio. Settings are fairly easy to use, sounds good, looks good, cost is about right.<br /><br />Cons: Wiring is a nightmare when hooking it up for your android powered phone, if you've got small space behind the dash, it makes this process difficult. You cannot skip ANY steps in this part of the wiring. I've tried.<br /><br />Ultimately, I like it, phone stays in pocket, plays my music, cranking it up and just rolling with my tunes.\",\n",
              " \"Now if we can only figure out how to program the ipod we'll be in good shape. The cover fits and protects the screen.\",\n",
              " 'This is the best sleeve I have ever owned. It is easy to use. It is durable and looks great. It does just what I want it to do for me, protect my Kendle.',\n",
              " \"I decided to get fit after many failed accounts. I went out to jog and noticed that holding my ipod while running got annoying, so I looked for sports armbands. The fact that there weren't many reviews on this made me skeptical since both people rated it 5 stars. But hey, it was only $4 with shipping. All I can say is, I love it! The armband itself is stretchy so it can fit very large arms and since it has an adjustable belt, it can fit even the smallest arms, too. It can be a sports armband or an ipod case. I love the TPU skin case because it really has a great design and looks very durable. It also has a seperate slot to fit a cellphone charm (They give you one for free that says Minisuit on it, and it's supposed to be an LCD cleaner). All of the products are made of HIGH quality materials.<br />Now for the customer service, they forgot to add the armband in the mail and I immediately contacted them (they give you a card that has the phone and email of customer service which was REALLY convienient), and they immediately replied (within 3 hours). They said sorry for the inconvience and immediately sent one over, first class package, so it came in the mail within 3 days. I can use the case for everyday, and when I feel like jogging I can just attach the armband on the back (it has a slot of the armband too). Honestly, this thing NEEDS to be patented!<br />ALL in ALL: It's durable, it has great customer support, can change into a sports armband, plus it has a cellphone charm slot,  and IT WAS ONLY $4. What else can you ask more from a case!! I have no regrets in buying this...truly LOVE it!\",\n",
              " \"I got this speaker for my room to listen to music while playing video games. I wasn't sure if it would have an adequate volume while playing games but this speaker not only looks amazing it is much louder than I was expecting and is perfect for what I wanted.\",\n",
              " \"The wide compatibility of this unit is marvelous. I keep this in my backpack at all times, and use it to charge my Alienware, and my girlfriend's Dell Latitude on the go! I can keep my very expensive Alienware Power Supply at home, where it doesn't face the wear and tear that a power supply stored in a backpack undergoes.\",\n",
              " 'Great sound and so easy to bluetooth. Charges my devices quickly too.',\n",
              " 'best investment I have ever made. before I was only carrying my nook around in the case I bought it in to preotect it, now I use this leather case and so far it seems to be doing a good job. and it also takes up a lot less space while still being eye catching so I remember exactly where I placed it. I absolutely love it. I just wish they had more choices of design like superhero covers and things along those lines for the same great price i bought this one at',\n",
              " \"Junk. Don't give full refunds. Terrible tech help.\",\n",
              " \"Bought this stuff hoping that it might help a little.  It did absolutely nothing not even on the very small just surface scratches from the stylus pen!  It actually made scratches show up that I couldn't even see before!! Terrible product.  Go to Ebay and spend $15 to $20 and get a whole new screen!!\",\n",
              " \"Well, my grandson has been absolutely spoiled all his life.  He has received SO MUCH for birthdays and Christmas that it was becoming hard to think of a gift.  He had dropped his IPOD into the toilet about 6 months ago and it no longer worked.  So I thought the Fuze would be perfect.  He just loves it.  Gave him extra money to buy music for it but he has been perfecfly happy with the radio.  I've been thinking of getting one for myself.  A great item.\",\n",
              " \"So far so great.  I've only had this lightning cable for about 5 days but so far everything looks great.  When looking at it compared to the regular Apple cable it looks identical. Another review noted that the cable is a little too snug, but it hasn't been a problem for me.  I also love having the 6 foot cable, it's so much better for charging my phone at night or when it's plugged into my stereo.  I did get a notification when I plugged in my phone that the cable was not certified and may not work but I haven't had any problems yet.<br /><br />I will report back in a couple months about durability over time.<br /><br />In full disclosure the company did offer another USB cable for this review, however they specifically ask for an honest, unbiased opinion.\",\n",
              " 'I also tried the brand and model in a store and noe of them on the self worked. Try another brand or be ready to return them until you get a working one.',\n",
              " 'This turned my boring black Nook into a beautiful one! Not only does it protect it, it makes it look very stylish too! :)',\n",
              " \"Was not what I expected. I doesn't fit will. The tables slips out of the cover.  So, I had to throw it in the garbage.\",\n",
              " 'works great for my son.',\n",
              " 'Exelent an faster',\n",
              " 'Only gave a 3 star because the flashlight seemed used',\n",
              " 'This product was difficult for my daughter to use with her ipod.',\n",
              " 'Item fits very well - I ordered the artic white and my ipod is purple.  Case shows the dark purple as a light lavender.  Item included skin, screen protector, hard plastic screen protector, 2 wheel protectors and microfiber cleaning cloth.  Exceeded expectations.',\n",
              " \"This is the best $18 bucks I've ever spent!!! I've gone through numerous shower radios and was disappointed with the quality of sound with all until I ordered this! It sounds great and is so easy to use. The battery is amazing! I've had it since March and charged it for the second time yesterday (7/21). I use it daily for at least an hour as I get ready. Love it!!!!!\",\n",
              " \"this silicon cover works just as should, no scuffs, no marks, just a great way to keep your player clean and looking great. It won't slip and clings to most surfaces. Great buy!!\",\n",
              " 'my grand daughter loves this case she thinks I should have brought she have not put that ipod down since I got that case',\n",
              " \"Does NOT charge the 3G. Simple as that. Useless. If it wasn't so cheap, I'd send it back. Instead, it's garbage.\",\n",
              " 'But em there cheap on here cant beat the price put out nice tight loud bass buy it end of story',\n",
              " 'I received the monitor in a timely fashion - thank you. Unfortunately, it is NOT the item I originally ordered. It is also missing the power cable.',\n",
              " \"This CD Walkman is the best one I had so far, The sound quality is great, the design is elegant, the supplied earphones are awesome and it has all the features that I wished for. Sorry but no offense to the people complaining about this product, they are insane, let me tell you why, Battery life being too short, purchase rechargeable batteries, the controls are too small to read, come on are you blind? I don't have 20-20 vision and this is not an issue for me, the player stopped working, duh! this is a sensitive player that needs to be handled with care. So bottom line I highly recommend this player to anyone who is an avid music fan that still has and buys original Cd's Peace and good day!\",\n",
              " 'I bought this to use on my car and it worked perfectly, generated more power than i needed and i was able to add bluetooth capabilities to it without the need for a head unit in just a few minutes, would highly recommend it.',\n",
              " 'use this every day durable. have had for a few months  the card did not work  was a great value either way',\n",
              " \"Didn't work. It was an opened box. Someone installed it and returned it. Missing parts. It had a go pro USB cord that did not fit this product. Don't waste your money\",\n",
              " 'I wasnt too sure that if i should buy this iphnoe car charger since id had a bad experience with my old one. but I am so happy that i did purchase it cuz it has a very clear sound quality that i didnt experience with the other ones.  I love my new car kit.',\n",
              " \"Very Good!! Just have to change the language to English. Lasts for about 2-3 hours. Didn't come with the manual due to owner. Might need to buy new batteries if it's not new or the owner sent a used one. Good for the price :) Has games, movie, radio, photos, e-book, phonebook, & EVEN Speakers that plays Media out loud without headphones!!!\",\n",
              " \"This is a cute, fun unit.  If your lookin for a surround system this isn't it; but, for the money it is a joy.\",\n",
              " 'Product says thaat it will fit a iPod 4th Generation but it does not.It is made for the iPhone. Case is too big, not secure, and I would not reccommend it unless you have an iPhone.',\n",
              " 'yep pos, lasted a year mabe 30 uses and now won\\'t stay on....2 weeks past warranted. would charge, would play red light wouldn\\'t come on, finally found and poushed the reset button, this lasted less than 5\\\\\\\\\"',\n",
              " 'gets moisture inside and fogs len',\n",
              " 'couldnt as for much more - happy customer yet again with sentey',\n",
              " 'A++',\n",
              " 'I buy MP3 players like some people buy Travel Cups, or Shot glasses, or whatever little useful do-dad you want to name. I buy 3 or 4 a year, I seldom pay big money for them, and I just see how they work and which ones are worth even the $20-$30 I spend on them.<br /><br />Well, of all the dozen+ I have ever bought - this one is the best. I use my various MP3 players to listen to audio books, if I am traveling (out of a car - by plane or motorcycle) I set myself up with an audio book or 2 and I am out the door.<br /><br />The things I like best about this unit are:<br /><br />1 - It uses 1 AAA battery. This makes it easy to replace when it dies, and I get pretty good (12 hours+ on average) life out of a AAA in this guy. I prefer units that take a battery over those with a built in rechargeable battery, as in my experience, they tend to lose charge time over the life of the unit. All of the rechargeable built in batteries I have had in an MP3 player end up lasting under an hour within 6-8 months. For my purposes, that is worse than useless. There is nowhere to plug in an MP3 player if you are on a motorcycle, going down the highway...<br />However, every gas station in America has AAA batteries for sale - or close to it anyways...<br /><br />2. - There is built in memory you can use if you like AND it has an SD memory slot. I LOVE the SD memory slot. I can throw a book on each of a few different cards, and there is no hunting for the start of the right one. Finish a book, pop in the next SD card. That makes the versatility in this guy limitless.<br /><br />3. - 1/8\\\\\\\\\" stereo headphone jack lets you plug in almost any set of headphones you like - I can\\'t stand them new mini jobs that are the same size as cell phone accessories, (2.5mm?) as there just aren\\'t many QUALITY set available at a reasonable price.<br /><br />4. - It may sound silly or MINOR, but this unit has a built in place to attach an anchor. I use a leather thong that makes it akin to a pendant / necklace, but you could use about anything you wanted to in there - Where ever I am, and whatever I am doing, I don\\'t need to be holding my MP3 player in my hand while I am at it. I slip the thing over my head and it hangs down around chest high, so if I need to pause or crank it up or down it is right there.<br /><br />5. - Price... For what I have put into one of these, if I lose it / break it / feel like giving it away to someone - it isn\\'t a big deal. I can\\'t see spending HUNDREDS of dollars on something with a few more features I don\\'t care about, and then when it breaks, or I lose it - I am ticked.<br /><br />All in all, this is without question, one of the best MP3 player money can buy - IMHOo in there - Where ever I am, and whatever I am doing, I don\\'t need to be holding my MP3 player in my hand while I am at it. I slip the thing over my head and it hangs down around chest high, so if I need to pause or crank it up or down it is right there.     5. - Price... For what I have put into one of these, if I lose it / break it / feel like giving it away to someone - it isn\\'t a big deal. I can\\'t see spending HUNDREDS of dollars on something with a few more features I don\\'t care about, and then when it breaks, or I lose it - I am ticked.     All in all, this is without question, one of the best MP3 player money can buy - IMHO',\n",
              " 'the microphone broke on 2 of the 4 units within 1/2 day of use',\n",
              " 'The case itself is fine. pretty much exactly what i was looking for. It also came on time which is a plus. The case feels slightly flimsy especially the front part, but it does its job and it looks nice.',\n",
              " \"I purchased this for my 11 year old's iPod Touch 4G. In the past I've purchased the Otterbox Defender. The top, silicone layer of the Smile Case seems to secure to the plastic second layer much better than Otterbox. Plus the plastic layer seems to be a bit more sturdier than the one from Otterbox.   The case doesn't fit inside the black holster, but that's okay. The only drawback I've found is that the plastic case is nearly impossible to remove. Sometimes, water gets trapped between the iPod and the plastic casing (kids!)and I have yet to be successful with removing that plastic cover. Also, I can't use the Non-Apple adapter/charger I normally use because the plug is too big and won't fit the device if the cover is on. This is not a problem with Otterbox.  Despite that small issue, I am very please with my purchase and have no problem recommending it to others, especially to those who need it for small children.\",\n",
              " \"Fantastic product.  I have three of these (including the previous version) in my vehicles, and could not be happier.  The video quality is amazing.  The Windows app works really well, too.<br />The only problem I have encountered is that because of the type of glass in my Range Rover, the GPS can't receive a signal so the GPS function doesn't work.  I can't take a star off of this review due to that, because my toll road transponder also does not work in my Range Rover -- just something weird about the glass in that car.\",\n",
              " 'When it works, which is nearly always, it easily deserves five stars. But on occasion it can be flaky with connectivity, so four stars is the appropriate rating.',\n",
              " 'Love the hot pink key fob, makes my keys easy to find in my purse. Pad\\\\id for two day as needed right away.',\n",
              " 'This product is fabulous and cute. I store my GPS in it. The only problem I have is, it not enough room for my GPS cord.',\n",
              " 'Excellent value',\n",
              " \"Other than accuracy, my Qstarz BT-Q1000P worked pretty well.   After a year locations started jumping and the unit lost sensitivity.  Then it wouldn't log points until about an hour after it was turned on.   Finally, it stopped logging altogether.   Convenient but not a high quality product.\",\n",
              " \"I got the product really quick...I was surprised how fast.  It is also a very pretty pink, a true pink.  The only problem I had with it was it wasn't leather...I miss-read the description, my fault. I would not hesitate to purchase from this vendor again...they have great customer service and ship really quick.\",\n",
              " \"My first order this charger thinking it was going to be a htc charger. When I got the charger I was a little confused it has the mytouch emblems on it but I figured it would work. So it has been working and I have no complaints especially because I bought this for my htcinspire 4G and it works for my new samsung galaxy s 2 skyrocket. So if you're in the market looking for charger this works perfectly\",\n",
              " 'I must say that this was a surprise to me. It not only was a great value but it is very well put together. The Leather is excellent and it is stitched with care. Fits my Nook HD+ very well and the keyboard paired without effort. I like the way the Keyboard removes from the case and is magnetic. So when you put it back there are no seams to close. I would recommend this to all the Nook keepers out there.',\n",
              " \"Case fits perfectly but it smells horrible. I left it out to air for a week and it still smells horrible-so bad that I can't stand having it anywhere near me, let alone carrying it with me. I had other people smell it to see if it was just me and they agreed that it was terrible smelling. I know what leather smells like and this isn't it-the odor makes you want to gag. Also, when it first arrived it had a sticky feel to it and the black dye rubbed off on things. Really cheap material-I don't think it's real leather. Unless you have no sense of smell, DO NOT order this case.\",\n",
              " \"This case looked great when my daughter got it but when she tried to put it on the sides wouldn't snap on. A few days lets the case cracked in half and we ended up sticking to griffin and silicon cases.\",\n",
              " 'Great value cords work perfectly.',\n",
              " \"This holster comes with two belt clips. One is heavy fabric and snaps closed around your belt. The other is a very strong chrome plated spring steel clip. The holster has a very heavy metal D button that slides upside down into a bracket slot on either belt clip. When the holster is rotated upright, the D is securely locked in the slot.<br /><br />The steel clip has a really good grip. Thus I chose to use it rather than the fabric clip with the snaps. Unfortunately one day I had it clipped over my belt plus the waistband of my blue jeans (where I normally wore it). I sat down in the car just right to lift the clip and holster up off my belt and drop it on the ground as I got out of the car. The iPod was not damaged at all by the drop. The holster is much too rugged for that. I didn't notice the loss. Later a very kind cyclist called me to tell me that she had found my iPod. In the meantime something heavy had rolled over the pouch with my iPod inside. The iPod got very slightly bent but works fine.  The bracket with the D button got bent so that the D can now turn with respect to the holster, and the D no longer locks into the slot. I do not blame the holster or its hardware. It is really tough. After the accident and before the D got too loose I switched to the fabric belt clip. I had no trouble with it until the D button worked loose and I quit using the holster.<br /><br />I have just ordered a new Camo NZTK holster, i.e. the same model. I have confidence it will be fine. Although I originally thought the steel clip was better I will probably stick with the fabric one on the next holster.\",\n",
              " 'All that I expected and even more.  Very pleased.  It is much more versatile than I dreamed of. Recommend it for portability.',\n",
              " 'I had been looking for a case for my Nook Simple Touch but wanted a lower price than what I had seen when the Simple Touch first became available.  This one is perfect.  It was a bit of a tight fit at first, but it is just right now.  It is sturdy and put together well.  I would recommend it for anyone who is looking for a good case.',\n",
              " 'This case is skinny; especially as compared to the bulky one I owned previously. But that is the only positive remark I can leave. The folds in this cover are not perforared in the right spots leaving it completely imbalanced so that it does not even stand on its own as shown in the promotional photos. If you are looking for a good cover for your nook, keep looking...past this one!',\n",
              " \"I am pretty sure I clicked on the purple case because that is my favorite color. But low and behold when I opened the box it was green and I don't like it at all. So be sure you tap on the correct color. I found a better purple one that I like much better.\",\n",
              " 'While the battery seems to hold a charge OK it is NO better than the original. The \\\\\\\\\"tools\\\\\\\\\" are pretty much a one time use with NO torque driver for the screws. The instructions are lame so if you are lacking electronic skills or not technically inclined you may want to recruit someone who is to help with the opening of your unit. There are plastic \\\\\\\\\"grips\\\\\\\\\" which hold the covers together. They will break off easily if pressured. The rating would be a 4 or 5 star if all needed tools were included.',\n",
              " \"I love zebra print, but the product I received did not look like what showed on Amazon. The Amazon image looks sharp and seems like a foam material. The product I got was like real fur. This wouldn't be a problem if the fur was short haired, the long hair makes the zebra stripes seem like they are blending in together, which makes it look very bad. I wont be using this item. It almost looks used.\",\n",
              " 'This is sooo cool !!! I just can believe how nice looks in my arm.. very nice idea from apple to do this with the new Ipod Nano',\n",
              " 'I love this case. It fits well and the color is awesome. I love how cheap it was as well.',\n",
              " 'Great product!  Delivered quickly!',\n",
              " \"I give it a 2 star way to bright of a screen and it's not anti glare hurts my eyes.\",\n",
              " \"A bit of an odd design but it did well for a long car trip.  We went from Seattle to South Dakota and back in a car that didn't have Bluetooth.  It works well when you're away from major metro areas and can find a clear FM channel.  But it did keep us from having to listen to AM Talk radio out in the Bad Lands and instead enjoy NPR and the like pod casts.  Well worth the price just for that.  I haven't used it back at home because the FM spectrum is just too full here to find a clean channel (and there is enough to listen too.)  This was in a 2001 Volvo S60 with the factory radio and and iPhone 6.<br /><br />The phone interface is not worth trying to use and I wish there was a way to disable it.\",\n",
              " 'Needed something to extend the connector so I could use a remote device with my iPhone in a case. Works like a charm!',\n",
              " 'After researching various Bluetooth portable speakers I selected the $99 BeatBlocks. The quality of sound in for the size & weight is very good with decent base, mid-range & highs. i like the look of the BeatBlock too (offering in different colors would be nice). synching to multiple phones/players is very easy. I have not run out of power yet after 8hrs continuous play and recharging is quick. Overall I would say the BeatBlock is the best beat for the buck.',\n",
              " 'good',\n",
              " \"I love this thing and keep it in my messenger bag.  It charges both iPad and iPhone.  I used it on a week-long bike tour and was able to charge my iPhone and my brother-in-law's iPhone.  We only recharged it once that week.  We even charged our Garmin cyclometer.  Very useful if you have many USB compatible devices.  Combine this with Griffin's short USB plugs and this is all you'll need on the go.<br /><br />The only negative thing I don't like about it is that it's a pretty big and heavy brick to carry around but I figure that's needed with the charge capability.\",\n",
              " 'Works as expected and saves me time. The earpiece is a little awkward but it works just fine for me.',\n",
              " 'S&uacute;per!!',\n",
              " \"It definitely looks great, but the lock and volume buttons can be a little tough to operate. Especially when you can't see it like in your pocket, it's hard to feel where the volume buttons are. Not terrible, but eh.\",\n",
              " 'I saw several different variations of this product, but this one is by far the most attractive (imo). It is really simple and it works fine. You simply stick the sensor in the pouch and you dont have to worry about it.<br /><br />simple. cheap. effective.',\n",
              " 'Well designed, nicely made.  All in all a superb product.  I especially like the two pockets inside the front cover; very handy for keeping notes, lists, etc. sage and handy . . .',\n",
              " \"Got the case look nice and ipod fit perfectly in there.Had 2 Card holders but cards are hard to put in there.Not able to even put 3 cards in there.When i pull out my student id card feels like i have to rip the case apart to do that.Fits ioto pocket fine.U can use it like a wallet but i wouldn't.\",\n",
              " \"I just upgraded from an 8GB 3G iPhone to a 16GB 3gs, so I figured it was time to find a screen protector for it. I use a silicone protector for the rest of the phone, and it covers everything except for the screen. The Power Support Anti-Glare screen protector was what was recommended to me at the AT&T store. I went home and looked them up online and thought $15 for a freakin' screen protector? NO THANK YOU. I bought a cheaper screen cover off of eBay for $5, thinking it would do just fine. It didn't. It was a disaster. It curled up at the edges and around the menu button, and constantly curled up around the iPhone cover. It was a mess. So I finally buckled under the pressure and got this one, thinking that if it wasn't the best thing in the world I was going to take it back to the store and tear someone a new one.    Well thankfully nobody needed a new butthole, because this thing rocks. Easiest installation I've ever had, and it's staying firm on the screen. I didn't even have to push air bubbles out-- it just sucked right to the screen like it was made for it... because uh, really, it was. My silicone iPhone cover fits right over it, and it doesn't curl up around the edges where the cover meets the screen protector. I can't recommend this product enough.\",\n",
              " 'Fun and stylish way to dress up your nook. Fast delivery and great product. Very easy to put on and strong material. They have a lot of fun design.',\n",
              " \"I like to use it but I wish that it would have its own charger. Otherwise it's great and looks nice.\",\n",
              " 'If you have iOS 7 device you are probably tossing all those 3rd party cables that no longer work. This is a perfect alternative to Apple Products and best of all it is certified meaning it works! So if your phone says: Not a compatible accessory, that means you are not charging at all! So but this one!',\n",
              " 'This antenna did everything I expected it to do.  Good antenna for the price.  Nice clear signal.  Good antenna for the price',\n",
              " 'well made, exact fit quality made mountand very easy to understand. Enybody with a new T-Top install needs one of these.',\n",
              " 'Great price, great sound! Perfect little shower buddy!',\n",
              " \"I bought this wanting a quick easy way to holster my device while jogging/riding a bike. It's been great for its purpose. The back side has a slit where you can plug in headphones, but it's not that well tailored to this specific device which isn't a large issue.<br /><br />The strap is a bit tight, it's stretch material but even with some piddly nerd arms if I were to pull it somewhat tight it'd cut off circulation.<br /><br />You Can use the touchscreen through the plastic front, which is handy.<br /><br />I recently was riding while caught in a massive rain storm. I turned off my phone in case of short circuit and continued riding. After quite a while I actually assumed my phone would be ruined and soaked. When finally getting in, after about 40 minutes of being soaked in the rain I wanted to see the damage to the phone, which was none. It was entirely dry and I likely could have used my phone the whole time. This thing surely isn't supposed to be 'rain resistant' nor should you buy it for that. However, as a bonus know that a little water on it likely won't hurt your device.\",\n",
              " \"Very pleased with this product! It applies easily, comes with four protectors, (in case you don't get it just right the first time, like me), and comes with a cleaning cloth to ensure that no dust gets trapped on the screen. Its crystal clear, so there is no distortion of the picture beneath, and overall seems very durable against everyday wear and tear. I would definitely recommend this product!\",\n",
              " 'My purchase was not the name brand it said it was. It is a cheap, noname knock off that was sold for full price. I paid extra for what I thought was a name brand. I feel tricked!',\n",
              " \"This travel sleeve fits my KOBO reader and a cable. It offers reasonable protection and allows me to slide my reader into small luggage pockets or my handbag. I wonder how well it will hold up in the long term, but for now I'm pleased.\",\n",
              " \"This product worked the same as the factory antenna. I have a Y connection and hooked both this and the factory up at the same time to check hoping it would improve reception but it didn't. The only advantage is this one I can hide in the dash.\",\n",
              " 'This device does not work. The android apps just crash and will not run. It has not worked for a single device. Tech support said they are discontinuing this product, so no support solutions are available. Waste of time and money.',\n",
              " \"Two things I did not like:  The clip part blocks out the top of the screen.  Also, the light makes a glare on the page I'm reading.\",\n",
              " 'Saw absolutely no difference in my freckles or age spots, or even the overall lightness of my skin after using the entire bottle. I stayed out of the sun and wore heavy sunblock when I did have to go anywhere outside. Do not waste your money on this.',\n",
              " \"In my other reviews about the ctek chargers I explained WHY they are the best charger on the market today for lead acid 12 VDC batteries.  This input jack does 3 things to help you get the most out of your ctek charger:<br /><br />1 - it mounts permanently into a space available on your console and gives you a 24x7 alert as to the state of your battery's charge - note this is an EXACT FIT replacement for a factory din switch on many european or asian imports - I installed it into an empty spot on my honda dash just by pushing in on it and the grippers held it in place - simplest install all day long.<br /><br />2 - it hardwires directly to the battery avoiding the extra resistance from the car's fusebox (say if you used the cigarette lighter plug instead you'd be going through 2 fuses and a fusable link to the battery)<br /><br />3 - it is a dedicated port to plug in your ctek charger that you can locate conveniently anywhere you please in the vehicle, making the process of connecting up any one of the ctek chargers even easier.<br /><br />Before I bought this I had to lift the hood (bonnet) and clip on the charger when I parked while waiting for my new battery to arrive via the pony express.  Now I can just plug in the ctek and top off the charge any time.  Admittedly if everything were functioning perfectly or you never had to store your car for a long period, this would not be needed, but we do not yet live in a perfect world, thus it makes life a tad bit easier.<br /><br />Having used this with the ctek's optima battery setting (I also changed to an optima battery [[ASIN:B000AMDDBQ Optima Batteries 8012-021 D34 YellowTop Dual Purpose Battery]] so that I had some deep cycle capability on my honda) it has had a second value.<br /><br />I installed an escort 9500ix radar detector at the same time [[ASIN:B001F0RPGG Escort Passport 9500ix Radar/Laser Detector (Black)]].  These perform better if their reference oscillator is kept at a constant temperature, so by plugging my car in at night I can keep the radar detector warm so that the next day it's database of nuisance frequencies is dead on and doesn't make any mistakes with police radar because it counts the wrong frequency as it warms up.  This is true of all timebases from clocks to caesium beam frequency standards - they work better when left on.  The gps can also get updates about what satellites are not working well during the night so it is already running with live data when I drive out and not trying to acquire the 4 best satellites. Also if I forget to turn off the 110 VAC inverter in the car I won't have a dead battery from it draining the optima with the radar unit all night long.<br /><br />I'm discovering many benefits to keeping your car plugged in, and this jack makes it exceptionally easy to do.ctor warm so that the next day it's database of nuisance frequencies is dead on and doesn't make any mistakes with police radar because it counts the wrong frequency as it warms up.  This is true of all timebases from clocks to caesium beam frequency standards - they work better when left on.  The gps can also get updates about what satellites are not working well during the night so it is already running with live data when I drive out and not trying to acquire the 4 best satellites. Also if I forget to turn off the 110 VAC inverter in the car I won't have a dead battery from it draining the optima with the radar unit all night long.      I'm discovering many benefits to keeping your car plugged in, and this jack makes it exceptionally easy to do.\",\n",
              " 'Case arrived on time and matched with the info on the page.  Ok to me. Thanks!',\n",
              " \"Great, my 11 year old grandson thinks it is very cool.<br /><br />Fit's perfect on 4th generation I pod touch. nice look\",\n",
              " \"I recently purchased this item for my 32GB iPod touch (3rd generation), and I love it. The case fits perfectly. It's not so thick as to make the touch bulky, but it is perfect to protect the body and make it easier to handle (I have a habit of dropping electronics). It took me a minute to figure out how to apply the included screen protector (strip off the 1st tab, place on the screen, then pull the 2nd tab), but once I figured it out it was easy to apply. Start from the bottom and slowly work your way up, like squeezing a tube of toothpaste, and you should avoid any air pockets. All in all, great value for a great iPod cover!\",\n",
              " 'NOTE: this review is TL;DR. But you may find it helpful to you.<br /><br />Keep in mind that this is not exactly a full-fledged tablet. If you want something as nifty as an iPad or the Galaxy Tab, then this isn\\'t for you. It\\'s more like a Kindle or Nook on steroids.<br /><br />I got this yesterday, so I\\'m still exploring some things.<br /><br />STRENGTHS: great price, small compact size, can read pdfs, great downloaded video playback, GetJar compatible, included ereader app smooth, included task killer/manager, wi-fi decent, fast charging on AC adapter, light-weight, sharp image viewing/resolution<br /><br />WEAKNESSES: no camera, needs touch to be calibrated, no Google Play support, speed not very fast, typing issues (use fingernails or a stylus), no video out or hdmi out, included file manager is unintuitive, no Nook/Kindle compatibility<br />---------------------------------------------------------------------------------------------------------------<br /><br />TIPS:<br /><br />It\\'s not extremely fast, but it gets the job done. Make sure you calibrate the touch settings first. You can do this by: -Pressing the HOME button (the one that looks like a house). -Go to SETTINGS. -Tap on TOUCH PANEL CALIBRATION. -Follow the instructions.  If you do this, it\\'ll make your life much easier with this device.<br /><br />I don\\'t really like the included software suite (OfficeSuite). You can view Microsoft Office files, but you can\\'t edit them unless you purchase the activation (~$15). Download Kingsoft Office instead. It\\'s free, and you can actually edit and create new documents and such on it. Make sure you SAVE your work, kay guys?<br /><br />The included file explorer (EXPLORER) is not that great. I recommend downloading FILE EXPERT from the installed APPOKE MARKET. To use the APPOKE Android market, you\\'ll need to register.<br />***This tablet is not compatible with the Google Play Android market.***  You cannot download the market app nor download apps from the Google Play website. I personally called Google Play Customer Support, and they specifically told me that the EMATIC EBW404 is +NOT+ supported by Google Play. My wish is that they add support soon. The APPOKE market isn\\'t as comprehensive as the Google Play market. If you want more apps than APPOKE has available, might I suggest downloading the GETJAR app market? Most are free, and a lot of the same apps are in the Google Play market.<br /><br />I had some trouble watching YOUTUBE on the mobile website and the desktop version as well. I recommend downloading TUBEMATE from GETJAR. You don\\'t necessarily have to +download+ videos with TUBEMATE; it lets you watch videos.<br /><br />As far as the eReader is concerned: ***you won\\'t be able to read Nook or Kindle ebooks on this.***  It has KOBO, its own ebook store. Some are free, some aren\\'t. Try to find another third-party app that sells epub or pdf formats, as the built-in book reader will recognize pdf. NOTE: when you first try to directly open an epub ebook, you\\'ll get a message that says \\\\\\\\\"no handler\\\\\\\\\" or something that says that there\\'s no installed app to open it. Here\\'s how to work around that: -If you downloaded the FILE EXPERT app from APPOKE, tap on FILE EXPERT from the menu (after pressing the HOME button, the one shaped like a house). -Tap on MY FILES. -Go to SD CARD (this is where you find files you uploaded from your computer via USB to your tablet, regardless of whether you have a MICRO SD card physically installed). -Scroll down with your finger until you find the desired file (in this case, I used the included ebook <Alice in Wonderland.epub>). -DON\\'T TAP, but HOLD DOWN your finger or stylus on the file for 2-3 seconds. A menu \\\\\\\\\"FILE OPERATIONS\\\\\\\\\" will appear. Easiest to see all of it in PORTRAIT view (long and skinny view). - Tap on MORE... Another menu, OPERATION, will appear. -Tap on OPEN WITH. Another menu appears. -Tap on MORE... -Yet another menu appears. Different apps and options will appear on the menu. -Tapon EBOOKREADER. -Enjoy the book.<br /><br />***Be sure you charge the tablet when you open it from the box.***  The battery initially doesn\\'t have a whole lot of charge. It charges fastest when you use the included AC adapter.<br /><br />Sometimes, like any other computer or electronic device, it freezes. Turn the tablet over.  About an inch diagonal from the mini USB port is a small hole. That\\'s the reset button. It\\'s pretty small, so you\\'ll need something like a sewing needle or a really skinny paper clip or safety pin. Don\\'t press really hard. If the object won\\'t fit, don\\'t force  it. Find something else that\\'ll fit in the hole. Press for 2-3 seconds. You may have to reboot the tablet.<br /><br />Typing can be an issue. It takes a bit getting used to. Typing is easiest in LANDSCAPE view (longways/horizontal).<br /><br />If the tablet seems slow, use the included ADVANCED TASK MANAGER. Memory is limited, so be judicious with the apps you simultaneously have open.<br />---------------------------------------------------------------------------------------------------------------<br />Here are the apps that I got preinstalled on the device:<br />-ADVANCED TASK MANAGER<br />-ALARM CLOCK<br />-APPOKE MARKET<br />-AUDIO PLAYER<br />-BOX.NET<br />-BROWSER<br />-CALCULATOR<br />-DAILY PAPER<br />-EASY INSTALLER<br />-EASY UNINSTALLER<br />-EMAIL<br />-EXPLORER<br />-KOBO<br />-OFFICESUITE<br />-PHOTOS<br />-SETTINGS<br />-SOUND RECORDER<br />-VIDEO<br />Sorry, no Google Play Android app market.',\n",
              " \"I bought 2 of these for my daughter and boyfriend for Christmas. I put a battery in it to add music to it and it wouldn't even sync up to my computer. They are not worth the money you pay.\",\n",
              " 'A very nice unit for the money.. would recomnd for anyone wanting to upgrade from factory to after market stereo',\n",
              " \"It is not very easy to use plus very slow response. Suppose to supoort Mp4, but it does not. Also had to buy adapters because it is not made for the American recepticles. Tried to figure out how to switch mode between DVD to USB, unfortunately the instruction manuals is written in Chinese American. Can't understand it at all! Tried to return it, but decided a shipping charge of $38 to send it back to China insn't worth it. Buyers be ware. Junk it.\",\n",
              " \"amazing sound no matter what I'm listing to country heavy metal rap reggae just a great product trust me get 'em\",\n",
              " 'Works great for power distribution to amp lights up blue LED on the fuses and where it shows you the voltage meter',\n",
              " 'This case looks and feels great and made with finest materials, with the price tag it has, its a real deal !! I have both kindle and nook touch models and I got this for my nook. I love both these e readers :) Happy with the purchase and recommend this to buy',\n",
              " \"This has got to be one of the easiest to operate MP3 players I've ever seen.  I had bought 2 of these for my niece & nephew (he got a black one) for Christmas.  Upon buying them, I checked them out so that I could upload a few of their favorite MP3's and photographs.  In less than a minute, the Sansa Fuze was ready to go! It could not get any more simple.\",\n",
              " 'Amazon so far has proven to be a great resource for my Kindle supplies.  They are cheaper than the local retailers and I have the product at my door step very quickly.  Thank you Amazon.',\n",
              " \"Bought because it was inexpensive and didn't want to spend just as much as I paid for the actual Nook. It is great fake-leather quality that is soft and flexible for easy use of the tablet. I like the magnetized snap so I don't have to force it to close. Holds the Nook securely, and has a handy inside pocket for when I write something down that I just looked up. Also, the bungees that hold the top corners do not mess with the buttons at all.<br /><br />I would definitely buy it again.\",\n",
              " 'This is  a great product for the price. the mp3 player  is small and easy to work. the ear phones are very comfortable.',\n",
              " 'Thanks!',\n",
              " 'i bought it from different store but was disappointed because when it was installed i was crazy due to the engine whine comming from the speakers.i rewired the amplifier with new wiring from different technicians, which did cost me more then the price of this amp in total.and i ended up in engine whine again.dont buy anything from boss audio its a waste of time and money and why they made it this much heavy i dont know.its not worth that weight.the sound is a carp ,the answer is a loud and low quality sound brings you an amplifier like this with low quality and overweighted parts.',\n",
              " \"It's a pretty good cam. I bought my for accident coverage.<br /><br />Pros:<br />-The sucker for the window mount is powerful. Mine has not moved since I installed it a couple months back.<br />-Easy to use.<br />-Video is pretty good for the money.<br />-Very long charging cable for routing it around your interior edging.<br /><br />Neutral:<br />-I can't read a license plate 2 car lengths away but at this price can you really complain?<br /><br />Negatives:<br />-I wish I could use a larger micro SD<br />-Sound could be better<br />-The micro SD could have been easier to put in and get out. Right now I need a precise finger nail push.\",\n",
              " 'This cover came very quickly from the supplier.    It looks and feels of much higher quality than I expected. When I am not reading I slip my DX into the sleeve and either carry it or put it in my backpack and I feel reassured that my DX will be safe.    I suppose my only improvement would be if there was a think hard layer between the inner plush and the outer leather to provide a little more screen protection. However for the price that might be asking too much.',\n",
              " \"Kind of ambivalent about this one. Belkin makes good stuff, and have been happy with other items in their line. There's really nothing to this, and part of the problem is the design of the iPod. Was hoping for a design that would shield the entire thing,including the glass touch screen,  but they aren't out there.  This is like a picture frame without anything to shield the art from the elements. Wanted to do this without getting a bulky water-resist product, and keep dirt out  of ports, etc. . This snaps on quickly, is not slippery, and does afford some degree of protection, mainly against scratches on the back. It's expensive for what one gets, though, and it's usefulness is yet to be determined. More later, if any opinion changes.\",\n",
              " 'Ask for the Aux-Ipod conector, Aux alone doesnt let you control Ipod from radio.',\n",
              " 'I have this hooked up to an alpine type X 12&#34; sub and I love that I can keep it at a reasonable level to make my music sound full and still have enough room to crank it up to be obnoxious when I want to.',\n",
              " \"It does what it is supposed to do. Can't argue with the price..\",\n",
              " \"I would just rate this product as ok - not great or bad.  I bought this cable because my iPod headphone jack now only plays sound in one ear and the repair shop couldn't fix it.  First of all, the cable itself seems to be of high quality.  This is the second iPod dock-connection-to-3.5mm cable I purchased (I'm able to actually disconnect the jack from the headphones itself) and this one seemed to be of higher quality.  The problem with the first cable I bought was that after a couple of months the cable wire bent then broke at the base of the iPod connector.  This one definitely seems sturdier.  Unfortunately, the iPod connection doesn't stay firmly in the dock when I'm moving around.  Obviously, it probably wasn't designed for that - they probably didn't envision someone would be using the cable as a replacment headphone cable.  But still...that's why I say this cable is only ok.  If your plan is to use it with a car or home stereo, however, I would definitely recommend.\",\n",
              " 'had a defective display...could hardly see anything...maybe the battery was dead on arrival...had to return it...may be better to buy a watch at a box retailer and pay a little more to make sure it fits and works.',\n",
              " 'The unit would have had 5 stars all around, except for the rubber charge port-USB cover. As others have stated, the design of the charge cover plug is a Failure (i.e. it is very hard to connect the USB as the plug is in the way, it is also hard to open) I expect it will not last the life of the device    The Good  The picture is fantastic, I have used \\\\\\\\\"Pavtube Blu Ray ripper\\\\\\\\\" to rip dvds to be used on this unit  The sound is great and allows the true enjoyment of FLAC files and other formats to there fullest. I use Fedora 10 and Rythmbox 0.11.06 to rip to Flac  The radio I could not believe, it is better than\\x10 my home Sony stereo system, It is A+++++++  you have to hear it to believe it  The ability to record is good. (i.e. handy at a meeting)   The usage as a text file reader a nice option,  read a document while traveling ( i.e. works as a USB storage disk)  User interface on this unit is Nice and works well    The Bad  Cover for the USB plug connection    One point: My unit came with one USB to Cowon (mini USB) cable, so You do not need to order a second cable unless you need a second.  Other reviews hinted that it did not come with the player IT DOES (or it did with mine).      Amazon did a great job of getting this unit to me on time here in Hawaii, and it also arrived undamaged thanks Guys!     This unit is so much nicer than the apple options out there, in my opinion on this one.    I am looking forward to watching a couple of movies on my next flight.',\n",
              " \"Nice lil widget. Sound quality could be improved, but it was 10.00 dlls so can't complain too much! Very practical\",\n",
              " 'These idems make it easier too own a IPod',\n",
              " \"Worst doesn't fit wrong hole for ear phones slot\",\n",
              " \"I love my newest toy. I'm having fun learning all the things I can do  besides read books. Learned how to put music on today.\",\n",
              " \"Chinise product, look really bad, comes in a brown box, cables are not original, DON'T BUY IT\",\n",
              " \"This item is GREAT! We love it. It works perfectly with the sound system in our car. Tune the transmitter and the radio to the same station and you're good to go. (For us that's 88.1.)\",\n",
              " 'Very cute, easy to use, and all around a great case for an amazing price.',\n",
              " 'I had purchased these speakers based primarily on reviews here on Amazon.<br /><br />The package was opened up and the speakers were connected to my computer as I anxiously hoped to hear a good quality, clear sound...... and.... NOTHING.  There was barely a whisper of sound coming out of them.  I tried charging them for a full 24 hours.  Connected again... still nothing.<br /><br />I have tried the speakers on multiple other devices.... still nothing.<br /><br />They are being returned for refund.',\n",
              " 'Thanks',\n",
              " \"My newly college graduated daughter asked for a real dog for graduation.  We got her an iPhone & new laptop, because she has a new job with low income and can't afford the moey or time for a dog.  This dancing dog thrilled her and the disabled children she works with.\",\n",
              " 'Crystal clear sound. No more interference',\n",
              " \"Its so nice to be able to go on a run without lugging around a huge phone and being afraid to drop it! Its refreshingly simple: it just plays music. This also means its incredibly simple to use. Mine's pretty durable (I've dropped it around 12 times, and it still works fine!) And, this tiny guy can fit way more songs than I would ever need! To use it though, you need a micro sd card and a usb to smaller usb cable, both of which are easy to get a hold of, I just found them in an old box of wires/ tech stuff. The only thing that disappointed me a little bit was I could not plug it in with the usb to play music in my car stereo, but that's a minor issue that could be easily solved had I had a Aux cord handy at the time. All in all, super fun and great for the price!\",\n",
              " 'It arrived with one speaker almost empty and a kind of oil spilled all over.Sounds horrible.',\n",
              " 'This item is of poor quality. The Velcro stitching last five minutes and the loop section bracket twists causing the armband to loosen.  Please save your money.',\n",
              " 'Received items I order quickly. Had to exchange sub woofers for a smaller ones the support and exchange was very easy.',\n",
              " \"This little speaker blew me away when I first tried it out. It's perfect for what I will be using it for. I originally bought it to travel with and it is absolutely perfect for that. Sound quality is better than I expected it to be and the price was very affordable. Everyone I showed it off to wanted to know where they could get one for themselves. For the price I don't think you could do any better.\",\n",
              " 'Bought this charger to use with my cell phone electric charger.  The two prongs will not fit into the sockets of this charger.  The cell phone charger fits outlets all over the house.  Save your money.',\n",
              " 'Very good',\n",
              " \"I tried to transfer the internals of my key to this, but my transponder won't fit as they don't have the tab to hold down the transponder. When i try to use the tab from my old key, it doesn't fit into this one. Also my key will not fit into this so you must have their key cut by dealer if at all you will find one willing to cut an aftermarket key for you. Key looks nice but right now is lying on my desk and occasionally used by my daughter as a toy.\",\n",
              " 'This case is a nice protector for the GPS. Definitely worth the money.I do recommend this product. If you are looking for something to protect your GPS than this is the perfect item, because its firm in front and it helps from damaging the face of your GPS. Love it!',\n",
              " 'Wizgloves sold by Cyanics will keep your hands warm; and they are very well made and it looks like it can be last multiple winter seasons. I myself have worn these for months and never failed to keep my hand warm and work on iphone. At first, I was skeptical about this product that it could work on smartphones while wearing gloves on. Using iphone is my daily routines like most of you guys. Before using Wizgloves, I had to take the gloves off and answered the phone or replied the text messages. Now, I could do the same thing without taking my gloves off and answer it faster. It is still working excellent after several washes. The reason I choose Wizglove over other products is it\\'s made of \\\\\\\\\"Wool\\\\\\\\\" and the other competitors were mostly made of Polyester. It feels really good and no complaints.   Overall, you can\\'t go wrong buying these gloves. They are manufactured so well that you definitely get more than your money\\'s worth. A good deal!',\n",
              " \"Heavier and sturdier feel than the Apple cables. Great length options. It may charge slower than OEM chords, but I'm not complaining.\",\n",
              " 'These a a good quality bulb. I am experimenting with some special lighting projects which these work well with. I need to order a smaller diameter for our water feature.',\n",
              " 'I really appreciate the personal service I received from the company.  I was flying to London in 2 days and I needed the IMP500 battery pack the next morning.  They shipped it overnight by FedEx and I was able to charge it up and use it on the flights to and from London without recharging it.  I used it to watch videos on my iTouch on both legs of the trip. Great product!  I am very happy that I bought this piece of equipment.  Thanks for the great support! Keep up the good work![[ASIN:B002PV3UO0 Imax Power IMP500 3G 3Gs iPhone & 3rd Generation iTouch & all generations ipod 5000mAh External Backup Battery]]',\n",
              " \"Typical protective cover for kendel tablet. Fits nice and gave the pink one as a gift.<br />They are smooth so not so sure about that. I ts not silicone it's a hardesd plastic<br />Hope this helps.\",\n",
              " \"I bought this to hel my 9 year old daughter keep up with her first MP3 player.  It isn't very loud, which would be ok, except that it sounds kind of garbled with some static. I don't know the correct terminology, but I do know that the sound is awful! My daughter doesn't even like to listen to her music through it; she would rather use her headphones!\",\n",
              " \"This case for my son's iPod touch 5 gen. does what it should, pretection against minor drops and scratches. It has a nice style as well.\",\n",
              " 'I like the case and the protective screen cover.  But I cannot figure out how to use the belt clip (how does it fasten to the Fuze case?)  And the only way I can figure out to use the arm band makes it too large and flops on my wrist.  There are no directions.  That\\'s my only complaint, so if someone can post the \\\\\\\\\"how to\\'s\\\\\\\\\" that would be much appreciated.',\n",
              " \"I bought this radio for my coworkers and I to use at work.  We use it eight hours everyday and havn't had any problems.  We wanted a cd player to get ready to play Christmas music.  This radio is very simple to use. The USB port is a really cool feature.  We plug in our cell phones sometimes and listen to mp3s.  It also has an auxillary port for mp3 players to plug in. Sound quality is ok and radio reception is ok.  It doesn't have a digital tuning dial, but other than that...great radio.\",\n",
              " 'it works as advertised, i need to send mine back however. if the dock connector actually attaching to the device gets bumped slightly you can lose some of the left or right channel while playing music.',\n",
              " 'worked as required by unit.',\n",
              " 'Works great, love it. My patients love it as well. All my patients are ordering one for their homes  !',\n",
              " \"The only thing I don't like about this case, is that I had to enlarge the holes on the bottom of the case so that I could connect my headphones. Other than that the case is great. Fits well on my arm, doesn't slip down, and easy to use the touch screen of the player.\",\n",
              " \"This case is fine, but it doesn't look quite as classy in reality.  the edges around the side of the phone look really cheap, but the back is ok.  I thought it was actually woven, but really it just looks like it, it's one solid piece.  It's not actually leather, so it would be nice if it was titled differently.  Overall It's fine, and not too far from what I expected, due to price...\",\n",
              " \"These little mp3 players are pretty cool. I bought two of them because I wear them at work and usually work 8+ hours. The seller advertises a 5-6 hour battery life and that is exactly what you get. I have gotten nearly 7 with the volume lower than normal. But I would definitely buy them again. You can't go wrong for the price.\",\n",
              " 'For my grandson and he really likes it...  He and his little brother wanted covers for their iPods and this is what he chose',\n",
              " 'This was a gift to my mom for mothers day and she loves it. She put it in the kitchen and now she dances while she cooks. lol',\n",
              " \"This looks super nice and preforms like a champ! The power is perfect and i'm fixing to get another one and get a dual box! LOVE IT!!!\",\n",
              " 'Apologies on last post - they were both included.  Exactly as described and work fine.  Confusion in the household and wire bin.  Sorry again and thank you.',\n",
              " \"This is perfect for me. I use it to clip my ipod onto my backpack while hiking. This way it won't fall off and it is protect from me being an idiot and forgetting it's there.\",\n",
              " \"I  almost never buy an extended service but I did on my Samsung 55&#34; TV. After 3 1/2 years my TV went black. I call Square Trade talked with Ashley who was very polite she connected me to a tech. It was determined that the part I needed for the TV was no longer available so I was issued a check for my entire purchase which was received in 7 days. No arguments, no hassle. My son just bought a new TV and after the outstanding service I got he has purchased a warranty as well. It is sad that a high end Samsung TV parts are not available after only 3 1/2 years, doesn't say much for Samsung. I am glad I bought the square trade warranty.\",\n",
              " 'doesnt work AT ALL',\n",
              " \"Very disappointed in product and Bose.<br />I am told by Bose that remote does not control functions on<br />my Wave radio, as it is an older model.<br />They offer a 30 day return policy.<br />With Bose reputation for innovation, one would think they could<br />have designed a product to work across all of their products.<br />They do offer a 'special discount' of $100 toward a Wave music system II.<br />I guess this explains why they elected to have this product<br />only work with it's newer hardware.<br />I've had it with Bose and their overpriced hoopla.<br />Never again.\",\n",
              " \"I didn't really like it,  kept falling off when I tried to use it .I don't use  it, stored in a drawer .\",\n",
              " \"This Book Armor is perfect for my eReader.  It has a hard shell which prevents damage to the eReader and has a 3-sided zipper closure which keeps it safe.  The inside is foam-lined and the one side that doesn't zip has a handle.  Perfect!!\",\n",
              " 'Great product.',\n",
              " 'I love it it works great. I needed another 1 for work and this fits the purpose.<br />we keep on the desk since other co-workers have the same Iphone 4 it works<br />out great......',\n",
              " \"Attention Droid X owners: this product will fit your phone comfortably even if it has a case on it!  Granted, my case isn't as thick as some of the ones out there (its a simple plastic hardshell) like the Body Glove.  Not sure if it would work with a silicon gel case... My guess is it would be a bit difficult to get it in and out but it just may work.  The clear plastic cover on this thing works great.  I haven't tried texting on it yet but my arm isn't the most comfortable place to try to text someone from while I'm at the gym.  The case is soft enough that you can still press any buttons (including volume) and the headphone jack fits pretty well in the hole cut out in the case.   Also, it's secure enough that I can't imagine it falling out.  I haven't had it long enough to judge the build quality but I'll be sure to write another review once I've put it through some stress.\",\n",
              " 'GREAT BUT WISH IT WAS LOUDER. 2 WATTS. WISH IT WERE 4 WATTS. EASY SET UP, WORKS PERFECT. SUPER QUICK SHIPPING',\n",
              " \"Received the Sony CFDS05 this morning, everything seems to be In good working condition, haven't yet tried the cassette player until I find a cassette to play.  I bought this unit because It was made by Sony and needed a convenient size stereo with solid sound for a standard room, also satisfied how loud my PC sounds through this unit.  Mega Bass Isn't exactly what It you might expect, although adding a warm-natural bass characteristic without drowning sound clarity.  If need be, I will update my review If necessary, great price for a refurbished brand and model overall.\",\n",
              " \"The wall charger does not work.  I used the cigarette lighter adapter charger once and didn't seem to work.  Spend more money to get a charger that works.\",\n",
              " 'I bought 3 of these cameras for my 3 cars, one worked for few months then stoped working, the other two worked for 3-4 months, tried different memory cards different settings, nothing work all three is a piece of junk, dont waste your money, you will regret it.',\n",
              " \"Unfortunately this device doesn't have high enough playback levels to make it worth using. Because of the difficulty of sending things back I just put it in a drawer and chocked it up as a loss.  I give one star because it was shipped promptly.\",\n",
              " \"My daughter loves the colors as do I. I like that the covers are soft on the inside and fit the iPod snugly. The covers scratch up very easy and the edges of the pink and yellow are sharp. The green cover came with a crack in the corner. We will probably order another type of cover that doesn't scratch as easily.\",\n",
              " 'the product looks great. the price was great.  It was received with in the time frame they had suggested.  I have been using it for a month with no difficulties.',\n",
              " 'It was a bit of a pain to open the speakers itself, but battery works great!<br />got the portability back in time for beach season!!!',\n",
              " 'This handy little charger worked for about a month, then failed. Inspection revealed that one of the solder welds gave out, rendering the unit totally useless.',\n",
              " 'Bought this for my parents because they still have cassettes to listen to. Works just great! Great sound and no problem what so ever!',\n",
              " 'i love this amp it still working strong and i put alot of stress on it, an still going hardcore.',\n",
              " \"Mine works fine. Very small and looks like a second gen ipod shuffle. Songs tranfered easily with drag and drop in windows explorer. The problem is the audio output quality.. Its extremely tinny with the highs being way too loud and absolutely zero bass. I've used 2 separate earphones, one that came with an iphone and another pair of Sonys. Zero bass..\",\n",
              " \"I am going on holiday and didn't want to take my other cover as it is a bit bulky for travel.  The sleeve is fantastic.  Kindle fits in snugly but is easy to get in and out.  Great for carrying in my handbag.\",\n",
              " 'Did not work on my radio. I was unable to release the radio in my 2005 Audi Allroad, using these. If you look at the Metra tool for the same use, it is cut very much different. These tools were too thin and would not latch in place as they are supposed to. In addition they bent like crazy just trying to put them in. The Metra 86-9001 cost twice as much (once you buy two pair to give you four keys), but you get what you pay for.',\n",
              " 'Software works as expected. I can verify to all readers that this DOES work on Windows 8, 8.1, and Windows 7 64 bit OS. I am currently running this software and cable drivers on a Windows 8.1 64 bit machine. There is a work around that is very simple and easy to follow. Worth the money to be able to change your customizable options. But this is a very powerful software and can cause some harm to your vehicle if you do not know what you are doing or act careless. Should only be used by someone with some automotive experience and computer experience.',\n",
              " 'omg wow! so mice and cute small and very lite! which i love by the way and stores alot of songs wow amazing taking to long wAlks jogs oh yeeaaa! so happy with my order!',\n",
              " \"The quality on this speaker is amazing. Fast shipping and can be used for any mobile device. The small size is great,and it produces great sound quality. It's a great product. I would recommend this product to everyone!!\",\n",
              " \"Works great! It's range is very far - so far that if I make a call from my house, I have to tell it not to use this BT device. The distance from my garage to kitchen is about 50'!\",\n",
              " \"This records in High Definition. I've had this for about 8 months now and use it every day. The night quality is very good and the day quality is perfect. When playing back the videos, they are smooth and as crisp as can be.\",\n",
              " \"This is a nice new case for my iPod touch 4g but it has a few flaws: 1) The case blocks the dock connector partially so that when i plug my iPod in to charge, the plug is a little crooked. doesn't affect charging as far as i can tell though. 2) i don't know if they did this on purpose, but the button covers don't line up exactly, making it a little difficult to adjust volume and push the sleep/wake button. 3) it needs to cover up past the home button with a hole for the home button. this would keep the case on more securely    Overall i'm satisfied!\",\n",
              " 'Overall this is good for the money. The only problem I had was the velcro was stronger than the glue holding it to the band. Took out some needle and thread and it works great now.',\n",
              " 'I am very like this little tiny cute key, it fit my car very well.',\n",
              " 'Got what he ordered. Received when promised.<br />I will be ordering more in the store if something needed.<br />Not only have seen the tracking.',\n",
              " 'I needed a case for my TomTom One XLS and after first looking at the OneXL case produced by TomTom I decided to steer clear as it\\'s availability has been scarce and thus the price has been skyrocketing (it\\'s now going for $200 here at Amazon available thru a 3rd party seller!!!) So, I stumbled upon this leather case for the TomTom One XL that is beautifully constructed and fits the unit perfectly, it also has a window for the screen under the outside flap so you can view the screen while the unit is still in the case. There are also cut outs for the power button, and to access the inputs on the bottom of the unit (for charging etc.). In the back of the unit is a \\\\\\\\\"kickstand\\\\\\\\\" so you could have the unit stand upright on a table or even somewhere in your car if you didn\\'t want to use the windshield mount.    Overall, a great case and there are even two slots for additional memory cards on the inside flap. For $40 you won\\'t find a better case for your TomTom One XL or XLS. This case will work with either unit as the only difference between the XL and XLS is the text-to-speech option.    Happy Navigating!',\n",
              " \"Very bad product, do not come close to it, waste of money guaranteed. Bought 3 for my fleet, all turned bad, extra poor customer support , usually don't write reviews, this on just made write it.\",\n",
              " 'Good looking design on the case, and it fits the iPod 4th Gen very well. Feels comfortable in your hand',\n",
              " 'Works great,Good Quality, Fast Shipping no problems works as described. Money well spent.',\n",
              " 'Well its ok I guess, you get what you pay for.Next time I think I will spend more money for a better product',\n",
              " \"It's a very useful unit that delivers quality sound with depth, and usually connects well via bluetooth. The rechargeable battery life is good and the speaker is also lightweight. However, nothing can actually beat a proper stereo sound with separate left and right speakers, and if Bose developed some bluetooth speaker cubes they'd have a five-star product. The speaker also lacks any visible volume display which is a distinct disadvantage. I've used this speaker everyday with my iPad since I bought it about a month ago, so I still think it's well worth the money despite the need for minor improvements.\",\n",
              " 'This battery was totally depleted on arrival and would not take a charge.  This made it necessary for me to purchase a new GPS at a significant cost.',\n",
              " 'This is a great GPS, everything we were looking for.  Still learning all the features, we like the information tips it puts up on the screen occasionally. We plan on connecting a rear view camera to it.',\n",
              " 'This screen protector goes on smooth, no bubbles (use the little card they give you to smooth it down as you are applying the screen protector), and most importantly, it looks and feels like there is nothing there. It does not detract from the screen clarity and it feels the same as you swipe and use your touch screen. Tip: after your screen is on, wipe it with the cloth it comes with. It removes the initial slight resistance you feel from the new screen when you use the touchscreen.',\n",
              " 'Bought this for my husband after extensive research.  Product has great sound, great appearance and great value. <br />',\n",
              " \"For protection, I wanted a hard shell case but I also needed something I could actually see once it dropped into the cavern known as my purse. :) Go ahead and laugh but its true. This really fits the bill and I get a kick out of the color.     Seems well made. More than enough room to comfortably hold my Nuvi with a nice piece to store any SD cards you might use. Well designed in that sense. This is my first hard shell case so I'll admit I'm a little awkward when it comes to pulling the zipper around the corners but I have that same issue with my luggage so its just a matter of 'getting the knack' of pulling the zipper hold away a little as you round a corner.     The caribiner ring is a plus. I use it to attach the case within my purse so I know I won't lose it or have it drop out. It's also nice to slip your finger through to carry the gps.    Love that lime! :)\",\n",
              " 'Ridiculous sound from such a small package! very impressed wiht how long I can play on a single charge. Highly recommend this product!',\n",
              " 'Love this card quite and powerful.',\n",
              " \"Easy hookup. Can't even tell its there.\",\n",
              " 'good!',\n",
              " \"The sheet is thick enough and seems to protect the screen well, however, the tabs used on the corners to peel them off use gummy adhesive.  Either you have to leave the tab on or use some solution to get the gummy stuff off.  I left the tab on mine for now and it's distracting.  Wish they used the peel-off adhesive that doesn't leave a sticky residue.\",\n",
              " \"This cover is not for the PRS-650, but for the previous, bigger model - the PRS-600. I actually own both readers and tried it on both. It is big for the 650, it fits loosely and is kinda wobbly in there. The 600 fits, but the left side flap is a little bit wider and it actually covers a little bit of the screen (I don't know if this is item specific, you might get one that is just right).\",\n",
              " \"Being so cheap I had low expectations for this but my ipod fits into it really well and its actually quite comfortable. The buttons are easy to push and the headphone jack lines up great. It definitely doesn't feel expensive but it does it's job.\",\n",
              " \"It may work but it is not the same. It is poorly made and is not a quick charger like the original Nook charger. I wouldn't buy it again.I'll buy original from B n N next time.\",\n",
              " \"I was concerned that this cable would work. I read other reviews stating other cables of this type<br />Were unrecognizable to their device. It works perfect. The 9 ft cord is great. I like that it's apple<br />certified. The short cord I have for my Ipad is annoying. This is so much nicer. I would definately recommend this product!\",\n",
              " 'I HAVE TO SAY THAT THIS ITEM IS OK. THE ONLY PROBLEM IS THE REMOTE CONTROL AND THE COSTUMER SERVICE. I TRY TO GET A REPLACEMENT OF THE CONTROL... I NEVER GOT A RESPONSE FROM THIS SELLER...',\n",
              " 'Sound is Ok but the button did not work. I contacted their customer service, instead of exchange they just wants me to return it. Disappointed',\n",
              " \"Elemental Designs must be close to closing and going out of business. They haven't responded to my phone calls or emails in 3 months about an order I placed in May. Be very cautious about this company!!\",\n",
              " 'If you are buying this for one of the Baofeng/Pofung UV-5R series radios. it is loose but ok with the belt clip but the MSC 20C is a better snugger fit especially without the belt clip and it has a longer strap with a two point harness.<br /><br />The big difference is the funky tiny little (and I mean LITTLE) 3 point harness.  It says for hand/belt/neck wear.  It may work fir belt as long as yo do not have a waist (over your clothes) measurement over 32 inches.  As far as hand it must mean to carry it with a loop handle like a ladies clutch.  As far as neck/chest use, you could hook the two longer ends together and the third to one point on the pouch but the radio will be flopping all over the place.  The only way you could hook it up three point on the chest is if you have a chest size well under 28 inches over your clothes.<br /><br />So from the instructions and all appearances, these are made for people under 14 years old.  Useless for American adults.<br /><br />The pouch does have a belt loop with both Velcro and a snap, but if your radio has a belt clip, well there you go.<br /><br />My recommendation is the MSC 20C with a single long strap you can use any way you like.',\n",
              " 'before my child even opened the package the bling crystals were falling off!  not worth even the few $ i spent.',\n",
              " \"I'm always very please with eforcity, I like their stuff and for same reason if you not happy with something they always work with you thank you.\",\n",
              " \"The nook doesn't quite fit snugly ionto the clips and periodically falls out. It does look nice and delivery was prompt and the concept was good. My previous case was a black zipper case the had to be taken off and then searched for when I was ready to pu it back in. This one opens like a book and folds back so it's easy to read and is always there.\",\n",
              " 'I too installed it on a Windows 8 32bit system. Only difference is, mine shipped in mid January with a different version of the software and a new set of instructions. It is now shipping Toyota Techstream V8.30.023 with no need to update separately. Anyways, when you poke around with the software, you will realize how powerful this tool can be. Park outside, plug into obd2, plug other side into usb, start the car and leave it running, turn on computer, run software, then idle outside for hours while you tinker with it!',\n",
              " 'It was a good learning experience. This little device does not have a speaker so I salvaged one from an old radio. Later I learned the necessity of mounting and protecting such a board when I broke it. The sound quality was minimum and something that a person would build on a breadboard for dis-assembly after proving to themselves they could make it. Make sure you look up soldering techniques. Cold solder joints look soldered when they are not. Youtube is your friend.',\n",
              " 'I received opened setup and the radio would not work, trying one more, it really seemed great for a bedroom.  The second worked fine, great for a bedroom, it does not however save your spot if your listening to a book.',\n",
              " 'Normally I don\\'t review products, but like most first time reviewers I feel compelled to do so because of an extreme opinion of the product.  My opinion, unfortunately, is of the negative extreme.  I purchased the \\\\\\\\\"Quality Watch Strap\\\\\\\\\" because it seems like a great idea for runners who want to listen to music or use the Nike running app.  I will be returning the product however, because the strap broke within two hours of wearing it. TWO HOURS. I was not running or even working out during this period, but walking to the gym.  You get what you pay for, but I just wanted to put this warning out there because although the strap costs $20 the piece of equipment you are attaching to it costs $200. I was lucky that the attached ipod did not fall and break.',\n",
              " 'This is a great case. I have a Kobo ereader and it fits perfectly. I put the USB cord in the front pocket. This case is well padded and is very high quality. Great Buy!',\n",
              " 'I have a larger arm, but wouldnt consider it huge. The product fit me reasonably well, but possibly would not be considered as a \\\\\\\\\"large arm\\\\\\\\\" product. Otherwise no other complaints. Quick delivery.',\n",
              " 'If you are looking for pure SQ (sound quality) and can do away with the \\\\\\\\\"bling,\\\\\\\\\" this is the deck for you! The SQ and control offered by this deck are unmatched at any price range! With the choice of graphic or parametric equalizers, you should be able to get the exact sound you are looking for. Add to this built in time delay settings, and you will not be able to excite your ears more at any price! This is a no frills, SQ driven deck! If all you care about is SQ and you can live without the silly bling, look no further than this deck!',\n",
              " \"Got this for my Dad's ipod. Not much to say other than it fits perfectly and looks great.\",\n",
              " \"I'm known for being very hard on my possessions. My last phone had a huge crack running across the screen, had been dropped / unceremoniously (but accidentally) flung on the ground, and taken multiple water and beer baths. So when I got my iPhone 4s, I took everyone's advice to heart and immediately got a case and screen protectors for it before I even bought the phone. I put them on immediately before I could inflict any damage. These screen protectors are great -- I've had one on for about a month, and it has already taken a couple scrapes and held up well. There's no screen or color distortion under most lighting conditions except for under the fluorescent lights at work. Then you can definitely tell there's a protector on, and it has a weird oily / filmy look to it. However, it's only noticeable when the screen is off and the black highlights the weird distortions in the protector. I had minor trouble putting them on, but that's probably just a personal issue. Overall, I would recommend these screen protectors.\",\n",
              " \"Not only  the keyboard/leather case looks professional and sturdy, it is very easy to pair and hook up with your tablet, I did it myself and I'm not electronically inclined. I saw in some of the reviews  some of the buyers weren't satisfied with the size of the keyboard but you have to keep in mind that you want something light and easy to carry around or else you'll be carrying your laptop. I know my typing will be more accurate when I am more familiar with the keyboard, it always takes a little while to get used to them even if you are a good typist. I would recommend it to my friends as a very good buy.\",\n",
              " 'i am enjoying my pocket speaker.. description was excatly what i got! thank you for timely service. i will recommend you to my friends',\n",
              " 'These things SLAM!!! This is my second pair and they bang like king kong. I have 4 in a Nissan Armada with a Brutus Elite 1200 watt and a NVX JAD1200.',\n",
              " 'This unit worked supper out of the box , but after the unit battery whent dead it would not charge up .so it became a peice of junk and whent into the trash can!<br /> ((( do not waste you money))))',\n",
              " \"they send the wrong battery in the first place and they send the wrong battery for replacement, they send the correct the third time, have to be they don't speak English, make me wasting money to clear and ship they battery two times and they send the wrong battery and also the batteries are used, the battery pole are scratched and they start swelling the moment you put them in the phone to charge like they want to explore and they should not be selling people used battery when you paid for a new one, please save your money and dont ever order nothing with these folks, keeping send wrong battery like they don't have no understanding.\",\n",
              " 'For the price, these radios are great.<br />They work for me with no issues.<br />If you break the price down they are $37 each.',\n",
              " 'I THINK THIS IS AN AWESOME MULTI-PURPOSE CAR CHARGER + FM TRANSMITTER/HOLDER. I HAVE ONLY USED IT FOR MY IPOD AND PHONE BUT IT IS AWESOME!!',\n",
              " 'This works well.  Much nicer than the $6 one I bought and threw away.    One quirk is that every time I turn my car on, it seems to go to \\\\\\\\\"folder\\\\\\\\\" mode - where it plays all the songs in a folder, rather than the \\\\\\\\\"random\\\\\\\\\" I have selected.  I suspect this is a bug in the software as I can set it to \\\\\\\\\"random\\\\\\\\\" and it works.    A second quirk is that if I use a Thumbdrive, when I turn my car on, it doesn\\'t see the thumbdrive and goes into \\\\\\\\\"mp3 mode\\\\\\\\\" - I\\'m guessing waiting to plug in an MP3 player.  I have to pull the thumbdrive out and reinsert it to get it to play.  Not a big deal, but annoying.    Anyone know how to make it STAY in random?    The picture above shows a cool equalizer display?  Anyone know how do you turn that on?',\n",
              " \"We spent a couple hours checking reviews on almost every case we could find. We decided on this one and we are happy we did. There is no funny smell. It only covers the non-viewing area. The speakers and buttons are not covered. It has enough padding to protect the Fire but it's not bulky. With the hand sleeve you can hold it in either portrait or landscape. We found it is better to tuck the strap into the sleeve so it does not distract you or get in the your way. The fastener is a magnet but works just fine. The exterior texture makes it look and feel wonderful.\",\n",
              " \"Didn't get the right product I was needing.\",\n",
              " \"Original Review: I absolutely love the length...and I'd love it more if it actually worked! Brand new, and doesn't work. Not one bit.<br /><br />EDIT - Today is Saturday, November 16, and I received a replacement for this cord from the company. In the original package, there was a slip saying that if I wrote a review and sent them the link, they'd send me a free cord. I'm very happy, because this one works!! I love the length!! Hopefully it'll last a long time, but we'll see. I'll come back and edit this review again if it stops working!\",\n",
              " 'Was not that good was not the size they say it is',\n",
              " \"The decal fits well, haven't had too much trouble with the edges curling. The screen protector comes with one of those handy smoothing cards. The case is a tight fit, so don't plan on fitting anything beside paper in the pockets. Also, sometimes the straps press on the volume button when adjusting the Nook. Besides that, it completes its purpose, which is making my Nook look nice while its protected.\",\n",
              " 'just what I was looking for',\n",
              " \"I bought this speaker without being able to find/view product reviews. Thank goodness I wasn't disappointed. The sound volume and quality is great! Just what I need for my laptop/phone. The USB plugin is an added bonus. I recommend this speaker to anyone looking to boost sound on any of their music/media appliances.\",\n",
              " 'never worked.',\n",
              " 'It was very easy and uneventful to install and I like the ability to choose between ereader and tablet.   I also like the fact that I have access to more apps.',\n",
              " 'I love how this product was so easy to apply to the nook color. It is great and durable. I am ready to order more of this product in different colors',\n",
              " \"I received the case two weeks before it was supposed to shipped. Good quality and honestly it was so inexpensive to purchase. Cheap, downright steal. The Garmin does not come with a case. (This is a new... as my husbands Nuvi came with a case). Buy this to protect your purchase. It's a no brainier!\",\n",
              " 'I bought this CD deck with high standards and It has met and went above those High standards. I love this deck. the shipper was very nice to deal with as well it was shipped in a very fast and timely manner. I got my product about 3-4 days after my purchase. Everything worked great. I highly would recommend this product to another buyer and would recommend Audio craze as the seller. 5 stars',\n",
              " 'This works fine for small stuff like cell chargers etc.. but we took it camping to blow up an air mattress and even with the car running it blew the fuse.',\n",
              " 'First off, the package was already opened. When i saw that all 5 pieces were there, i thought it was fine. I just finished applying the screen protectors to the front and back of my iphone 4s, and let me say that it was a pain. I cleaned off my phone using the cloth provided, but when i applied the front, I noticed that all the edges of the screen protector had lint stuck to it, causing the edges to bubble! i took it off and applied another one, still lint! however, this time not as much. the same happened with the back covers. I am now stuck with bubbles on the back because both of them had lint! It is driving me nuts looking at this ugly screen protector!! SO DISAPPOINTED.',\n",
              " \"This is the first dashmount for my first GPS. Took it out for my vacation. It allowed for great flexibility with regards to the placement of the GPS. Drove some very twisty back road briskly and the mat didn't move a millimeter. Yes, you can get a dashmat and mount separately but why bother? The adapter for the TomTom Go series works fine.<br /><br />My order showed up a day earlier than expected, which was an added bonus.<br /><br />Happy trails!\",\n",
              " \"i was really excited about this but the cord that plugs into the FM transmitter part and into the outlet doesn't fit into the transmitter! i don't know if i just got a bad one or what but im really not happy with this.\",\n",
              " 'works great',\n",
              " \"Bought for my wife also, she used but she doesn't like it as much because it is not stirdy in the car, it bobbles all over if you have the phone resting in it, or charging. I dont recommend buying this, because I know there are much better ones out there. Delivered on time, and good service, but not a great product.<br /><br />I gave it a &#34;it's okay&#34; because of service....not because of product.\",\n",
              " \"This speaker is amazing.<br /><br />I actually suctioned it to my bathroom tile, and then it fell off and hit the floor and broke.<br /><br />I unscrewed it, noticed that one of the power wires got un-soldered from the circuit board.  So I superglued it back into place, and the speaker has worked perfectly ever since!  The battery life isn't impressive, maybe 3 songs a shower for 4-5 showers, and then the battery has to be charged, but since you only use it about 10-15 min a day, it's perfect!\",\n",
              " 'love it bought 2',\n",
              " \"It works for me when I'm cleaning and moving from room to room, but I did need to buy the extender belt with it, since I'm overweight.  I wear it on my backside and would of gave it 5 stars if it had a longer belt.\",\n",
              " \"When first fitted, the sound didn't work, so we hazarded a guess that it was the standard quality HDMI cable that was the problem. When we switched it out for the highest spec HDMI cable we could find, it was fine. The picture quality of Netflix isn't perfect, but it does the trick. Videos and photos are crisper images.\",\n",
              " 'Outstanding product.. installed myself... no previous experience...(I did a lot of research before I felt comfortable enough to  take on the task).  Works great and very safe for manual vehicles. Recommend to anyone with a manual transmission looking for an inexpensive but good quality remote starter.',\n",
              " 'I love this box it sounds great and fits perfect in my cadillac deville. Shipping was very fast but please make sure it will fit your car before u buy.',\n",
              " \"My first GPS was a Magellan Roadmate GPS. Not having anything to compare it with, I thought it was pretty great until it broke for the first time...the adapter cradle kept vibrating loose and it would shut off and power back on...over and over again. $40 dollars got me a new cradle...which lasted a month and started doing it again. I glued it on this time, which worked OK, but meant I couldn't disconnect it from the windshield attachment bracket...but at least it stayed on. A new problem now is the touchscreen has gone out of calibration....you try to touch one thing, and it registers something else. There is no re-calibration utility. I called their tech support which is a phone bank in India. If you want ot know how helpful they are, I had to spell my name....JOE....4 times before they got it right. It went downhill from there. I finally decided to buy a new GPS, a Garmin Nuvi 600 and couldn't be happier. The maps are better and more current, the unit is way better designed, and the Garmin has better features than the Magellan. Check out Consumer Reports to see a side by side between Garmin and Magellan. Garmin is by far the better company.\",\n",
              " 'It was just right for me.  I bought it for my mom and I needed something that was easy to use.  The sound is really good for such a small cd/radio player.',\n",
              " \"It is a great little speaker with good tones.  I hid it on a hat that I decorated for a Women's event - it was wonderful.\",\n",
              " \"My Son LOVES! He &#34;dresses&#34; his iPod up daily. He even made a hiding place for them, &#34;In case someone breaks in, they can't steal them.&#34; He said! Good fit, fun colors, great deal!\",\n",
              " 'Pros: This skin *looks* good. I was specifically looking for a bright red to help me not lose the iPad, and this accomplishes that. It gives an almost neon tube effect at the edges when it\\'s backlit, a look I love. Fingerprints aren\\'t particularly visible and dirt doesn\\'t seem to stick to it much. I also like that it\\'s transparent, so I can slip black-and-white artwork between it and the iPad\\'s back for an even more distinctive look. Finally, it has a pleasant overall feel, making the iPad easier to hold and prop up than a naked iPad.<br /><br />Cons: Quality is mediocre. There are rough mold joins around the whole perimeter and each cutout that are mildly irritating to the fingers. It\\'s not quite tight enough, so it often slips off a bit, especially next to the home button. The covers for the volume control and power switches are poorly distinguished by texture, making it hard to find them without looking.<br /><br />I also own a plain, mostly clear but slightly taupey-grayish Scosche \\\\\\\\\"glosSEE\\\\\\\\\" skin [...]. It is fantastic quality in all the ways this one is not -- smooth edges, perfect fit, perfect differentiation on the switches. It\\'s also very slightly harder and slicker, but just as easy to hold. However, I think it\\'s ugly -- it\\'s definitely not neutral or crystal-clear, and it\\'s aged quickly in the year I\\'ve had it, looking dingy and smeary. I don\\'t really like using it in a professional setting. If the Scosche was available in bright red, I\\'d probably get one anyway, but it isn\\'t.',\n",
              " 'Great sound worth the extra money i spent on these speakers. unbelievable clarity and power in these small speakeers!',\n",
              " \"One unit got bad after exactly six weeks of occational use. PLEASE STAY OFF THIS ITEM. DON'T SAY YOU WERE NOT WARNED. Got it from this seller Hisgadget Inc\",\n",
              " \"I don't use this much - an hour a day - 5 days a week. But I have not had to charge this thing since I received it in August. I keep expecting it to stop working, but it doesn't.  Call quality is good. I live in a place where an heir to the crazy progressive prohibitionists wants to ban even hands-free cell phone use, so the fact it looks like a Garage Door opener is awesome.   Call quality is good. It syncs up well and has ridiculous range. I think I could put the phone in the trunk and it would still pick up.   The ringer is a little quiet, but overall this thing has been cheap and good.\",\n",
              " 'Fits my Garmen GPS to a t, very good looking and of good quality. I would recommend, I would buy this product again.',\n",
              " \"I have a very large collection of pdf's that I read from this reader is very slow accessing the pdf's, turning pages and generally reading them. It does not work for me. This is the first Sony product I own which has not lived up to it's potential. I do not recommend this for anything but casual use, if that.\",\n",
              " 'Because I just ordered one battery and they charged me and sent me 2 .i am pretty upset about the additional $23.00 it cost me .',\n",
              " \"Bought this for my husband, based on other reviews.  He loves it!<br /><br />FYI - don't clean your eye glasses with it!  Yuck.  Doesn't work on those very well.  Obviously meant to wipe down a screen.\",\n",
              " \"While the price was okay for this item, I'm very unhappy about the case peeling.  It's even coming apart in some places.  I'm very dissatisfied.\",\n",
              " \"After gazing over the wall of extremely over-priced Nano covers at the Apple store, I quickly decided that I could find something cheaper online. This case is perfect for my 5th gen Nano--it fits securely, but I know I could get it off if I needed to. (Have you ever felt that pang of fear when you snap on a case and then wonder if you'll ever be able to get it off without a chisel? Not to worry here.)    I did end up using the stick on screen protector, and now that's it on, I don't think I'll be trying to get it off. But you wouldn't have to use it if you are nervous about sticking it on the screen--the case has a screen protector already. The whole thing's plastic. (Nothing cut out around the screen area.)    Another thing that upped my approval was that I could put earbuds with thick push ins in. That might be a tad hard to follow, but if you use a different set of earbuds than the one that came with the iPod, they tend to have like a squarish plastic joint that attaches the wire to the plug. I did not have any trouble with these plugging in to the case. (I've had experiences where I try to use them and the whole case unsnaps and falls off.)The little bag to store the Nano in was a nice little bonus too. I haven't used it much, but it's nice if you want to throw it in a backpack and not worry about the earbuds getting all tangled.    Affordable and functional.\",\n",
              " 'love the bright color ... and everything else.... will love to buy others... it is a good price range ..',\n",
              " \"This is one of the many reasons I don't like console games too much anymore, especially shooters. &#34;Turns any weapon into FULL AUTO&#34;. Really? Why don't you just learn to aim and fire fast at the same time. It has an autoaim &#34;feature&#34; as well? Why can't you just learn to press the trigger with both fingers at once.This is a product designed for the lazy and the cheating. &#34;designed to work around Cod rapid fire patches&#34;. Again, really? They're there for a reason. They try to make the game more fair and by making this product you take away the value of the hard work developers put in. I would say that rapid fire would break Battlefield 4, but good luck using that when all but 2 single fire guns have high recoil. Even more points lost for false advertising.\",\n",
              " 'This charger worked for two days, then stopped. Do not waste your money on this product. I had to borrow a charger from a friend instead.',\n",
              " 'I could only fit my GPS ( n&uuml;vi 3597LMTHD Part Number: 010-01118-00) in the case, there was no room for the power cord and holder.<br />I feel it will keep the GPS from breaking if dropped.',\n",
              " 'Very pleased with radio',\n",
              " \"This is a solid product. I was very impressed when I opened it up. There is nice padding to grip and protect whatever it is holding. There is a nice locking adjustment for expanding the holder to get the perfect fit. It also tilts and swivels as needed. The suction cup has a ratcheting/lock feature to help secure it to the windshield. It is also easy to remove by releasing the lock and pulling on the suction cup tab. I haven't used the vent mount(the arms for the vent mount aren't long enough to use in my Prius). I love well designed products!\",\n",
              " \"I just purchased this battery and am totally stunned by how long my iPod is running!  It was promptly shipped by Other World Computing and received, hassle free.      Claims of up to 27% longer battery life are true and perhaps understated!  The website recommends that the initial charge be 12 hours even thought the charge meter indicates fully charged in a few hours.  Doing a 12 hour initial charge prolongs future battery life. After the initial overnight charge, subsequent charges are as quick or quicker than the original iPod battery - that being a few hours.      As a test to see how long the battery would last I set the music on repeat and normal volume level and let it go until full discharged.  It's been 11 hours continuous and still going(!!) Much longer run time than the 7 hours that I was hoping for and the 5 or so hours typical on a regular new iPod battery. This battery has far surpassed my expectations even though I expect that with intermittent use it will need more frequent charges. Nonetheless if I ever need a special battery for anything I will check out [...] products first! And the battery comes with a one year warranty, registration on their web site required.      Battery cost me $20 delivered and while there were cheaper ones on the web, I thought the few dollars more spent to get the extra battery life would be worth it, and indeed that has proven so. The provided tools worked fine too although an extra pair of hands to get the case open may help. Easy to install but pay attention to what you are doing.  Five star+++ all the way around, I couldn't be more pleased with this choice.\",\n",
              " \"In the morning, I unplug this from the charging wire and stick it in the shower so I can listen to music while I get ready. Then I turn it off and go to work. While I'm there, the SoundPal detaches from my shower and goes out to its own job, working as a busy inner-city doctor. Then it donates some of its time volunteering at a soup kitchen. Then, it somehow finds the time to have an enriching social life and even date. At least, this is what I assume. It's the only possible reason that it could be completely drained of battery power when I turn it back on the next morning.\",\n",
              " 'Thanks',\n",
              " \"I bought this impulsively because of the sheer cuteness of it. After using it for a week, I have decided to return it. The design is bulky, and you don't even get to enjoy the cute turtle because it is on the back. It fits too loosely for my comfort, and it seems that it would stretch after time. I felt that it was pretty thick, and could be pretty durable. The power button was hard to push as there is a thick piece right over it. I cannot here it click, and I would sometimes have to press it three times to put the Ipod to sleep. The texture of the case picks up dust and dirt like a magnet. After the week I used it, it looked as if I have had it for a year. My Ipod doesn't move around much, it only goes in my car and on my desk at work, nowhere too dirty.\",\n",
              " 'Excellent',\n",
              " 'Carry strap failed after 2 days of use and zipper failed after 3 days of further use. At end of 5 days, product was disposed of, and a new case purchased from a national chain store, still China made, but at 1 month, still unfazed.',\n",
              " 'The case is a great color and fits the iPod 2 just as stated.  The extras were an added bonus.',\n",
              " 'Easy to clip on and off.<br />Exposes all of the ipod, so you get easy access to all the buttons, and you see the color of the ipod as well. Need a protective film for ipod...',\n",
              " 'I bought this for my 11 year old daughter about six months ago and it still looks good, despite constant use.',\n",
              " \"It works great to protect my &#34;new&#34; ipod. Packaging was nice, too. Exactly as described. It fits perfectly on my screen and it's working great to protect my screen.\",\n",
              " \"I bought one of these little speakers because this model has always gotten excellent reviews and $50 is nearly HALF off the normal cost.  The speaker arrived on time in generic but secure packaging.  It came with a Logitech USB power supply plug and a USB-to-microUSB cord about 18&#34; long -- a handy length I didn't have before.  I can't see any cosmetic imperfections and there are no &#34;Sharpie&#34; markings that some others evidently found.  It looks fine and sounds great.  Just in case the supply of these is limited I bought two more BEFORE I wrote this review!\",\n",
              " \"Its really pretty. I love it. I'm gonna order one for my best friend as well. Its very light weight so be careful not to drop your ipod touch cause the case will fall off. I dropped mines a couple times and the case fell off but I just put it right back on. Overall a great and reasonable purchase.\",\n",
              " 'I had this charger less than 3hours when it fell apart. the part that holds the battery broke off in my hands while removing the battery. DO NOT WASTE YOUR MONEY ON THIS POORLY CONSTRUCTED CHARGER!!!!',\n",
              " 'I waited more functions from  the  remote control',\n",
              " 'I am more than satisfied with the JAVOedge Lumberjack Flip Case I purchased for an Amazon Kindle 2.  I like the flip style as opposed to the book style.',\n",
              " 'The transaction was seem-less and the product is exactly what I needed without any issues in the process. I recommend this product to anyone that needs a 2port USB car charger adapter!!',\n",
              " 'I had my PnP2 since 2004 and loved it.  This unit has lived up to those expectation with many additional improvements.',\n",
              " 'Daughter loves her new skin.  Made with a little grip to the case, not as slick as I thought it was going to be.',\n",
              " 'These were cute and perfect for my kids. Good to get a bunch due to wear and tear or to change up.',\n",
              " 'Provides decent protection for ipod but not as well as an otterbox or anything like that...looks awesome but i need a knife to open up the kickstand which is kind of dumb.',\n",
              " 'It was a huge shock when i didnt even get this, they didnt even give me what i paid for, dont get this!!',\n",
              " 'The product is a scam',\n",
              " \"I gave this product to my mother-in-law.  She loves it.  She can listen to her ipod when she is folding clothes or doing housework.  She doesn't have to worry about her earphone wires catching on to something & being ripped out her ears.      I have one also which I use at work. I hear only my music.  I take it everywhere I go.\",\n",
              " 'Must have product, it was so easy to install, great benefit, no interference with the touch screen, helps protect from moisture and sweat, depending on your activities!!',\n",
              " 'perfect .',\n",
              " \"these are not for anyone looking to have amazing quality i mostly use these when i go to the gym so that i don't get my nice expensive headphones wet. For the price it is worth it because it has served its purpose well and i think it is worth the money for anyone listening to music just because they want to. it is not bad quality and will work for many devices.\",\n",
              " 'I did not like it, the leather came off.',\n",
              " \"I ordered this bundle to share between 3 grandsons - one getting a wall charger and 2 others (brothers) getting a car charger for their iPods.  The one grandson got a dud with the wall charger - it doesn't work!\",\n",
              " \"I wasn't sure i would like the style but decided to try it at the price.  i works well and is very comfortable for reading with it set on my lap.  Quality is good and the feel is pleasant.\",\n",
              " 'Excellent',\n",
              " \"I didn't buy this cooker through Amazon, but Walmart also sells them.<br /><br />Until today I was perfectly happy with it. It was easy to clean, easy to use, and cooked the rice nice and sticky. A good buy for $13 USD.<br /><br />But, today, it just decided to up and die. I put the rice in, plugged it in, and turned it to &#34;cook&#34; mode. I come back fifteen minutes later to find that neither light is lit and the rice isn't cooked fully. I flip the switch a few times: nothing. I plug it into a different outlet: nothing. This thing is deader than a doornail.\",\n",
              " \"Could have used a manual, but I guess those didn't come with the display models. Was kind of disappointed that it was NOT iPod series 5 compatible (Since it was released almost simultaneously with the series 5 electronics), but at least it has audio input jacks so we were still able to use it, just not the alarm clock that requires older iPod models to program.<br />Fast shipping, product was as described.\",\n",
              " \"Bought to replace a padded leather one that had stood up to daily use for years but was getting a little shabby.  I 1st bought a ZTE cover.  It has a hard surface - not so nice. It quickly began to show wear.  I cut my losses and ordered the this eForCity soft leather to replace it.  It is far superior in feel and doesn't show any signs of wear so far.\",\n",
              " 'protectors great keep your ipod in great shape you pay alot for ipod and this is a great price love it',\n",
              " 'Does not work at all',\n",
              " 'I was able to use my BeatBlock today for a conference call.  It was nice to be able to listen from across the room and hear the conversation loud and clear.  I look forward to using my BeatBlock poolside this summer and without needing to have my phone too close to the water!!  Order was delivered promptly and product was accurate to its description.',\n",
              " 'just as described. nice product, very well packaged and tracking was easy. here it is compared to a 12 ounce can and compared to the kicker cvr 12 dvc  4ohm sub.',\n",
              " ...]"
            ]
          },
          "metadata": {},
          "execution_count": 13
        }
      ]
    },
    {
      "cell_type": "markdown",
      "source": [
        "## Split the dataset into train and val"
      ],
      "metadata": {
        "id": "PDQ-UWiysWGo"
      }
    },
    {
      "cell_type": "code",
      "source": [
        "from sklearn.model_selection import train_test_split\n",
        "\n",
        "train_sentances, val_sentances, train_labels, val_labels = train_test_split(df['short_review'].to_numpy(),\n",
        "                                                                            df['Sentiment'].to_numpy(),\n",
        "                                                                            test_size=0.1,\n",
        "                                                                            random_state=42)"
      ],
      "metadata": {
        "id": "jd8FtiKRs7TN"
      },
      "execution_count": 14,
      "outputs": []
    },
    {
      "cell_type": "code",
      "source": [
        "# check the length\n",
        "len(train_sentances), len(val_sentances)"
      ],
      "metadata": {
        "colab": {
          "base_uri": "https://localhost:8080/"
        },
        "id": "ARciaZz_tK9d",
        "outputId": "df3cb2dd-4b7b-49d5-c35d-5608ed788c2e"
      },
      "execution_count": 15,
      "outputs": [
        {
          "output_type": "execute_result",
          "data": {
            "text/plain": [
              "(45000, 5000)"
            ]
          },
          "metadata": {},
          "execution_count": 15
        }
      ]
    },
    {
      "cell_type": "markdown",
      "source": [
        "## Converting text into numbers"
      ],
      "metadata": {
        "id": "rfFfKeD3tozt"
      }
    },
    {
      "cell_type": "markdown",
      "source": [
        "###Text Vectorizaion"
      ],
      "metadata": {
        "id": "kfuqIdVnuGOR"
      }
    },
    {
      "cell_type": "code",
      "source": [
        "import tensorflow as tf\n",
        "\n",
        "from tensorflow.keras.layers import TextVectorization\n",
        "\n",
        "text_vectorizer = TextVectorization(max_tokens = None,\n",
        "                                    standardize = 'lower_and_strip_punctuation',\n",
        "                                    split = 'whitespace',\n",
        "                                    ngrams = None,\n",
        "                                    output_mode = 'int',\n",
        "                                    output_sequence_length = None)"
      ],
      "metadata": {
        "id": "MkMw1Gbux-uv"
      },
      "execution_count": 16,
      "outputs": []
    },
    {
      "cell_type": "code",
      "source": [
        "# Find average number of tokens (words) in training Tweets\n",
        "round(sum([len(i.split()) for i in train_sentances])/len(train_sentances))"
      ],
      "metadata": {
        "colab": {
          "base_uri": "https://localhost:8080/"
        },
        "id": "ORLgUroTyZCS",
        "outputId": "05eeb3bd-bb99-44ee-eb2b-3daaae47fe26"
      },
      "execution_count": 17,
      "outputs": [
        {
          "output_type": "execute_result",
          "data": {
            "text/plain": [
              "64"
            ]
          },
          "metadata": {},
          "execution_count": 17
        }
      ]
    },
    {
      "cell_type": "code",
      "source": [
        "max_vocab_length = 20000\n",
        "max_length = 64\n",
        "\n",
        "text_vectorizer = TextVectorization(max_tokens = max_vocab_length,\n",
        "                                    output_mode = 'int',\n",
        "                                    output_sequence_length = max_length)"
      ],
      "metadata": {
        "id": "pj1XeK8OyeBO"
      },
      "execution_count": 18,
      "outputs": []
    },
    {
      "cell_type": "code",
      "source": [
        "text_vectorizer.adapt(train_sentances)"
      ],
      "metadata": {
        "id": "p35-J3XDy22M"
      },
      "execution_count": 19,
      "outputs": []
    },
    {
      "cell_type": "code",
      "source": [
        "# Create sample sentence and tokenize it\n",
        "sample_sentence = \"The product was too good than my expectations\"\n",
        "text_vectorizer([sample_sentence])"
      ],
      "metadata": {
        "colab": {
          "base_uri": "https://localhost:8080/"
        },
        "id": "CrWZbo0uy8Yu",
        "outputId": "2d9f5c3c-09c4-4b20-d25f-16d268a5df50"
      },
      "execution_count": 20,
      "outputs": [
        {
          "output_type": "execute_result",
          "data": {
            "text/plain": [
              "<tf.Tensor: shape=(1, 64), dtype=int64, numpy=\n",
              "array([[  2,  36,  19, 108,  30,  62,  11, 982,   0,   0,   0,   0,   0,\n",
              "          0,   0,   0,   0,   0,   0,   0,   0,   0,   0,   0,   0,   0,\n",
              "          0,   0,   0,   0,   0,   0,   0,   0,   0,   0,   0,   0,   0,\n",
              "          0,   0,   0,   0,   0,   0,   0,   0,   0,   0,   0,   0,   0,\n",
              "          0,   0,   0,   0,   0,   0,   0,   0,   0,   0,   0,   0]])>"
            ]
          },
          "metadata": {},
          "execution_count": 20
        }
      ]
    },
    {
      "cell_type": "code",
      "source": [
        "#Choose a random sentence from the training dataset and tokenize it\n",
        "import random\n",
        "random_sentance = random.choice(train_sentances)\n",
        "print(f\"Original text:\\n{random_sentance}\\\n",
        "      \\n\\nVectorized version:\")\n",
        "text_vectorizer([random_sentance])"
      ],
      "metadata": {
        "colab": {
          "base_uri": "https://localhost:8080/"
        },
        "id": "-CuMvduBzCp4",
        "outputId": "21a9361b-0e52-466c-e592-e373bb29f865"
      },
      "execution_count": 21,
      "outputs": [
        {
          "output_type": "stream",
          "name": "stdout",
          "text": [
            "Original text:\n",
            "It works just fine, but it required some altering. The original product was a couple millimeters too big, but enough to make it not fit properly. Good price though.      \n",
            "\n",
            "Vectorized version:\n"
          ]
        },
        {
          "output_type": "execute_result",
          "data": {
            "text/plain": [
              "<tf.Tensor: shape=(1, 64), dtype=int64, numpy=\n",
              "array([[    4,    56,    37,   165,    20,     4,  1206,    99, 13541,\n",
              "            2,   353,    36,    19,     7,   331, 10106,   108,   261,\n",
              "           20,   171,     6,   153,     4,    17,   102,   639,    30,\n",
              "           68,   215,     0,     0,     0,     0,     0,     0,     0,\n",
              "            0,     0,     0,     0,     0,     0,     0,     0,     0,\n",
              "            0,     0,     0,     0,     0,     0,     0,     0,     0,\n",
              "            0,     0,     0,     0,     0,     0,     0,     0,     0,\n",
              "            0]])>"
            ]
          },
          "metadata": {},
          "execution_count": 21
        }
      ]
    },
    {
      "cell_type": "code",
      "source": [
        "# Get the unique words in the vocabulary\n",
        "\n",
        "words_in_vocab = text_vectorizer.get_vocabulary()"
      ],
      "metadata": {
        "id": "_2pDoG1NzV2B"
      },
      "execution_count": 22,
      "outputs": []
    },
    {
      "cell_type": "code",
      "source": [
        "words_in_vocab[:5]"
      ],
      "metadata": {
        "colab": {
          "base_uri": "https://localhost:8080/"
        },
        "id": "UAlSKx-SzlbX",
        "outputId": "ed966dbf-60fa-4fa5-a959-cce2934312e8"
      },
      "execution_count": 23,
      "outputs": [
        {
          "output_type": "execute_result",
          "data": {
            "text/plain": [
              "['', '[UNK]', 'the', 'i', 'it']"
            ]
          },
          "metadata": {},
          "execution_count": 23
        }
      ]
    },
    {
      "cell_type": "code",
      "source": [
        "words_in_vocab[-5:]"
      ],
      "metadata": {
        "colab": {
          "base_uri": "https://localhost:8080/"
        },
        "id": "Cz_S23yzznpD",
        "outputId": "e9c69607-5c95-4bb5-c233-216e3ef90f65"
      },
      "execution_count": 24,
      "outputs": [
        {
          "output_type": "execute_result",
          "data": {
            "text/plain": [
              "['idorks', 'identico', 'identically', 'ideapad', 'ideacentre']"
            ]
          },
          "metadata": {},
          "execution_count": 24
        }
      ]
    },
    {
      "cell_type": "code",
      "source": [
        "len(words_in_vocab)"
      ],
      "metadata": {
        "colab": {
          "base_uri": "https://localhost:8080/"
        },
        "id": "MmE4_AaTzqJC",
        "outputId": "87da4019-02b8-4447-ca9b-5e5f9d72b246"
      },
      "execution_count": 25,
      "outputs": [
        {
          "output_type": "execute_result",
          "data": {
            "text/plain": [
              "20000"
            ]
          },
          "metadata": {},
          "execution_count": 25
        }
      ]
    },
    {
      "cell_type": "markdown",
      "source": [
        "## create embedding using an embedding layer"
      ],
      "metadata": {
        "id": "fI00ZmXuzskt"
      }
    },
    {
      "cell_type": "code",
      "source": [
        "tf.random.set_seed(42)\n",
        "\n",
        "embedding = tf.keras.layers.Embedding(input_dim = max_vocab_length,\n",
        "                                      output_dim = 128,\n",
        "                                      embeddings_initializer = 'uniform',\n",
        "                                      input_length = max_length,\n",
        "                                      name = 'embedding_1')"
      ],
      "metadata": {
        "id": "Vrsb8lqLz0io"
      },
      "execution_count": 26,
      "outputs": []
    },
    {
      "cell_type": "code",
      "source": [
        "# Get a random sentence from training set\n",
        "random_sentance = random.choice(train_sentances)\n",
        "print(f\"Original text:\\n{random_sentance}\\\n",
        "      \\n\\nEmbedded version:\")\n",
        "\n",
        "# Embed the random sentence (turn it into numerical representation)\n",
        "sample_embed = embedding(text_vectorizer([random_sentance]))\n",
        "sample_embed"
      ],
      "metadata": {
        "colab": {
          "base_uri": "https://localhost:8080/"
        },
        "id": "0EUVkMQ40LUC",
        "outputId": "34c29a8a-96df-4d88-d131-30ab664c05f7"
      },
      "execution_count": 27,
      "outputs": [
        {
          "output_type": "stream",
          "name": "stdout",
          "text": [
            "Original text:\n",
            "Everything I expected. My TomTom fits fine as well as the cable. Very pleased with the case and the price.      \n",
            "\n",
            "Embedded version:\n"
          ]
        },
        {
          "output_type": "execute_result",
          "data": {
            "text/plain": [
              "<tf.Tensor: shape=(1, 64, 128), dtype=float32, numpy=\n",
              "array([[[ 0.02700094, -0.01682483,  0.00473648, ..., -0.04842658,\n",
              "         -0.03995174,  0.02397213],\n",
              "        [-0.0048058 ,  0.04486765, -0.02519393, ...,  0.02659268,\n",
              "          0.04467485,  0.0323605 ],\n",
              "        [-0.00783036,  0.0460988 ,  0.00937785, ...,  0.00794622,\n",
              "          0.04967376, -0.0067549 ],\n",
              "        ...,\n",
              "        [-0.0122037 , -0.03019127,  0.04914934, ...,  0.04423639,\n",
              "         -0.04320024, -0.03136003],\n",
              "        [-0.0122037 , -0.03019127,  0.04914934, ...,  0.04423639,\n",
              "         -0.04320024, -0.03136003],\n",
              "        [-0.0122037 , -0.03019127,  0.04914934, ...,  0.04423639,\n",
              "         -0.04320024, -0.03136003]]], dtype=float32)>"
            ]
          },
          "metadata": {},
          "execution_count": 27
        }
      ]
    },
    {
      "cell_type": "markdown",
      "source": [
        "# Model 0: Baseline model"
      ],
      "metadata": {
        "id": "dK8HDoPi1KtR"
      }
    },
    {
      "cell_type": "code",
      "source": [
        "from sklearn.feature_extraction.text import TfidfVectorizer\n",
        "from sklearn.naive_bayes import MultinomialNB\n",
        "from sklearn.pipeline import Pipeline\n",
        "\n",
        "\n",
        "# Create tokenization and modelling pipeline\n",
        "\n",
        "model_0 = Pipeline([\n",
        "    ('tfidf', TfidfVectorizer()),\n",
        "    ('clf',MultinomialNB())\n",
        "])\n",
        "\n",
        "# fit the pipeline to the training data\n",
        "\n",
        "model_0.fit(train_sentances, train_labels)"
      ],
      "metadata": {
        "colab": {
          "base_uri": "https://localhost:8080/",
          "height": 127
        },
        "id": "DcZm6MVJ1Ud0",
        "outputId": "d3c20235-7940-4b2d-9ba1-d5af4cdf0877"
      },
      "execution_count": 28,
      "outputs": [
        {
          "output_type": "execute_result",
          "data": {
            "text/plain": [
              "Pipeline(steps=[('tfidf', TfidfVectorizer()), ('clf', MultinomialNB())])"
            ],
            "text/html": [
              "<style>#sk-container-id-1 {color: black;background-color: white;}#sk-container-id-1 pre{padding: 0;}#sk-container-id-1 div.sk-toggleable {background-color: white;}#sk-container-id-1 label.sk-toggleable__label {cursor: pointer;display: block;width: 100%;margin-bottom: 0;padding: 0.3em;box-sizing: border-box;text-align: center;}#sk-container-id-1 label.sk-toggleable__label-arrow:before {content: \"▸\";float: left;margin-right: 0.25em;color: #696969;}#sk-container-id-1 label.sk-toggleable__label-arrow:hover:before {color: black;}#sk-container-id-1 div.sk-estimator:hover label.sk-toggleable__label-arrow:before {color: black;}#sk-container-id-1 div.sk-toggleable__content {max-height: 0;max-width: 0;overflow: hidden;text-align: left;background-color: #f0f8ff;}#sk-container-id-1 div.sk-toggleable__content pre {margin: 0.2em;color: black;border-radius: 0.25em;background-color: #f0f8ff;}#sk-container-id-1 input.sk-toggleable__control:checked~div.sk-toggleable__content {max-height: 200px;max-width: 100%;overflow: auto;}#sk-container-id-1 input.sk-toggleable__control:checked~label.sk-toggleable__label-arrow:before {content: \"▾\";}#sk-container-id-1 div.sk-estimator input.sk-toggleable__control:checked~label.sk-toggleable__label {background-color: #d4ebff;}#sk-container-id-1 div.sk-label input.sk-toggleable__control:checked~label.sk-toggleable__label {background-color: #d4ebff;}#sk-container-id-1 input.sk-hidden--visually {border: 0;clip: rect(1px 1px 1px 1px);clip: rect(1px, 1px, 1px, 1px);height: 1px;margin: -1px;overflow: hidden;padding: 0;position: absolute;width: 1px;}#sk-container-id-1 div.sk-estimator {font-family: monospace;background-color: #f0f8ff;border: 1px dotted black;border-radius: 0.25em;box-sizing: border-box;margin-bottom: 0.5em;}#sk-container-id-1 div.sk-estimator:hover {background-color: #d4ebff;}#sk-container-id-1 div.sk-parallel-item::after {content: \"\";width: 100%;border-bottom: 1px solid gray;flex-grow: 1;}#sk-container-id-1 div.sk-label:hover label.sk-toggleable__label {background-color: #d4ebff;}#sk-container-id-1 div.sk-serial::before {content: \"\";position: absolute;border-left: 1px solid gray;box-sizing: border-box;top: 0;bottom: 0;left: 50%;z-index: 0;}#sk-container-id-1 div.sk-serial {display: flex;flex-direction: column;align-items: center;background-color: white;padding-right: 0.2em;padding-left: 0.2em;position: relative;}#sk-container-id-1 div.sk-item {position: relative;z-index: 1;}#sk-container-id-1 div.sk-parallel {display: flex;align-items: stretch;justify-content: center;background-color: white;position: relative;}#sk-container-id-1 div.sk-item::before, #sk-container-id-1 div.sk-parallel-item::before {content: \"\";position: absolute;border-left: 1px solid gray;box-sizing: border-box;top: 0;bottom: 0;left: 50%;z-index: -1;}#sk-container-id-1 div.sk-parallel-item {display: flex;flex-direction: column;z-index: 1;position: relative;background-color: white;}#sk-container-id-1 div.sk-parallel-item:first-child::after {align-self: flex-end;width: 50%;}#sk-container-id-1 div.sk-parallel-item:last-child::after {align-self: flex-start;width: 50%;}#sk-container-id-1 div.sk-parallel-item:only-child::after {width: 0;}#sk-container-id-1 div.sk-dashed-wrapped {border: 1px dashed gray;margin: 0 0.4em 0.5em 0.4em;box-sizing: border-box;padding-bottom: 0.4em;background-color: white;}#sk-container-id-1 div.sk-label label {font-family: monospace;font-weight: bold;display: inline-block;line-height: 1.2em;}#sk-container-id-1 div.sk-label-container {text-align: center;}#sk-container-id-1 div.sk-container {/* jupyter's `normalize.less` sets `[hidden] { display: none; }` but bootstrap.min.css set `[hidden] { display: none !important; }` so we also need the `!important` here to be able to override the default hidden behavior on the sphinx rendered scikit-learn.org. See: https://github.com/scikit-learn/scikit-learn/issues/21755 */display: inline-block !important;position: relative;}#sk-container-id-1 div.sk-text-repr-fallback {display: none;}</style><div id=\"sk-container-id-1\" class=\"sk-top-container\"><div class=\"sk-text-repr-fallback\"><pre>Pipeline(steps=[(&#x27;tfidf&#x27;, TfidfVectorizer()), (&#x27;clf&#x27;, MultinomialNB())])</pre><b>In a Jupyter environment, please rerun this cell to show the HTML representation or trust the notebook. <br />On GitHub, the HTML representation is unable to render, please try loading this page with nbviewer.org.</b></div><div class=\"sk-container\" hidden><div class=\"sk-item sk-dashed-wrapped\"><div class=\"sk-label-container\"><div class=\"sk-label sk-toggleable\"><input class=\"sk-toggleable__control sk-hidden--visually\" id=\"sk-estimator-id-1\" type=\"checkbox\" ><label for=\"sk-estimator-id-1\" class=\"sk-toggleable__label sk-toggleable__label-arrow\">Pipeline</label><div class=\"sk-toggleable__content\"><pre>Pipeline(steps=[(&#x27;tfidf&#x27;, TfidfVectorizer()), (&#x27;clf&#x27;, MultinomialNB())])</pre></div></div></div><div class=\"sk-serial\"><div class=\"sk-item\"><div class=\"sk-estimator sk-toggleable\"><input class=\"sk-toggleable__control sk-hidden--visually\" id=\"sk-estimator-id-2\" type=\"checkbox\" ><label for=\"sk-estimator-id-2\" class=\"sk-toggleable__label sk-toggleable__label-arrow\">TfidfVectorizer</label><div class=\"sk-toggleable__content\"><pre>TfidfVectorizer()</pre></div></div></div><div class=\"sk-item\"><div class=\"sk-estimator sk-toggleable\"><input class=\"sk-toggleable__control sk-hidden--visually\" id=\"sk-estimator-id-3\" type=\"checkbox\" ><label for=\"sk-estimator-id-3\" class=\"sk-toggleable__label sk-toggleable__label-arrow\">MultinomialNB</label><div class=\"sk-toggleable__content\"><pre>MultinomialNB()</pre></div></div></div></div></div></div></div>"
            ]
          },
          "metadata": {},
          "execution_count": 28
        }
      ]
    },
    {
      "cell_type": "code",
      "source": [
        "baseline_score = model_0.score(val_sentances, val_labels)"
      ],
      "metadata": {
        "id": "2V_NNdHW1xLH"
      },
      "execution_count": 29,
      "outputs": []
    },
    {
      "cell_type": "code",
      "source": [
        "baseline_score"
      ],
      "metadata": {
        "colab": {
          "base_uri": "https://localhost:8080/"
        },
        "id": "XsaOfha913Ps",
        "outputId": "62770932-9a40-499c-eb83-dca407acde1c"
      },
      "execution_count": 30,
      "outputs": [
        {
          "output_type": "execute_result",
          "data": {
            "text/plain": [
              "0.7978"
            ]
          },
          "metadata": {},
          "execution_count": 30
        }
      ]
    },
    {
      "cell_type": "code",
      "source": [
        "baseline_preds = model_0.predict(val_sentances)\n",
        "baseline_preds[:100]"
      ],
      "metadata": {
        "colab": {
          "base_uri": "https://localhost:8080/"
        },
        "id": "xPVnsITE14P2",
        "outputId": "0787dc0f-b007-4ee2-fe78-82c8e4b43005"
      },
      "execution_count": 31,
      "outputs": [
        {
          "output_type": "execute_result",
          "data": {
            "text/plain": [
              "array([1, 1, 1, 1, 1, 1, 1, 1, 1, 1, 1, 1, 1, 1, 1, 1, 1, 1, 1, 1, 1, 1,\n",
              "       1, 1, 1, 1, 1, 0, 1, 1, 1, 1, 1, 1, 1, 1, 1, 1, 1, 1, 1, 1, 1, 1,\n",
              "       1, 1, 1, 1, 1, 1, 1, 1, 1, 1, 1, 1, 1, 1, 1, 1, 1, 1, 1, 1, 1, 1,\n",
              "       1, 1, 1, 1, 1, 1, 1, 1, 1, 1, 1, 1, 1, 1, 1, 1, 1, 1, 1, 1, 1, 1,\n",
              "       1, 1, 1, 1, 1, 1, 1, 1, 1, 1, 1, 1])"
            ]
          },
          "metadata": {},
          "execution_count": 31
        }
      ]
    },
    {
      "cell_type": "code",
      "source": [
        "# Function to evaluate: accuracy, precision, recall, f1-score\n",
        "from sklearn.metrics import accuracy_score, precision_recall_fscore_support\n",
        "\n",
        "def calculate_results(y_true, y_pred):\n",
        "  # Calculate model accuracy\n",
        "  model_accuracy = accuracy_score(y_true, y_pred) * 100\n",
        "  # Calculate model precision, recall and f1 score using \"weighted\" average\n",
        "  model_precision, model_recall, model_f1, _ = precision_recall_fscore_support(y_true, y_pred, average=\"weighted\")\n",
        "  model_results = {\"accuracy\": model_accuracy,\n",
        "                  \"precision\": model_precision,\n",
        "                  \"recall\": model_recall,\n",
        "                  \"f1\": model_f1}\n",
        "  return model_results"
      ],
      "metadata": {
        "id": "BWDoIpUU18g9"
      },
      "execution_count": 32,
      "outputs": []
    },
    {
      "cell_type": "code",
      "source": [
        "baseline_results = calculate_results(val_labels, baseline_preds)"
      ],
      "metadata": {
        "id": "_OSXCl0y1_w1"
      },
      "execution_count": 33,
      "outputs": []
    },
    {
      "cell_type": "code",
      "source": [
        "baseline_results"
      ],
      "metadata": {
        "colab": {
          "base_uri": "https://localhost:8080/"
        },
        "id": "UmLATUYq2f5w",
        "outputId": "02c366ac-1929-4a0f-cbc6-14e8ddcb0a30"
      },
      "execution_count": 34,
      "outputs": [
        {
          "output_type": "execute_result",
          "data": {
            "text/plain": [
              "{'accuracy': 79.78,\n",
              " 'precision': 0.8338266657514186,\n",
              " 'recall': 0.7978,\n",
              " 'f1': 0.7308971860355469}"
            ]
          },
          "metadata": {},
          "execution_count": 34
        }
      ]
    },
    {
      "cell_type": "markdown",
      "source": [
        "# model 1: A simple dense model"
      ],
      "metadata": {
        "id": "DzKWgGIS2hiU"
      }
    },
    {
      "cell_type": "code",
      "source": [
        "# Build model with the functional API\n",
        "from tensorflow.keras import layers\n",
        "\n",
        "inputs = layers.Input(shape = (1, ), dtype = 'string')\n",
        "x = text_vectorizer(inputs)\n",
        "x = embedding(x)\n",
        "x = layers.GlobalMaxPooling1D()(x)\n",
        "outputs = layers.Dense(1, activation = 'sigmoid')(x)\n",
        "\n",
        "model_1 = tf.keras.Model(inputs, outputs, name = 'model_1_dense')"
      ],
      "metadata": {
        "id": "-MJhyDsz2uH_"
      },
      "execution_count": 35,
      "outputs": []
    },
    {
      "cell_type": "code",
      "source": [
        "# compile a model\n",
        "\n",
        "model_1.compile(loss = 'binary_crossentropy',\n",
        "                optimizer = tf.keras.optimizers.Adam(),\n",
        "                metrics = ['accuracy'])"
      ],
      "metadata": {
        "id": "LExIGRW83pU9"
      },
      "execution_count": 36,
      "outputs": []
    },
    {
      "cell_type": "code",
      "source": [
        "model_1.summary()"
      ],
      "metadata": {
        "colab": {
          "base_uri": "https://localhost:8080/"
        },
        "id": "INhGhKQ46NE-",
        "outputId": "7091a080-f106-4ba0-9265-1cbe7ba2bc74"
      },
      "execution_count": 37,
      "outputs": [
        {
          "output_type": "stream",
          "name": "stdout",
          "text": [
            "Model: \"model_1_dense\"\n",
            "_________________________________________________________________\n",
            " Layer (type)                Output Shape              Param #   \n",
            "=================================================================\n",
            " input_1 (InputLayer)        [(None, 1)]               0         \n",
            "                                                                 \n",
            " text_vectorization_1 (Text  (None, 64)                0         \n",
            " Vectorization)                                                  \n",
            "                                                                 \n",
            " embedding_1 (Embedding)     (None, 64, 128)           2560000   \n",
            "                                                                 \n",
            " global_max_pooling1d (Glob  (None, 128)               0         \n",
            " alMaxPooling1D)                                                 \n",
            "                                                                 \n",
            " dense (Dense)               (None, 1)                 129       \n",
            "                                                                 \n",
            "=================================================================\n",
            "Total params: 2560129 (9.77 MB)\n",
            "Trainable params: 2560129 (9.77 MB)\n",
            "Non-trainable params: 0 (0.00 Byte)\n",
            "_________________________________________________________________\n"
          ]
        }
      ]
    },
    {
      "cell_type": "code",
      "source": [
        "# fit the model\n",
        "\n",
        "model_1_history = model_1.fit(train_sentances,\n",
        "                              train_labels,\n",
        "                              epochs = 5,\n",
        "                              validation_data = (val_sentances, val_labels))"
      ],
      "metadata": {
        "colab": {
          "base_uri": "https://localhost:8080/"
        },
        "id": "uQ_KQeQa6O-q",
        "outputId": "044a3edc-f8b0-4057-bbfa-7718abcbba2a"
      },
      "execution_count": 38,
      "outputs": [
        {
          "output_type": "stream",
          "name": "stdout",
          "text": [
            "Epoch 1/5\n",
            "1407/1407 [==============================] - 63s 42ms/step - loss: 0.3592 - accuracy: 0.8418 - val_loss: 0.2700 - val_accuracy: 0.8854\n",
            "Epoch 2/5\n",
            "1407/1407 [==============================] - 13s 9ms/step - loss: 0.2488 - accuracy: 0.8942 - val_loss: 0.2501 - val_accuracy: 0.8932\n",
            "Epoch 3/5\n",
            "1407/1407 [==============================] - 11s 8ms/step - loss: 0.2067 - accuracy: 0.9140 - val_loss: 0.2465 - val_accuracy: 0.8960\n",
            "Epoch 4/5\n",
            "1407/1407 [==============================] - 10s 7ms/step - loss: 0.1719 - accuracy: 0.9323 - val_loss: 0.2491 - val_accuracy: 0.8974\n",
            "Epoch 5/5\n",
            "1407/1407 [==============================] - 10s 7ms/step - loss: 0.1426 - accuracy: 0.9471 - val_loss: 0.2580 - val_accuracy: 0.8948\n"
          ]
        }
      ]
    },
    {
      "cell_type": "code",
      "source": [
        "model_1.evaluate(val_sentances, val_labels)"
      ],
      "metadata": {
        "colab": {
          "base_uri": "https://localhost:8080/"
        },
        "id": "hTLbUT7s61ww",
        "outputId": "649c2e6e-4210-477c-9f35-79ba163e9b60"
      },
      "execution_count": 39,
      "outputs": [
        {
          "output_type": "stream",
          "name": "stdout",
          "text": [
            "157/157 [==============================] - 1s 3ms/step - loss: 0.2580 - accuracy: 0.8948\n"
          ]
        },
        {
          "output_type": "execute_result",
          "data": {
            "text/plain": [
              "[0.25799670815467834, 0.8948000073432922]"
            ]
          },
          "metadata": {},
          "execution_count": 39
        }
      ]
    },
    {
      "cell_type": "code",
      "source": [
        "# model 1 prediction probability\n",
        "\n",
        "model_1_pred_prob = model_1.predict(val_sentances)"
      ],
      "metadata": {
        "colab": {
          "base_uri": "https://localhost:8080/"
        },
        "id": "NmSmfeYW8ifO",
        "outputId": "62bd4848-7774-4243-9b8b-8b295b40f538"
      },
      "execution_count": 40,
      "outputs": [
        {
          "output_type": "stream",
          "name": "stdout",
          "text": [
            "157/157 [==============================] - 1s 3ms/step\n"
          ]
        }
      ]
    },
    {
      "cell_type": "code",
      "source": [
        "model_1_preds = tf.squeeze(tf.round(model_1_pred_prob))"
      ],
      "metadata": {
        "id": "67TUp9BX8vp1"
      },
      "execution_count": 41,
      "outputs": []
    },
    {
      "cell_type": "code",
      "source": [
        "model_1_preds"
      ],
      "metadata": {
        "colab": {
          "base_uri": "https://localhost:8080/"
        },
        "id": "2m8Gmd3L87Or",
        "outputId": "d41cce74-d100-4da9-8206-027513d4bdec"
      },
      "execution_count": 42,
      "outputs": [
        {
          "output_type": "execute_result",
          "data": {
            "text/plain": [
              "<tf.Tensor: shape=(5000,), dtype=float32, numpy=array([1., 1., 1., ..., 1., 1., 1.], dtype=float32)>"
            ]
          },
          "metadata": {},
          "execution_count": 42
        }
      ]
    },
    {
      "cell_type": "code",
      "source": [
        "# Calculate model_1 metrics\n",
        "model_1_results = calculate_results(val_labels,\n",
        "                                    model_1_preds)\n",
        "model_1_results"
      ],
      "metadata": {
        "colab": {
          "base_uri": "https://localhost:8080/"
        },
        "id": "s1o6watO89A6",
        "outputId": "97a1a0bb-e97b-438d-f427-3b59388544ed"
      },
      "execution_count": 43,
      "outputs": [
        {
          "output_type": "execute_result",
          "data": {
            "text/plain": [
              "{'accuracy': 89.48,\n",
              " 'precision': 0.8915664803194004,\n",
              " 'recall': 0.8948,\n",
              " 'f1': 0.8918060016657496}"
            ]
          },
          "metadata": {},
          "execution_count": 43
        }
      ]
    },
    {
      "cell_type": "markdown",
      "source": [
        "# model 2: LSTM"
      ],
      "metadata": {
        "id": "k9H4bX4X9E_p"
      }
    },
    {
      "cell_type": "code",
      "source": [
        "from tensorflow.keras import layers\n",
        "\n",
        "model_2_embedding = layers.Embedding(input_dim = max_vocab_length,\n",
        "                                     output_dim = 256,\n",
        "                                     embeddings_initializer = 'uniform',\n",
        "                                     input_length = max_length,\n",
        "                                     name = 'embedding_2_model')\n",
        "\n",
        "# build a model\n",
        "inputs = layers.Input(shape =(1, ), dtype = 'string')\n",
        "x = text_vectorizer(inputs)\n",
        "x  = model_2_embedding(x)\n",
        "print(x.shape)\n",
        "x = layers.LSTM(64)(x)\n",
        "print(x.shape)\n",
        "outputs = layers.Dense(1, activation = 'sigmoid')(x)\n",
        "model_2 = tf.keras.Model(inputs, outputs, name = 'model_2_LSTM')"
      ],
      "metadata": {
        "colab": {
          "base_uri": "https://localhost:8080/"
        },
        "id": "2vcd9kch-l8N",
        "outputId": "a9153cf6-c4d2-47fa-d19a-2638204a4aae"
      },
      "execution_count": 44,
      "outputs": [
        {
          "output_type": "stream",
          "name": "stdout",
          "text": [
            "(None, 64, 256)\n",
            "(None, 64)\n"
          ]
        }
      ]
    },
    {
      "cell_type": "code",
      "source": [
        "# Compile model\n",
        "model_2.compile(loss=\"binary_crossentropy\",\n",
        "                optimizer=tf.keras.optimizers.Adam(),\n",
        "                metrics=[\"accuracy\"])"
      ],
      "metadata": {
        "id": "s-mwyapZEpKu"
      },
      "execution_count": 45,
      "outputs": []
    },
    {
      "cell_type": "code",
      "source": [
        "model_2.summary()"
      ],
      "metadata": {
        "colab": {
          "base_uri": "https://localhost:8080/"
        },
        "id": "oHzBAkgYEyA_",
        "outputId": "4c240945-0281-4fcb-ce8d-33f84c220e24"
      },
      "execution_count": 46,
      "outputs": [
        {
          "output_type": "stream",
          "name": "stdout",
          "text": [
            "Model: \"model_2_LSTM\"\n",
            "_________________________________________________________________\n",
            " Layer (type)                Output Shape              Param #   \n",
            "=================================================================\n",
            " input_2 (InputLayer)        [(None, 1)]               0         \n",
            "                                                                 \n",
            " text_vectorization_1 (Text  (None, 64)                0         \n",
            " Vectorization)                                                  \n",
            "                                                                 \n",
            " embedding_2_model (Embeddi  (None, 64, 256)           5120000   \n",
            " ng)                                                             \n",
            "                                                                 \n",
            " lstm (LSTM)                 (None, 64)                82176     \n",
            "                                                                 \n",
            " dense_1 (Dense)             (None, 1)                 65        \n",
            "                                                                 \n",
            "=================================================================\n",
            "Total params: 5202241 (19.84 MB)\n",
            "Trainable params: 5202241 (19.84 MB)\n",
            "Non-trainable params: 0 (0.00 Byte)\n",
            "_________________________________________________________________\n"
          ]
        }
      ]
    },
    {
      "cell_type": "code",
      "source": [
        "# Fit model\n",
        "model_2_history = model_2.fit(train_sentances,\n",
        "                              train_labels,\n",
        "                              epochs=5,\n",
        "                              validation_data=(val_sentances, val_labels))"
      ],
      "metadata": {
        "colab": {
          "base_uri": "https://localhost:8080/"
        },
        "id": "4VApnshlEzm_",
        "outputId": "ab450e8e-b64c-4434-cb18-4b225633d605"
      },
      "execution_count": 47,
      "outputs": [
        {
          "output_type": "stream",
          "name": "stdout",
          "text": [
            "Epoch 1/5\n",
            "1407/1407 [==============================] - 69s 46ms/step - loss: 0.5032 - accuracy: 0.7768 - val_loss: 0.3850 - val_accuracy: 0.8306\n",
            "Epoch 2/5\n",
            "1407/1407 [==============================] - 20s 14ms/step - loss: 0.3799 - accuracy: 0.8437 - val_loss: 0.3091 - val_accuracy: 0.8684\n",
            "Epoch 3/5\n",
            "1407/1407 [==============================] - 17s 12ms/step - loss: 0.2511 - accuracy: 0.8990 - val_loss: 0.2719 - val_accuracy: 0.8858\n",
            "Epoch 4/5\n",
            "1407/1407 [==============================] - 15s 11ms/step - loss: 0.1820 - accuracy: 0.9293 - val_loss: 0.2694 - val_accuracy: 0.8860\n",
            "Epoch 5/5\n",
            "1407/1407 [==============================] - 15s 10ms/step - loss: 0.1363 - accuracy: 0.9490 - val_loss: 0.3225 - val_accuracy: 0.8792\n"
          ]
        }
      ]
    },
    {
      "cell_type": "code",
      "source": [
        "# make some predictions\n",
        "\n",
        "model_2_pred_probs = model_2.predict(val_sentances)"
      ],
      "metadata": {
        "colab": {
          "base_uri": "https://localhost:8080/"
        },
        "id": "hfneJHoOE8-N",
        "outputId": "9203e67b-2f29-4898-9962-2adf9f917222"
      },
      "execution_count": 48,
      "outputs": [
        {
          "output_type": "stream",
          "name": "stdout",
          "text": [
            "157/157 [==============================] - 1s 3ms/step\n"
          ]
        }
      ]
    },
    {
      "cell_type": "code",
      "source": [
        "model_2_pred = tf.squeeze(tf.round(model_2_pred_probs))\n",
        "model_2_pred[:10]"
      ],
      "metadata": {
        "colab": {
          "base_uri": "https://localhost:8080/"
        },
        "id": "Or_puelhG2HI",
        "outputId": "30c31447-dc0d-4763-c355-909909a423b2"
      },
      "execution_count": 49,
      "outputs": [
        {
          "output_type": "execute_result",
          "data": {
            "text/plain": [
              "<tf.Tensor: shape=(10,), dtype=float32, numpy=array([1., 1., 1., 1., 0., 1., 1., 1., 1., 0.], dtype=float32)>"
            ]
          },
          "metadata": {},
          "execution_count": 49
        }
      ]
    },
    {
      "cell_type": "code",
      "source": [
        "# Calculate LSTM model results\n",
        "model_2_results = calculate_results(val_labels,\n",
        "                                    model_2_pred)\n",
        "model_2_results"
      ],
      "metadata": {
        "colab": {
          "base_uri": "https://localhost:8080/"
        },
        "id": "P3Nx2aGCG84S",
        "outputId": "86cbcc4c-c9f6-4379-bb35-661ee6546983"
      },
      "execution_count": 50,
      "outputs": [
        {
          "output_type": "execute_result",
          "data": {
            "text/plain": [
              "{'accuracy': 87.92,\n",
              " 'precision': 0.8838967841318305,\n",
              " 'recall': 0.8792,\n",
              " 'f1': 0.8810571951644228}"
            ]
          },
          "metadata": {},
          "execution_count": 50
        }
      ]
    },
    {
      "cell_type": "markdown",
      "source": [
        "# Model 3: GRU"
      ],
      "metadata": {
        "id": "zVuqVf4OHEK7"
      }
    },
    {
      "cell_type": "code",
      "source": [
        "# import tensorflow as tf\n",
        "from tensorflow.keras import layers\n",
        "\n",
        "model_3_embedding = layers.Embedding(input_dim = max_vocab_length,\n",
        "                                     output_dim = 128,\n",
        "                                     embeddings_initializer = 'uniform',\n",
        "                                     input_length = max_length,\n",
        "                                     name = 'embedding_3_mode')\n",
        "\n",
        "\n",
        "# build a Rnn with GRU cell\n",
        "\n",
        "inputs  = layers.Input(shape=(1,), dtype = 'string')\n",
        "x = text_vectorizer(inputs)\n",
        "x = model_3_embedding(x)\n",
        "x = layers.GRU(64, dropout=0.25)(x)\n",
        "# x = layers.Dense(64, activation = 'relu')(x)\n",
        "x = layers.Dense(64, activation = 'relu')(x)\n",
        "# model.add(keras.layers.Dropout(0.4))\n",
        "x = layers.Dropout(0.3)(x)\n",
        "\n",
        "outputs = layers.Dense(1, activation = 'sigmoid')(x)\n",
        "model_3 = tf.keras.Model(inputs, outputs, name = 'model_3_GRU')"
      ],
      "metadata": {
        "id": "pR2PTWoqN1iU"
      },
      "execution_count": 51,
      "outputs": []
    },
    {
      "cell_type": "code",
      "source": [
        "# compile the Model\n",
        "\n",
        "model_3.compile(loss = \"binary_crossentropy\",\n",
        "                optimizer = tf.keras.optimizers.Adam(),\n",
        "                metrics = ['accuracy'])"
      ],
      "metadata": {
        "id": "wMQeidlUPEdq"
      },
      "execution_count": 52,
      "outputs": []
    },
    {
      "cell_type": "code",
      "source": [
        "# summary\n",
        "model_3.summary()"
      ],
      "metadata": {
        "colab": {
          "base_uri": "https://localhost:8080/"
        },
        "id": "UROgeid1RZov",
        "outputId": "4b2b77fb-856b-41e6-d43e-31bbce29f193"
      },
      "execution_count": 53,
      "outputs": [
        {
          "output_type": "stream",
          "name": "stdout",
          "text": [
            "Model: \"model_3_GRU\"\n",
            "_________________________________________________________________\n",
            " Layer (type)                Output Shape              Param #   \n",
            "=================================================================\n",
            " input_3 (InputLayer)        [(None, 1)]               0         \n",
            "                                                                 \n",
            " text_vectorization_1 (Text  (None, 64)                0         \n",
            " Vectorization)                                                  \n",
            "                                                                 \n",
            " embedding_3_mode (Embeddin  (None, 64, 128)           2560000   \n",
            " g)                                                              \n",
            "                                                                 \n",
            " gru (GRU)                   (None, 64)                37248     \n",
            "                                                                 \n",
            " dense_2 (Dense)             (None, 64)                4160      \n",
            "                                                                 \n",
            " dropout (Dropout)           (None, 64)                0         \n",
            "                                                                 \n",
            " dense_3 (Dense)             (None, 1)                 65        \n",
            "                                                                 \n",
            "=================================================================\n",
            "Total params: 2601473 (9.92 MB)\n",
            "Trainable params: 2601473 (9.92 MB)\n",
            "Non-trainable params: 0 (0.00 Byte)\n",
            "_________________________________________________________________\n"
          ]
        }
      ]
    },
    {
      "cell_type": "code",
      "source": [
        "\n",
        "\n",
        "# fit the model\n",
        "\n",
        "model_3_history = model_3.fit(train_sentances,\n",
        "                              train_labels,\n",
        "                              epochs = 5,\n",
        "                              validation_data = (val_sentances, val_labels))"
      ],
      "metadata": {
        "colab": {
          "base_uri": "https://localhost:8080/"
        },
        "id": "rPXcVpoMRd8T",
        "outputId": "44e1759f-f48f-497e-af76-6861a98f8661"
      },
      "execution_count": 54,
      "outputs": [
        {
          "output_type": "stream",
          "name": "stdout",
          "text": [
            "Epoch 1/5\n",
            "1407/1407 [==============================] - 52s 34ms/step - loss: 0.4158 - accuracy: 0.8232 - val_loss: 0.2534 - val_accuracy: 0.8914\n",
            "Epoch 2/5\n",
            "1407/1407 [==============================] - 17s 12ms/step - loss: 0.2291 - accuracy: 0.9071 - val_loss: 0.2489 - val_accuracy: 0.8948\n",
            "Epoch 3/5\n",
            "1407/1407 [==============================] - 16s 11ms/step - loss: 0.1793 - accuracy: 0.9288 - val_loss: 0.2614 - val_accuracy: 0.8928\n",
            "Epoch 4/5\n",
            "1407/1407 [==============================] - 14s 10ms/step - loss: 0.1347 - accuracy: 0.9497 - val_loss: 0.3103 - val_accuracy: 0.8862\n",
            "Epoch 5/5\n",
            "1407/1407 [==============================] - 14s 10ms/step - loss: 0.0980 - accuracy: 0.9641 - val_loss: 0.3717 - val_accuracy: 0.8808\n"
          ]
        }
      ]
    },
    {
      "cell_type": "code",
      "source": [
        "# Epoch 1/5\n",
        "# 1407/1407 [==============================] - 48s 32ms/step - loss: 0.4128 - accuracy: 0.8209 - val_loss: 0.2496 - val_accuracy: 0.8944\n",
        "# Epoch 2/5\n",
        "# 1407/1407 [==============================] - 15s 11ms/step - loss: 0.2227 - accuracy: 0.9084 - val_loss: 0.2412 - val_accuracy: 0.8984\n",
        "# Epoch 3/5\n",
        "# 1407/1407 [==============================] - 15s 11ms/step - loss: 0.1578 - accuracy: 0.9385 - val_loss: 0.2747 - val_accuracy: 0.8898\n",
        "# Epoch 4/5\n",
        "# 1407/1407 [==============================] - 13s 10ms/step - loss: 0.1037 - accuracy: 0.9613 - val_loss: 0.3157 - val_accuracy: 0.8910\n",
        "# Epoch 5/5\n",
        "# 1407/1407 [==============================] - 14s 10ms/step - loss: 0.0687 - accuracy: 0.9758 - val_loss: 0.4189 - val_accuracy: 0.8876"
      ],
      "metadata": {
        "id": "xEaqXj83eI6l"
      },
      "execution_count": 55,
      "outputs": []
    },
    {
      "cell_type": "code",
      "source": [
        "# evaluate the model\n",
        "model_3.evaluate(val_sentances)"
      ],
      "metadata": {
        "id": "SLdGFr1uRrU1",
        "colab": {
          "base_uri": "https://localhost:8080/"
        },
        "outputId": "04a1ad38-e9a4-4384-8cd5-0d3026b74b0a"
      },
      "execution_count": 56,
      "outputs": [
        {
          "output_type": "stream",
          "name": "stdout",
          "text": [
            "157/157 [==============================] - 1s 3ms/step - loss: 0.0000e+00 - accuracy: 0.0000e+00\n"
          ]
        },
        {
          "output_type": "execute_result",
          "data": {
            "text/plain": [
              "[0.0, 0.0]"
            ]
          },
          "metadata": {},
          "execution_count": 56
        }
      ]
    },
    {
      "cell_type": "code",
      "source": [
        "# Make predictions on the validation data\n",
        "\n",
        "model_3_pred_probs = model_3.predict(val_sentances)\n",
        "model_3_pred = tf.squeeze(tf.round(model_3_pred_probs))\n",
        "model_3_pred"
      ],
      "metadata": {
        "colab": {
          "base_uri": "https://localhost:8080/"
        },
        "id": "4SaaGfN9oapt",
        "outputId": "91e1e76f-e0c5-437f-f11b-004788a803cf"
      },
      "execution_count": 57,
      "outputs": [
        {
          "output_type": "stream",
          "name": "stdout",
          "text": [
            "157/157 [==============================] - 1s 4ms/step\n"
          ]
        },
        {
          "output_type": "execute_result",
          "data": {
            "text/plain": [
              "<tf.Tensor: shape=(5000,), dtype=float32, numpy=array([1., 1., 1., ..., 1., 0., 1.], dtype=float32)>"
            ]
          },
          "metadata": {},
          "execution_count": 57
        }
      ]
    },
    {
      "cell_type": "code",
      "source": [
        "# Calculate LSTM model results\n",
        "model_3_results = calculate_results(val_labels,\n",
        "                                    model_3_pred)\n",
        "model_3_results"
      ],
      "metadata": {
        "colab": {
          "base_uri": "https://localhost:8080/"
        },
        "id": "yt0aqqUaor1R",
        "outputId": "3f335802-173e-4534-b72e-292dab7d3493"
      },
      "execution_count": 58,
      "outputs": [
        {
          "output_type": "execute_result",
          "data": {
            "text/plain": [
              "{'accuracy': 88.08,\n",
              " 'precision': 0.881171283328734,\n",
              " 'recall': 0.8808,\n",
              " 'f1': 0.8809812377281127}"
            ]
          },
          "metadata": {},
          "execution_count": 58
        }
      ]
    },
    {
      "cell_type": "markdown",
      "source": [
        "# Model 4 : Bidirectional RNN Model"
      ],
      "metadata": {
        "id": "jyObg3V1OvZ3"
      }
    },
    {
      "cell_type": "code",
      "source": [
        "from tensorflow.keras import layers\n",
        "\n",
        "model_4_embedding = layers.Embedding(input_dim = max_vocab_length,\n",
        "                                     output_dim = 128,\n",
        "                                     embeddings_initializer = 'uniform',\n",
        "                                     input_length = max_length,\n",
        "                                     name = 'embedding_4_model')\n",
        "\n",
        "inputs = layers.Input(shape=(1,), dtype=\"string\")\n",
        "x = text_vectorizer(inputs)\n",
        "x = model_4_embedding(x)\n",
        "\n",
        "x = layers.Bidirectional(layers.LSTM(64))(x) # bidirectional goes both ways so has double the parameters of a regular LSTM layer\n",
        "outputs = layers.Dense(1, activation=\"sigmoid\")(x)\n",
        "model_4 = tf.keras.Model(inputs, outputs, name=\"model_4_Bidirectional\")"
      ],
      "metadata": {
        "id": "7RDre1ggmac_"
      },
      "execution_count": 59,
      "outputs": []
    },
    {
      "cell_type": "code",
      "source": [
        "# compile the model\n",
        "\n",
        "model_4.compile(loss = 'binary_crossentropy',\n",
        "                optimizer = tf.keras.optimizers.Adam(),\n",
        "                metrics = ['accuracy'])"
      ],
      "metadata": {
        "id": "5hsVEFTCm4p_"
      },
      "execution_count": 60,
      "outputs": []
    },
    {
      "cell_type": "code",
      "source": [
        "model_4.summary()"
      ],
      "metadata": {
        "colab": {
          "base_uri": "https://localhost:8080/"
        },
        "id": "zQ3O69GYnEzM",
        "outputId": "689d7f33-0eda-4afd-d2ca-c0af279ca46e"
      },
      "execution_count": 61,
      "outputs": [
        {
          "output_type": "stream",
          "name": "stdout",
          "text": [
            "Model: \"model_4_Bidirectional\"\n",
            "_________________________________________________________________\n",
            " Layer (type)                Output Shape              Param #   \n",
            "=================================================================\n",
            " input_4 (InputLayer)        [(None, 1)]               0         \n",
            "                                                                 \n",
            " text_vectorization_1 (Text  (None, 64)                0         \n",
            " Vectorization)                                                  \n",
            "                                                                 \n",
            " embedding_4_model (Embeddi  (None, 64, 128)           2560000   \n",
            " ng)                                                             \n",
            "                                                                 \n",
            " bidirectional (Bidirection  (None, 128)               98816     \n",
            " al)                                                             \n",
            "                                                                 \n",
            " dense_4 (Dense)             (None, 1)                 129       \n",
            "                                                                 \n",
            "=================================================================\n",
            "Total params: 2658945 (10.14 MB)\n",
            "Trainable params: 2658945 (10.14 MB)\n",
            "Non-trainable params: 0 (0.00 Byte)\n",
            "_________________________________________________________________\n"
          ]
        }
      ]
    },
    {
      "cell_type": "code",
      "source": [
        "# Fit the model\n",
        "model_4_history = model_4.fit(train_sentances,\n",
        "                              train_labels,\n",
        "                              epochs = 5,\n",
        "                              validation_data = (val_sentances, val_labels))"
      ],
      "metadata": {
        "colab": {
          "base_uri": "https://localhost:8080/"
        },
        "id": "zeR0s6T5nGQb",
        "outputId": "f8664296-e0c4-4f03-ea98-e20d2a968366"
      },
      "execution_count": 62,
      "outputs": [
        {
          "output_type": "stream",
          "name": "stdout",
          "text": [
            "Epoch 1/5\n",
            "1407/1407 [==============================] - 57s 38ms/step - loss: 0.3107 - accuracy: 0.8681 - val_loss: 0.2552 - val_accuracy: 0.8962\n",
            "Epoch 2/5\n",
            "1407/1407 [==============================] - 20s 14ms/step - loss: 0.2170 - accuracy: 0.9131 - val_loss: 0.2474 - val_accuracy: 0.8990\n",
            "Epoch 3/5\n",
            "1407/1407 [==============================] - 18s 13ms/step - loss: 0.1645 - accuracy: 0.9361 - val_loss: 0.2797 - val_accuracy: 0.8860\n",
            "Epoch 4/5\n",
            "1407/1407 [==============================] - 18s 13ms/step - loss: 0.1151 - accuracy: 0.9567 - val_loss: 0.3231 - val_accuracy: 0.8818\n",
            "Epoch 5/5\n",
            "1407/1407 [==============================] - 18s 13ms/step - loss: 0.0833 - accuracy: 0.9695 - val_loss: 0.3716 - val_accuracy: 0.8886\n"
          ]
        }
      ]
    },
    {
      "cell_type": "code",
      "source": [
        "# Make predictions\n",
        "model_4_pred_probs = model_4.predict(val_sentances)\n",
        "model_4_pred = tf.squeeze(tf.round(model_4_pred_probs))\n",
        "model_4_pred"
      ],
      "metadata": {
        "colab": {
          "base_uri": "https://localhost:8080/"
        },
        "id": "0QNe08oxnTm4",
        "outputId": "894bce5c-89a7-4aa3-8a1a-f9cdb2b69ec1"
      },
      "execution_count": 63,
      "outputs": [
        {
          "output_type": "stream",
          "name": "stdout",
          "text": [
            "157/157 [==============================] - 2s 7ms/step\n"
          ]
        },
        {
          "output_type": "execute_result",
          "data": {
            "text/plain": [
              "<tf.Tensor: shape=(5000,), dtype=float32, numpy=array([1., 1., 1., ..., 1., 1., 1.], dtype=float32)>"
            ]
          },
          "metadata": {},
          "execution_count": 63
        }
      ]
    },
    {
      "cell_type": "code",
      "source": [
        "# Calculate model 4 results\n",
        "model_4_results = calculate_results(val_labels,\n",
        "                                    model_4_pred)\n",
        "model_4_results"
      ],
      "metadata": {
        "colab": {
          "base_uri": "https://localhost:8080/"
        },
        "id": "YnHlQ6TgoJMl",
        "outputId": "e0f9c570-08ba-4a16-c960-1a7b6a99ec74"
      },
      "execution_count": 64,
      "outputs": [
        {
          "output_type": "execute_result",
          "data": {
            "text/plain": [
              "{'accuracy': 88.86,\n",
              " 'precision': 0.8872602249055144,\n",
              " 'recall': 0.8886,\n",
              " 'f1': 0.8878450690503394}"
            ]
          },
          "metadata": {},
          "execution_count": 64
        }
      ]
    },
    {
      "cell_type": "markdown",
      "source": [
        "# Model 5: Conv1D"
      ],
      "metadata": {
        "id": "WgDKYaqf0Tlp"
      }
    },
    {
      "cell_type": "code",
      "source": [
        "# test out the embedding , 1D convolutional and max pooling\n",
        "\n",
        "embedding_test = embedding(text_vectorizer([\"Packaging of product was too bad\"]))\n",
        "\n",
        "conv_1d = layers.Conv1D(filters = 32, kernel_size = 5, activation = 'relu')\n",
        "conv_1d_output = conv_1d(embedding_test)\n",
        "\n",
        "max_pool = layers.GlobalMaxPool1D()\n",
        "max_pool_output = max_pool(conv_1d_output)\n",
        "\n",
        "embedding_test.shape, conv_1d_output.shape, max_pool_output.shape"
      ],
      "metadata": {
        "colab": {
          "base_uri": "https://localhost:8080/"
        },
        "id": "FQtmVC160WXK",
        "outputId": "725c8bbc-92fc-45e1-d388-78dc0e771c81"
      },
      "execution_count": 65,
      "outputs": [
        {
          "output_type": "execute_result",
          "data": {
            "text/plain": [
              "(TensorShape([1, 64, 128]), TensorShape([1, 60, 32]), TensorShape([1, 32]))"
            ]
          },
          "metadata": {},
          "execution_count": 65
        }
      ]
    },
    {
      "cell_type": "code",
      "source": [
        "embedding_test[:1], conv_1d_output[:1], max_pool_output[:1]"
      ],
      "metadata": {
        "colab": {
          "base_uri": "https://localhost:8080/"
        },
        "id": "foN_SeHF1F2s",
        "outputId": "fd743d2e-cbdc-428d-aede-4f7133e595d6"
      },
      "execution_count": 66,
      "outputs": [
        {
          "output_type": "execute_result",
          "data": {
            "text/plain": [
              "(<tf.Tensor: shape=(1, 64, 128), dtype=float32, numpy=\n",
              " array([[[-0.04784365, -0.0650325 , -0.12291285, ..., -0.02730245,\n",
              "          -0.02577849, -0.08949862],\n",
              "         [-0.0580535 , -0.10558667, -0.1328013 , ..., -0.0771806 ,\n",
              "          -0.07982657, -0.11582603],\n",
              "         [-0.06651627, -0.23512976, -0.2292752 , ..., -0.07200687,\n",
              "          -0.08490938, -0.18637015],\n",
              "         ...,\n",
              "         [-0.08965454, -0.2775475 , -0.25046456, ..., -0.0859485 ,\n",
              "          -0.15653276, -0.20958346],\n",
              "         [-0.08965454, -0.2775475 , -0.25046456, ..., -0.0859485 ,\n",
              "          -0.15653276, -0.20958346],\n",
              "         [-0.08965454, -0.2775475 , -0.25046456, ..., -0.0859485 ,\n",
              "          -0.15653276, -0.20958346]]], dtype=float32)>,\n",
              " <tf.Tensor: shape=(1, 60, 32), dtype=float32, numpy=\n",
              " array([[[0.        , 0.00370973, 0.        , ..., 0.02502503,\n",
              "          0.0178159 , 0.15855919],\n",
              "         [0.        , 0.0014108 , 0.        , ..., 0.        ,\n",
              "          0.01571468, 0.17887524],\n",
              "         [0.        , 0.08071481, 0.0833307 , ..., 0.        ,\n",
              "          0.09129427, 0.29220253],\n",
              "         ...,\n",
              "         [0.        , 0.05396817, 0.        , ..., 0.00648881,\n",
              "          0.11068621, 0.2934799 ],\n",
              "         [0.        , 0.05396817, 0.        , ..., 0.00648881,\n",
              "          0.11068621, 0.2934799 ],\n",
              "         [0.        , 0.05396817, 0.        , ..., 0.00648881,\n",
              "          0.11068621, 0.2934799 ]]], dtype=float32)>,\n",
              " <tf.Tensor: shape=(1, 32), dtype=float32, numpy=\n",
              " array([[0.01608864, 0.23872226, 0.0833307 , 0.1303799 , 0.5652022 ,\n",
              "         0.14259999, 0.17760101, 0.02432631, 0.        , 0.8313985 ,\n",
              "         0.3693001 , 0.36186582, 0.09736046, 0.31122655, 0.26100105,\n",
              "         0.        , 0.26095733, 0.        , 0.34908864, 0.31148133,\n",
              "         0.11186139, 0.        , 0.15095289, 0.23632392, 0.36658362,\n",
              "         0.3545916 , 0.        , 0.02351045, 0.24207956, 0.18876311,\n",
              "         0.11068621, 0.2934799 ]], dtype=float32)>)"
            ]
          },
          "metadata": {},
          "execution_count": 66
        }
      ]
    },
    {
      "cell_type": "code",
      "source": [
        "# build a model\n",
        "from tensorflow.keras import layers\n",
        "model_5_embedding = layers.Embedding(input_dim = max_vocab_length,\n",
        "                                     output_dim = 128,\n",
        "                                     embeddings_initializer = 'uniform',\n",
        "                                     input_length = max_length,\n",
        "                                     name = 'embedding_5')\n",
        "\n",
        "\n",
        "from tensorflow.keras import layers\n",
        "\n",
        "inputs = layers.Input(shape =(1, ), dtype=tf.string)\n",
        "x = text_vectorizer(inputs)\n",
        "x = model_5_embedding(x)\n",
        "\n",
        "x = layers.Conv1D(filters=32, kernel_size=5, activation=\"relu\")(x)\n",
        "x = layers.GlobalMaxPool1D()(x)\n",
        "# x = layers.Dense(64, activation = 'relu', name = 'extraLayer')(x)\n",
        "\n",
        "outputs = layers.Dense(1, activation=\"sigmoid\")(x)\n",
        "model_5 = tf.keras.Model(inputs, outputs, name=\"model_5_Conv1D\")"
      ],
      "metadata": {
        "id": "GxSOM1Oh5fa1"
      },
      "execution_count": 67,
      "outputs": []
    },
    {
      "cell_type": "code",
      "source": [
        "# compile the model\n",
        "\n",
        "model_5.compile(loss = 'binary_crossentropy',\n",
        "                optimizer = tf.keras.optimizers.Adam(),\n",
        "                metrics = ['accuracy'])\n",
        "\n",
        "model_5.summary()"
      ],
      "metadata": {
        "colab": {
          "base_uri": "https://localhost:8080/"
        },
        "id": "DQLzX_976mdS",
        "outputId": "71e421a2-cc94-4e86-baa1-4f070556462a"
      },
      "execution_count": 68,
      "outputs": [
        {
          "output_type": "stream",
          "name": "stdout",
          "text": [
            "Model: \"model_5_Conv1D\"\n",
            "_________________________________________________________________\n",
            " Layer (type)                Output Shape              Param #   \n",
            "=================================================================\n",
            " input_5 (InputLayer)        [(None, 1)]               0         \n",
            "                                                                 \n",
            " text_vectorization_1 (Text  (None, 64)                0         \n",
            " Vectorization)                                                  \n",
            "                                                                 \n",
            " embedding_5 (Embedding)     (None, 64, 128)           2560000   \n",
            "                                                                 \n",
            " conv1d_1 (Conv1D)           (None, 60, 32)            20512     \n",
            "                                                                 \n",
            " global_max_pooling1d_2 (Gl  (None, 32)                0         \n",
            " obalMaxPooling1D)                                               \n",
            "                                                                 \n",
            " dense_5 (Dense)             (None, 1)                 33        \n",
            "                                                                 \n",
            "=================================================================\n",
            "Total params: 2580545 (9.84 MB)\n",
            "Trainable params: 2580545 (9.84 MB)\n",
            "Non-trainable params: 0 (0.00 Byte)\n",
            "_________________________________________________________________\n"
          ]
        }
      ]
    },
    {
      "cell_type": "code",
      "source": [
        "# Fit the model\n",
        "model_5_history = model_5.fit(train_sentances,\n",
        "                              train_labels,\n",
        "                              epochs = 5,\n",
        "                              validation_data = (val_sentances, val_labels))"
      ],
      "metadata": {
        "colab": {
          "base_uri": "https://localhost:8080/"
        },
        "id": "ztj8QEo862sz",
        "outputId": "53f57886-661c-444f-b847-dcc078687866"
      },
      "execution_count": 69,
      "outputs": [
        {
          "output_type": "stream",
          "name": "stdout",
          "text": [
            "Epoch 1/5\n",
            "1407/1407 [==============================] - 49s 33ms/step - loss: 0.3164 - accuracy: 0.8616 - val_loss: 0.2550 - val_accuracy: 0.8924\n",
            "Epoch 2/5\n",
            "1407/1407 [==============================] - 12s 9ms/step - loss: 0.2070 - accuracy: 0.9155 - val_loss: 0.2564 - val_accuracy: 0.8926\n",
            "Epoch 3/5\n",
            "1407/1407 [==============================] - 11s 8ms/step - loss: 0.1327 - accuracy: 0.9505 - val_loss: 0.2875 - val_accuracy: 0.8884\n",
            "Epoch 4/5\n",
            "1407/1407 [==============================] - 11s 8ms/step - loss: 0.0738 - accuracy: 0.9766 - val_loss: 0.3314 - val_accuracy: 0.8906\n",
            "Epoch 5/5\n",
            "1407/1407 [==============================] - 11s 8ms/step - loss: 0.0381 - accuracy: 0.9899 - val_loss: 0.3797 - val_accuracy: 0.8852\n"
          ]
        }
      ]
    },
    {
      "cell_type": "code",
      "source": [
        "# # Fit the model\n",
        "# model_5_history = model_5.fit(train_sentances,\n",
        "#                               train_labels,\n",
        "#                               epochs = 5,\n",
        "#                               validation_data = (val_sentances, val_labels))"
      ],
      "metadata": {
        "id": "E5UjXsQM8-Wo"
      },
      "execution_count": 70,
      "outputs": []
    },
    {
      "cell_type": "code",
      "source": [
        "# Make Predictions\n",
        "model_5_pred_prob = model_5.predict(val_sentances)\n",
        "model_5_pred = tf.squeeze(tf.round(model_5_pred_prob))\n",
        "model_5_pred"
      ],
      "metadata": {
        "colab": {
          "base_uri": "https://localhost:8080/"
        },
        "id": "XPz0d50G7eKx",
        "outputId": "5634960e-db59-46d1-d810-8ecb9275e858"
      },
      "execution_count": 71,
      "outputs": [
        {
          "output_type": "stream",
          "name": "stdout",
          "text": [
            "157/157 [==============================] - 1s 3ms/step\n"
          ]
        },
        {
          "output_type": "execute_result",
          "data": {
            "text/plain": [
              "<tf.Tensor: shape=(5000,), dtype=float32, numpy=array([0., 1., 1., ..., 1., 0., 1.], dtype=float32)>"
            ]
          },
          "metadata": {},
          "execution_count": 71
        }
      ]
    },
    {
      "cell_type": "code",
      "source": [
        "# Calculate 5th model results\n",
        "model_5_results = calculate_results(val_labels,\n",
        "                                    model_5_pred)\n",
        "model_5_results"
      ],
      "metadata": {
        "colab": {
          "base_uri": "https://localhost:8080/"
        },
        "id": "r_P7VgOo80I0",
        "outputId": "3452bef4-ce03-450c-baaf-1129ab49417d"
      },
      "execution_count": 72,
      "outputs": [
        {
          "output_type": "execute_result",
          "data": {
            "text/plain": [
              "{'accuracy': 88.52,\n",
              " 'precision': 0.8836679809824549,\n",
              " 'recall': 0.8852,\n",
              " 'f1': 0.8843286121247045}"
            ]
          },
          "metadata": {},
          "execution_count": 72
        }
      ]
    },
    {
      "cell_type": "markdown",
      "source": [
        "# Model 6: pretrain models from Tensorflow Hub"
      ],
      "metadata": {
        "id": "gsZN1kYTkekv"
      }
    },
    {
      "cell_type": "code",
      "source": [
        "import tensorflow_hub as hub\n",
        "\n",
        "embed = hub.load('https://tfhub.dev/google/universal-sentence-encoder/4')\n"
      ],
      "metadata": {
        "id": "soarv_P2kzFY"
      },
      "execution_count": 73,
      "outputs": []
    },
    {
      "cell_type": "code",
      "source": [
        "sentence_encoder_layer = hub.KerasLayer(\"https://tfhub.dev/google/universal-sentence-encoder/4\",\n",
        "                                        input_shape=[],\n",
        "                                        dtype=tf.string,\n",
        "                                        trainable=False,\n",
        "                                        name=\"USE\")"
      ],
      "metadata": {
        "id": "rDUA_mKOlDrz"
      },
      "execution_count": 74,
      "outputs": []
    },
    {
      "cell_type": "code",
      "source": [
        "# Create model using the Sequential API\n",
        "model_6 = tf.keras.Sequential([\n",
        "  sentence_encoder_layer,\n",
        "  layers.Dense(64, activation=\"relu\"),\n",
        "  layers.Dense(1, activation=\"sigmoid\")\n",
        "], name=\"model_6_USE\")\n",
        "\n",
        "# Compile model\n",
        "model_6.compile(loss=\"binary_crossentropy\",\n",
        "                optimizer=tf.keras.optimizers.Adam(),\n",
        "                metrics=[\"accuracy\"])\n",
        "\n",
        "model_6.summary()"
      ],
      "metadata": {
        "colab": {
          "base_uri": "https://localhost:8080/"
        },
        "id": "r3xkRhS8lHd6",
        "outputId": "48a7b17c-27b6-476f-b94e-f5286a0f9d26"
      },
      "execution_count": 75,
      "outputs": [
        {
          "output_type": "stream",
          "name": "stdout",
          "text": [
            "Model: \"model_6_USE\"\n",
            "_________________________________________________________________\n",
            " Layer (type)                Output Shape              Param #   \n",
            "=================================================================\n",
            " USE (KerasLayer)            (None, 512)               256797824 \n",
            "                                                                 \n",
            " dense_6 (Dense)             (None, 64)                32832     \n",
            "                                                                 \n",
            " dense_7 (Dense)             (None, 1)                 65        \n",
            "                                                                 \n",
            "=================================================================\n",
            "Total params: 256830721 (979.73 MB)\n",
            "Trainable params: 32897 (128.50 KB)\n",
            "Non-trainable params: 256797824 (979.61 MB)\n",
            "_________________________________________________________________\n"
          ]
        }
      ]
    },
    {
      "cell_type": "code",
      "source": [
        "# Train a classifier on top of pretrained embeddings\n",
        "model_6_history = model_6.fit(train_sentances,\n",
        "                              train_labels,\n",
        "                              epochs=5,\n",
        "                              validation_data=(val_sentances, val_labels))"
      ],
      "metadata": {
        "colab": {
          "base_uri": "https://localhost:8080/"
        },
        "id": "soBh-L7JlX1E",
        "outputId": "414db404-730f-4925-f2cc-0b1f050a4fb4"
      },
      "execution_count": 76,
      "outputs": [
        {
          "output_type": "stream",
          "name": "stdout",
          "text": [
            "Epoch 1/5\n",
            "1407/1407 [==============================] - 47s 29ms/step - loss: 0.2865 - accuracy: 0.8746 - val_loss: 0.2573 - val_accuracy: 0.8924\n",
            "Epoch 2/5\n",
            "1407/1407 [==============================] - 43s 30ms/step - loss: 0.2558 - accuracy: 0.8898 - val_loss: 0.2535 - val_accuracy: 0.8938\n",
            "Epoch 3/5\n",
            "1407/1407 [==============================] - 40s 28ms/step - loss: 0.2497 - accuracy: 0.8922 - val_loss: 0.2481 - val_accuracy: 0.8960\n",
            "Epoch 4/5\n",
            "1407/1407 [==============================] - 41s 29ms/step - loss: 0.2434 - accuracy: 0.8951 - val_loss: 0.2468 - val_accuracy: 0.9010\n",
            "Epoch 5/5\n",
            "1407/1407 [==============================] - 40s 29ms/step - loss: 0.2371 - accuracy: 0.8982 - val_loss: 0.2419 - val_accuracy: 0.8962\n"
          ]
        }
      ]
    },
    {
      "cell_type": "code",
      "source": [
        "# Make predictions with USE TF Hub model\n",
        "model_6_pred_probs = model_6.predict(val_sentances)\n",
        "model_6_preds = tf.squeeze(tf.round(model_6_pred_probs))\n",
        "model_6_preds"
      ],
      "metadata": {
        "colab": {
          "base_uri": "https://localhost:8080/"
        },
        "id": "CKEr9Evglm3_",
        "outputId": "6f3c684a-952b-41b9-fa9f-7494f91f4439"
      },
      "execution_count": 77,
      "outputs": [
        {
          "output_type": "stream",
          "name": "stdout",
          "text": [
            "157/157 [==============================] - 4s 20ms/step\n"
          ]
        },
        {
          "output_type": "execute_result",
          "data": {
            "text/plain": [
              "<tf.Tensor: shape=(5000,), dtype=float32, numpy=array([1., 1., 1., ..., 1., 1., 1.], dtype=float32)>"
            ]
          },
          "metadata": {},
          "execution_count": 77
        }
      ]
    },
    {
      "cell_type": "code",
      "source": [
        "# Calculate model 6 performance metrics\n",
        "model_6_results = calculate_results(val_labels, model_6_preds)\n",
        "model_6_results"
      ],
      "metadata": {
        "colab": {
          "base_uri": "https://localhost:8080/"
        },
        "id": "DSMmgHE9mOyT",
        "outputId": "67c597ac-126d-4ee9-94a0-f55fb02514f6"
      },
      "execution_count": 78,
      "outputs": [
        {
          "output_type": "execute_result",
          "data": {
            "text/plain": [
              "{'accuracy': 89.62,\n",
              " 'precision': 0.8937475750287,\n",
              " 'recall': 0.8962,\n",
              " 'f1': 0.8944811486131653}"
            ]
          },
          "metadata": {},
          "execution_count": 78
        }
      ]
    },
    {
      "cell_type": "markdown",
      "source": [
        "# Model 7: 10 percent data on model6"
      ],
      "metadata": {
        "id": "K6SE2APwmbik"
      }
    },
    {
      "cell_type": "code",
      "source": [
        "import numpy as np\n",
        "train_sentences_90_percent, train_sentences_10_percent, train_labels_90_percent, train_labels_10_percent = train_test_split(np.array(train_sentances),\n",
        "                                                                                                                            train_labels,\n",
        "                                                                                                                            test_size=0.1,\n",
        "                                                                                                                            random_state=42)"
      ],
      "metadata": {
        "id": "-FkXutm6menw"
      },
      "execution_count": 79,
      "outputs": []
    },
    {
      "cell_type": "code",
      "source": [
        "len(train_sentences_10_percent),len(train_labels_10_percent)"
      ],
      "metadata": {
        "colab": {
          "base_uri": "https://localhost:8080/"
        },
        "id": "iFG8c8WZm9FT",
        "outputId": "d050b997-688d-4381-e059-a5e995a9fa6a"
      },
      "execution_count": 80,
      "outputs": [
        {
          "output_type": "execute_result",
          "data": {
            "text/plain": [
              "(4500, 4500)"
            ]
          },
          "metadata": {},
          "execution_count": 80
        }
      ]
    },
    {
      "cell_type": "code",
      "source": [
        "len(train_sentences_90_percent)"
      ],
      "metadata": {
        "colab": {
          "base_uri": "https://localhost:8080/"
        },
        "id": "DE066CPpnE6c",
        "outputId": "9fec579d-983e-4e24-8f74-2cc0a4f96092"
      },
      "execution_count": 81,
      "outputs": [
        {
          "output_type": "execute_result",
          "data": {
            "text/plain": [
              "40500"
            ]
          },
          "metadata": {},
          "execution_count": 81
        }
      ]
    },
    {
      "cell_type": "code",
      "source": [
        "import pandas as pd\n",
        "pd.Series(train_labels_10_percent).value_counts()"
      ],
      "metadata": {
        "colab": {
          "base_uri": "https://localhost:8080/"
        },
        "id": "Mgzxj5M5nIBg",
        "outputId": "757597e3-4f09-4db9-c2a0-2248007a46d8"
      },
      "execution_count": 82,
      "outputs": [
        {
          "output_type": "execute_result",
          "data": {
            "text/plain": [
              "1    3419\n",
              "0    1081\n",
              "dtype: int64"
            ]
          },
          "metadata": {},
          "execution_count": 82
        }
      ]
    },
    {
      "cell_type": "code",
      "source": [
        "\n",
        "model_7 = tf.keras.models.clone_model(model_6)\n",
        "\n",
        "# Compile model\n",
        "model_7.compile(loss=\"binary_crossentropy\",\n",
        "                optimizer=tf.keras.optimizers.Adam(),\n",
        "                metrics=[\"accuracy\"])\n",
        "\n",
        "model_7.summary()"
      ],
      "metadata": {
        "colab": {
          "base_uri": "https://localhost:8080/"
        },
        "id": "qdjbEjl7nT2p",
        "outputId": "759805ae-f7ea-4349-9e26-a9e7ac725798"
      },
      "execution_count": 83,
      "outputs": [
        {
          "output_type": "stream",
          "name": "stdout",
          "text": [
            "Model: \"model_6_USE\"\n",
            "_________________________________________________________________\n",
            " Layer (type)                Output Shape              Param #   \n",
            "=================================================================\n",
            " USE (KerasLayer)            (None, 512)               256797824 \n",
            "                                                                 \n",
            " dense_6 (Dense)             (None, 64)                32832     \n",
            "                                                                 \n",
            " dense_7 (Dense)             (None, 1)                 65        \n",
            "                                                                 \n",
            "=================================================================\n",
            "Total params: 256830721 (979.73 MB)\n",
            "Trainable params: 32897 (128.50 KB)\n",
            "Non-trainable params: 256797824 (979.61 MB)\n",
            "_________________________________________________________________\n"
          ]
        }
      ]
    },
    {
      "cell_type": "code",
      "source": [
        "# Fit the model to 10% of the training data\n",
        "model_7_history = model_7.fit(x=train_sentences_10_percent,\n",
        "                              y=train_labels_10_percent,\n",
        "                              epochs=5,\n",
        "                              validation_data=(val_sentances, val_labels),)"
      ],
      "metadata": {
        "colab": {
          "base_uri": "https://localhost:8080/"
        },
        "id": "_wayK_I2ncdn",
        "outputId": "8a3e97ef-43e7-4f82-cef6-91533bc3d704"
      },
      "execution_count": 84,
      "outputs": [
        {
          "output_type": "stream",
          "name": "stdout",
          "text": [
            "Epoch 1/5\n",
            "141/141 [==============================] - 11s 45ms/step - loss: 0.4416 - accuracy: 0.8007 - val_loss: 0.3234 - val_accuracy: 0.8554\n",
            "Epoch 2/5\n",
            "141/141 [==============================] - 8s 57ms/step - loss: 0.2887 - accuracy: 0.8818 - val_loss: 0.2759 - val_accuracy: 0.8814\n",
            "Epoch 3/5\n",
            "141/141 [==============================] - 6s 42ms/step - loss: 0.2607 - accuracy: 0.8942 - val_loss: 0.2722 - val_accuracy: 0.8786\n",
            "Epoch 4/5\n",
            "141/141 [==============================] - 7s 46ms/step - loss: 0.2512 - accuracy: 0.8964 - val_loss: 0.2690 - val_accuracy: 0.8816\n",
            "Epoch 5/5\n",
            "141/141 [==============================] - 7s 53ms/step - loss: 0.2446 - accuracy: 0.8998 - val_loss: 0.2679 - val_accuracy: 0.8832\n"
          ]
        }
      ]
    },
    {
      "cell_type": "code",
      "source": [
        "# Make predictions with the model trained on 10% of the data\n",
        "model_7_pred_probs = model_7.predict(val_sentances)\n",
        "model_7_preds = tf.squeeze(tf.round(model_7_pred_probs))\n",
        "model_7_preds"
      ],
      "metadata": {
        "colab": {
          "base_uri": "https://localhost:8080/"
        },
        "id": "1N4miqQIngrm",
        "outputId": "898a471f-1085-45b6-fb34-1e5120573f56"
      },
      "execution_count": 85,
      "outputs": [
        {
          "output_type": "stream",
          "name": "stdout",
          "text": [
            "157/157 [==============================] - 6s 33ms/step\n"
          ]
        },
        {
          "output_type": "execute_result",
          "data": {
            "text/plain": [
              "<tf.Tensor: shape=(5000,), dtype=float32, numpy=array([1., 1., 1., ..., 1., 1., 1.], dtype=float32)>"
            ]
          },
          "metadata": {},
          "execution_count": 85
        }
      ]
    },
    {
      "cell_type": "code",
      "source": [
        "model_7_results = calculate_results(val_labels, model_7_preds)\n",
        "model_7_results"
      ],
      "metadata": {
        "colab": {
          "base_uri": "https://localhost:8080/"
        },
        "id": "nlniAGUhnsQS",
        "outputId": "1a3d1772-b1fb-4c19-e423-36fedf932950"
      },
      "execution_count": 86,
      "outputs": [
        {
          "output_type": "execute_result",
          "data": {
            "text/plain": [
              "{'accuracy': 88.32,\n",
              " 'precision': 0.8794484638099735,\n",
              " 'recall': 0.8832,\n",
              " 'f1': 0.8802728976229992}"
            ]
          },
          "metadata": {},
          "execution_count": 86
        }
      ]
    },
    {
      "cell_type": "markdown",
      "source": [
        "# Model 8:BERT Model"
      ],
      "metadata": {
        "id": "MTx3Y4PM3uc3"
      }
    },
    {
      "cell_type": "code",
      "source": [
        "# !pip install tensorflow_text"
      ],
      "metadata": {
        "id": "seaPl9nX4NjL"
      },
      "execution_count": 87,
      "outputs": []
    },
    {
      "cell_type": "code",
      "source": [
        "# import tensorflow_hub as hub\n",
        "# # import tensorflow_text as text\n",
        "\n",
        "# https://tfhub.dev/tensorflow/bert_en_uncased_L-12_H-768_A-12/4\n",
        "\n",
        "bert_preprocess = hub.KerasLayer(\"https://tfhub.dev/tensorflow/bert_en_uncased_preprocess/3\")\n",
        "bert_encoder = hub.KerasLayer(\"https://tfhub.dev/tensorflow/bert_en_uncased_L-12_H-768_A-12/4\")"
      ],
      "metadata": {
        "id": "YFp-JE7q3uuy"
      },
      "execution_count": 96,
      "outputs": []
    },
    {
      "cell_type": "code",
      "source": [
        "def sentence_embedding(sentences):\n",
        "  preprocessed_text = bert_preprocess(sentences)\n",
        "  return bert_encoder(preprocessed_text)['pooled_output']"
      ],
      "metadata": {
        "id": "lMGsk6OY3u5w"
      },
      "execution_count": 102,
      "outputs": []
    },
    {
      "cell_type": "code",
      "source": [
        "# Bert layer\n",
        "inputs = tf.keras.layers.Input(shape =(), dtype = tf.string,name = 'text')\n",
        "preprocess_layer = bert_preprocess(inputs)\n",
        "\n",
        "outputs = bert_encoder(preprocess_layer)\n",
        "\n",
        "x = layers.Dropout(0.1, name = \"dropout_1\")(outputs['pooled_output'])\n",
        "x = layers.Dense(1, activation='sigmoid', name = 'output')(x)\n",
        "\n",
        "\n",
        "BERT_model = tf.keras.Model(inputs=[inputs],outputs = [x])"
      ],
      "metadata": {
        "id": "byAM2nta3wXw"
      },
      "execution_count": 103,
      "outputs": []
    },
    {
      "cell_type": "code",
      "source": [
        "BERT_model.summary()"
      ],
      "metadata": {
        "colab": {
          "base_uri": "https://localhost:8080/"
        },
        "id": "QqMjtHqaAZjO",
        "outputId": "d4619beb-19ff-49dd-9b7b-0f975cb80a05"
      },
      "execution_count": 104,
      "outputs": [
        {
          "output_type": "stream",
          "name": "stdout",
          "text": [
            "Model: \"model_1\"\n",
            "__________________________________________________________________________________________________\n",
            " Layer (type)                Output Shape                 Param #   Connected to                  \n",
            "==================================================================================================\n",
            " text (InputLayer)           [(None,)]                    0         []                            \n",
            "                                                                                                  \n",
            " keras_layer (KerasLayer)    {'input_type_ids': (None,    0         ['text[0][0]']                \n",
            "                             128),                                                                \n",
            "                              'input_mask': (None, 128)                                           \n",
            "                             , 'input_word_ids': (None,                                           \n",
            "                              128)}                                                               \n",
            "                                                                                                  \n",
            " keras_layer_1 (KerasLayer)  {'pooled_output': (None, 7   1094822   ['keras_layer[1][0]',         \n",
            "                             68),                         41         'keras_layer[1][1]',         \n",
            "                              'sequence_output': (None,              'keras_layer[1][2]']         \n",
            "                              128, 768),                                                          \n",
            "                              'encoder_outputs': [(None                                           \n",
            "                             , 128, 768),                                                         \n",
            "                              (None, 128, 768),                                                   \n",
            "                              (None, 128, 768),                                                   \n",
            "                              (None, 128, 768),                                                   \n",
            "                              (None, 128, 768),                                                   \n",
            "                              (None, 128, 768),                                                   \n",
            "                              (None, 128, 768),                                                   \n",
            "                              (None, 128, 768),                                                   \n",
            "                              (None, 128, 768),                                                   \n",
            "                              (None, 128, 768),                                                   \n",
            "                              (None, 128, 768),                                                   \n",
            "                              (None, 128, 768)],                                                  \n",
            "                              'default': (None, 768)}                                             \n",
            "                                                                                                  \n",
            " dropout_1 (Dropout)         (None, 768)                  0         ['keras_layer_1[1][13]']      \n",
            "                                                                                                  \n",
            " output (Dense)              (None, 1)                    769       ['dropout_1[0][0]']           \n",
            "                                                                                                  \n",
            "==================================================================================================\n",
            "Total params: 109483010 (417.64 MB)\n",
            "Trainable params: 769 (3.00 KB)\n",
            "Non-trainable params: 109482241 (417.64 MB)\n",
            "__________________________________________________________________________________________________\n"
          ]
        }
      ]
    },
    {
      "cell_type": "code",
      "source": [
        "# compile a model\n",
        "BERT_model.compile(loss = 'binary_crossentropy',\n",
        "                   optimizer = tf.keras.optimizers.Adam(),\n",
        "                   metrics=['accuracy'])"
      ],
      "metadata": {
        "id": "l9libEjoAwNj"
      },
      "execution_count": 105,
      "outputs": []
    },
    {
      "cell_type": "code",
      "source": [
        "#fit the model\n",
        "Bert_model_history = BERT_model.fit(train_sentances,\n",
        "                              train_labels,\n",
        "                              epochs=3,\n",
        "                              validation_data=(val_sentances, val_labels))"
      ],
      "metadata": {
        "colab": {
          "base_uri": "https://localhost:8080/"
        },
        "id": "SKwLZ5fiAwGR",
        "outputId": "a03c53c3-fc05-4db2-8fd5-4fd02e5d579b"
      },
      "execution_count": null,
      "outputs": [
        {
          "output_type": "stream",
          "name": "stdout",
          "text": [
            "Epoch 1/3\n",
            "1407/1407 [==============================] - 596s 422ms/step - loss: 0.4687 - accuracy: 0.7802 - val_loss: 0.3931 - val_accuracy: 0.8104\n",
            "Epoch 2/3\n",
            "1407/1407 [==============================] - 591s 420ms/step - loss: 0.3924 - accuracy: 0.8187 - val_loss: 0.3514 - val_accuracy: 0.8400\n",
            "Epoch 3/3\n",
            "  76/1407 [>.............................] - ETA: 8:00 - loss: 0.3750 - accuracy: 0.8285"
          ]
        }
      ]
    },
    {
      "cell_type": "code",
      "source": [],
      "metadata": {
        "id": "e5x1pz_RAv9_"
      },
      "execution_count": null,
      "outputs": []
    },
    {
      "cell_type": "code",
      "source": [],
      "metadata": {
        "id": "f9vymiM2Av1J"
      },
      "execution_count": null,
      "outputs": []
    },
    {
      "cell_type": "markdown",
      "source": [
        "# Compare the all results"
      ],
      "metadata": {
        "id": "Ux0unW8pnvp5"
      }
    },
    {
      "cell_type": "code",
      "source": [
        "# Combine model results into a DataFrame\n",
        "all_results_models = pd.DataFrame({\"0_baseline\": baseline_results,\n",
        "                                  \"1_simple_dense\": model_1_results,\n",
        "                                  \"2_lstm\": model_2_results,\n",
        "                                  \"3_gru\": model_3_results,\n",
        "                                  \"4_bidirectional\": model_4_results,\n",
        "                                  \"5_conv1d\": model_5_results,\n",
        "                                  \"6_tf_hub_sentence_encoder\": model_6_results,\n",
        "                                  \"7_tf_hub_10_percent_data\": model_7_results})\n",
        "all_results_models = all_results_models.transpose()\n",
        "all_results_models"
      ],
      "metadata": {
        "colab": {
          "base_uri": "https://localhost:8080/",
          "height": 300
        },
        "id": "60mx8m5enzUX",
        "outputId": "0e616c61-8ea6-4a81-ec8e-6b6e3317901a"
      },
      "execution_count": 89,
      "outputs": [
        {
          "output_type": "execute_result",
          "data": {
            "text/plain": [
              "                           accuracy  precision  recall        f1\n",
              "0_baseline                    79.78   0.833827  0.7978  0.730897\n",
              "1_simple_dense                89.48   0.891566  0.8948  0.891806\n",
              "2_lstm                        87.92   0.883897  0.8792  0.881057\n",
              "3_gru                         88.08   0.881171  0.8808  0.880981\n",
              "4_bidirectional               88.86   0.887260  0.8886  0.887845\n",
              "5_conv1d                      88.52   0.883668  0.8852  0.884329\n",
              "6_tf_hub_sentence_encoder     89.62   0.893748  0.8962  0.894481\n",
              "7_tf_hub_10_percent_data      88.32   0.879448  0.8832  0.880273"
            ],
            "text/html": [
              "\n",
              "\n",
              "  <div id=\"df-59e0678e-4ff8-4126-8564-592aa4805f65\">\n",
              "    <div class=\"colab-df-container\">\n",
              "      <div>\n",
              "<style scoped>\n",
              "    .dataframe tbody tr th:only-of-type {\n",
              "        vertical-align: middle;\n",
              "    }\n",
              "\n",
              "    .dataframe tbody tr th {\n",
              "        vertical-align: top;\n",
              "    }\n",
              "\n",
              "    .dataframe thead th {\n",
              "        text-align: right;\n",
              "    }\n",
              "</style>\n",
              "<table border=\"1\" class=\"dataframe\">\n",
              "  <thead>\n",
              "    <tr style=\"text-align: right;\">\n",
              "      <th></th>\n",
              "      <th>accuracy</th>\n",
              "      <th>precision</th>\n",
              "      <th>recall</th>\n",
              "      <th>f1</th>\n",
              "    </tr>\n",
              "  </thead>\n",
              "  <tbody>\n",
              "    <tr>\n",
              "      <th>0_baseline</th>\n",
              "      <td>79.78</td>\n",
              "      <td>0.833827</td>\n",
              "      <td>0.7978</td>\n",
              "      <td>0.730897</td>\n",
              "    </tr>\n",
              "    <tr>\n",
              "      <th>1_simple_dense</th>\n",
              "      <td>89.48</td>\n",
              "      <td>0.891566</td>\n",
              "      <td>0.8948</td>\n",
              "      <td>0.891806</td>\n",
              "    </tr>\n",
              "    <tr>\n",
              "      <th>2_lstm</th>\n",
              "      <td>87.92</td>\n",
              "      <td>0.883897</td>\n",
              "      <td>0.8792</td>\n",
              "      <td>0.881057</td>\n",
              "    </tr>\n",
              "    <tr>\n",
              "      <th>3_gru</th>\n",
              "      <td>88.08</td>\n",
              "      <td>0.881171</td>\n",
              "      <td>0.8808</td>\n",
              "      <td>0.880981</td>\n",
              "    </tr>\n",
              "    <tr>\n",
              "      <th>4_bidirectional</th>\n",
              "      <td>88.86</td>\n",
              "      <td>0.887260</td>\n",
              "      <td>0.8886</td>\n",
              "      <td>0.887845</td>\n",
              "    </tr>\n",
              "    <tr>\n",
              "      <th>5_conv1d</th>\n",
              "      <td>88.52</td>\n",
              "      <td>0.883668</td>\n",
              "      <td>0.8852</td>\n",
              "      <td>0.884329</td>\n",
              "    </tr>\n",
              "    <tr>\n",
              "      <th>6_tf_hub_sentence_encoder</th>\n",
              "      <td>89.62</td>\n",
              "      <td>0.893748</td>\n",
              "      <td>0.8962</td>\n",
              "      <td>0.894481</td>\n",
              "    </tr>\n",
              "    <tr>\n",
              "      <th>7_tf_hub_10_percent_data</th>\n",
              "      <td>88.32</td>\n",
              "      <td>0.879448</td>\n",
              "      <td>0.8832</td>\n",
              "      <td>0.880273</td>\n",
              "    </tr>\n",
              "  </tbody>\n",
              "</table>\n",
              "</div>\n",
              "      <button class=\"colab-df-convert\" onclick=\"convertToInteractive('df-59e0678e-4ff8-4126-8564-592aa4805f65')\"\n",
              "              title=\"Convert this dataframe to an interactive table.\"\n",
              "              style=\"display:none;\">\n",
              "\n",
              "  <svg xmlns=\"http://www.w3.org/2000/svg\" height=\"24px\"viewBox=\"0 0 24 24\"\n",
              "       width=\"24px\">\n",
              "    <path d=\"M0 0h24v24H0V0z\" fill=\"none\"/>\n",
              "    <path d=\"M18.56 5.44l.94 2.06.94-2.06 2.06-.94-2.06-.94-.94-2.06-.94 2.06-2.06.94zm-11 1L8.5 8.5l.94-2.06 2.06-.94-2.06-.94L8.5 2.5l-.94 2.06-2.06.94zm10 10l.94 2.06.94-2.06 2.06-.94-2.06-.94-.94-2.06-.94 2.06-2.06.94z\"/><path d=\"M17.41 7.96l-1.37-1.37c-.4-.4-.92-.59-1.43-.59-.52 0-1.04.2-1.43.59L10.3 9.45l-7.72 7.72c-.78.78-.78 2.05 0 2.83L4 21.41c.39.39.9.59 1.41.59.51 0 1.02-.2 1.41-.59l7.78-7.78 2.81-2.81c.8-.78.8-2.07 0-2.86zM5.41 20L4 18.59l7.72-7.72 1.47 1.35L5.41 20z\"/>\n",
              "  </svg>\n",
              "      </button>\n",
              "\n",
              "\n",
              "\n",
              "    <div id=\"df-5615bcc0-55a0-4085-9e4b-0a555c271ce5\">\n",
              "      <button class=\"colab-df-quickchart\" onclick=\"quickchart('df-5615bcc0-55a0-4085-9e4b-0a555c271ce5')\"\n",
              "              title=\"Suggest charts.\"\n",
              "              style=\"display:none;\">\n",
              "\n",
              "<svg xmlns=\"http://www.w3.org/2000/svg\" height=\"24px\"viewBox=\"0 0 24 24\"\n",
              "     width=\"24px\">\n",
              "    <g>\n",
              "        <path d=\"M19 3H5c-1.1 0-2 .9-2 2v14c0 1.1.9 2 2 2h14c1.1 0 2-.9 2-2V5c0-1.1-.9-2-2-2zM9 17H7v-7h2v7zm4 0h-2V7h2v10zm4 0h-2v-4h2v4z\"/>\n",
              "    </g>\n",
              "</svg>\n",
              "      </button>\n",
              "    </div>\n",
              "\n",
              "<style>\n",
              "  .colab-df-quickchart {\n",
              "    background-color: #E8F0FE;\n",
              "    border: none;\n",
              "    border-radius: 50%;\n",
              "    cursor: pointer;\n",
              "    display: none;\n",
              "    fill: #1967D2;\n",
              "    height: 32px;\n",
              "    padding: 0 0 0 0;\n",
              "    width: 32px;\n",
              "  }\n",
              "\n",
              "  .colab-df-quickchart:hover {\n",
              "    background-color: #E2EBFA;\n",
              "    box-shadow: 0px 1px 2px rgba(60, 64, 67, 0.3), 0px 1px 3px 1px rgba(60, 64, 67, 0.15);\n",
              "    fill: #174EA6;\n",
              "  }\n",
              "\n",
              "  [theme=dark] .colab-df-quickchart {\n",
              "    background-color: #3B4455;\n",
              "    fill: #D2E3FC;\n",
              "  }\n",
              "\n",
              "  [theme=dark] .colab-df-quickchart:hover {\n",
              "    background-color: #434B5C;\n",
              "    box-shadow: 0px 1px 3px 1px rgba(0, 0, 0, 0.15);\n",
              "    filter: drop-shadow(0px 1px 2px rgba(0, 0, 0, 0.3));\n",
              "    fill: #FFFFFF;\n",
              "  }\n",
              "</style>\n",
              "\n",
              "    <script>\n",
              "      async function quickchart(key) {\n",
              "        const containerElement = document.querySelector('#' + key);\n",
              "        const charts = await google.colab.kernel.invokeFunction(\n",
              "            'suggestCharts', [key], {});\n",
              "      }\n",
              "    </script>\n",
              "\n",
              "      <script>\n",
              "\n",
              "function displayQuickchartButton(domScope) {\n",
              "  let quickchartButtonEl =\n",
              "    domScope.querySelector('#df-5615bcc0-55a0-4085-9e4b-0a555c271ce5 button.colab-df-quickchart');\n",
              "  quickchartButtonEl.style.display =\n",
              "    google.colab.kernel.accessAllowed ? 'block' : 'none';\n",
              "}\n",
              "\n",
              "        displayQuickchartButton(document);\n",
              "      </script>\n",
              "      <style>\n",
              "    .colab-df-container {\n",
              "      display:flex;\n",
              "      flex-wrap:wrap;\n",
              "      gap: 12px;\n",
              "    }\n",
              "\n",
              "    .colab-df-convert {\n",
              "      background-color: #E8F0FE;\n",
              "      border: none;\n",
              "      border-radius: 50%;\n",
              "      cursor: pointer;\n",
              "      display: none;\n",
              "      fill: #1967D2;\n",
              "      height: 32px;\n",
              "      padding: 0 0 0 0;\n",
              "      width: 32px;\n",
              "    }\n",
              "\n",
              "    .colab-df-convert:hover {\n",
              "      background-color: #E2EBFA;\n",
              "      box-shadow: 0px 1px 2px rgba(60, 64, 67, 0.3), 0px 1px 3px 1px rgba(60, 64, 67, 0.15);\n",
              "      fill: #174EA6;\n",
              "    }\n",
              "\n",
              "    [theme=dark] .colab-df-convert {\n",
              "      background-color: #3B4455;\n",
              "      fill: #D2E3FC;\n",
              "    }\n",
              "\n",
              "    [theme=dark] .colab-df-convert:hover {\n",
              "      background-color: #434B5C;\n",
              "      box-shadow: 0px 1px 3px 1px rgba(0, 0, 0, 0.15);\n",
              "      filter: drop-shadow(0px 1px 2px rgba(0, 0, 0, 0.3));\n",
              "      fill: #FFFFFF;\n",
              "    }\n",
              "  </style>\n",
              "\n",
              "      <script>\n",
              "        const buttonEl =\n",
              "          document.querySelector('#df-59e0678e-4ff8-4126-8564-592aa4805f65 button.colab-df-convert');\n",
              "        buttonEl.style.display =\n",
              "          google.colab.kernel.accessAllowed ? 'block' : 'none';\n",
              "\n",
              "        async function convertToInteractive(key) {\n",
              "          const element = document.querySelector('#df-59e0678e-4ff8-4126-8564-592aa4805f65');\n",
              "          const dataTable =\n",
              "            await google.colab.kernel.invokeFunction('convertToInteractive',\n",
              "                                                     [key], {});\n",
              "          if (!dataTable) return;\n",
              "\n",
              "          const docLinkHtml = 'Like what you see? Visit the ' +\n",
              "            '<a target=\"_blank\" href=https://colab.research.google.com/notebooks/data_table.ipynb>data table notebook</a>'\n",
              "            + ' to learn more about interactive tables.';\n",
              "          element.innerHTML = '';\n",
              "          dataTable['output_type'] = 'display_data';\n",
              "          await google.colab.output.renderOutput(dataTable, element);\n",
              "          const docLink = document.createElement('div');\n",
              "          docLink.innerHTML = docLinkHtml;\n",
              "          element.appendChild(docLink);\n",
              "        }\n",
              "      </script>\n",
              "    </div>\n",
              "  </div>\n"
            ]
          },
          "metadata": {},
          "execution_count": 89
        }
      ]
    },
    {
      "cell_type": "code",
      "source": [
        "def predict_on_sentence(model, sentence):\n",
        "  \"\"\"\n",
        "  Uses model to make a prediction on sentence.\n",
        "\n",
        "  Returns the sentence, the predicted label and the prediction probability.\n",
        "  \"\"\"\n",
        "  pred_prob = model.predict([sentence])\n",
        "  pred_label = tf.squeeze(tf.round(pred_prob)).numpy()\n",
        "  print(f\"Pred: {pred_label}\", \"Positive\" if pred_label > 0 else \"Negative\", f\"Prob: {pred_prob[0][0]}\")\n",
        "  print(f\"Text:\\n{sentence}\")"
      ],
      "metadata": {
        "id": "F5E7-uAGoBqv"
      },
      "execution_count": 90,
      "outputs": []
    },
    {
      "cell_type": "code",
      "source": [
        "predict_on_sentence(model_6, \"I will not recommend this to anyone \")"
      ],
      "metadata": {
        "colab": {
          "base_uri": "https://localhost:8080/"
        },
        "id": "B10EzSkBpACE",
        "outputId": "b4ea51b1-6360-4f9a-aa53-9bcf90270ccc"
      },
      "execution_count": 91,
      "outputs": [
        {
          "output_type": "stream",
          "name": "stdout",
          "text": [
            "1/1 [==============================] - 0s 42ms/step\n",
            "Pred: 0.0 Negative Prob: 0.19708631932735443\n",
            "Text:\n",
            "I will not recommend this to anyone \n"
          ]
        }
      ]
    },
    {
      "cell_type": "code",
      "source": [],
      "metadata": {
        "id": "Gl_j3H4gpLS1"
      },
      "execution_count": 91,
      "outputs": []
    },
    {
      "cell_type": "code",
      "source": [],
      "metadata": {
        "id": "WZOqTKI5pvaz"
      },
      "execution_count": 91,
      "outputs": []
    }
  ]
}