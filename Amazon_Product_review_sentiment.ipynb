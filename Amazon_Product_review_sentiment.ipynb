{
  "nbformat": 4,
  "nbformat_minor": 0,
  "metadata": {
    "colab": {
      "provenance": [],
      "gpuType": "T4",
      "include_colab_link": true
    },
    "kernelspec": {
      "name": "python3",
      "display_name": "Python 3"
    },
    "language_info": {
      "name": "python"
    },
    "accelerator": "GPU"
  },
  "cells": [
    {
      "cell_type": "markdown",
      "metadata": {
        "id": "view-in-github",
        "colab_type": "text"
      },
      "source": [
        "<a href=\"https://colab.research.google.com/github/Gaurav-phatkare/Amazon-Product-Reviews-Sentiment-Analysis/blob/main/Amazon_Product_review_sentiment.ipynb\" target=\"_parent\"><img src=\"https://colab.research.google.com/assets/colab-badge.svg\" alt=\"Open In Colab\"/></a>"
      ]
    },
    {
      "cell_type": "code",
      "source": [
        "# !pip install tensorflow==2.9.1\n",
        "import tensorflow as tf\n",
        "print(tf.__version__) # version needed for Tensorflow_text library"
      ],
      "metadata": {
        "colab": {
          "base_uri": "https://localhost:8080/"
        },
        "id": "dwjxVef1488v",
        "outputId": "09fd5c40-135c-4d9a-bbca-093ea6c6867c"
      },
      "execution_count": 5,
      "outputs": [
        {
          "output_type": "stream",
          "name": "stdout",
          "text": [
            "2.13.0\n"
          ]
        }
      ]
    },
    {
      "cell_type": "code",
      "source": [
        "# !pip install tensorflow_text"
      ],
      "metadata": {
        "id": "bl-D3qHp48zz"
      },
      "execution_count": 2,
      "outputs": []
    },
    {
      "cell_type": "code",
      "source": [
        "import tensorflow_text as text\n",
        "import tensorflow_hub as hub"
      ],
      "metadata": {
        "id": "dBGiCXVy48Wv"
      },
      "execution_count": 6,
      "outputs": []
    },
    {
      "cell_type": "code",
      "execution_count": 7,
      "metadata": {
        "id": "knPBZix1q3_V"
      },
      "outputs": [],
      "source": [
        "import tensorflow_datasets as tfds\n",
        "ds = tfds.load('amazon_us_reviews/Mobile_Electronics_v1_00', split='train', shuffle_files=True)"
      ]
    },
    {
      "cell_type": "code",
      "source": [
        "import tensorflow as tf\n",
        "assert isinstance(ds, tf.data.Dataset)\n",
        "print(ds)"
      ],
      "metadata": {
        "colab": {
          "base_uri": "https://localhost:8080/"
        },
        "id": "w6fkXXk5rD2d",
        "outputId": "675b58df-0b95-4176-c4b0-d9ab3236b613"
      },
      "execution_count": 8,
      "outputs": [
        {
          "output_type": "stream",
          "name": "stdout",
          "text": [
            "<_PrefetchDataset element_spec={'data': {'customer_id': TensorSpec(shape=(), dtype=tf.string, name=None), 'helpful_votes': TensorSpec(shape=(), dtype=tf.int32, name=None), 'marketplace': TensorSpec(shape=(), dtype=tf.string, name=None), 'product_category': TensorSpec(shape=(), dtype=tf.string, name=None), 'product_id': TensorSpec(shape=(), dtype=tf.string, name=None), 'product_parent': TensorSpec(shape=(), dtype=tf.string, name=None), 'product_title': TensorSpec(shape=(), dtype=tf.string, name=None), 'review_body': TensorSpec(shape=(), dtype=tf.string, name=None), 'review_date': TensorSpec(shape=(), dtype=tf.string, name=None), 'review_headline': TensorSpec(shape=(), dtype=tf.string, name=None), 'review_id': TensorSpec(shape=(), dtype=tf.string, name=None), 'star_rating': TensorSpec(shape=(), dtype=tf.int32, name=None), 'total_votes': TensorSpec(shape=(), dtype=tf.int32, name=None), 'verified_purchase': TensorSpec(shape=(), dtype=tf.int64, name=None), 'vine': TensorSpec(shape=(), dtype=tf.int64, name=None)}}>\n"
          ]
        }
      ]
    },
    {
      "cell_type": "code",
      "source": [
        "df = tfds.as_dataframe(ds)"
      ],
      "metadata": {
        "id": "M7mFQuxirVbY"
      },
      "execution_count": 9,
      "outputs": []
    },
    {
      "cell_type": "code",
      "source": [
        "df.head()"
      ],
      "metadata": {
        "colab": {
          "base_uri": "https://localhost:8080/",
          "height": 444
        },
        "id": "fMdcDZV0raFL",
        "outputId": "881281b0-d23f-471a-83cd-8e7c3eb57539"
      },
      "execution_count": 10,
      "outputs": [
        {
          "output_type": "execute_result",
          "data": {
            "text/plain": [
              "  data/customer_id  data/helpful_votes data/marketplace  \\\n",
              "0      b'20980074'                   0            b'US'   \n",
              "1        b'779273'                   0            b'US'   \n",
              "2      b'15410531'                   0            b'US'   \n",
              "3      b'27389005'                   0            b'US'   \n",
              "4       b'2663569'                   0            b'US'   \n",
              "\n",
              "   data/product_category data/product_id data/product_parent  \\\n",
              "0  b'Mobile_Electronics'   b'B00D1847NE'        b'274617424'   \n",
              "1  b'Mobile_Electronics'   b'B00KMO6DYG'        b'397452138'   \n",
              "2  b'Mobile_Electronics'   b'B000GWLL0K'        b'948304826'   \n",
              "3  b'Mobile_Electronics'   b'B008L3JE6Y'        b'466340015'   \n",
              "4  b'Mobile_Electronics'   b'B00GHZS4SC'        b'350592810'   \n",
              "\n",
              "                                  data/product_title  \\\n",
              "0  b'Teenage Mutant Ninja Turtles Boombox CD Play...   \n",
              "1  b'4 Gauge Amp Kit Amplifier Install Wiring Com...   \n",
              "2  b'Travel Wall Charger fits Creative Zen Vision...   \n",
              "3  b'High Grade Robust 360\\xc2\\xb0 Adjustable Car...   \n",
              "4  b'HDE Multifunctional Bluetooth FM Audio Car K...   \n",
              "\n",
              "                                    data/review_body data/review_date  \\\n",
              "0                                   b'Does not work'    b'2015-01-09'   \n",
              "1  b'This is a great wiring kit i used it to set ...    b'2015-08-06'   \n",
              "2  b'It works great so much faster than USB charg...    b'2007-03-15'   \n",
              "3  b'This product was purchased to hold a monitor...    b'2013-07-30'   \n",
              "4  b\"it works but it has really bad sound quality...    b'2014-12-31'   \n",
              "\n",
              "                       data/review_headline     data/review_id  \\\n",
              "0                               b'One Star'  b'R1OVS0D6SEXPW7'   \n",
              "1                              b'Great kit'   b'R9VSD0ET8FERB'   \n",
              "2  b'A/C Charger for Creative Zen Vision M'  b'R3ISXCZHWLJLBH'   \n",
              "3                           b'camera stand'  b'R1TWVUDOFJSQAW'   \n",
              "4                      b'bad sound quality'  b'R2PEOEUR1LP0GH'   \n",
              "\n",
              "   data/star_rating  data/total_votes  data/verified_purchase  data/vine  \n",
              "0                 1                 0                       0          1  \n",
              "1                 4                 0                       0          1  \n",
              "2                 5                 0                       0          1  \n",
              "3                 5                 0                       0          1  \n",
              "4                 3                 0                       0          1  "
            ],
            "text/html": [
              "\n",
              "\n",
              "  <div id=\"df-cfe11c55-cf9e-48fc-bc60-0384f6001837\">\n",
              "    <div class=\"colab-df-container\">\n",
              "      <div>\n",
              "<style scoped>\n",
              "    .dataframe tbody tr th:only-of-type {\n",
              "        vertical-align: middle;\n",
              "    }\n",
              "\n",
              "    .dataframe tbody tr th {\n",
              "        vertical-align: top;\n",
              "    }\n",
              "\n",
              "    .dataframe thead th {\n",
              "        text-align: right;\n",
              "    }\n",
              "</style>\n",
              "<table border=\"1\" class=\"dataframe\">\n",
              "  <thead>\n",
              "    <tr style=\"text-align: right;\">\n",
              "      <th></th>\n",
              "      <th>data/customer_id</th>\n",
              "      <th>data/helpful_votes</th>\n",
              "      <th>data/marketplace</th>\n",
              "      <th>data/product_category</th>\n",
              "      <th>data/product_id</th>\n",
              "      <th>data/product_parent</th>\n",
              "      <th>data/product_title</th>\n",
              "      <th>data/review_body</th>\n",
              "      <th>data/review_date</th>\n",
              "      <th>data/review_headline</th>\n",
              "      <th>data/review_id</th>\n",
              "      <th>data/star_rating</th>\n",
              "      <th>data/total_votes</th>\n",
              "      <th>data/verified_purchase</th>\n",
              "      <th>data/vine</th>\n",
              "    </tr>\n",
              "  </thead>\n",
              "  <tbody>\n",
              "    <tr>\n",
              "      <th>0</th>\n",
              "      <td>b'20980074'</td>\n",
              "      <td>0</td>\n",
              "      <td>b'US'</td>\n",
              "      <td>b'Mobile_Electronics'</td>\n",
              "      <td>b'B00D1847NE'</td>\n",
              "      <td>b'274617424'</td>\n",
              "      <td>b'Teenage Mutant Ninja Turtles Boombox CD Play...</td>\n",
              "      <td>b'Does not work'</td>\n",
              "      <td>b'2015-01-09'</td>\n",
              "      <td>b'One Star'</td>\n",
              "      <td>b'R1OVS0D6SEXPW7'</td>\n",
              "      <td>1</td>\n",
              "      <td>0</td>\n",
              "      <td>0</td>\n",
              "      <td>1</td>\n",
              "    </tr>\n",
              "    <tr>\n",
              "      <th>1</th>\n",
              "      <td>b'779273'</td>\n",
              "      <td>0</td>\n",
              "      <td>b'US'</td>\n",
              "      <td>b'Mobile_Electronics'</td>\n",
              "      <td>b'B00KMO6DYG'</td>\n",
              "      <td>b'397452138'</td>\n",
              "      <td>b'4 Gauge Amp Kit Amplifier Install Wiring Com...</td>\n",
              "      <td>b'This is a great wiring kit i used it to set ...</td>\n",
              "      <td>b'2015-08-06'</td>\n",
              "      <td>b'Great kit'</td>\n",
              "      <td>b'R9VSD0ET8FERB'</td>\n",
              "      <td>4</td>\n",
              "      <td>0</td>\n",
              "      <td>0</td>\n",
              "      <td>1</td>\n",
              "    </tr>\n",
              "    <tr>\n",
              "      <th>2</th>\n",
              "      <td>b'15410531'</td>\n",
              "      <td>0</td>\n",
              "      <td>b'US'</td>\n",
              "      <td>b'Mobile_Electronics'</td>\n",
              "      <td>b'B000GWLL0K'</td>\n",
              "      <td>b'948304826'</td>\n",
              "      <td>b'Travel Wall Charger fits Creative Zen Vision...</td>\n",
              "      <td>b'It works great so much faster than USB charg...</td>\n",
              "      <td>b'2007-03-15'</td>\n",
              "      <td>b'A/C Charger for Creative Zen Vision M'</td>\n",
              "      <td>b'R3ISXCZHWLJLBH'</td>\n",
              "      <td>5</td>\n",
              "      <td>0</td>\n",
              "      <td>0</td>\n",
              "      <td>1</td>\n",
              "    </tr>\n",
              "    <tr>\n",
              "      <th>3</th>\n",
              "      <td>b'27389005'</td>\n",
              "      <td>0</td>\n",
              "      <td>b'US'</td>\n",
              "      <td>b'Mobile_Electronics'</td>\n",
              "      <td>b'B008L3JE6Y'</td>\n",
              "      <td>b'466340015'</td>\n",
              "      <td>b'High Grade Robust 360\\xc2\\xb0 Adjustable Car...</td>\n",
              "      <td>b'This product was purchased to hold a monitor...</td>\n",
              "      <td>b'2013-07-30'</td>\n",
              "      <td>b'camera stand'</td>\n",
              "      <td>b'R1TWVUDOFJSQAW'</td>\n",
              "      <td>5</td>\n",
              "      <td>0</td>\n",
              "      <td>0</td>\n",
              "      <td>1</td>\n",
              "    </tr>\n",
              "    <tr>\n",
              "      <th>4</th>\n",
              "      <td>b'2663569'</td>\n",
              "      <td>0</td>\n",
              "      <td>b'US'</td>\n",
              "      <td>b'Mobile_Electronics'</td>\n",
              "      <td>b'B00GHZS4SC'</td>\n",
              "      <td>b'350592810'</td>\n",
              "      <td>b'HDE Multifunctional Bluetooth FM Audio Car K...</td>\n",
              "      <td>b\"it works but it has really bad sound quality...</td>\n",
              "      <td>b'2014-12-31'</td>\n",
              "      <td>b'bad sound quality'</td>\n",
              "      <td>b'R2PEOEUR1LP0GH'</td>\n",
              "      <td>3</td>\n",
              "      <td>0</td>\n",
              "      <td>0</td>\n",
              "      <td>1</td>\n",
              "    </tr>\n",
              "  </tbody>\n",
              "</table>\n",
              "</div>\n",
              "      <button class=\"colab-df-convert\" onclick=\"convertToInteractive('df-cfe11c55-cf9e-48fc-bc60-0384f6001837')\"\n",
              "              title=\"Convert this dataframe to an interactive table.\"\n",
              "              style=\"display:none;\">\n",
              "\n",
              "  <svg xmlns=\"http://www.w3.org/2000/svg\" height=\"24px\"viewBox=\"0 0 24 24\"\n",
              "       width=\"24px\">\n",
              "    <path d=\"M0 0h24v24H0V0z\" fill=\"none\"/>\n",
              "    <path d=\"M18.56 5.44l.94 2.06.94-2.06 2.06-.94-2.06-.94-.94-2.06-.94 2.06-2.06.94zm-11 1L8.5 8.5l.94-2.06 2.06-.94-2.06-.94L8.5 2.5l-.94 2.06-2.06.94zm10 10l.94 2.06.94-2.06 2.06-.94-2.06-.94-.94-2.06-.94 2.06-2.06.94z\"/><path d=\"M17.41 7.96l-1.37-1.37c-.4-.4-.92-.59-1.43-.59-.52 0-1.04.2-1.43.59L10.3 9.45l-7.72 7.72c-.78.78-.78 2.05 0 2.83L4 21.41c.39.39.9.59 1.41.59.51 0 1.02-.2 1.41-.59l7.78-7.78 2.81-2.81c.8-.78.8-2.07 0-2.86zM5.41 20L4 18.59l7.72-7.72 1.47 1.35L5.41 20z\"/>\n",
              "  </svg>\n",
              "      </button>\n",
              "\n",
              "\n",
              "\n",
              "    <div id=\"df-bb33263e-02e0-418d-906d-38b1d265c440\">\n",
              "      <button class=\"colab-df-quickchart\" onclick=\"quickchart('df-bb33263e-02e0-418d-906d-38b1d265c440')\"\n",
              "              title=\"Suggest charts.\"\n",
              "              style=\"display:none;\">\n",
              "\n",
              "<svg xmlns=\"http://www.w3.org/2000/svg\" height=\"24px\"viewBox=\"0 0 24 24\"\n",
              "     width=\"24px\">\n",
              "    <g>\n",
              "        <path d=\"M19 3H5c-1.1 0-2 .9-2 2v14c0 1.1.9 2 2 2h14c1.1 0 2-.9 2-2V5c0-1.1-.9-2-2-2zM9 17H7v-7h2v7zm4 0h-2V7h2v10zm4 0h-2v-4h2v4z\"/>\n",
              "    </g>\n",
              "</svg>\n",
              "      </button>\n",
              "    </div>\n",
              "\n",
              "<style>\n",
              "  .colab-df-quickchart {\n",
              "    background-color: #E8F0FE;\n",
              "    border: none;\n",
              "    border-radius: 50%;\n",
              "    cursor: pointer;\n",
              "    display: none;\n",
              "    fill: #1967D2;\n",
              "    height: 32px;\n",
              "    padding: 0 0 0 0;\n",
              "    width: 32px;\n",
              "  }\n",
              "\n",
              "  .colab-df-quickchart:hover {\n",
              "    background-color: #E2EBFA;\n",
              "    box-shadow: 0px 1px 2px rgba(60, 64, 67, 0.3), 0px 1px 3px 1px rgba(60, 64, 67, 0.15);\n",
              "    fill: #174EA6;\n",
              "  }\n",
              "\n",
              "  [theme=dark] .colab-df-quickchart {\n",
              "    background-color: #3B4455;\n",
              "    fill: #D2E3FC;\n",
              "  }\n",
              "\n",
              "  [theme=dark] .colab-df-quickchart:hover {\n",
              "    background-color: #434B5C;\n",
              "    box-shadow: 0px 1px 3px 1px rgba(0, 0, 0, 0.15);\n",
              "    filter: drop-shadow(0px 1px 2px rgba(0, 0, 0, 0.3));\n",
              "    fill: #FFFFFF;\n",
              "  }\n",
              "</style>\n",
              "\n",
              "    <script>\n",
              "      async function quickchart(key) {\n",
              "        const containerElement = document.querySelector('#' + key);\n",
              "        const charts = await google.colab.kernel.invokeFunction(\n",
              "            'suggestCharts', [key], {});\n",
              "      }\n",
              "    </script>\n",
              "\n",
              "      <script>\n",
              "\n",
              "function displayQuickchartButton(domScope) {\n",
              "  let quickchartButtonEl =\n",
              "    domScope.querySelector('#df-bb33263e-02e0-418d-906d-38b1d265c440 button.colab-df-quickchart');\n",
              "  quickchartButtonEl.style.display =\n",
              "    google.colab.kernel.accessAllowed ? 'block' : 'none';\n",
              "}\n",
              "\n",
              "        displayQuickchartButton(document);\n",
              "      </script>\n",
              "      <style>\n",
              "    .colab-df-container {\n",
              "      display:flex;\n",
              "      flex-wrap:wrap;\n",
              "      gap: 12px;\n",
              "    }\n",
              "\n",
              "    .colab-df-convert {\n",
              "      background-color: #E8F0FE;\n",
              "      border: none;\n",
              "      border-radius: 50%;\n",
              "      cursor: pointer;\n",
              "      display: none;\n",
              "      fill: #1967D2;\n",
              "      height: 32px;\n",
              "      padding: 0 0 0 0;\n",
              "      width: 32px;\n",
              "    }\n",
              "\n",
              "    .colab-df-convert:hover {\n",
              "      background-color: #E2EBFA;\n",
              "      box-shadow: 0px 1px 2px rgba(60, 64, 67, 0.3), 0px 1px 3px 1px rgba(60, 64, 67, 0.15);\n",
              "      fill: #174EA6;\n",
              "    }\n",
              "\n",
              "    [theme=dark] .colab-df-convert {\n",
              "      background-color: #3B4455;\n",
              "      fill: #D2E3FC;\n",
              "    }\n",
              "\n",
              "    [theme=dark] .colab-df-convert:hover {\n",
              "      background-color: #434B5C;\n",
              "      box-shadow: 0px 1px 3px 1px rgba(0, 0, 0, 0.15);\n",
              "      filter: drop-shadow(0px 1px 2px rgba(0, 0, 0, 0.3));\n",
              "      fill: #FFFFFF;\n",
              "    }\n",
              "  </style>\n",
              "\n",
              "      <script>\n",
              "        const buttonEl =\n",
              "          document.querySelector('#df-cfe11c55-cf9e-48fc-bc60-0384f6001837 button.colab-df-convert');\n",
              "        buttonEl.style.display =\n",
              "          google.colab.kernel.accessAllowed ? 'block' : 'none';\n",
              "\n",
              "        async function convertToInteractive(key) {\n",
              "          const element = document.querySelector('#df-cfe11c55-cf9e-48fc-bc60-0384f6001837');\n",
              "          const dataTable =\n",
              "            await google.colab.kernel.invokeFunction('convertToInteractive',\n",
              "                                                     [key], {});\n",
              "          if (!dataTable) return;\n",
              "\n",
              "          const docLinkHtml = 'Like what you see? Visit the ' +\n",
              "            '<a target=\"_blank\" href=https://colab.research.google.com/notebooks/data_table.ipynb>data table notebook</a>'\n",
              "            + ' to learn more about interactive tables.';\n",
              "          element.innerHTML = '';\n",
              "          dataTable['output_type'] = 'display_data';\n",
              "          await google.colab.output.renderOutput(dataTable, element);\n",
              "          const docLink = document.createElement('div');\n",
              "          docLink.innerHTML = docLinkHtml;\n",
              "          element.appendChild(docLink);\n",
              "        }\n",
              "      </script>\n",
              "    </div>\n",
              "  </div>\n"
            ]
          },
          "metadata": {},
          "execution_count": 10
        }
      ]
    },
    {
      "cell_type": "code",
      "source": [
        "df.shape"
      ],
      "metadata": {
        "colab": {
          "base_uri": "https://localhost:8080/"
        },
        "id": "55oN8W5rrb9Z",
        "outputId": "9497bfff-d8ac-4b83-a885-2b4b7ff42091"
      },
      "execution_count": 11,
      "outputs": [
        {
          "output_type": "execute_result",
          "data": {
            "text/plain": [
              "(104975, 15)"
            ]
          },
          "metadata": {},
          "execution_count": 11
        }
      ]
    },
    {
      "cell_type": "code",
      "source": [
        "df[\"Sentiment\"] = df[\"data/star_rating\"].apply(lambda score: \"positive\" if score >= 3 else \"negative\")\n",
        "df['Sentiment'] = df['Sentiment'].map({'positive':1, 'negative':0})\n",
        "df['short_review'] =df['data/review_body'].str.decode(\"utf-8\")\n",
        "df = df[[\"short_review\", \"Sentiment\"]]"
      ],
      "metadata": {
        "id": "2SULdjgjrc8O"
      },
      "execution_count": 12,
      "outputs": []
    },
    {
      "cell_type": "code",
      "source": [
        "# Dropping last n rows using drop\n",
        "n = 54975\n",
        "df.drop(df.tail(n).index,\n",
        "        inplace = True)"
      ],
      "metadata": {
        "colab": {
          "base_uri": "https://localhost:8080/"
        },
        "id": "SVtf2Uuery1y",
        "outputId": "a82d0559-70a1-4b66-caad-55c539558b17"
      },
      "execution_count": 13,
      "outputs": [
        {
          "output_type": "stream",
          "name": "stderr",
          "text": [
            "<ipython-input-13-d12344173841>:3: SettingWithCopyWarning: \n",
            "A value is trying to be set on a copy of a slice from a DataFrame\n",
            "\n",
            "See the caveats in the documentation: https://pandas.pydata.org/pandas-docs/stable/user_guide/indexing.html#returning-a-view-versus-a-copy\n",
            "  df.drop(df.tail(n).index,\n"
          ]
        }
      ]
    },
    {
      "cell_type": "code",
      "source": [
        "reviews = df['short_review'].values.tolist()\n",
        "labels = df['Sentiment'].tolist()"
      ],
      "metadata": {
        "id": "CJE9tab9r_-r"
      },
      "execution_count": 14,
      "outputs": []
    },
    {
      "cell_type": "code",
      "source": [
        "reviews"
      ],
      "metadata": {
        "id": "8TUmDy2NsKJ1"
      },
      "execution_count": null,
      "outputs": []
    },
    {
      "cell_type": "markdown",
      "source": [
        "## Split the dataset into train and val"
      ],
      "metadata": {
        "id": "PDQ-UWiysWGo"
      }
    },
    {
      "cell_type": "code",
      "source": [
        "from sklearn.model_selection import train_test_split\n",
        "\n",
        "train_sentances, val_sentances, train_labels, val_labels = train_test_split(df['short_review'].to_numpy(),\n",
        "                                                                            df['Sentiment'].to_numpy(),\n",
        "                                                                            test_size=0.1,\n",
        "                                                                            random_state=42)"
      ],
      "metadata": {
        "id": "jd8FtiKRs7TN"
      },
      "execution_count": 16,
      "outputs": []
    },
    {
      "cell_type": "code",
      "source": [
        "# check the length\n",
        "len(train_sentances), len(val_sentances)"
      ],
      "metadata": {
        "colab": {
          "base_uri": "https://localhost:8080/"
        },
        "id": "ARciaZz_tK9d",
        "outputId": "e259225a-d5d5-4403-fdcf-d2f593f60959"
      },
      "execution_count": 17,
      "outputs": [
        {
          "output_type": "execute_result",
          "data": {
            "text/plain": [
              "(45000, 5000)"
            ]
          },
          "metadata": {},
          "execution_count": 17
        }
      ]
    },
    {
      "cell_type": "markdown",
      "source": [
        "## Converting text into numbers"
      ],
      "metadata": {
        "id": "rfFfKeD3tozt"
      }
    },
    {
      "cell_type": "markdown",
      "source": [
        "###Text Vectorizaion"
      ],
      "metadata": {
        "id": "kfuqIdVnuGOR"
      }
    },
    {
      "cell_type": "code",
      "source": [
        "import tensorflow as tf\n",
        "\n",
        "from tensorflow.keras.layers import TextVectorization\n",
        "\n",
        "text_vectorizer = TextVectorization(max_tokens = None,\n",
        "                                    standardize = 'lower_and_strip_punctuation',\n",
        "                                    split = 'whitespace',\n",
        "                                    ngrams = None,\n",
        "                                    output_mode = 'int',\n",
        "                                    output_sequence_length = None)"
      ],
      "metadata": {
        "id": "MkMw1Gbux-uv"
      },
      "execution_count": 18,
      "outputs": []
    },
    {
      "cell_type": "code",
      "source": [
        "# Find average number of tokens (words) in training Tweets\n",
        "round(sum([len(i.split()) for i in train_sentances])/len(train_sentances))"
      ],
      "metadata": {
        "colab": {
          "base_uri": "https://localhost:8080/"
        },
        "id": "ORLgUroTyZCS",
        "outputId": "f7f14fed-a5bc-409b-b40f-6529a901e90a"
      },
      "execution_count": 19,
      "outputs": [
        {
          "output_type": "execute_result",
          "data": {
            "text/plain": [
              "64"
            ]
          },
          "metadata": {},
          "execution_count": 19
        }
      ]
    },
    {
      "cell_type": "code",
      "source": [
        "max_vocab_length = 20000\n",
        "max_length = 64\n",
        "\n",
        "text_vectorizer = TextVectorization(max_tokens = max_vocab_length,\n",
        "                                    output_mode = 'int',\n",
        "                                    output_sequence_length = max_length)"
      ],
      "metadata": {
        "id": "pj1XeK8OyeBO"
      },
      "execution_count": 20,
      "outputs": []
    },
    {
      "cell_type": "code",
      "source": [
        "text_vectorizer.adapt(train_sentances)"
      ],
      "metadata": {
        "id": "p35-J3XDy22M"
      },
      "execution_count": 21,
      "outputs": []
    },
    {
      "cell_type": "code",
      "source": [
        "# Create sample sentence and tokenize it\n",
        "sample_sentence = \"The product was too good than my expectations\"\n",
        "text_vectorizer([sample_sentence])"
      ],
      "metadata": {
        "colab": {
          "base_uri": "https://localhost:8080/"
        },
        "id": "CrWZbo0uy8Yu",
        "outputId": "ba140ec6-a908-4681-a586-b2c6c8603e34"
      },
      "execution_count": 22,
      "outputs": [
        {
          "output_type": "execute_result",
          "data": {
            "text/plain": [
              "<tf.Tensor: shape=(1, 64), dtype=int64, numpy=\n",
              "array([[  2,  36,  19, 108,  30,  62,  11, 982,   0,   0,   0,   0,   0,\n",
              "          0,   0,   0,   0,   0,   0,   0,   0,   0,   0,   0,   0,   0,\n",
              "          0,   0,   0,   0,   0,   0,   0,   0,   0,   0,   0,   0,   0,\n",
              "          0,   0,   0,   0,   0,   0,   0,   0,   0,   0,   0,   0,   0,\n",
              "          0,   0,   0,   0,   0,   0,   0,   0,   0,   0,   0,   0]])>"
            ]
          },
          "metadata": {},
          "execution_count": 22
        }
      ]
    },
    {
      "cell_type": "code",
      "source": [
        "#Choose a random sentence from the training dataset and tokenize it\n",
        "import random\n",
        "random_sentance = random.choice(train_sentances)\n",
        "print(f\"Original text:\\n{random_sentance}\\\n",
        "      \\n\\nVectorized version:\")\n",
        "text_vectorizer([random_sentance])"
      ],
      "metadata": {
        "colab": {
          "base_uri": "https://localhost:8080/"
        },
        "id": "-CuMvduBzCp4",
        "outputId": "2b924686-f223-452d-94e9-19a0f426341f"
      },
      "execution_count": 23,
      "outputs": [
        {
          "output_type": "stream",
          "name": "stdout",
          "text": [
            "Original text:\n",
            "Speaker looks nice, but I get nothing but static when connected to Bluetooth. Returned the speaker, hopefully the replacement works better.      \n",
            "\n",
            "Vectorized version:\n"
          ]
        },
        {
          "output_type": "execute_result",
          "data": {
            "text/plain": [
              "<tf.Tensor: shape=(1, 64), dtype=int64, numpy=\n",
              "array([[ 103,  160,   95,   20,    3,   55,  346,   20,  692,   38,  552,\n",
              "           6,  185,  615,    2,  103, 1406,    2,  371,   56,  104,    0,\n",
              "           0,    0,    0,    0,    0,    0,    0,    0,    0,    0,    0,\n",
              "           0,    0,    0,    0,    0,    0,    0,    0,    0,    0,    0,\n",
              "           0,    0,    0,    0,    0,    0,    0,    0,    0,    0,    0,\n",
              "           0,    0,    0,    0,    0,    0,    0,    0,    0]])>"
            ]
          },
          "metadata": {},
          "execution_count": 23
        }
      ]
    },
    {
      "cell_type": "code",
      "source": [
        "# Get the unique words in the vocabulary\n",
        "\n",
        "words_in_vocab = text_vectorizer.get_vocabulary()"
      ],
      "metadata": {
        "id": "_2pDoG1NzV2B"
      },
      "execution_count": 24,
      "outputs": []
    },
    {
      "cell_type": "code",
      "source": [
        "words_in_vocab[:5]"
      ],
      "metadata": {
        "colab": {
          "base_uri": "https://localhost:8080/"
        },
        "id": "UAlSKx-SzlbX",
        "outputId": "c7f2dbb6-1b8c-4f9a-8c83-b4a4b6b2a1d3"
      },
      "execution_count": 25,
      "outputs": [
        {
          "output_type": "execute_result",
          "data": {
            "text/plain": [
              "['', '[UNK]', 'the', 'i', 'it']"
            ]
          },
          "metadata": {},
          "execution_count": 25
        }
      ]
    },
    {
      "cell_type": "code",
      "source": [
        "words_in_vocab[-5:]"
      ],
      "metadata": {
        "colab": {
          "base_uri": "https://localhost:8080/"
        },
        "id": "Cz_S23yzznpD",
        "outputId": "05949d2d-a229-445b-ba5d-fa2264de6466"
      },
      "execution_count": 26,
      "outputs": [
        {
          "output_type": "execute_result",
          "data": {
            "text/plain": [
              "['idorks', 'identico', 'identically', 'ideapad', 'ideacentre']"
            ]
          },
          "metadata": {},
          "execution_count": 26
        }
      ]
    },
    {
      "cell_type": "code",
      "source": [
        "len(words_in_vocab)"
      ],
      "metadata": {
        "colab": {
          "base_uri": "https://localhost:8080/"
        },
        "id": "MmE4_AaTzqJC",
        "outputId": "7fc14e81-752d-4e89-8c58-73a5f3b847b2"
      },
      "execution_count": 27,
      "outputs": [
        {
          "output_type": "execute_result",
          "data": {
            "text/plain": [
              "20000"
            ]
          },
          "metadata": {},
          "execution_count": 27
        }
      ]
    },
    {
      "cell_type": "markdown",
      "source": [
        "## create embedding using an embedding layer"
      ],
      "metadata": {
        "id": "fI00ZmXuzskt"
      }
    },
    {
      "cell_type": "code",
      "source": [
        "tf.random.set_seed(42)\n",
        "\n",
        "embedding = tf.keras.layers.Embedding(input_dim = max_vocab_length,\n",
        "                                      output_dim = 128,\n",
        "                                      embeddings_initializer = 'uniform',\n",
        "                                      input_length = max_length,\n",
        "                                      name = 'embedding_1')"
      ],
      "metadata": {
        "id": "Vrsb8lqLz0io"
      },
      "execution_count": 28,
      "outputs": []
    },
    {
      "cell_type": "code",
      "source": [
        "# Get a random sentence from training set\n",
        "random_sentance = random.choice(train_sentances)\n",
        "print(f\"Original text:\\n{random_sentance}\\\n",
        "      \\n\\nEmbedded version:\")\n",
        "\n",
        "# Embed the random sentence (turn it into numerical representation)\n",
        "sample_embed = embedding(text_vectorizer([random_sentance]))\n",
        "sample_embed"
      ],
      "metadata": {
        "colab": {
          "base_uri": "https://localhost:8080/"
        },
        "id": "0EUVkMQ40LUC",
        "outputId": "ae72e469-2331-4c97-f004-b7bf3a27b461"
      },
      "execution_count": 29,
      "outputs": [
        {
          "output_type": "stream",
          "name": "stdout",
          "text": [
            "Original text:\n",
            "simple to use,rough,can take a hit and sold at a good price<br /><br />what else can i say. can't go wrong      \n",
            "\n",
            "Embedded version:\n"
          ]
        },
        {
          "output_type": "execute_result",
          "data": {
            "text/plain": [
              "<tf.Tensor: shape=(1, 64, 128), dtype=float32, numpy=\n",
              "array([[[-0.01789083,  0.03433895, -0.04231099, ..., -0.0137537 ,\n",
              "         -0.01838279, -0.02459972],\n",
              "        [-0.01187982,  0.00782765, -0.04283259, ..., -0.03897598,\n",
              "          0.03717067,  0.04288466],\n",
              "        [-0.01193165, -0.00562358, -0.04208972, ..., -0.02028378,\n",
              "         -0.01954993, -0.0256142 ],\n",
              "        ...,\n",
              "        [ 0.03781916,  0.01543095, -0.03002666, ..., -0.02753578,\n",
              "          0.04331124,  0.04234935],\n",
              "        [ 0.03781916,  0.01543095, -0.03002666, ..., -0.02753578,\n",
              "          0.04331124,  0.04234935],\n",
              "        [ 0.03781916,  0.01543095, -0.03002666, ..., -0.02753578,\n",
              "          0.04331124,  0.04234935]]], dtype=float32)>"
            ]
          },
          "metadata": {},
          "execution_count": 29
        }
      ]
    },
    {
      "cell_type": "markdown",
      "source": [
        "# Model 0: Baseline model"
      ],
      "metadata": {
        "id": "dK8HDoPi1KtR"
      }
    },
    {
      "cell_type": "code",
      "source": [
        "from sklearn.feature_extraction.text import TfidfVectorizer\n",
        "from sklearn.naive_bayes import MultinomialNB\n",
        "from sklearn.pipeline import Pipeline\n",
        "\n",
        "\n",
        "# Create tokenization and modelling pipeline\n",
        "\n",
        "model_0 = Pipeline([\n",
        "    ('tfidf', TfidfVectorizer()),\n",
        "    ('clf',MultinomialNB())\n",
        "])\n",
        "\n",
        "# fit the pipeline to the training data\n",
        "\n",
        "model_0.fit(train_sentances, train_labels)"
      ],
      "metadata": {
        "colab": {
          "base_uri": "https://localhost:8080/",
          "height": 126
        },
        "id": "DcZm6MVJ1Ud0",
        "outputId": "d8c97649-1acc-4d16-e52a-343510210c74"
      },
      "execution_count": 30,
      "outputs": [
        {
          "output_type": "execute_result",
          "data": {
            "text/plain": [
              "Pipeline(steps=[('tfidf', TfidfVectorizer()), ('clf', MultinomialNB())])"
            ],
            "text/html": [
              "<style>#sk-container-id-1 {color: black;background-color: white;}#sk-container-id-1 pre{padding: 0;}#sk-container-id-1 div.sk-toggleable {background-color: white;}#sk-container-id-1 label.sk-toggleable__label {cursor: pointer;display: block;width: 100%;margin-bottom: 0;padding: 0.3em;box-sizing: border-box;text-align: center;}#sk-container-id-1 label.sk-toggleable__label-arrow:before {content: \"▸\";float: left;margin-right: 0.25em;color: #696969;}#sk-container-id-1 label.sk-toggleable__label-arrow:hover:before {color: black;}#sk-container-id-1 div.sk-estimator:hover label.sk-toggleable__label-arrow:before {color: black;}#sk-container-id-1 div.sk-toggleable__content {max-height: 0;max-width: 0;overflow: hidden;text-align: left;background-color: #f0f8ff;}#sk-container-id-1 div.sk-toggleable__content pre {margin: 0.2em;color: black;border-radius: 0.25em;background-color: #f0f8ff;}#sk-container-id-1 input.sk-toggleable__control:checked~div.sk-toggleable__content {max-height: 200px;max-width: 100%;overflow: auto;}#sk-container-id-1 input.sk-toggleable__control:checked~label.sk-toggleable__label-arrow:before {content: \"▾\";}#sk-container-id-1 div.sk-estimator input.sk-toggleable__control:checked~label.sk-toggleable__label {background-color: #d4ebff;}#sk-container-id-1 div.sk-label input.sk-toggleable__control:checked~label.sk-toggleable__label {background-color: #d4ebff;}#sk-container-id-1 input.sk-hidden--visually {border: 0;clip: rect(1px 1px 1px 1px);clip: rect(1px, 1px, 1px, 1px);height: 1px;margin: -1px;overflow: hidden;padding: 0;position: absolute;width: 1px;}#sk-container-id-1 div.sk-estimator {font-family: monospace;background-color: #f0f8ff;border: 1px dotted black;border-radius: 0.25em;box-sizing: border-box;margin-bottom: 0.5em;}#sk-container-id-1 div.sk-estimator:hover {background-color: #d4ebff;}#sk-container-id-1 div.sk-parallel-item::after {content: \"\";width: 100%;border-bottom: 1px solid gray;flex-grow: 1;}#sk-container-id-1 div.sk-label:hover label.sk-toggleable__label {background-color: #d4ebff;}#sk-container-id-1 div.sk-serial::before {content: \"\";position: absolute;border-left: 1px solid gray;box-sizing: border-box;top: 0;bottom: 0;left: 50%;z-index: 0;}#sk-container-id-1 div.sk-serial {display: flex;flex-direction: column;align-items: center;background-color: white;padding-right: 0.2em;padding-left: 0.2em;position: relative;}#sk-container-id-1 div.sk-item {position: relative;z-index: 1;}#sk-container-id-1 div.sk-parallel {display: flex;align-items: stretch;justify-content: center;background-color: white;position: relative;}#sk-container-id-1 div.sk-item::before, #sk-container-id-1 div.sk-parallel-item::before {content: \"\";position: absolute;border-left: 1px solid gray;box-sizing: border-box;top: 0;bottom: 0;left: 50%;z-index: -1;}#sk-container-id-1 div.sk-parallel-item {display: flex;flex-direction: column;z-index: 1;position: relative;background-color: white;}#sk-container-id-1 div.sk-parallel-item:first-child::after {align-self: flex-end;width: 50%;}#sk-container-id-1 div.sk-parallel-item:last-child::after {align-self: flex-start;width: 50%;}#sk-container-id-1 div.sk-parallel-item:only-child::after {width: 0;}#sk-container-id-1 div.sk-dashed-wrapped {border: 1px dashed gray;margin: 0 0.4em 0.5em 0.4em;box-sizing: border-box;padding-bottom: 0.4em;background-color: white;}#sk-container-id-1 div.sk-label label {font-family: monospace;font-weight: bold;display: inline-block;line-height: 1.2em;}#sk-container-id-1 div.sk-label-container {text-align: center;}#sk-container-id-1 div.sk-container {/* jupyter's `normalize.less` sets `[hidden] { display: none; }` but bootstrap.min.css set `[hidden] { display: none !important; }` so we also need the `!important` here to be able to override the default hidden behavior on the sphinx rendered scikit-learn.org. See: https://github.com/scikit-learn/scikit-learn/issues/21755 */display: inline-block !important;position: relative;}#sk-container-id-1 div.sk-text-repr-fallback {display: none;}</style><div id=\"sk-container-id-1\" class=\"sk-top-container\"><div class=\"sk-text-repr-fallback\"><pre>Pipeline(steps=[(&#x27;tfidf&#x27;, TfidfVectorizer()), (&#x27;clf&#x27;, MultinomialNB())])</pre><b>In a Jupyter environment, please rerun this cell to show the HTML representation or trust the notebook. <br />On GitHub, the HTML representation is unable to render, please try loading this page with nbviewer.org.</b></div><div class=\"sk-container\" hidden><div class=\"sk-item sk-dashed-wrapped\"><div class=\"sk-label-container\"><div class=\"sk-label sk-toggleable\"><input class=\"sk-toggleable__control sk-hidden--visually\" id=\"sk-estimator-id-1\" type=\"checkbox\" ><label for=\"sk-estimator-id-1\" class=\"sk-toggleable__label sk-toggleable__label-arrow\">Pipeline</label><div class=\"sk-toggleable__content\"><pre>Pipeline(steps=[(&#x27;tfidf&#x27;, TfidfVectorizer()), (&#x27;clf&#x27;, MultinomialNB())])</pre></div></div></div><div class=\"sk-serial\"><div class=\"sk-item\"><div class=\"sk-estimator sk-toggleable\"><input class=\"sk-toggleable__control sk-hidden--visually\" id=\"sk-estimator-id-2\" type=\"checkbox\" ><label for=\"sk-estimator-id-2\" class=\"sk-toggleable__label sk-toggleable__label-arrow\">TfidfVectorizer</label><div class=\"sk-toggleable__content\"><pre>TfidfVectorizer()</pre></div></div></div><div class=\"sk-item\"><div class=\"sk-estimator sk-toggleable\"><input class=\"sk-toggleable__control sk-hidden--visually\" id=\"sk-estimator-id-3\" type=\"checkbox\" ><label for=\"sk-estimator-id-3\" class=\"sk-toggleable__label sk-toggleable__label-arrow\">MultinomialNB</label><div class=\"sk-toggleable__content\"><pre>MultinomialNB()</pre></div></div></div></div></div></div></div>"
            ]
          },
          "metadata": {},
          "execution_count": 30
        }
      ]
    },
    {
      "cell_type": "code",
      "source": [
        "baseline_score = model_0.score(val_sentances, val_labels)"
      ],
      "metadata": {
        "id": "2V_NNdHW1xLH"
      },
      "execution_count": 31,
      "outputs": []
    },
    {
      "cell_type": "code",
      "source": [
        "baseline_score"
      ],
      "metadata": {
        "colab": {
          "base_uri": "https://localhost:8080/"
        },
        "id": "XsaOfha913Ps",
        "outputId": "5c5561ab-e46c-4ebf-f5a7-624b9481f90e"
      },
      "execution_count": 32,
      "outputs": [
        {
          "output_type": "execute_result",
          "data": {
            "text/plain": [
              "0.7978"
            ]
          },
          "metadata": {},
          "execution_count": 32
        }
      ]
    },
    {
      "cell_type": "code",
      "source": [
        "baseline_preds = model_0.predict(val_sentances)\n",
        "baseline_preds[:100]"
      ],
      "metadata": {
        "colab": {
          "base_uri": "https://localhost:8080/"
        },
        "id": "xPVnsITE14P2",
        "outputId": "5a681c32-db1a-40ea-ac99-2a1a374dea64"
      },
      "execution_count": 33,
      "outputs": [
        {
          "output_type": "execute_result",
          "data": {
            "text/plain": [
              "array([1, 1, 1, 1, 1, 1, 1, 1, 1, 1, 1, 1, 1, 1, 1, 1, 1, 1, 1, 1, 1, 1,\n",
              "       1, 1, 1, 1, 1, 0, 1, 1, 1, 1, 1, 1, 1, 1, 1, 1, 1, 1, 1, 1, 1, 1,\n",
              "       1, 1, 1, 1, 1, 1, 1, 1, 1, 1, 1, 1, 1, 1, 1, 1, 1, 1, 1, 1, 1, 1,\n",
              "       1, 1, 1, 1, 1, 1, 1, 1, 1, 1, 1, 1, 1, 1, 1, 1, 1, 1, 1, 1, 1, 1,\n",
              "       1, 1, 1, 1, 1, 1, 1, 1, 1, 1, 1, 1])"
            ]
          },
          "metadata": {},
          "execution_count": 33
        }
      ]
    },
    {
      "cell_type": "code",
      "source": [
        "# Function to evaluate: accuracy, precision, recall, f1-score\n",
        "from sklearn.metrics import accuracy_score, precision_recall_fscore_support\n",
        "\n",
        "def calculate_results(y_true, y_pred):\n",
        "  # Calculate model accuracy\n",
        "  model_accuracy = accuracy_score(y_true, y_pred) * 100\n",
        "  # Calculate model precision, recall and f1 score using \"weighted\" average\n",
        "  model_precision, model_recall, model_f1, _ = precision_recall_fscore_support(y_true, y_pred, average=\"weighted\")\n",
        "  model_results = {\"accuracy\": model_accuracy,\n",
        "                  \"precision\": model_precision,\n",
        "                  \"recall\": model_recall,\n",
        "                  \"f1\": model_f1}\n",
        "  return model_results"
      ],
      "metadata": {
        "id": "BWDoIpUU18g9"
      },
      "execution_count": 34,
      "outputs": []
    },
    {
      "cell_type": "code",
      "source": [
        "baseline_results = calculate_results(val_labels, baseline_preds)"
      ],
      "metadata": {
        "id": "_OSXCl0y1_w1"
      },
      "execution_count": 35,
      "outputs": []
    },
    {
      "cell_type": "code",
      "source": [
        "baseline_results"
      ],
      "metadata": {
        "colab": {
          "base_uri": "https://localhost:8080/"
        },
        "id": "UmLATUYq2f5w",
        "outputId": "8b766653-5dee-46df-e4ad-51ad4dd45c4a"
      },
      "execution_count": 36,
      "outputs": [
        {
          "output_type": "execute_result",
          "data": {
            "text/plain": [
              "{'accuracy': 79.78,\n",
              " 'precision': 0.8338266657514186,\n",
              " 'recall': 0.7978,\n",
              " 'f1': 0.7308971860355469}"
            ]
          },
          "metadata": {},
          "execution_count": 36
        }
      ]
    },
    {
      "cell_type": "markdown",
      "source": [
        "# model 1: A simple dense model"
      ],
      "metadata": {
        "id": "DzKWgGIS2hiU"
      }
    },
    {
      "cell_type": "code",
      "source": [
        "# Build model with the functional API\n",
        "from tensorflow.keras import layers\n",
        "\n",
        "inputs = layers.Input(shape = (1, ), dtype = 'string')\n",
        "x = text_vectorizer(inputs)\n",
        "x = embedding(x)\n",
        "x = layers.GlobalMaxPooling1D()(x)\n",
        "outputs = layers.Dense(1, activation = 'sigmoid')(x)\n",
        "\n",
        "model_1 = tf.keras.Model(inputs, outputs, name = 'model_1_dense')"
      ],
      "metadata": {
        "id": "-MJhyDsz2uH_"
      },
      "execution_count": 37,
      "outputs": []
    },
    {
      "cell_type": "code",
      "source": [
        "# compile a model\n",
        "\n",
        "model_1.compile(loss = 'binary_crossentropy',\n",
        "                optimizer = tf.keras.optimizers.Adam(),\n",
        "                metrics = ['accuracy'])"
      ],
      "metadata": {
        "id": "LExIGRW83pU9"
      },
      "execution_count": 38,
      "outputs": []
    },
    {
      "cell_type": "code",
      "source": [
        "model_1.summary()"
      ],
      "metadata": {
        "colab": {
          "base_uri": "https://localhost:8080/"
        },
        "id": "INhGhKQ46NE-",
        "outputId": "b81a175a-bd5d-490e-adb1-0b504a2032b0"
      },
      "execution_count": 39,
      "outputs": [
        {
          "output_type": "stream",
          "name": "stdout",
          "text": [
            "Model: \"model_1_dense\"\n",
            "_________________________________________________________________\n",
            " Layer (type)                Output Shape              Param #   \n",
            "=================================================================\n",
            " input_2 (InputLayer)        [(None, 1)]               0         \n",
            "                                                                 \n",
            " text_vectorization_1 (Text  (None, 64)                0         \n",
            " Vectorization)                                                  \n",
            "                                                                 \n",
            " embedding_1 (Embedding)     (None, 64, 128)           2560000   \n",
            "                                                                 \n",
            " global_max_pooling1d (Glob  (None, 128)               0         \n",
            " alMaxPooling1D)                                                 \n",
            "                                                                 \n",
            " dense (Dense)               (None, 1)                 129       \n",
            "                                                                 \n",
            "=================================================================\n",
            "Total params: 2560129 (9.77 MB)\n",
            "Trainable params: 2560129 (9.77 MB)\n",
            "Non-trainable params: 0 (0.00 Byte)\n",
            "_________________________________________________________________\n"
          ]
        }
      ]
    },
    {
      "cell_type": "code",
      "source": [
        "# fit the model\n",
        "\n",
        "model_1_history = model_1.fit(train_sentances,\n",
        "                              train_labels,\n",
        "                              epochs = 5,\n",
        "                              validation_data = (val_sentances, val_labels))"
      ],
      "metadata": {
        "colab": {
          "base_uri": "https://localhost:8080/"
        },
        "id": "uQ_KQeQa6O-q",
        "outputId": "511f6ca9-e847-4f97-fc0e-e6fe21279539"
      },
      "execution_count": 40,
      "outputs": [
        {
          "output_type": "stream",
          "name": "stdout",
          "text": [
            "Epoch 1/5\n",
            "1407/1407 [==============================] - 64s 44ms/step - loss: 0.3615 - accuracy: 0.8398 - val_loss: 0.2729 - val_accuracy: 0.8826\n",
            "Epoch 2/5\n",
            "1407/1407 [==============================] - 14s 10ms/step - loss: 0.2501 - accuracy: 0.8939 - val_loss: 0.2531 - val_accuracy: 0.8886\n",
            "Epoch 3/5\n",
            "1407/1407 [==============================] - 12s 8ms/step - loss: 0.2084 - accuracy: 0.9128 - val_loss: 0.2505 - val_accuracy: 0.8944\n",
            "Epoch 4/5\n",
            "1407/1407 [==============================] - 12s 9ms/step - loss: 0.1744 - accuracy: 0.9294 - val_loss: 0.2532 - val_accuracy: 0.8934\n",
            "Epoch 5/5\n",
            "1407/1407 [==============================] - 12s 9ms/step - loss: 0.1455 - accuracy: 0.9454 - val_loss: 0.2618 - val_accuracy: 0.8954\n"
          ]
        }
      ]
    },
    {
      "cell_type": "code",
      "source": [
        "model_1.evaluate(val_sentances, val_labels)"
      ],
      "metadata": {
        "colab": {
          "base_uri": "https://localhost:8080/"
        },
        "id": "hTLbUT7s61ww",
        "outputId": "ca7458df-eeb6-429a-9e74-e3a9be58ec04"
      },
      "execution_count": 41,
      "outputs": [
        {
          "output_type": "stream",
          "name": "stdout",
          "text": [
            "157/157 [==============================] - 1s 5ms/step - loss: 0.2618 - accuracy: 0.8954\n"
          ]
        },
        {
          "output_type": "execute_result",
          "data": {
            "text/plain": [
              "[0.2617794871330261, 0.8953999876976013]"
            ]
          },
          "metadata": {},
          "execution_count": 41
        }
      ]
    },
    {
      "cell_type": "code",
      "source": [
        "# model 1 prediction probability\n",
        "\n",
        "model_1_pred_prob = model_1.predict(val_sentances)"
      ],
      "metadata": {
        "colab": {
          "base_uri": "https://localhost:8080/"
        },
        "id": "NmSmfeYW8ifO",
        "outputId": "31b50899-d7d4-411e-a4aa-2927884b3537"
      },
      "execution_count": 42,
      "outputs": [
        {
          "output_type": "stream",
          "name": "stdout",
          "text": [
            "157/157 [==============================] - 1s 3ms/step\n"
          ]
        }
      ]
    },
    {
      "cell_type": "code",
      "source": [
        "model_1_preds = tf.squeeze(tf.round(model_1_pred_prob))"
      ],
      "metadata": {
        "id": "67TUp9BX8vp1"
      },
      "execution_count": 43,
      "outputs": []
    },
    {
      "cell_type": "code",
      "source": [
        "model_1_preds"
      ],
      "metadata": {
        "colab": {
          "base_uri": "https://localhost:8080/"
        },
        "id": "2m8Gmd3L87Or",
        "outputId": "4d264c68-c2da-4aaf-f46e-709138690cc2"
      },
      "execution_count": 44,
      "outputs": [
        {
          "output_type": "execute_result",
          "data": {
            "text/plain": [
              "<tf.Tensor: shape=(5000,), dtype=float32, numpy=array([1., 1., 1., ..., 1., 1., 1.], dtype=float32)>"
            ]
          },
          "metadata": {},
          "execution_count": 44
        }
      ]
    },
    {
      "cell_type": "code",
      "source": [
        "# Calculate model_1 metrics\n",
        "model_1_results = calculate_results(val_labels,\n",
        "                                    model_1_preds)\n",
        "model_1_results"
      ],
      "metadata": {
        "colab": {
          "base_uri": "https://localhost:8080/"
        },
        "id": "s1o6watO89A6",
        "outputId": "248558c7-2cdc-4666-cf3f-26fbea8dacb0"
      },
      "execution_count": 45,
      "outputs": [
        {
          "output_type": "execute_result",
          "data": {
            "text/plain": [
              "{'accuracy': 89.53999999999999,\n",
              " 'precision': 0.8923020491556636,\n",
              " 'recall': 0.8954,\n",
              " 'f1': 0.8927199681948997}"
            ]
          },
          "metadata": {},
          "execution_count": 45
        }
      ]
    },
    {
      "cell_type": "markdown",
      "source": [
        "# model 2: LSTM"
      ],
      "metadata": {
        "id": "k9H4bX4X9E_p"
      }
    },
    {
      "cell_type": "code",
      "source": [
        "from tensorflow.keras import layers\n",
        "\n",
        "model_2_embedding = layers.Embedding(input_dim = max_vocab_length,\n",
        "                                     output_dim = 256,\n",
        "                                     embeddings_initializer = 'uniform',\n",
        "                                     input_length = max_length,\n",
        "                                     name = 'embedding_2_model')\n",
        "\n",
        "# build a model\n",
        "inputs = layers.Input(shape =(1, ), dtype = 'string')\n",
        "x = text_vectorizer(inputs)\n",
        "x  = model_2_embedding(x)\n",
        "print(x.shape)\n",
        "x = layers.LSTM(64)(x)\n",
        "print(x.shape)\n",
        "outputs = layers.Dense(1, activation = 'sigmoid')(x)\n",
        "model_2 = tf.keras.Model(inputs, outputs, name = 'model_2_LSTM')"
      ],
      "metadata": {
        "colab": {
          "base_uri": "https://localhost:8080/"
        },
        "id": "2vcd9kch-l8N",
        "outputId": "b84b0aa8-be69-41b7-e49b-73915aaaaef5"
      },
      "execution_count": 46,
      "outputs": [
        {
          "output_type": "stream",
          "name": "stdout",
          "text": [
            "(None, 64, 256)\n",
            "(None, 64)\n"
          ]
        }
      ]
    },
    {
      "cell_type": "code",
      "source": [
        "# Compile model\n",
        "model_2.compile(loss=\"binary_crossentropy\",\n",
        "                optimizer=tf.keras.optimizers.Adam(),\n",
        "                metrics=[\"accuracy\"])"
      ],
      "metadata": {
        "id": "s-mwyapZEpKu"
      },
      "execution_count": 47,
      "outputs": []
    },
    {
      "cell_type": "code",
      "source": [
        "model_2.summary()"
      ],
      "metadata": {
        "colab": {
          "base_uri": "https://localhost:8080/"
        },
        "id": "oHzBAkgYEyA_",
        "outputId": "93a43967-0241-4977-8ac2-4358a4f1f762"
      },
      "execution_count": 48,
      "outputs": [
        {
          "output_type": "stream",
          "name": "stdout",
          "text": [
            "Model: \"model_2_LSTM\"\n",
            "_________________________________________________________________\n",
            " Layer (type)                Output Shape              Param #   \n",
            "=================================================================\n",
            " input_3 (InputLayer)        [(None, 1)]               0         \n",
            "                                                                 \n",
            " text_vectorization_1 (Text  (None, 64)                0         \n",
            " Vectorization)                                                  \n",
            "                                                                 \n",
            " embedding_2_model (Embeddi  (None, 64, 256)           5120000   \n",
            " ng)                                                             \n",
            "                                                                 \n",
            " lstm (LSTM)                 (None, 64)                82176     \n",
            "                                                                 \n",
            " dense_1 (Dense)             (None, 1)                 65        \n",
            "                                                                 \n",
            "=================================================================\n",
            "Total params: 5202241 (19.84 MB)\n",
            "Trainable params: 5202241 (19.84 MB)\n",
            "Non-trainable params: 0 (0.00 Byte)\n",
            "_________________________________________________________________\n"
          ]
        }
      ]
    },
    {
      "cell_type": "code",
      "source": [
        "# Fit model\n",
        "model_2_history = model_2.fit(train_sentances,\n",
        "                              train_labels,\n",
        "                              epochs=5,\n",
        "                              validation_data=(val_sentances, val_labels))"
      ],
      "metadata": {
        "colab": {
          "base_uri": "https://localhost:8080/"
        },
        "id": "4VApnshlEzm_",
        "outputId": "d0c7a96c-4212-41b8-874c-522979aa1db2"
      },
      "execution_count": 49,
      "outputs": [
        {
          "output_type": "stream",
          "name": "stdout",
          "text": [
            "Epoch 1/5\n",
            "1407/1407 [==============================] - 72s 49ms/step - loss: 0.4903 - accuracy: 0.7779 - val_loss: 0.5328 - val_accuracy: 0.7574\n",
            "Epoch 2/5\n",
            "1407/1407 [==============================] - 20s 15ms/step - loss: 0.4600 - accuracy: 0.8078 - val_loss: 0.4911 - val_accuracy: 0.8160\n",
            "Epoch 3/5\n",
            "1407/1407 [==============================] - 20s 14ms/step - loss: 0.3262 - accuracy: 0.8558 - val_loss: 0.2762 - val_accuracy: 0.8830\n",
            "Epoch 4/5\n",
            "1407/1407 [==============================] - 21s 15ms/step - loss: 0.2074 - accuracy: 0.9165 - val_loss: 0.2653 - val_accuracy: 0.8886\n",
            "Epoch 5/5\n",
            "1407/1407 [==============================] - 17s 12ms/step - loss: 0.1542 - accuracy: 0.9408 - val_loss: 0.3024 - val_accuracy: 0.8860\n"
          ]
        }
      ]
    },
    {
      "cell_type": "code",
      "source": [
        "# make some predictions\n",
        "\n",
        "model_2_pred_probs = model_2.predict(val_sentances)"
      ],
      "metadata": {
        "colab": {
          "base_uri": "https://localhost:8080/"
        },
        "id": "hfneJHoOE8-N",
        "outputId": "62d55992-1ce5-4b22-be32-059f6145edac"
      },
      "execution_count": 50,
      "outputs": [
        {
          "output_type": "stream",
          "name": "stdout",
          "text": [
            "157/157 [==============================] - 1s 6ms/step\n"
          ]
        }
      ]
    },
    {
      "cell_type": "code",
      "source": [
        "model_2_pred = tf.squeeze(tf.round(model_2_pred_probs))\n",
        "model_2_pred[:10]"
      ],
      "metadata": {
        "colab": {
          "base_uri": "https://localhost:8080/"
        },
        "id": "Or_puelhG2HI",
        "outputId": "c3eaddd6-fe9c-4bd3-e2f5-83a6d5f53466"
      },
      "execution_count": 51,
      "outputs": [
        {
          "output_type": "execute_result",
          "data": {
            "text/plain": [
              "<tf.Tensor: shape=(10,), dtype=float32, numpy=array([1., 1., 1., 1., 0., 1., 1., 1., 1., 1.], dtype=float32)>"
            ]
          },
          "metadata": {},
          "execution_count": 51
        }
      ]
    },
    {
      "cell_type": "code",
      "source": [
        "# Calculate LSTM model results\n",
        "model_2_results = calculate_results(val_labels,\n",
        "                                    model_2_pred)\n",
        "model_2_results"
      ],
      "metadata": {
        "colab": {
          "base_uri": "https://localhost:8080/"
        },
        "id": "P3Nx2aGCG84S",
        "outputId": "c0bd6f79-dbef-44c1-df25-8cea3cd9e8fc"
      },
      "execution_count": 52,
      "outputs": [
        {
          "output_type": "execute_result",
          "data": {
            "text/plain": [
              "{'accuracy': 88.6,\n",
              " 'precision': 0.8885821377468064,\n",
              " 'recall': 0.886,\n",
              " 'f1': 0.8871016594196469}"
            ]
          },
          "metadata": {},
          "execution_count": 52
        }
      ]
    },
    {
      "cell_type": "markdown",
      "source": [
        "# Model 3: GRU"
      ],
      "metadata": {
        "id": "zVuqVf4OHEK7"
      }
    },
    {
      "cell_type": "code",
      "source": [
        "# import tensorflow as tf\n",
        "from tensorflow.keras import layers\n",
        "\n",
        "model_3_embedding = layers.Embedding(input_dim = max_vocab_length,\n",
        "                                     output_dim = 128,\n",
        "                                     embeddings_initializer = 'uniform',\n",
        "                                     input_length = max_length,\n",
        "                                     name = 'embedding_3_mode')\n",
        "\n",
        "\n",
        "# build a Rnn with GRU cell\n",
        "\n",
        "inputs  = layers.Input(shape=(1,), dtype = 'string')\n",
        "x = text_vectorizer(inputs)\n",
        "x = model_3_embedding(x)\n",
        "x = layers.GRU(64, dropout=0.25)(x)\n",
        "# x = layers.Dense(64, activation = 'relu')(x)\n",
        "x = layers.Dense(64, activation = 'relu')(x)\n",
        "# model.add(keras.layers.Dropout(0.4))\n",
        "x = layers.Dropout(0.3)(x)\n",
        "\n",
        "outputs = layers.Dense(1, activation = 'sigmoid')(x)\n",
        "model_3 = tf.keras.Model(inputs, outputs, name = 'model_3_GRU')"
      ],
      "metadata": {
        "id": "pR2PTWoqN1iU"
      },
      "execution_count": 53,
      "outputs": []
    },
    {
      "cell_type": "code",
      "source": [
        "# compile the Model\n",
        "\n",
        "model_3.compile(loss = \"binary_crossentropy\",\n",
        "                optimizer = tf.keras.optimizers.Adam(),\n",
        "                metrics = ['accuracy'])"
      ],
      "metadata": {
        "id": "wMQeidlUPEdq"
      },
      "execution_count": 54,
      "outputs": []
    },
    {
      "cell_type": "code",
      "source": [
        "# summary\n",
        "model_3.summary()"
      ],
      "metadata": {
        "colab": {
          "base_uri": "https://localhost:8080/"
        },
        "id": "UROgeid1RZov",
        "outputId": "dddaa17e-40ca-455e-bc48-7d5eec6d6785"
      },
      "execution_count": 55,
      "outputs": [
        {
          "output_type": "stream",
          "name": "stdout",
          "text": [
            "Model: \"model_3_GRU\"\n",
            "_________________________________________________________________\n",
            " Layer (type)                Output Shape              Param #   \n",
            "=================================================================\n",
            " input_4 (InputLayer)        [(None, 1)]               0         \n",
            "                                                                 \n",
            " text_vectorization_1 (Text  (None, 64)                0         \n",
            " Vectorization)                                                  \n",
            "                                                                 \n",
            " embedding_3_mode (Embeddin  (None, 64, 128)           2560000   \n",
            " g)                                                              \n",
            "                                                                 \n",
            " gru (GRU)                   (None, 64)                37248     \n",
            "                                                                 \n",
            " dense_2 (Dense)             (None, 64)                4160      \n",
            "                                                                 \n",
            " dropout (Dropout)           (None, 64)                0         \n",
            "                                                                 \n",
            " dense_3 (Dense)             (None, 1)                 65        \n",
            "                                                                 \n",
            "=================================================================\n",
            "Total params: 2601473 (9.92 MB)\n",
            "Trainable params: 2601473 (9.92 MB)\n",
            "Non-trainable params: 0 (0.00 Byte)\n",
            "_________________________________________________________________\n"
          ]
        }
      ]
    },
    {
      "cell_type": "code",
      "source": [
        "\n",
        "\n",
        "# fit the model\n",
        "\n",
        "model_3_history = model_3.fit(train_sentances,\n",
        "                              train_labels,\n",
        "                              epochs = 5,\n",
        "                              validation_data = (val_sentances, val_labels))"
      ],
      "metadata": {
        "colab": {
          "base_uri": "https://localhost:8080/"
        },
        "id": "rPXcVpoMRd8T",
        "outputId": "3255b5c3-b7dc-4565-99be-a59cc47d5ec8"
      },
      "execution_count": 56,
      "outputs": [
        {
          "output_type": "stream",
          "name": "stdout",
          "text": [
            "Epoch 1/5\n",
            "1407/1407 [==============================] - 59s 39ms/step - loss: 0.4170 - accuracy: 0.8187 - val_loss: 0.2489 - val_accuracy: 0.8946\n",
            "Epoch 2/5\n",
            "1407/1407 [==============================] - 19s 14ms/step - loss: 0.2284 - accuracy: 0.9058 - val_loss: 0.2444 - val_accuracy: 0.8972\n",
            "Epoch 3/5\n",
            "1407/1407 [==============================] - 18s 13ms/step - loss: 0.1781 - accuracy: 0.9298 - val_loss: 0.2558 - val_accuracy: 0.8922\n",
            "Epoch 4/5\n",
            "1407/1407 [==============================] - 17s 12ms/step - loss: 0.1345 - accuracy: 0.9480 - val_loss: 0.3005 - val_accuracy: 0.8910\n",
            "Epoch 5/5\n",
            "1407/1407 [==============================] - 18s 13ms/step - loss: 0.1005 - accuracy: 0.9629 - val_loss: 0.3639 - val_accuracy: 0.8840\n"
          ]
        }
      ]
    },
    {
      "cell_type": "code",
      "source": [
        "# Epoch 1/5\n",
        "# 1407/1407 [==============================] - 48s 32ms/step - loss: 0.4128 - accuracy: 0.8209 - val_loss: 0.2496 - val_accuracy: 0.8944\n",
        "# Epoch 2/5\n",
        "# 1407/1407 [==============================] - 15s 11ms/step - loss: 0.2227 - accuracy: 0.9084 - val_loss: 0.2412 - val_accuracy: 0.8984\n",
        "# Epoch 3/5\n",
        "# 1407/1407 [==============================] - 15s 11ms/step - loss: 0.1578 - accuracy: 0.9385 - val_loss: 0.2747 - val_accuracy: 0.8898\n",
        "# Epoch 4/5\n",
        "# 1407/1407 [==============================] - 13s 10ms/step - loss: 0.1037 - accuracy: 0.9613 - val_loss: 0.3157 - val_accuracy: 0.8910\n",
        "# Epoch 5/5\n",
        "# 1407/1407 [==============================] - 14s 10ms/step - loss: 0.0687 - accuracy: 0.9758 - val_loss: 0.4189 - val_accuracy: 0.8876"
      ],
      "metadata": {
        "id": "xEaqXj83eI6l"
      },
      "execution_count": 57,
      "outputs": []
    },
    {
      "cell_type": "code",
      "source": [
        "# evaluate the model\n",
        "model_3.evaluate(val_sentances)"
      ],
      "metadata": {
        "id": "SLdGFr1uRrU1",
        "colab": {
          "base_uri": "https://localhost:8080/"
        },
        "outputId": "44c06b04-69b3-4ad7-eebb-5ef060dbfb8e"
      },
      "execution_count": 58,
      "outputs": [
        {
          "output_type": "stream",
          "name": "stdout",
          "text": [
            "157/157 [==============================] - 1s 3ms/step - loss: 0.0000e+00 - accuracy: 0.0000e+00\n"
          ]
        },
        {
          "output_type": "execute_result",
          "data": {
            "text/plain": [
              "[0.0, 0.0]"
            ]
          },
          "metadata": {},
          "execution_count": 58
        }
      ]
    },
    {
      "cell_type": "code",
      "source": [
        "# Make predictions on the validation data\n",
        "\n",
        "model_3_pred_probs = model_3.predict(val_sentances)\n",
        "model_3_pred = tf.squeeze(tf.round(model_3_pred_probs))\n",
        "model_3_pred"
      ],
      "metadata": {
        "colab": {
          "base_uri": "https://localhost:8080/"
        },
        "id": "4SaaGfN9oapt",
        "outputId": "faaeba41-3b8c-47aa-afe8-b6a166b9ee06"
      },
      "execution_count": 59,
      "outputs": [
        {
          "output_type": "stream",
          "name": "stdout",
          "text": [
            "157/157 [==============================] - 1s 6ms/step\n"
          ]
        },
        {
          "output_type": "execute_result",
          "data": {
            "text/plain": [
              "<tf.Tensor: shape=(5000,), dtype=float32, numpy=array([1., 1., 1., ..., 1., 1., 1.], dtype=float32)>"
            ]
          },
          "metadata": {},
          "execution_count": 59
        }
      ]
    },
    {
      "cell_type": "code",
      "source": [
        "# Calculate LSTM model results\n",
        "model_3_results = calculate_results(val_labels,\n",
        "                                    model_3_pred)\n",
        "model_3_results"
      ],
      "metadata": {
        "colab": {
          "base_uri": "https://localhost:8080/"
        },
        "id": "yt0aqqUaor1R",
        "outputId": "ccb0874c-19a7-43d1-b3ce-1644f200097c"
      },
      "execution_count": 60,
      "outputs": [
        {
          "output_type": "execute_result",
          "data": {
            "text/plain": [
              "{'accuracy': 88.4,\n",
              " 'precision': 0.8841430942492651,\n",
              " 'recall': 0.884,\n",
              " 'f1': 0.8840708353079993}"
            ]
          },
          "metadata": {},
          "execution_count": 60
        }
      ]
    },
    {
      "cell_type": "markdown",
      "source": [
        "# Model 4 : Bidirectional RNN Model"
      ],
      "metadata": {
        "id": "jyObg3V1OvZ3"
      }
    },
    {
      "cell_type": "code",
      "source": [
        "from tensorflow.keras import layers\n",
        "\n",
        "model_4_embedding = layers.Embedding(input_dim = max_vocab_length,\n",
        "                                     output_dim = 128,\n",
        "                                     embeddings_initializer = 'uniform',\n",
        "                                     input_length = max_length,\n",
        "                                     name = 'embedding_4_model')\n",
        "\n",
        "inputs = layers.Input(shape=(1,), dtype=\"string\")\n",
        "x = text_vectorizer(inputs)\n",
        "x = model_4_embedding(x)\n",
        "\n",
        "x = layers.Bidirectional(layers.LSTM(64))(x) # bidirectional goes both ways so has double the parameters of a regular LSTM layer\n",
        "outputs = layers.Dense(1, activation=\"sigmoid\")(x)\n",
        "model_4 = tf.keras.Model(inputs, outputs, name=\"model_4_Bidirectional\")"
      ],
      "metadata": {
        "id": "7RDre1ggmac_"
      },
      "execution_count": 61,
      "outputs": []
    },
    {
      "cell_type": "code",
      "source": [
        "# compile the model\n",
        "\n",
        "model_4.compile(loss = 'binary_crossentropy',\n",
        "                optimizer = tf.keras.optimizers.Adam(),\n",
        "                metrics = ['accuracy'])"
      ],
      "metadata": {
        "id": "5hsVEFTCm4p_"
      },
      "execution_count": 62,
      "outputs": []
    },
    {
      "cell_type": "code",
      "source": [
        "model_4.summary()"
      ],
      "metadata": {
        "colab": {
          "base_uri": "https://localhost:8080/"
        },
        "id": "zQ3O69GYnEzM",
        "outputId": "8cd7d5a7-a7e4-4fad-9602-1550c30253b4"
      },
      "execution_count": 63,
      "outputs": [
        {
          "output_type": "stream",
          "name": "stdout",
          "text": [
            "Model: \"model_4_Bidirectional\"\n",
            "_________________________________________________________________\n",
            " Layer (type)                Output Shape              Param #   \n",
            "=================================================================\n",
            " input_5 (InputLayer)        [(None, 1)]               0         \n",
            "                                                                 \n",
            " text_vectorization_1 (Text  (None, 64)                0         \n",
            " Vectorization)                                                  \n",
            "                                                                 \n",
            " embedding_4_model (Embeddi  (None, 64, 128)           2560000   \n",
            " ng)                                                             \n",
            "                                                                 \n",
            " bidirectional (Bidirection  (None, 128)               98816     \n",
            " al)                                                             \n",
            "                                                                 \n",
            " dense_4 (Dense)             (None, 1)                 129       \n",
            "                                                                 \n",
            "=================================================================\n",
            "Total params: 2658945 (10.14 MB)\n",
            "Trainable params: 2658945 (10.14 MB)\n",
            "Non-trainable params: 0 (0.00 Byte)\n",
            "_________________________________________________________________\n"
          ]
        }
      ]
    },
    {
      "cell_type": "code",
      "source": [
        "# Fit the model\n",
        "model_4_history = model_4.fit(train_sentances,\n",
        "                              train_labels,\n",
        "                              epochs = 5,\n",
        "                              validation_data = (val_sentances, val_labels))"
      ],
      "metadata": {
        "colab": {
          "base_uri": "https://localhost:8080/"
        },
        "id": "zeR0s6T5nGQb",
        "outputId": "f16342c7-87cd-4233-cad6-bf2e0035d2a0"
      },
      "execution_count": 64,
      "outputs": [
        {
          "output_type": "stream",
          "name": "stdout",
          "text": [
            "Epoch 1/5\n",
            "1407/1407 [==============================] - 64s 41ms/step - loss: 0.3108 - accuracy: 0.8696 - val_loss: 0.2567 - val_accuracy: 0.8978\n",
            "Epoch 2/5\n",
            "1407/1407 [==============================] - 25s 18ms/step - loss: 0.2173 - accuracy: 0.9127 - val_loss: 0.2478 - val_accuracy: 0.8996\n",
            "Epoch 3/5\n",
            "1407/1407 [==============================] - 22s 16ms/step - loss: 0.1652 - accuracy: 0.9346 - val_loss: 0.2945 - val_accuracy: 0.8824\n",
            "Epoch 4/5\n",
            "1407/1407 [==============================] - 21s 15ms/step - loss: 0.1166 - accuracy: 0.9561 - val_loss: 0.3262 - val_accuracy: 0.8832\n",
            "Epoch 5/5\n",
            "1407/1407 [==============================] - 25s 18ms/step - loss: 0.0816 - accuracy: 0.9705 - val_loss: 0.3694 - val_accuracy: 0.8846\n"
          ]
        }
      ]
    },
    {
      "cell_type": "code",
      "source": [
        "# Make predictions\n",
        "model_4_pred_probs = model_4.predict(val_sentances)\n",
        "model_4_pred = tf.squeeze(tf.round(model_4_pred_probs))\n",
        "model_4_pred"
      ],
      "metadata": {
        "colab": {
          "base_uri": "https://localhost:8080/"
        },
        "id": "0QNe08oxnTm4",
        "outputId": "a53d021f-d9f1-4f5c-92b4-af6bb35cdc53"
      },
      "execution_count": 65,
      "outputs": [
        {
          "output_type": "stream",
          "name": "stdout",
          "text": [
            "157/157 [==============================] - 2s 5ms/step\n"
          ]
        },
        {
          "output_type": "execute_result",
          "data": {
            "text/plain": [
              "<tf.Tensor: shape=(5000,), dtype=float32, numpy=array([1., 1., 1., ..., 1., 1., 1.], dtype=float32)>"
            ]
          },
          "metadata": {},
          "execution_count": 65
        }
      ]
    },
    {
      "cell_type": "code",
      "source": [
        "# Calculate model 4 results\n",
        "model_4_results = calculate_results(val_labels,\n",
        "                                    model_4_pred)\n",
        "model_4_results"
      ],
      "metadata": {
        "colab": {
          "base_uri": "https://localhost:8080/"
        },
        "id": "YnHlQ6TgoJMl",
        "outputId": "03a492f0-7e61-409a-95ed-101befa0124c"
      },
      "execution_count": 66,
      "outputs": [
        {
          "output_type": "execute_result",
          "data": {
            "text/plain": [
              "{'accuracy': 88.46000000000001,\n",
              " 'precision': 0.8847065770750987,\n",
              " 'recall': 0.8846,\n",
              " 'f1': 0.8846528873998796}"
            ]
          },
          "metadata": {},
          "execution_count": 66
        }
      ]
    },
    {
      "cell_type": "markdown",
      "source": [
        "# Model 5: Conv1D"
      ],
      "metadata": {
        "id": "WgDKYaqf0Tlp"
      }
    },
    {
      "cell_type": "code",
      "source": [
        "# test out the embedding , 1D convolutional and max pooling\n",
        "\n",
        "embedding_test = embedding(text_vectorizer([\"Packaging of product was too bad\"]))\n",
        "\n",
        "conv_1d = layers.Conv1D(filters = 32, kernel_size = 5, activation = 'relu')\n",
        "conv_1d_output = conv_1d(embedding_test)\n",
        "\n",
        "max_pool = layers.GlobalMaxPool1D()\n",
        "max_pool_output = max_pool(conv_1d_output)\n",
        "\n",
        "embedding_test.shape, conv_1d_output.shape, max_pool_output.shape"
      ],
      "metadata": {
        "colab": {
          "base_uri": "https://localhost:8080/"
        },
        "id": "FQtmVC160WXK",
        "outputId": "98ffb2cb-8fb0-459c-eb55-091d455436e3"
      },
      "execution_count": 67,
      "outputs": [
        {
          "output_type": "execute_result",
          "data": {
            "text/plain": [
              "(TensorShape([1, 64, 128]), TensorShape([1, 60, 32]), TensorShape([1, 32]))"
            ]
          },
          "metadata": {},
          "execution_count": 67
        }
      ]
    },
    {
      "cell_type": "code",
      "source": [
        "embedding_test[:1], conv_1d_output[:1], max_pool_output[:1]"
      ],
      "metadata": {
        "colab": {
          "base_uri": "https://localhost:8080/"
        },
        "id": "foN_SeHF1F2s",
        "outputId": "43a46c01-3b5e-485b-b8cc-08564a8f4b15"
      },
      "execution_count": 68,
      "outputs": [
        {
          "output_type": "execute_result",
          "data": {
            "text/plain": [
              "(<tf.Tensor: shape=(1, 64, 128), dtype=float32, numpy=\n",
              " array([[[-0.0154944 , -0.03652706, -0.04778898, ..., -0.09199777,\n",
              "          -0.09814937, -0.09431557],\n",
              "         [-0.0719146 , -0.05856934, -0.08947874, ..., -0.13667926,\n",
              "          -0.12404729, -0.13513768],\n",
              "         [-0.036557  , -0.05766684, -0.03341823, ..., -0.22974378,\n",
              "          -0.1923285 , -0.18168348],\n",
              "         ...,\n",
              "         [-0.06031284, -0.07602931, -0.0911251 , ..., -0.37208846,\n",
              "          -0.18996136, -0.15337022],\n",
              "         [-0.06031284, -0.07602931, -0.0911251 , ..., -0.37208846,\n",
              "          -0.18996136, -0.15337022],\n",
              "         [-0.06031284, -0.07602931, -0.0911251 , ..., -0.37208846,\n",
              "          -0.18996136, -0.15337022]]], dtype=float32)>,\n",
              " <tf.Tensor: shape=(1, 60, 32), dtype=float32, numpy=\n",
              " array([[[0.        , 0.        , 0.        , ..., 0.13052216,\n",
              "          0.        , 0.        ],\n",
              "         [0.        , 0.        , 0.        , ..., 0.07344185,\n",
              "          0.05924364, 0.        ],\n",
              "         [0.14001817, 0.        , 0.2036022 , ..., 0.02212138,\n",
              "          0.        , 0.        ],\n",
              "         ...,\n",
              "         [0.        , 0.        , 0.12605594, ..., 0.1904401 ,\n",
              "          0.        , 0.        ],\n",
              "         [0.        , 0.        , 0.12605594, ..., 0.1904401 ,\n",
              "          0.        , 0.        ],\n",
              "         [0.        , 0.        , 0.12605594, ..., 0.1904401 ,\n",
              "          0.        , 0.        ]]], dtype=float32)>,\n",
              " <tf.Tensor: shape=(1, 32), dtype=float32, numpy=\n",
              " array([[0.14001817, 0.03221855, 0.21511078, 0.62885714, 0.17808825,\n",
              "         0.16540577, 0.37400633, 0.        , 0.10291444, 0.        ,\n",
              "         0.11442932, 0.        , 0.        , 0.01764431, 0.        ,\n",
              "         0.14213258, 0.35451335, 0.01575908, 0.3453825 , 0.00664161,\n",
              "         0.1171551 , 0.        , 0.04261209, 0.24750395, 0.        ,\n",
              "         0.16307172, 0.        , 0.        , 0.10169508, 0.26864353,\n",
              "         0.07967998, 0.06091867]], dtype=float32)>)"
            ]
          },
          "metadata": {},
          "execution_count": 68
        }
      ]
    },
    {
      "cell_type": "code",
      "source": [
        "# build a model\n",
        "from tensorflow.keras import layers\n",
        "model_5_embedding = layers.Embedding(input_dim = max_vocab_length,\n",
        "                                     output_dim = 128,\n",
        "                                     embeddings_initializer = 'uniform',\n",
        "                                     input_length = max_length,\n",
        "                                     name = 'embedding_5')\n",
        "\n",
        "\n",
        "from tensorflow.keras import layers\n",
        "\n",
        "inputs = layers.Input(shape =(1, ), dtype=tf.string)\n",
        "x = text_vectorizer(inputs)\n",
        "x = model_5_embedding(x)\n",
        "\n",
        "x = layers.Conv1D(filters=32, kernel_size=5, activation=\"relu\")(x)\n",
        "x = layers.GlobalMaxPool1D()(x)\n",
        "# x = layers.Dense(64, activation = 'relu', name = 'extraLayer')(x)\n",
        "\n",
        "outputs = layers.Dense(1, activation=\"sigmoid\")(x)\n",
        "model_5 = tf.keras.Model(inputs, outputs, name=\"model_5_Conv1D\")"
      ],
      "metadata": {
        "id": "GxSOM1Oh5fa1"
      },
      "execution_count": 69,
      "outputs": []
    },
    {
      "cell_type": "code",
      "source": [
        "# compile the model\n",
        "\n",
        "model_5.compile(loss = 'binary_crossentropy',\n",
        "                optimizer = tf.keras.optimizers.Adam(),\n",
        "                metrics = ['accuracy'])\n",
        "\n",
        "model_5.summary()"
      ],
      "metadata": {
        "colab": {
          "base_uri": "https://localhost:8080/"
        },
        "id": "DQLzX_976mdS",
        "outputId": "0b84780a-dfdc-4ce2-e975-30e934dc4296"
      },
      "execution_count": 70,
      "outputs": [
        {
          "output_type": "stream",
          "name": "stdout",
          "text": [
            "Model: \"model_5_Conv1D\"\n",
            "_________________________________________________________________\n",
            " Layer (type)                Output Shape              Param #   \n",
            "=================================================================\n",
            " input_6 (InputLayer)        [(None, 1)]               0         \n",
            "                                                                 \n",
            " text_vectorization_1 (Text  (None, 64)                0         \n",
            " Vectorization)                                                  \n",
            "                                                                 \n",
            " embedding_5 (Embedding)     (None, 64, 128)           2560000   \n",
            "                                                                 \n",
            " conv1d_1 (Conv1D)           (None, 60, 32)            20512     \n",
            "                                                                 \n",
            " global_max_pooling1d_2 (Gl  (None, 32)                0         \n",
            " obalMaxPooling1D)                                               \n",
            "                                                                 \n",
            " dense_5 (Dense)             (None, 1)                 33        \n",
            "                                                                 \n",
            "=================================================================\n",
            "Total params: 2580545 (9.84 MB)\n",
            "Trainable params: 2580545 (9.84 MB)\n",
            "Non-trainable params: 0 (0.00 Byte)\n",
            "_________________________________________________________________\n"
          ]
        }
      ]
    },
    {
      "cell_type": "code",
      "source": [
        "# Fit the model\n",
        "model_5_history = model_5.fit(train_sentances,\n",
        "                              train_labels,\n",
        "                              epochs = 5,\n",
        "                              validation_data = (val_sentances, val_labels))"
      ],
      "metadata": {
        "colab": {
          "base_uri": "https://localhost:8080/"
        },
        "id": "ztj8QEo862sz",
        "outputId": "831a3d7d-e844-40aa-e0da-22c8bf276159"
      },
      "execution_count": 71,
      "outputs": [
        {
          "output_type": "stream",
          "name": "stdout",
          "text": [
            "Epoch 1/5\n",
            "1407/1407 [==============================] - 51s 34ms/step - loss: 0.3170 - accuracy: 0.8608 - val_loss: 0.2565 - val_accuracy: 0.8954\n",
            "Epoch 2/5\n",
            "1407/1407 [==============================] - 15s 11ms/step - loss: 0.2066 - accuracy: 0.9156 - val_loss: 0.2559 - val_accuracy: 0.8922\n",
            "Epoch 3/5\n",
            "1407/1407 [==============================] - 14s 10ms/step - loss: 0.1342 - accuracy: 0.9507 - val_loss: 0.2805 - val_accuracy: 0.8894\n",
            "Epoch 4/5\n",
            "1407/1407 [==============================] - 12s 9ms/step - loss: 0.0771 - accuracy: 0.9756 - val_loss: 0.3283 - val_accuracy: 0.8856\n",
            "Epoch 5/5\n",
            "1407/1407 [==============================] - 11s 8ms/step - loss: 0.0407 - accuracy: 0.9892 - val_loss: 0.3649 - val_accuracy: 0.8828\n"
          ]
        }
      ]
    },
    {
      "cell_type": "code",
      "source": [
        "# # Fit the model\n",
        "# model_5_history = model_5.fit(train_sentances,\n",
        "#                               train_labels,\n",
        "#                               epochs = 5,\n",
        "#                               validation_data = (val_sentances, val_labels))"
      ],
      "metadata": {
        "id": "E5UjXsQM8-Wo"
      },
      "execution_count": 72,
      "outputs": []
    },
    {
      "cell_type": "code",
      "source": [
        "# Make Predictions\n",
        "model_5_pred_prob = model_5.predict(val_sentances)\n",
        "model_5_pred = tf.squeeze(tf.round(model_5_pred_prob))\n",
        "model_5_pred"
      ],
      "metadata": {
        "colab": {
          "base_uri": "https://localhost:8080/"
        },
        "id": "XPz0d50G7eKx",
        "outputId": "58ad3c7b-0a12-4d86-ee5e-711ce03de814"
      },
      "execution_count": 73,
      "outputs": [
        {
          "output_type": "stream",
          "name": "stdout",
          "text": [
            "157/157 [==============================] - 1s 3ms/step\n"
          ]
        },
        {
          "output_type": "execute_result",
          "data": {
            "text/plain": [
              "<tf.Tensor: shape=(5000,), dtype=float32, numpy=array([1., 1., 1., ..., 1., 0., 1.], dtype=float32)>"
            ]
          },
          "metadata": {},
          "execution_count": 73
        }
      ]
    },
    {
      "cell_type": "code",
      "source": [
        "# Calculate 5th model results\n",
        "model_5_results = calculate_results(val_labels,\n",
        "                                    model_5_pred)\n",
        "model_5_results"
      ],
      "metadata": {
        "colab": {
          "base_uri": "https://localhost:8080/"
        },
        "id": "r_P7VgOo80I0",
        "outputId": "5550f77f-9095-4168-cffd-ca91fc3a4fbd"
      },
      "execution_count": 74,
      "outputs": [
        {
          "output_type": "execute_result",
          "data": {
            "text/plain": [
              "{'accuracy': 88.28,\n",
              " 'precision': 0.883165242420133,\n",
              " 'recall': 0.8828,\n",
              " 'f1': 0.8829781968266343}"
            ]
          },
          "metadata": {},
          "execution_count": 74
        }
      ]
    },
    {
      "cell_type": "markdown",
      "source": [
        "# Model 6: pretrain models from Tensorflow Hub"
      ],
      "metadata": {
        "id": "gsZN1kYTkekv"
      }
    },
    {
      "cell_type": "code",
      "source": [
        "import tensorflow_hub as hub\n",
        "\n",
        "embed = hub.load('https://tfhub.dev/google/universal-sentence-encoder/4')\n"
      ],
      "metadata": {
        "id": "soarv_P2kzFY"
      },
      "execution_count": 75,
      "outputs": []
    },
    {
      "cell_type": "code",
      "source": [
        "sentence_encoder_layer = hub.KerasLayer(\"https://tfhub.dev/google/universal-sentence-encoder/4\",\n",
        "                                        input_shape=[],\n",
        "                                        dtype=tf.string,\n",
        "                                        trainable=False,\n",
        "                                        name=\"USE\")"
      ],
      "metadata": {
        "id": "rDUA_mKOlDrz"
      },
      "execution_count": 76,
      "outputs": []
    },
    {
      "cell_type": "code",
      "source": [
        "# Create model using the Sequential API\n",
        "model_6 = tf.keras.Sequential([\n",
        "  sentence_encoder_layer,\n",
        "  layers.Dense(64, activation=\"relu\"),\n",
        "  layers.Dense(1, activation=\"sigmoid\")\n",
        "], name=\"model_6_USE\")\n",
        "\n",
        "# Compile model\n",
        "model_6.compile(loss=\"binary_crossentropy\",\n",
        "                optimizer=tf.keras.optimizers.Adam(),\n",
        "                metrics=[\"accuracy\"])\n",
        "\n",
        "model_6.summary()"
      ],
      "metadata": {
        "colab": {
          "base_uri": "https://localhost:8080/"
        },
        "id": "r3xkRhS8lHd6",
        "outputId": "2833d575-b35f-462d-9cca-7427b02cca60"
      },
      "execution_count": 77,
      "outputs": [
        {
          "output_type": "stream",
          "name": "stdout",
          "text": [
            "Model: \"model_6_USE\"\n",
            "_________________________________________________________________\n",
            " Layer (type)                Output Shape              Param #   \n",
            "=================================================================\n",
            " USE (KerasLayer)            (None, 512)               256797824 \n",
            "                                                                 \n",
            " dense_6 (Dense)             (None, 64)                32832     \n",
            "                                                                 \n",
            " dense_7 (Dense)             (None, 1)                 65        \n",
            "                                                                 \n",
            "=================================================================\n",
            "Total params: 256830721 (979.73 MB)\n",
            "Trainable params: 32897 (128.50 KB)\n",
            "Non-trainable params: 256797824 (979.61 MB)\n",
            "_________________________________________________________________\n"
          ]
        }
      ]
    },
    {
      "cell_type": "code",
      "source": [
        "# Train a classifier on top of pretrained embeddings\n",
        "model_6_history = model_6.fit(train_sentances,\n",
        "                              train_labels,\n",
        "                              epochs=5,\n",
        "                              validation_data=(val_sentances, val_labels))"
      ],
      "metadata": {
        "colab": {
          "base_uri": "https://localhost:8080/"
        },
        "id": "soBh-L7JlX1E",
        "outputId": "c6aae727-a807-4a0d-f4d5-13ce6a287818"
      },
      "execution_count": 78,
      "outputs": [
        {
          "output_type": "stream",
          "name": "stdout",
          "text": [
            "Epoch 1/5\n",
            "1407/1407 [==============================] - 52s 34ms/step - loss: 0.2878 - accuracy: 0.8739 - val_loss: 0.2575 - val_accuracy: 0.8916\n",
            "Epoch 2/5\n",
            "1407/1407 [==============================] - 46s 33ms/step - loss: 0.2557 - accuracy: 0.8896 - val_loss: 0.2529 - val_accuracy: 0.8940\n",
            "Epoch 3/5\n",
            "1407/1407 [==============================] - 47s 33ms/step - loss: 0.2493 - accuracy: 0.8924 - val_loss: 0.2474 - val_accuracy: 0.8960\n",
            "Epoch 4/5\n",
            "1407/1407 [==============================] - 52s 37ms/step - loss: 0.2433 - accuracy: 0.8956 - val_loss: 0.2461 - val_accuracy: 0.8996\n",
            "Epoch 5/5\n",
            "1407/1407 [==============================] - 47s 33ms/step - loss: 0.2376 - accuracy: 0.8982 - val_loss: 0.2410 - val_accuracy: 0.8962\n"
          ]
        }
      ]
    },
    {
      "cell_type": "code",
      "source": [
        "# Make predictions with USE TF Hub model\n",
        "model_6_pred_probs = model_6.predict(val_sentances)\n",
        "model_6_preds = tf.squeeze(tf.round(model_6_pred_probs))\n",
        "model_6_preds"
      ],
      "metadata": {
        "colab": {
          "base_uri": "https://localhost:8080/"
        },
        "id": "CKEr9Evglm3_",
        "outputId": "1ea633ca-d0b6-4448-bbce-7da078127029"
      },
      "execution_count": 79,
      "outputs": [
        {
          "output_type": "stream",
          "name": "stdout",
          "text": [
            "157/157 [==============================] - 4s 23ms/step\n"
          ]
        },
        {
          "output_type": "execute_result",
          "data": {
            "text/plain": [
              "<tf.Tensor: shape=(5000,), dtype=float32, numpy=array([1., 1., 1., ..., 1., 1., 1.], dtype=float32)>"
            ]
          },
          "metadata": {},
          "execution_count": 79
        }
      ]
    },
    {
      "cell_type": "code",
      "source": [
        "# Calculate model 6 performance metrics\n",
        "model_6_results = calculate_results(val_labels, model_6_preds)\n",
        "model_6_results"
      ],
      "metadata": {
        "colab": {
          "base_uri": "https://localhost:8080/"
        },
        "id": "DSMmgHE9mOyT",
        "outputId": "82ddb6c6-db6b-4806-8718-cb575660de31"
      },
      "execution_count": 80,
      "outputs": [
        {
          "output_type": "execute_result",
          "data": {
            "text/plain": [
              "{'accuracy': 89.62,\n",
              " 'precision': 0.8937475750287,\n",
              " 'recall': 0.8962,\n",
              " 'f1': 0.8944811486131653}"
            ]
          },
          "metadata": {},
          "execution_count": 80
        }
      ]
    },
    {
      "cell_type": "markdown",
      "source": [
        "# Model 7: 10 percent data on model6"
      ],
      "metadata": {
        "id": "K6SE2APwmbik"
      }
    },
    {
      "cell_type": "code",
      "source": [
        "import numpy as np\n",
        "train_sentences_90_percent, train_sentences_10_percent, train_labels_90_percent, train_labels_10_percent = train_test_split(np.array(train_sentances),\n",
        "                                                                                                                            train_labels,\n",
        "                                                                                                                            test_size=0.1,\n",
        "                                                                                                                            random_state=42)"
      ],
      "metadata": {
        "id": "-FkXutm6menw"
      },
      "execution_count": 81,
      "outputs": []
    },
    {
      "cell_type": "code",
      "source": [
        "len(train_sentences_10_percent),len(train_labels_10_percent)"
      ],
      "metadata": {
        "colab": {
          "base_uri": "https://localhost:8080/"
        },
        "id": "iFG8c8WZm9FT",
        "outputId": "2cbb7b3a-3faf-40ff-c62f-0659cc116668"
      },
      "execution_count": 82,
      "outputs": [
        {
          "output_type": "execute_result",
          "data": {
            "text/plain": [
              "(4500, 4500)"
            ]
          },
          "metadata": {},
          "execution_count": 82
        }
      ]
    },
    {
      "cell_type": "code",
      "source": [
        "len(train_sentences_90_percent)"
      ],
      "metadata": {
        "colab": {
          "base_uri": "https://localhost:8080/"
        },
        "id": "DE066CPpnE6c",
        "outputId": "2f0d0e6d-7e80-4811-9cd9-fc084b95c68b"
      },
      "execution_count": 83,
      "outputs": [
        {
          "output_type": "execute_result",
          "data": {
            "text/plain": [
              "40500"
            ]
          },
          "metadata": {},
          "execution_count": 83
        }
      ]
    },
    {
      "cell_type": "code",
      "source": [
        "import pandas as pd\n",
        "pd.Series(train_labels_10_percent).value_counts()"
      ],
      "metadata": {
        "colab": {
          "base_uri": "https://localhost:8080/"
        },
        "id": "Mgzxj5M5nIBg",
        "outputId": "e4348013-9ebe-4e80-8ce3-1d6f72fa1e4f"
      },
      "execution_count": 84,
      "outputs": [
        {
          "output_type": "execute_result",
          "data": {
            "text/plain": [
              "1    3419\n",
              "0    1081\n",
              "dtype: int64"
            ]
          },
          "metadata": {},
          "execution_count": 84
        }
      ]
    },
    {
      "cell_type": "code",
      "source": [
        "\n",
        "model_7 = tf.keras.models.clone_model(model_6)\n",
        "\n",
        "# Compile model\n",
        "model_7.compile(loss=\"binary_crossentropy\",\n",
        "                optimizer=tf.keras.optimizers.Adam(),\n",
        "                metrics=[\"accuracy\"])\n",
        "\n",
        "model_7.summary()"
      ],
      "metadata": {
        "colab": {
          "base_uri": "https://localhost:8080/"
        },
        "id": "qdjbEjl7nT2p",
        "outputId": "9ee0a44f-5079-47dd-f16d-d77d8f9d727b"
      },
      "execution_count": 85,
      "outputs": [
        {
          "output_type": "stream",
          "name": "stdout",
          "text": [
            "Model: \"model_6_USE\"\n",
            "_________________________________________________________________\n",
            " Layer (type)                Output Shape              Param #   \n",
            "=================================================================\n",
            " USE (KerasLayer)            (None, 512)               256797824 \n",
            "                                                                 \n",
            " dense_6 (Dense)             (None, 64)                32832     \n",
            "                                                                 \n",
            " dense_7 (Dense)             (None, 1)                 65        \n",
            "                                                                 \n",
            "=================================================================\n",
            "Total params: 256830721 (979.73 MB)\n",
            "Trainable params: 32897 (128.50 KB)\n",
            "Non-trainable params: 256797824 (979.61 MB)\n",
            "_________________________________________________________________\n"
          ]
        }
      ]
    },
    {
      "cell_type": "code",
      "source": [
        "# Fit the model to 10% of the training data\n",
        "model_7_history = model_7.fit(x=train_sentences_10_percent,\n",
        "                              y=train_labels_10_percent,\n",
        "                              epochs=5,\n",
        "                              validation_data=(val_sentances, val_labels),)"
      ],
      "metadata": {
        "colab": {
          "base_uri": "https://localhost:8080/"
        },
        "id": "_wayK_I2ncdn",
        "outputId": "d2bd73f8-1a2a-411c-ccd2-e24468d2c435"
      },
      "execution_count": 86,
      "outputs": [
        {
          "output_type": "stream",
          "name": "stdout",
          "text": [
            "Epoch 1/5\n",
            "141/141 [==============================] - 12s 64ms/step - loss: 0.4550 - accuracy: 0.7911 - val_loss: 0.3298 - val_accuracy: 0.8538\n",
            "Epoch 2/5\n",
            "141/141 [==============================] - 10s 73ms/step - loss: 0.2916 - accuracy: 0.8804 - val_loss: 0.2773 - val_accuracy: 0.8814\n",
            "Epoch 3/5\n",
            "141/141 [==============================] - 14s 97ms/step - loss: 0.2619 - accuracy: 0.8940 - val_loss: 0.2724 - val_accuracy: 0.8794\n",
            "Epoch 4/5\n",
            "141/141 [==============================] - 7s 49ms/step - loss: 0.2521 - accuracy: 0.8984 - val_loss: 0.2703 - val_accuracy: 0.8820\n",
            "Epoch 5/5\n",
            "141/141 [==============================] - 11s 78ms/step - loss: 0.2455 - accuracy: 0.8993 - val_loss: 0.2684 - val_accuracy: 0.8816\n"
          ]
        }
      ]
    },
    {
      "cell_type": "code",
      "source": [
        "# Make predictions with the model trained on 10% of the data\n",
        "model_7_pred_probs = model_7.predict(val_sentances)\n",
        "model_7_preds = tf.squeeze(tf.round(model_7_pred_probs))\n",
        "model_7_preds"
      ],
      "metadata": {
        "colab": {
          "base_uri": "https://localhost:8080/"
        },
        "id": "1N4miqQIngrm",
        "outputId": "06b2e30b-f865-403b-e703-cc6231491d8f"
      },
      "execution_count": 87,
      "outputs": [
        {
          "output_type": "stream",
          "name": "stdout",
          "text": [
            "157/157 [==============================] - 4s 24ms/step\n"
          ]
        },
        {
          "output_type": "execute_result",
          "data": {
            "text/plain": [
              "<tf.Tensor: shape=(5000,), dtype=float32, numpy=array([1., 1., 1., ..., 1., 1., 1.], dtype=float32)>"
            ]
          },
          "metadata": {},
          "execution_count": 87
        }
      ]
    },
    {
      "cell_type": "code",
      "source": [
        "model_7_results = calculate_results(val_labels, model_7_preds)\n",
        "model_7_results"
      ],
      "metadata": {
        "colab": {
          "base_uri": "https://localhost:8080/"
        },
        "id": "nlniAGUhnsQS",
        "outputId": "1ee0476a-f541-435b-ff38-7f86a925cd22"
      },
      "execution_count": 88,
      "outputs": [
        {
          "output_type": "execute_result",
          "data": {
            "text/plain": [
              "{'accuracy': 88.16000000000001,\n",
              " 'precision': 0.87781968440438,\n",
              " 'recall': 0.8816,\n",
              " 'f1': 0.8787209385276256}"
            ]
          },
          "metadata": {},
          "execution_count": 88
        }
      ]
    },
    {
      "cell_type": "markdown",
      "source": [
        "# Model 8:BERT Model"
      ],
      "metadata": {
        "id": "MTx3Y4PM3uc3"
      }
    },
    {
      "cell_type": "code",
      "source": [
        "# !pip install tensorflow_text"
      ],
      "metadata": {
        "id": "seaPl9nX4NjL"
      },
      "execution_count": 89,
      "outputs": []
    },
    {
      "cell_type": "code",
      "source": [
        "# import tensorflow_hub as hub\n",
        "# # import tensorflow_text as text\n",
        "\n",
        "# https://tfhub.dev/tensorflow/bert_en_uncased_L-12_H-768_A-12/4\n",
        "\n",
        "bert_preprocess = hub.KerasLayer(\"https://tfhub.dev/tensorflow/bert_en_uncased_preprocess/3\")\n",
        "bert_encoder = hub.KerasLayer(\"https://tfhub.dev/tensorflow/bert_en_uncased_L-12_H-768_A-12/4\")"
      ],
      "metadata": {
        "id": "YFp-JE7q3uuy"
      },
      "execution_count": 90,
      "outputs": []
    },
    {
      "cell_type": "code",
      "source": [
        "def sentence_embedding(sentences):\n",
        "  preprocessed_text = bert_preprocess(sentences)\n",
        "  return bert_encoder(preprocessed_text)['pooled_output']"
      ],
      "metadata": {
        "id": "lMGsk6OY3u5w"
      },
      "execution_count": 91,
      "outputs": []
    },
    {
      "cell_type": "code",
      "source": [
        "# Bert layer\n",
        "inputs = tf.keras.layers.Input(shape =(), dtype = tf.string,name = 'text')\n",
        "preprocess_layer = bert_preprocess(inputs)\n",
        "\n",
        "outputs = bert_encoder(preprocess_layer)\n",
        "\n",
        "x = layers.Dropout(0.2, name = \"dropout_1\")(outputs['pooled_output'])\n",
        "x = layers.Dense(1, activation='sigmoid', name = 'output')(x)\n",
        "\n",
        "\n",
        "BERT_model = tf.keras.Model(inputs=[inputs],outputs = [x])"
      ],
      "metadata": {
        "id": "byAM2nta3wXw"
      },
      "execution_count": 92,
      "outputs": []
    },
    {
      "cell_type": "code",
      "source": [
        "BERT_model.summary()"
      ],
      "metadata": {
        "colab": {
          "base_uri": "https://localhost:8080/"
        },
        "id": "QqMjtHqaAZjO",
        "outputId": "822eb064-4f89-4047-8215-c9b5a4130608"
      },
      "execution_count": 93,
      "outputs": [
        {
          "output_type": "stream",
          "name": "stdout",
          "text": [
            "Model: \"model\"\n",
            "__________________________________________________________________________________________________\n",
            " Layer (type)                Output Shape                 Param #   Connected to                  \n",
            "==================================================================================================\n",
            " text (InputLayer)           [(None,)]                    0         []                            \n",
            "                                                                                                  \n",
            " keras_layer (KerasLayer)    {'input_type_ids': (None,    0         ['text[0][0]']                \n",
            "                             128),                                                                \n",
            "                              'input_mask': (None, 128)                                           \n",
            "                             , 'input_word_ids': (None,                                           \n",
            "                              128)}                                                               \n",
            "                                                                                                  \n",
            " keras_layer_1 (KerasLayer)  {'pooled_output': (None, 7   1094822   ['keras_layer[0][0]',         \n",
            "                             68),                         41         'keras_layer[0][1]',         \n",
            "                              'sequence_output': (None,              'keras_layer[0][2]']         \n",
            "                              128, 768),                                                          \n",
            "                              'encoder_outputs': [(None                                           \n",
            "                             , 128, 768),                                                         \n",
            "                              (None, 128, 768),                                                   \n",
            "                              (None, 128, 768),                                                   \n",
            "                              (None, 128, 768),                                                   \n",
            "                              (None, 128, 768),                                                   \n",
            "                              (None, 128, 768),                                                   \n",
            "                              (None, 128, 768),                                                   \n",
            "                              (None, 128, 768),                                                   \n",
            "                              (None, 128, 768),                                                   \n",
            "                              (None, 128, 768),                                                   \n",
            "                              (None, 128, 768),                                                   \n",
            "                              (None, 128, 768)],                                                  \n",
            "                              'default': (None, 768)}                                             \n",
            "                                                                                                  \n",
            " dropout_1 (Dropout)         (None, 768)                  0         ['keras_layer_1[0][13]']      \n",
            "                                                                                                  \n",
            " output (Dense)              (None, 1)                    769       ['dropout_1[0][0]']           \n",
            "                                                                                                  \n",
            "==================================================================================================\n",
            "Total params: 109483010 (417.64 MB)\n",
            "Trainable params: 769 (3.00 KB)\n",
            "Non-trainable params: 109482241 (417.64 MB)\n",
            "__________________________________________________________________________________________________\n"
          ]
        }
      ]
    },
    {
      "cell_type": "code",
      "source": [
        "# compile a model\n",
        "BERT_model.compile(loss = 'binary_crossentropy',\n",
        "                   optimizer = tf.keras.optimizers.Adam(),\n",
        "                   metrics=['accuracy'])"
      ],
      "metadata": {
        "id": "l9libEjoAwNj"
      },
      "execution_count": 94,
      "outputs": []
    },
    {
      "cell_type": "code",
      "source": [
        "import numpy as np\n",
        "train_sentences_80_percent, train_sentences_20_percent, train_labels_80_percent, train_labels_20_percent = train_test_split(np.array(train_sentances),\n",
        "                                                                                                                            train_labels,\n",
        "                                                                                                                            test_size=0.2,\n",
        "                                                                                                                            random_state=42)"
      ],
      "metadata": {
        "id": "FQyyouc35Act"
      },
      "execution_count": 95,
      "outputs": []
    },
    {
      "cell_type": "code",
      "source": [
        "len(train_sentences_20_percent)"
      ],
      "metadata": {
        "colab": {
          "base_uri": "https://localhost:8080/"
        },
        "id": "onPwLTkN5RJF",
        "outputId": "86420769-1e9a-453f-bac9-9e9a9d12d22c"
      },
      "execution_count": 96,
      "outputs": [
        {
          "output_type": "execute_result",
          "data": {
            "text/plain": [
              "9000"
            ]
          },
          "metadata": {},
          "execution_count": 96
        }
      ]
    },
    {
      "cell_type": "code",
      "source": [
        "#fit the model\n",
        "Bert_model_history = BERT_model.fit(train_sentences_20_percent,\n",
        "                              train_labels_20_percent,\n",
        "                              epochs=16,\n",
        "                              validation_data=(val_sentances, val_labels))"
      ],
      "metadata": {
        "colab": {
          "base_uri": "https://localhost:8080/"
        },
        "id": "SKwLZ5fiAwGR",
        "outputId": "856850ac-4beb-4a5d-f24f-1b39218667e9"
      },
      "execution_count": 97,
      "outputs": [
        {
          "output_type": "stream",
          "name": "stdout",
          "text": [
            "Epoch 1/16\n",
            "282/282 [==============================] - 163s 538ms/step - loss: 0.5309 - accuracy: 0.7631 - val_loss: 0.4763 - val_accuracy: 0.7706\n",
            "Epoch 2/16\n",
            "282/282 [==============================] - 183s 650ms/step - loss: 0.4834 - accuracy: 0.7746 - val_loss: 0.4477 - val_accuracy: 0.7742\n",
            "Epoch 3/16\n",
            "282/282 [==============================] - 182s 647ms/step - loss: 0.4582 - accuracy: 0.7819 - val_loss: 0.4254 - val_accuracy: 0.7858\n",
            "Epoch 4/16\n",
            "282/282 [==============================] - 182s 647ms/step - loss: 0.4418 - accuracy: 0.7910 - val_loss: 0.4066 - val_accuracy: 0.8066\n",
            "Epoch 5/16\n",
            "282/282 [==============================] - 182s 646ms/step - loss: 0.4283 - accuracy: 0.7968 - val_loss: 0.3941 - val_accuracy: 0.8154\n",
            "Epoch 6/16\n",
            "282/282 [==============================] - 182s 647ms/step - loss: 0.4263 - accuracy: 0.7983 - val_loss: 0.4303 - val_accuracy: 0.7768\n",
            "Epoch 7/16\n",
            "282/282 [==============================] - 156s 554ms/step - loss: 0.4152 - accuracy: 0.8038 - val_loss: 0.3786 - val_accuracy: 0.8242\n",
            "Epoch 8/16\n",
            "282/282 [==============================] - 183s 651ms/step - loss: 0.4069 - accuracy: 0.8150 - val_loss: 0.3961 - val_accuracy: 0.8502\n",
            "Epoch 9/16\n",
            "282/282 [==============================] - 158s 562ms/step - loss: 0.4048 - accuracy: 0.8091 - val_loss: 0.3692 - val_accuracy: 0.8378\n",
            "Epoch 10/16\n",
            "282/282 [==============================] - 186s 660ms/step - loss: 0.3986 - accuracy: 0.8150 - val_loss: 0.3809 - val_accuracy: 0.8008\n",
            "Epoch 11/16\n",
            "282/282 [==============================] - 187s 663ms/step - loss: 0.3993 - accuracy: 0.8143 - val_loss: 0.3639 - val_accuracy: 0.8192\n",
            "Epoch 12/16\n",
            "282/282 [==============================] - 188s 666ms/step - loss: 0.3912 - accuracy: 0.8204 - val_loss: 0.3543 - val_accuracy: 0.8346\n",
            "Epoch 13/16\n",
            "282/282 [==============================] - 163s 577ms/step - loss: 0.3921 - accuracy: 0.8182 - val_loss: 0.3526 - val_accuracy: 0.8510\n",
            "Epoch 14/16\n",
            "282/282 [==============================] - 161s 573ms/step - loss: 0.3888 - accuracy: 0.8234 - val_loss: 0.3674 - val_accuracy: 0.8130\n",
            "Epoch 15/16\n",
            "282/282 [==============================] - 187s 666ms/step - loss: 0.3854 - accuracy: 0.8247 - val_loss: 0.3462 - val_accuracy: 0.8512\n",
            "Epoch 16/16\n",
            "282/282 [==============================] - 182s 647ms/step - loss: 0.3877 - accuracy: 0.8191 - val_loss: 0.3438 - val_accuracy: 0.8468\n"
          ]
        }
      ]
    },
    {
      "cell_type": "code",
      "source": [
        "BERT_model_pred_probs = BERT_model.predict(val_sentances)\n",
        "BERT_model_pred = tf.squeeze(tf.round(BERT_model_pred_probs))\n",
        "BERT_model_pred"
      ],
      "metadata": {
        "id": "e5x1pz_RAv9_",
        "colab": {
          "base_uri": "https://localhost:8080/"
        },
        "outputId": "2dfc9306-9288-4ef2-acbd-742ff8a6e057"
      },
      "execution_count": 98,
      "outputs": [
        {
          "output_type": "stream",
          "name": "stdout",
          "text": [
            "157/157 [==============================] - 56s 348ms/step\n"
          ]
        },
        {
          "output_type": "execute_result",
          "data": {
            "text/plain": [
              "<tf.Tensor: shape=(5000,), dtype=float32, numpy=array([1., 1., 1., ..., 1., 1., 1.], dtype=float32)>"
            ]
          },
          "metadata": {},
          "execution_count": 98
        }
      ]
    },
    {
      "cell_type": "code",
      "source": [
        "BERT_results = calculate_results(val_labels,BERT_model_pred)"
      ],
      "metadata": {
        "id": "f9vymiM2Av1J"
      },
      "execution_count": 99,
      "outputs": []
    },
    {
      "cell_type": "markdown",
      "source": [
        "# Compare the all results"
      ],
      "metadata": {
        "id": "Ux0unW8pnvp5"
      }
    },
    {
      "cell_type": "code",
      "source": [
        "# Combine model results into a DataFrame\n",
        "all_results_models = pd.DataFrame({\"0_baseline\": baseline_results,\n",
        "                                  \"1_simple_dense\": model_1_results,\n",
        "                                  \"2_lstm\": model_2_results,\n",
        "                                  \"3_gru\": model_3_results,\n",
        "                                  \"4_bidirectional\": model_4_results,\n",
        "                                  \"5_conv1d\": model_5_results,\n",
        "                                  \"6_tf_hub_sentence_encoder\": model_6_results,\n",
        "                                  \"7_tf_hub_10_percent_data\": model_7_results,\n",
        "                                   \"BERT_model\":BERT_results})\n",
        "all_results_models = all_results_models.transpose()\n",
        "all_results_models"
      ],
      "metadata": {
        "colab": {
          "base_uri": "https://localhost:8080/",
          "height": 332
        },
        "id": "60mx8m5enzUX",
        "outputId": "a1fa9109-1c72-46e4-d60a-59c13a0d6595"
      },
      "execution_count": 100,
      "outputs": [
        {
          "output_type": "execute_result",
          "data": {
            "text/plain": [
              "                           accuracy  precision  recall        f1\n",
              "0_baseline                    79.78   0.833827  0.7978  0.730897\n",
              "1_simple_dense                89.54   0.892302  0.8954  0.892720\n",
              "2_lstm                        88.60   0.888582  0.8860  0.887102\n",
              "3_gru                         88.40   0.884143  0.8840  0.884071\n",
              "4_bidirectional               88.46   0.884707  0.8846  0.884653\n",
              "5_conv1d                      88.28   0.883165  0.8828  0.882978\n",
              "6_tf_hub_sentence_encoder     89.62   0.893748  0.8962  0.894481\n",
              "7_tf_hub_10_percent_data      88.16   0.877820  0.8816  0.878721\n",
              "BERT_model                    84.68   0.842094  0.8468  0.828810"
            ],
            "text/html": [
              "\n",
              "\n",
              "  <div id=\"df-2c0d9927-42d0-4387-a4a3-2f5bc600133d\">\n",
              "    <div class=\"colab-df-container\">\n",
              "      <div>\n",
              "<style scoped>\n",
              "    .dataframe tbody tr th:only-of-type {\n",
              "        vertical-align: middle;\n",
              "    }\n",
              "\n",
              "    .dataframe tbody tr th {\n",
              "        vertical-align: top;\n",
              "    }\n",
              "\n",
              "    .dataframe thead th {\n",
              "        text-align: right;\n",
              "    }\n",
              "</style>\n",
              "<table border=\"1\" class=\"dataframe\">\n",
              "  <thead>\n",
              "    <tr style=\"text-align: right;\">\n",
              "      <th></th>\n",
              "      <th>accuracy</th>\n",
              "      <th>precision</th>\n",
              "      <th>recall</th>\n",
              "      <th>f1</th>\n",
              "    </tr>\n",
              "  </thead>\n",
              "  <tbody>\n",
              "    <tr>\n",
              "      <th>0_baseline</th>\n",
              "      <td>79.78</td>\n",
              "      <td>0.833827</td>\n",
              "      <td>0.7978</td>\n",
              "      <td>0.730897</td>\n",
              "    </tr>\n",
              "    <tr>\n",
              "      <th>1_simple_dense</th>\n",
              "      <td>89.54</td>\n",
              "      <td>0.892302</td>\n",
              "      <td>0.8954</td>\n",
              "      <td>0.892720</td>\n",
              "    </tr>\n",
              "    <tr>\n",
              "      <th>2_lstm</th>\n",
              "      <td>88.60</td>\n",
              "      <td>0.888582</td>\n",
              "      <td>0.8860</td>\n",
              "      <td>0.887102</td>\n",
              "    </tr>\n",
              "    <tr>\n",
              "      <th>3_gru</th>\n",
              "      <td>88.40</td>\n",
              "      <td>0.884143</td>\n",
              "      <td>0.8840</td>\n",
              "      <td>0.884071</td>\n",
              "    </tr>\n",
              "    <tr>\n",
              "      <th>4_bidirectional</th>\n",
              "      <td>88.46</td>\n",
              "      <td>0.884707</td>\n",
              "      <td>0.8846</td>\n",
              "      <td>0.884653</td>\n",
              "    </tr>\n",
              "    <tr>\n",
              "      <th>5_conv1d</th>\n",
              "      <td>88.28</td>\n",
              "      <td>0.883165</td>\n",
              "      <td>0.8828</td>\n",
              "      <td>0.882978</td>\n",
              "    </tr>\n",
              "    <tr>\n",
              "      <th>6_tf_hub_sentence_encoder</th>\n",
              "      <td>89.62</td>\n",
              "      <td>0.893748</td>\n",
              "      <td>0.8962</td>\n",
              "      <td>0.894481</td>\n",
              "    </tr>\n",
              "    <tr>\n",
              "      <th>7_tf_hub_10_percent_data</th>\n",
              "      <td>88.16</td>\n",
              "      <td>0.877820</td>\n",
              "      <td>0.8816</td>\n",
              "      <td>0.878721</td>\n",
              "    </tr>\n",
              "    <tr>\n",
              "      <th>BERT_model</th>\n",
              "      <td>84.68</td>\n",
              "      <td>0.842094</td>\n",
              "      <td>0.8468</td>\n",
              "      <td>0.828810</td>\n",
              "    </tr>\n",
              "  </tbody>\n",
              "</table>\n",
              "</div>\n",
              "      <button class=\"colab-df-convert\" onclick=\"convertToInteractive('df-2c0d9927-42d0-4387-a4a3-2f5bc600133d')\"\n",
              "              title=\"Convert this dataframe to an interactive table.\"\n",
              "              style=\"display:none;\">\n",
              "\n",
              "  <svg xmlns=\"http://www.w3.org/2000/svg\" height=\"24px\"viewBox=\"0 0 24 24\"\n",
              "       width=\"24px\">\n",
              "    <path d=\"M0 0h24v24H0V0z\" fill=\"none\"/>\n",
              "    <path d=\"M18.56 5.44l.94 2.06.94-2.06 2.06-.94-2.06-.94-.94-2.06-.94 2.06-2.06.94zm-11 1L8.5 8.5l.94-2.06 2.06-.94-2.06-.94L8.5 2.5l-.94 2.06-2.06.94zm10 10l.94 2.06.94-2.06 2.06-.94-2.06-.94-.94-2.06-.94 2.06-2.06.94z\"/><path d=\"M17.41 7.96l-1.37-1.37c-.4-.4-.92-.59-1.43-.59-.52 0-1.04.2-1.43.59L10.3 9.45l-7.72 7.72c-.78.78-.78 2.05 0 2.83L4 21.41c.39.39.9.59 1.41.59.51 0 1.02-.2 1.41-.59l7.78-7.78 2.81-2.81c.8-.78.8-2.07 0-2.86zM5.41 20L4 18.59l7.72-7.72 1.47 1.35L5.41 20z\"/>\n",
              "  </svg>\n",
              "      </button>\n",
              "\n",
              "\n",
              "\n",
              "    <div id=\"df-e0300872-1678-4cd3-bed9-0e1c685e72bd\">\n",
              "      <button class=\"colab-df-quickchart\" onclick=\"quickchart('df-e0300872-1678-4cd3-bed9-0e1c685e72bd')\"\n",
              "              title=\"Suggest charts.\"\n",
              "              style=\"display:none;\">\n",
              "\n",
              "<svg xmlns=\"http://www.w3.org/2000/svg\" height=\"24px\"viewBox=\"0 0 24 24\"\n",
              "     width=\"24px\">\n",
              "    <g>\n",
              "        <path d=\"M19 3H5c-1.1 0-2 .9-2 2v14c0 1.1.9 2 2 2h14c1.1 0 2-.9 2-2V5c0-1.1-.9-2-2-2zM9 17H7v-7h2v7zm4 0h-2V7h2v10zm4 0h-2v-4h2v4z\"/>\n",
              "    </g>\n",
              "</svg>\n",
              "      </button>\n",
              "    </div>\n",
              "\n",
              "<style>\n",
              "  .colab-df-quickchart {\n",
              "    background-color: #E8F0FE;\n",
              "    border: none;\n",
              "    border-radius: 50%;\n",
              "    cursor: pointer;\n",
              "    display: none;\n",
              "    fill: #1967D2;\n",
              "    height: 32px;\n",
              "    padding: 0 0 0 0;\n",
              "    width: 32px;\n",
              "  }\n",
              "\n",
              "  .colab-df-quickchart:hover {\n",
              "    background-color: #E2EBFA;\n",
              "    box-shadow: 0px 1px 2px rgba(60, 64, 67, 0.3), 0px 1px 3px 1px rgba(60, 64, 67, 0.15);\n",
              "    fill: #174EA6;\n",
              "  }\n",
              "\n",
              "  [theme=dark] .colab-df-quickchart {\n",
              "    background-color: #3B4455;\n",
              "    fill: #D2E3FC;\n",
              "  }\n",
              "\n",
              "  [theme=dark] .colab-df-quickchart:hover {\n",
              "    background-color: #434B5C;\n",
              "    box-shadow: 0px 1px 3px 1px rgba(0, 0, 0, 0.15);\n",
              "    filter: drop-shadow(0px 1px 2px rgba(0, 0, 0, 0.3));\n",
              "    fill: #FFFFFF;\n",
              "  }\n",
              "</style>\n",
              "\n",
              "    <script>\n",
              "      async function quickchart(key) {\n",
              "        const containerElement = document.querySelector('#' + key);\n",
              "        const charts = await google.colab.kernel.invokeFunction(\n",
              "            'suggestCharts', [key], {});\n",
              "      }\n",
              "    </script>\n",
              "\n",
              "      <script>\n",
              "\n",
              "function displayQuickchartButton(domScope) {\n",
              "  let quickchartButtonEl =\n",
              "    domScope.querySelector('#df-e0300872-1678-4cd3-bed9-0e1c685e72bd button.colab-df-quickchart');\n",
              "  quickchartButtonEl.style.display =\n",
              "    google.colab.kernel.accessAllowed ? 'block' : 'none';\n",
              "}\n",
              "\n",
              "        displayQuickchartButton(document);\n",
              "      </script>\n",
              "      <style>\n",
              "    .colab-df-container {\n",
              "      display:flex;\n",
              "      flex-wrap:wrap;\n",
              "      gap: 12px;\n",
              "    }\n",
              "\n",
              "    .colab-df-convert {\n",
              "      background-color: #E8F0FE;\n",
              "      border: none;\n",
              "      border-radius: 50%;\n",
              "      cursor: pointer;\n",
              "      display: none;\n",
              "      fill: #1967D2;\n",
              "      height: 32px;\n",
              "      padding: 0 0 0 0;\n",
              "      width: 32px;\n",
              "    }\n",
              "\n",
              "    .colab-df-convert:hover {\n",
              "      background-color: #E2EBFA;\n",
              "      box-shadow: 0px 1px 2px rgba(60, 64, 67, 0.3), 0px 1px 3px 1px rgba(60, 64, 67, 0.15);\n",
              "      fill: #174EA6;\n",
              "    }\n",
              "\n",
              "    [theme=dark] .colab-df-convert {\n",
              "      background-color: #3B4455;\n",
              "      fill: #D2E3FC;\n",
              "    }\n",
              "\n",
              "    [theme=dark] .colab-df-convert:hover {\n",
              "      background-color: #434B5C;\n",
              "      box-shadow: 0px 1px 3px 1px rgba(0, 0, 0, 0.15);\n",
              "      filter: drop-shadow(0px 1px 2px rgba(0, 0, 0, 0.3));\n",
              "      fill: #FFFFFF;\n",
              "    }\n",
              "  </style>\n",
              "\n",
              "      <script>\n",
              "        const buttonEl =\n",
              "          document.querySelector('#df-2c0d9927-42d0-4387-a4a3-2f5bc600133d button.colab-df-convert');\n",
              "        buttonEl.style.display =\n",
              "          google.colab.kernel.accessAllowed ? 'block' : 'none';\n",
              "\n",
              "        async function convertToInteractive(key) {\n",
              "          const element = document.querySelector('#df-2c0d9927-42d0-4387-a4a3-2f5bc600133d');\n",
              "          const dataTable =\n",
              "            await google.colab.kernel.invokeFunction('convertToInteractive',\n",
              "                                                     [key], {});\n",
              "          if (!dataTable) return;\n",
              "\n",
              "          const docLinkHtml = 'Like what you see? Visit the ' +\n",
              "            '<a target=\"_blank\" href=https://colab.research.google.com/notebooks/data_table.ipynb>data table notebook</a>'\n",
              "            + ' to learn more about interactive tables.';\n",
              "          element.innerHTML = '';\n",
              "          dataTable['output_type'] = 'display_data';\n",
              "          await google.colab.output.renderOutput(dataTable, element);\n",
              "          const docLink = document.createElement('div');\n",
              "          docLink.innerHTML = docLinkHtml;\n",
              "          element.appendChild(docLink);\n",
              "        }\n",
              "      </script>\n",
              "    </div>\n",
              "  </div>\n"
            ]
          },
          "metadata": {},
          "execution_count": 100
        }
      ]
    },
    {
      "cell_type": "code",
      "source": [
        "pred_prob = BERT_model.predict([\"quality is bad\"])\n",
        "pred_prob[0][0]"
      ],
      "metadata": {
        "id": "lKpzkRlZKlY2",
        "outputId": "ef5c667a-4618-4b26-c976-f3520c652f94",
        "colab": {
          "base_uri": "https://localhost:8080/"
        }
      },
      "execution_count": 144,
      "outputs": [
        {
          "output_type": "stream",
          "name": "stdout",
          "text": [
            "1/1 [==============================] - 0s 79ms/step\n"
          ]
        },
        {
          "output_type": "execute_result",
          "data": {
            "text/plain": [
              "0.69756836"
            ]
          },
          "metadata": {},
          "execution_count": 144
        }
      ]
    },
    {
      "cell_type": "code",
      "source": [
        "# def predict_on_sentence(model, sentence):\n",
        "#   \"\"\"\n",
        "#   Uses model to make a prediction on sentence.\n",
        "\n",
        "#   Returns the sentence, the predicted label and the prediction probability.\n",
        "#   \"\"\"\n",
        "#   pred_prob = model.predict([sentence])\n",
        "#   pred_label = tf.squeeze(tf.round(pred_prob)).numpy()\n",
        "#   print(f\"Pred: {pred_label}\", \"Positive\" if pred_label > 0 else \"Negative\", f\"Prob: {pred_prob[0][0]}\")\n",
        "#   print(f\"Text:\\n{sentence}\")\n",
        "def predict_on_sentence(model, sentence):\n",
        "  pred_prob = model.predict([sentence], verbose = 0)\n",
        "  pred_label = tf.squeeze(tf.round(pred_prob)).numpy()\n",
        "\n",
        "  if pred_label > 0 :\n",
        "    return [\"Positive\",f\"{pred_prob[0][0]}\"]\n",
        "  else:\n",
        "    return [\"Negative\",f'{pred_prob[0][0]}']"
      ],
      "metadata": {
        "id": "F5E7-uAGoBqv"
      },
      "execution_count": 151,
      "outputs": []
    },
    {
      "cell_type": "code",
      "source": [
        "# predict_on_sentence(model_2, \"product was not bad \")"
      ],
      "metadata": {
        "id": "B10EzSkBpACE"
      },
      "execution_count": 152,
      "outputs": []
    },
    {
      "cell_type": "code",
      "source": [
        "text_sentance = \"Product quality is not bad!!!\""
      ],
      "metadata": {
        "id": "gzEuPYRvlONW"
      },
      "execution_count": 155,
      "outputs": []
    },
    {
      "cell_type": "code",
      "source": [
        "results_all = {\n",
        "    \"model_1_Simple_Dense \":predict_on_sentence(model_1, text_sentance),\n",
        "    \"model_2_LSTM\":predict_on_sentence(model_2, text_sentance),\n",
        "    \"model_3_GRU\":predict_on_sentence(model_3, text_sentance),\n",
        "    \"model_4_Bidirectional\":predict_on_sentence(model_4, text_sentance),\n",
        "    \"model_5_Conv1D\":predict_on_sentence(model_5, text_sentance),\n",
        "    \"model_6_pretrained\":predict_on_sentence(model_6, text_sentance),\n",
        "    \"model_7_pretrained_10%\":predict_on_sentence(model_7, text_sentance),\n",
        "    \"model_8_Bert\":predict_on_sentence(BERT_model, text_sentance),\n",
        "}\n",
        "\n",
        "column = ['Prediction','Probability']\n",
        "pd.DataFrame.from_dict(results_all, orient='index', columns=column)"
      ],
      "metadata": {
        "id": "WZOqTKI5pvaz",
        "colab": {
          "base_uri": "https://localhost:8080/",
          "height": 300
        },
        "outputId": "3e474aff-4967-42e1-c007-27146e0f1a5f"
      },
      "execution_count": 156,
      "outputs": [
        {
          "output_type": "execute_result",
          "data": {
            "text/plain": [
              "                       Prediction          Probability\n",
              "model_1_Simple_Dense     Negative  0.34135544300079346\n",
              "model_2_LSTM             Negative  0.19569820165634155\n",
              "model_3_GRU              Negative  0.18696321547031403\n",
              "model_4_Bidirectional    Positive   0.5759806632995605\n",
              "model_5_Conv1D           Negative   0.2628621459007263\n",
              "model_6_pretrained       Positive    0.593865156173706\n",
              "model_7_pretrained_10%   Negative   0.4179008901119232\n",
              "model_8_Bert             Positive   0.7517614960670471"
            ],
            "text/html": [
              "\n",
              "\n",
              "  <div id=\"df-43fb07c3-cd13-4709-95a6-e59710ad7ec4\">\n",
              "    <div class=\"colab-df-container\">\n",
              "      <div>\n",
              "<style scoped>\n",
              "    .dataframe tbody tr th:only-of-type {\n",
              "        vertical-align: middle;\n",
              "    }\n",
              "\n",
              "    .dataframe tbody tr th {\n",
              "        vertical-align: top;\n",
              "    }\n",
              "\n",
              "    .dataframe thead th {\n",
              "        text-align: right;\n",
              "    }\n",
              "</style>\n",
              "<table border=\"1\" class=\"dataframe\">\n",
              "  <thead>\n",
              "    <tr style=\"text-align: right;\">\n",
              "      <th></th>\n",
              "      <th>Prediction</th>\n",
              "      <th>Probability</th>\n",
              "    </tr>\n",
              "  </thead>\n",
              "  <tbody>\n",
              "    <tr>\n",
              "      <th>model_1_Simple_Dense</th>\n",
              "      <td>Negative</td>\n",
              "      <td>0.34135544300079346</td>\n",
              "    </tr>\n",
              "    <tr>\n",
              "      <th>model_2_LSTM</th>\n",
              "      <td>Negative</td>\n",
              "      <td>0.19569820165634155</td>\n",
              "    </tr>\n",
              "    <tr>\n",
              "      <th>model_3_GRU</th>\n",
              "      <td>Negative</td>\n",
              "      <td>0.18696321547031403</td>\n",
              "    </tr>\n",
              "    <tr>\n",
              "      <th>model_4_Bidirectional</th>\n",
              "      <td>Positive</td>\n",
              "      <td>0.5759806632995605</td>\n",
              "    </tr>\n",
              "    <tr>\n",
              "      <th>model_5_Conv1D</th>\n",
              "      <td>Negative</td>\n",
              "      <td>0.2628621459007263</td>\n",
              "    </tr>\n",
              "    <tr>\n",
              "      <th>model_6_pretrained</th>\n",
              "      <td>Positive</td>\n",
              "      <td>0.593865156173706</td>\n",
              "    </tr>\n",
              "    <tr>\n",
              "      <th>model_7_pretrained_10%</th>\n",
              "      <td>Negative</td>\n",
              "      <td>0.4179008901119232</td>\n",
              "    </tr>\n",
              "    <tr>\n",
              "      <th>model_8_Bert</th>\n",
              "      <td>Positive</td>\n",
              "      <td>0.7517614960670471</td>\n",
              "    </tr>\n",
              "  </tbody>\n",
              "</table>\n",
              "</div>\n",
              "      <button class=\"colab-df-convert\" onclick=\"convertToInteractive('df-43fb07c3-cd13-4709-95a6-e59710ad7ec4')\"\n",
              "              title=\"Convert this dataframe to an interactive table.\"\n",
              "              style=\"display:none;\">\n",
              "\n",
              "  <svg xmlns=\"http://www.w3.org/2000/svg\" height=\"24px\"viewBox=\"0 0 24 24\"\n",
              "       width=\"24px\">\n",
              "    <path d=\"M0 0h24v24H0V0z\" fill=\"none\"/>\n",
              "    <path d=\"M18.56 5.44l.94 2.06.94-2.06 2.06-.94-2.06-.94-.94-2.06-.94 2.06-2.06.94zm-11 1L8.5 8.5l.94-2.06 2.06-.94-2.06-.94L8.5 2.5l-.94 2.06-2.06.94zm10 10l.94 2.06.94-2.06 2.06-.94-2.06-.94-.94-2.06-.94 2.06-2.06.94z\"/><path d=\"M17.41 7.96l-1.37-1.37c-.4-.4-.92-.59-1.43-.59-.52 0-1.04.2-1.43.59L10.3 9.45l-7.72 7.72c-.78.78-.78 2.05 0 2.83L4 21.41c.39.39.9.59 1.41.59.51 0 1.02-.2 1.41-.59l7.78-7.78 2.81-2.81c.8-.78.8-2.07 0-2.86zM5.41 20L4 18.59l7.72-7.72 1.47 1.35L5.41 20z\"/>\n",
              "  </svg>\n",
              "      </button>\n",
              "\n",
              "\n",
              "\n",
              "    <div id=\"df-bf255528-166e-4ccf-a44f-c4b06d1ccbdc\">\n",
              "      <button class=\"colab-df-quickchart\" onclick=\"quickchart('df-bf255528-166e-4ccf-a44f-c4b06d1ccbdc')\"\n",
              "              title=\"Suggest charts.\"\n",
              "              style=\"display:none;\">\n",
              "\n",
              "<svg xmlns=\"http://www.w3.org/2000/svg\" height=\"24px\"viewBox=\"0 0 24 24\"\n",
              "     width=\"24px\">\n",
              "    <g>\n",
              "        <path d=\"M19 3H5c-1.1 0-2 .9-2 2v14c0 1.1.9 2 2 2h14c1.1 0 2-.9 2-2V5c0-1.1-.9-2-2-2zM9 17H7v-7h2v7zm4 0h-2V7h2v10zm4 0h-2v-4h2v4z\"/>\n",
              "    </g>\n",
              "</svg>\n",
              "      </button>\n",
              "    </div>\n",
              "\n",
              "<style>\n",
              "  .colab-df-quickchart {\n",
              "    background-color: #E8F0FE;\n",
              "    border: none;\n",
              "    border-radius: 50%;\n",
              "    cursor: pointer;\n",
              "    display: none;\n",
              "    fill: #1967D2;\n",
              "    height: 32px;\n",
              "    padding: 0 0 0 0;\n",
              "    width: 32px;\n",
              "  }\n",
              "\n",
              "  .colab-df-quickchart:hover {\n",
              "    background-color: #E2EBFA;\n",
              "    box-shadow: 0px 1px 2px rgba(60, 64, 67, 0.3), 0px 1px 3px 1px rgba(60, 64, 67, 0.15);\n",
              "    fill: #174EA6;\n",
              "  }\n",
              "\n",
              "  [theme=dark] .colab-df-quickchart {\n",
              "    background-color: #3B4455;\n",
              "    fill: #D2E3FC;\n",
              "  }\n",
              "\n",
              "  [theme=dark] .colab-df-quickchart:hover {\n",
              "    background-color: #434B5C;\n",
              "    box-shadow: 0px 1px 3px 1px rgba(0, 0, 0, 0.15);\n",
              "    filter: drop-shadow(0px 1px 2px rgba(0, 0, 0, 0.3));\n",
              "    fill: #FFFFFF;\n",
              "  }\n",
              "</style>\n",
              "\n",
              "    <script>\n",
              "      async function quickchart(key) {\n",
              "        const containerElement = document.querySelector('#' + key);\n",
              "        const charts = await google.colab.kernel.invokeFunction(\n",
              "            'suggestCharts', [key], {});\n",
              "      }\n",
              "    </script>\n",
              "\n",
              "      <script>\n",
              "\n",
              "function displayQuickchartButton(domScope) {\n",
              "  let quickchartButtonEl =\n",
              "    domScope.querySelector('#df-bf255528-166e-4ccf-a44f-c4b06d1ccbdc button.colab-df-quickchart');\n",
              "  quickchartButtonEl.style.display =\n",
              "    google.colab.kernel.accessAllowed ? 'block' : 'none';\n",
              "}\n",
              "\n",
              "        displayQuickchartButton(document);\n",
              "      </script>\n",
              "      <style>\n",
              "    .colab-df-container {\n",
              "      display:flex;\n",
              "      flex-wrap:wrap;\n",
              "      gap: 12px;\n",
              "    }\n",
              "\n",
              "    .colab-df-convert {\n",
              "      background-color: #E8F0FE;\n",
              "      border: none;\n",
              "      border-radius: 50%;\n",
              "      cursor: pointer;\n",
              "      display: none;\n",
              "      fill: #1967D2;\n",
              "      height: 32px;\n",
              "      padding: 0 0 0 0;\n",
              "      width: 32px;\n",
              "    }\n",
              "\n",
              "    .colab-df-convert:hover {\n",
              "      background-color: #E2EBFA;\n",
              "      box-shadow: 0px 1px 2px rgba(60, 64, 67, 0.3), 0px 1px 3px 1px rgba(60, 64, 67, 0.15);\n",
              "      fill: #174EA6;\n",
              "    }\n",
              "\n",
              "    [theme=dark] .colab-df-convert {\n",
              "      background-color: #3B4455;\n",
              "      fill: #D2E3FC;\n",
              "    }\n",
              "\n",
              "    [theme=dark] .colab-df-convert:hover {\n",
              "      background-color: #434B5C;\n",
              "      box-shadow: 0px 1px 3px 1px rgba(0, 0, 0, 0.15);\n",
              "      filter: drop-shadow(0px 1px 2px rgba(0, 0, 0, 0.3));\n",
              "      fill: #FFFFFF;\n",
              "    }\n",
              "  </style>\n",
              "\n",
              "      <script>\n",
              "        const buttonEl =\n",
              "          document.querySelector('#df-43fb07c3-cd13-4709-95a6-e59710ad7ec4 button.colab-df-convert');\n",
              "        buttonEl.style.display =\n",
              "          google.colab.kernel.accessAllowed ? 'block' : 'none';\n",
              "\n",
              "        async function convertToInteractive(key) {\n",
              "          const element = document.querySelector('#df-43fb07c3-cd13-4709-95a6-e59710ad7ec4');\n",
              "          const dataTable =\n",
              "            await google.colab.kernel.invokeFunction('convertToInteractive',\n",
              "                                                     [key], {});\n",
              "          if (!dataTable) return;\n",
              "\n",
              "          const docLinkHtml = 'Like what you see? Visit the ' +\n",
              "            '<a target=\"_blank\" href=https://colab.research.google.com/notebooks/data_table.ipynb>data table notebook</a>'\n",
              "            + ' to learn more about interactive tables.';\n",
              "          element.innerHTML = '';\n",
              "          dataTable['output_type'] = 'display_data';\n",
              "          await google.colab.output.renderOutput(dataTable, element);\n",
              "          const docLink = document.createElement('div');\n",
              "          docLink.innerHTML = docLinkHtml;\n",
              "          element.appendChild(docLink);\n",
              "        }\n",
              "      </script>\n",
              "    </div>\n",
              "  </div>\n"
            ]
          },
          "metadata": {},
          "execution_count": 156
        }
      ]
    },
    {
      "cell_type": "code",
      "source": [],
      "metadata": {
        "id": "waLUrJ_hnO5G"
      },
      "execution_count": 156,
      "outputs": []
    }
  ]
}